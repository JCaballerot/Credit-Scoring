{
  "nbformat": 4,
  "nbformat_minor": 0,
  "metadata": {
    "colab": {
      "provenance": [],
      "authorship_tag": "ABX9TyMPPjZutNM94f1yC++Sdicb",
      "include_colab_link": true
    },
    "kernelspec": {
      "name": "python3",
      "display_name": "Python 3"
    },
    "language_info": {
      "name": "python"
    }
  },
  "cells": [
    {
      "cell_type": "markdown",
      "metadata": {
        "id": "view-in-github",
        "colab_type": "text"
      },
      "source": [
        "<a href=\"https://colab.research.google.com/github/JCaballerot/Credit-Scoring/blob/main/introduccion/C%C3%A1lculo_de_variables_agregadas.ipynb\" target=\"_parent\"><img src=\"https://colab.research.google.com/assets/colab-badge.svg\" alt=\"Open In Colab\"/></a>"
      ]
    },
    {
      "cell_type": "markdown",
      "source": [
        "\n",
        "<h1 align=center><font size = 5>Calculando variables agregadas\n",
        "</font></h1>\n",
        "\n",
        "---"
      ],
      "metadata": {
        "id": "17-tx_UFmBSA"
      }
    },
    {
      "cell_type": "markdown",
      "source": [
        "## Introducción\n",
        "\n",
        "En este laboratorio, aprenderá a crear variables básicas sobre información mensual de clientes.\n",
        "\n"
      ],
      "metadata": {
        "id": "gWsun63knvhl"
      }
    },
    {
      "cell_type": "markdown",
      "source": [
        "## Generando data"
      ],
      "metadata": {
        "id": "NSLEtjJ2n4Ia"
      }
    },
    {
      "cell_type": "code",
      "execution_count": 1,
      "metadata": {
        "id": "DgpeheCol8gf"
      },
      "outputs": [],
      "source": [
        "import pandas as pd\n",
        "import random\n",
        "\n",
        "# Crear una lista de meses y una lista de estados civiles\n",
        "meses = ['Enero', 'Febrero', 'Marzo', 'Abril', 'Mayo', 'Junio', 'Julio', 'Agosto', 'Septiembre', 'Octubre', 'Noviembre', 'Diciembre']\n",
        "estados_civiles = ['Soltero', 'Casado', 'Divorciado', 'Viudo']\n",
        "\n",
        "# Crear una lista de clientes y sus datos ficticios\n",
        "num_clientes = 1000\n",
        "clientes = []\n",
        "for mes in meses:\n",
        "    for i in range(1, num_clientes + 1):\n",
        "        cliente = {\n",
        "            'Mes': mes,\n",
        "            'Cliente': f'Cliente {i}',\n",
        "            'Ingresos ($)': random.randint(3000, 8000),\n",
        "            'Ahorros ($)': random.randint(1000, 5000),\n",
        "            'Mora Bancaria ($)': random.randint(0, 300),\n",
        "            'Deuda Total ($)': random.randint(500, 2500),\n",
        "            'Edad': random.randint(20, 60),\n",
        "            'Estado Civil': random.choice(estados_civiles)\n",
        "        }\n",
        "        clientes.append(cliente)\n",
        "\n",
        "# Crear un DataFrame con los datos de los clientes\n",
        "df = pd.DataFrame(clientes)\n",
        "\n"
      ]
    },
    {
      "cell_type": "code",
      "source": [
        "df.head()"
      ],
      "metadata": {
        "id": "OvVl9uspmEiv"
      },
      "execution_count": null,
      "outputs": []
    },
    {
      "cell_type": "code",
      "source": [
        "df.loc[df.Cliente == 'Cliente 10'].head(10)"
      ],
      "metadata": {
        "id": "Sa32QkIuuxrD"
      },
      "execution_count": null,
      "outputs": []
    },
    {
      "cell_type": "code",
      "source": [
        "# Contar el número de repeticiones de cada cliente\n",
        "count_df = df.groupby(['Mes']).size().reset_index(name='Repeticiones')\n",
        "count_df"
      ],
      "metadata": {
        "id": "IpAAvxGqmS8x"
      },
      "execution_count": null,
      "outputs": []
    },
    {
      "cell_type": "code",
      "source": [
        "df.groupby(['Cliente']).size().reset_index(name='Repeticiones')\n"
      ],
      "metadata": {
        "id": "BX5b39TdwV6o"
      },
      "execution_count": null,
      "outputs": []
    },
    {
      "cell_type": "code",
      "source": [
        "# Convertir la columna \"Mes\" en un tipo de dato category para mantener el orden\n",
        "df['Mes'] = pd.Categorical(df['Mes'], categories=meses, ordered=True)\n"
      ],
      "metadata": {
        "id": "xEhrYlQ3m7Q7"
      },
      "execution_count": 8,
      "outputs": []
    },
    {
      "cell_type": "code",
      "source": [
        "\n",
        "# Ordenar el DataFrame por cliente y mes\n",
        "df.sort_values(by=['Cliente', 'Mes'], inplace=True)\n"
      ],
      "metadata": {
        "id": "D3WYaEWQm8_J"
      },
      "execution_count": null,
      "outputs": []
    },
    {
      "cell_type": "code",
      "source": [
        "\n",
        "# Crear una columna con el promedio de la Deuda Total de los últimos 3 meses\n",
        "df['Deuda Total Promedio Últimos 3 Meses'] = df.groupby('Cliente')['Deuda Total ($)'].rolling(window=3, min_periods=1).mean().reset_index(level=0, drop=True)\n"
      ],
      "metadata": {
        "id": "PBKFChKzm9-l"
      },
      "execution_count": null,
      "outputs": []
    },
    {
      "cell_type": "code",
      "source": [
        "# Mostrar el DataFrame con el promedio de la Deuda Total de los últimos 3 meses\n",
        "df.head()"
      ],
      "metadata": {
        "id": "fUblqvtam-zX"
      },
      "execution_count": null,
      "outputs": []
    },
    {
      "cell_type": "code",
      "source": [
        "df['Deuda_Total_avg_3'] = df.groupby('Cliente')['Deuda Total ($)'].rolling(window = 3, min_periods = 3).mean().reset_index(level = 0, drop = True)"
      ],
      "metadata": {
        "id": "7kmPMqjmw2_6"
      },
      "execution_count": 15,
      "outputs": []
    },
    {
      "cell_type": "code",
      "source": [
        "df.head(10)"
      ],
      "metadata": {
        "id": "GTGdyz-Bx_-m"
      },
      "execution_count": null,
      "outputs": []
    },
    {
      "cell_type": "code",
      "source": [
        "df.loc[df.Cliente == 'Cliente 10'].head(10)"
      ],
      "metadata": {
        "id": "fkE0zfyOy0_t"
      },
      "execution_count": null,
      "outputs": []
    },
    {
      "cell_type": "code",
      "source": [
        "df['Deuda_Total_avg_6'] = df.groupby('Cliente')['Deuda Total ($)'].rolling(window = 6, min_periods = 6).mean().reset_index(level = 0, drop = True)\n",
        "df.loc[df.Cliente == 'Cliente 10'].head(10)"
      ],
      "metadata": {
        "id": "PnDwIMsNy8wH"
      },
      "execution_count": null,
      "outputs": []
    },
    {
      "cell_type": "code",
      "source": [
        "df.loc[df.Mes.isin(['Agosto', 'Septiembre', 'Octubre'])]"
      ],
      "metadata": {
        "id": "HVuvqd6_z4hN"
      },
      "execution_count": null,
      "outputs": []
    },
    {
      "cell_type": "code",
      "source": [
        "df.loc[df.Cliente == 'Cliente 10'].head(10)"
      ],
      "metadata": {
        "id": "5K8M8AZj363O"
      },
      "execution_count": null,
      "outputs": []
    },
    {
      "cell_type": "markdown",
      "source": [
        "#### 1) Calcule la variable promedio de los últimos 4 meses de la variable Ahorros de cada cliente."
      ],
      "metadata": {
        "id": "4EiilVVW3l7C"
      }
    },
    {
      "cell_type": "code",
      "source": [
        "df.groupby('Cliente')['Ahorros ($)'].rolling(window = 4, min_periods = 4).mean().reset_index(drop = True)"
      ],
      "metadata": {
        "id": "vmsPflaH5aS2"
      },
      "execution_count": null,
      "outputs": []
    },
    {
      "cell_type": "code",
      "source": [
        "\n",
        "df['Ahorros_avg_4'] = df.groupby('Cliente')['Ahorros ($)'].rolling(window = 4, min_periods = 4).mean().reset_index(level = 0, drop = True)\n",
        "df[['Mes', 'Cliente', 'Ahorros ($)', 'Ahorros_avg_4']].loc[df.Cliente == 'Cliente 10'].head(10)\n"
      ],
      "metadata": {
        "id": "TFz4tjrz3nys"
      },
      "execution_count": null,
      "outputs": []
    },
    {
      "cell_type": "markdown",
      "source": [
        "### 2) Calcule la máxima mora del cliente en los últimos 3 meses de cada cliente."
      ],
      "metadata": {
        "id": "1qHgilog6Mtz"
      }
    },
    {
      "cell_type": "code",
      "source": [
        "df.groupby('Cliente')['Mora Bancaria ($)'].rolling(window = 3, min_periods = 3).max().reset_index(level = 0, drop = True)"
      ],
      "metadata": {
        "id": "QvhJ1ZnT7jYJ"
      },
      "execution_count": null,
      "outputs": []
    },
    {
      "cell_type": "code",
      "source": [
        "\n",
        "df['Mora_max_3'] = df.groupby('Cliente')['Mora Bancaria ($)'].rolling(window = 3, min_periods = 3).max().reset_index(level = 0, drop = True)\n",
        "df[['Mes', 'Cliente', 'Mora Bancaria ($)', 'Mora_max_3']].loc[df.Cliente == 'Cliente 10'].head(10)\n"
      ],
      "metadata": {
        "id": "fUvh2-Sq6QwH"
      },
      "execution_count": null,
      "outputs": []
    },
    {
      "cell_type": "code",
      "source": [
        "df[['Mes', 'Cliente', 'Mora Bancaria ($)', 'Mora_max_3']].loc[df.Cliente == 'Cliente 30'].head(10)\n"
      ],
      "metadata": {
        "id": "djEqMHn-9hEM"
      },
      "execution_count": null,
      "outputs": []
    },
    {
      "cell_type": "code",
      "source": [
        "df.groupby(['Mes'])['Mora_max_3'].mean()"
      ],
      "metadata": {
        "id": "XOyGAqMW9vNe"
      },
      "execution_count": null,
      "outputs": []
    },
    {
      "cell_type": "code",
      "source": [
        "df.isnull().sum()"
      ],
      "metadata": {
        "id": "f_7rHce0-BBu"
      },
      "execution_count": null,
      "outputs": []
    },
    {
      "cell_type": "code",
      "source": [
        "df.isnull().sum()/len(df)"
      ],
      "metadata": {
        "id": "F65dzcZh-L9j"
      },
      "execution_count": null,
      "outputs": []
    },
    {
      "cell_type": "markdown",
      "source": [
        "\n",
        "\n",
        "### 3) Calcule la máxima mora del cliente en los próximos 3 meses de cada cliente.\n"
      ],
      "metadata": {
        "id": "N_AOOReh0RIZ"
      }
    },
    {
      "cell_type": "code",
      "source": [
        "#shift\n",
        "df['Mora_max_3'] = df.groupby('Cliente')['Mora Bancaria ($)'].rolling(window = 3).max().shift(-2).reset_index(level = 0, drop = True)\n",
        "df[['Mes', 'Cliente', 'Mora Bancaria ($)', 'Mora_max_3']].loc[df.Cliente == 'Cliente 10'].head(10)"
      ],
      "metadata": {
        "id": "hXqw1nYVCpqS"
      },
      "execution_count": null,
      "outputs": []
    },
    {
      "cell_type": "code",
      "source": [
        "df['nueva_variable'] = 1"
      ],
      "metadata": {
        "id": "Clo2mT3BHCJC"
      },
      "execution_count": 73,
      "outputs": []
    },
    {
      "cell_type": "code",
      "source": [
        "df"
      ],
      "metadata": {
        "id": "MuKjQ1bwHL_c"
      },
      "execution_count": null,
      "outputs": []
    },
    {
      "cell_type": "code",
      "source": [
        "df.groupby('Cliente')['Mora Bancaria ($)'].rolling(window = 3).max().shift(-2).reset_index(level = 0, drop = True)"
      ],
      "metadata": {
        "id": "7n6WbyBmHSyw"
      },
      "execution_count": null,
      "outputs": []
    },
    {
      "cell_type": "markdown",
      "source": [
        "## Variables de evolución"
      ],
      "metadata": {
        "id": "lBLpftyYIE7r"
      }
    },
    {
      "cell_type": "code",
      "source": [
        "df['Ahorros_avg_3'] = df.groupby('Cliente')['Ahorros ($)'].rolling(window = 3, min_periods = 3).mean().reset_index(level = 0, drop = True)\n",
        "df['Ahorros_avg_6'] = df.groupby('Cliente')['Ahorros ($)'].rolling(window = 6, min_periods = 6).mean().reset_index(level = 0, drop = True)\n",
        "\n",
        "df[['Mes', 'Cliente', 'Ahorros ($)', 'Ahorros_avg_3','Ahorros_avg_6']].loc[df.Cliente == 'Cliente 10'].head(10)"
      ],
      "metadata": {
        "id": "9CogLJ20IJZ-"
      },
      "execution_count": null,
      "outputs": []
    },
    {
      "cell_type": "code",
      "source": [
        "df['ratio_ahorros_avg3_avg6'] = df['Ahorros_avg_3']/df['Ahorros_avg_6']\n",
        "df[['Mes', 'Cliente', 'Ahorros ($)', 'Ahorros_avg_3','Ahorros_avg_6', 'ratio_ahorros_avg3_avg6']].loc[df.Cliente == 'Cliente 10'].head(10)"
      ],
      "metadata": {
        "id": "LVMqGc2rImhW"
      },
      "execution_count": null,
      "outputs": []
    }
  ]
}