{
  "nbformat": 4,
  "nbformat_minor": 0,
  "metadata": {
    "colab": {
      "provenance": [],
      "authorship_tag": "ABX9TyNYruhQEgQeQ1732I2+VJbP",
      "include_colab_link": true
    },
    "kernelspec": {
      "name": "python3",
      "display_name": "Python 3"
    },
    "language_info": {
      "name": "python"
    }
  },
  "cells": [
    {
      "cell_type": "markdown",
      "metadata": {
        "id": "view-in-github",
        "colab_type": "text"
      },
      "source": [
        "<a href=\"https://colab.research.google.com/github/JCaballerot/Credit-Scoring/blob/main/introduccion/calculo_provsal.ipynb\" target=\"_parent\"><img src=\"https://colab.research.google.com/assets/colab-badge.svg\" alt=\"Open In Colab\"/></a>"
      ]
    },
    {
      "cell_type": "markdown",
      "source": [
        "\n",
        "<h1 align=center><font size = 5> Cálculo de provisiones entre Saldo y definición de Pauta\n",
        "</font></h1>\n",
        "\n",
        "---"
      ],
      "metadata": {
        "id": "BHUEjDZbpn8u"
      }
    },
    {
      "cell_type": "markdown",
      "source": [
        "\n",
        "\n",
        "<center>\n",
        "  <img src=\"https://www.sbs.gob.pe/portals/4/jer/lasbs-acciones-financiera/2015-07-16_121133.jpg\" alt=\"HTML5 Icon\" style=\"width: 300px; height: 350px;\">\n",
        "</center>\n",
        "\n"
      ],
      "metadata": {
        "id": "I6fStez1qxGG"
      }
    },
    {
      "cell_type": "markdown",
      "source": [
        "Las provisiones son un componente importante de la gestión de riesgos en la industria bancaria. Ayudan a los bancos a mantener un colchón financiero para hacer frente a pérdidas potenciales y a garantizar que sus estados financieros reflejen con precisión el riesgo asumido en sus operaciones."
      ],
      "metadata": {
        "id": "aMaStdw6qOrN"
      }
    },
    {
      "cell_type": "markdown",
      "source": [
        "En este laboratorio analizaremos las provisiones de una cartera de colocaciones."
      ],
      "metadata": {
        "id": "GkiOXI4XqWXC"
      }
    },
    {
      "cell_type": "code",
      "execution_count": 84,
      "metadata": {
        "id": "To7mTY66Bgk9"
      },
      "outputs": [],
      "source": [
        "#Importando ibrerías\n",
        "import pandas as pd\n",
        "import seaborn as sns"
      ]
    },
    {
      "cell_type": "code",
      "source": [
        "# data de análisis\n",
        "pddf = pd.read_csv('cosechas_202101_sample.csv')\n",
        "pddf.head(10)\n"
      ],
      "metadata": {
        "id": "ZtC2TzhBB1Ao"
      },
      "execution_count": null,
      "outputs": []
    },
    {
      "cell_type": "code",
      "source": [
        "pddf[pddf['ID'].astype('category') == '    01039631'].head(12)"
      ],
      "metadata": {
        "id": "yZIhngNqzRLT"
      },
      "execution_count": null,
      "outputs": []
    },
    {
      "cell_type": "code",
      "source": [
        "# Calculamos cuánto se gasto en provisiones en el mes de análisis\n",
        "res = pddf.groupby('MES_COSECHA').aggregate({'MTOGASTOPROVISIONSOL': 'sum'}).reset_index()\n",
        "res.head()"
      ],
      "metadata": {
        "id": "zKAxeUUNFrrl"
      },
      "execution_count": null,
      "outputs": []
    },
    {
      "cell_type": "code",
      "source": [
        "# Cuentas en maduración 0\n",
        "pddf.loc[pddf.MADURACION == 0]['MTOPRINCIPALSOL'].count()"
      ],
      "metadata": {
        "id": "fUpekWJvHIYG"
      },
      "execution_count": null,
      "outputs": []
    },
    {
      "cell_type": "code",
      "source": [
        "# Saldo en maduración 0\n",
        "pddf.loc[pddf.MADURACION == 0]['MTOPRINCIPALSOL'].sum()"
      ],
      "metadata": {
        "colab": {
          "base_uri": "https://localhost:8080/"
        },
        "id": "1J-JyN9wGv-x",
        "outputId": "94d73d25-1342-4eee-871a-0b2a064ea473"
      },
      "execution_count": 11,
      "outputs": [
        {
          "output_type": "execute_result",
          "data": {
            "text/plain": [
              "375650945.40876"
            ]
          },
          "metadata": {},
          "execution_count": 11
        }
      ]
    },
    {
      "cell_type": "code",
      "source": [
        "# Suma del gasto\n",
        "pddf['MTOGASTOPROVISIONSOL'].sum()"
      ],
      "metadata": {
        "id": "uP1hOdVQHnGn"
      },
      "execution_count": null,
      "outputs": []
    },
    {
      "cell_type": "code",
      "source": [
        "# Provisiones entre Saldo 12 meses\n",
        "res['prov_saldo_12'] =  res.MTOGASTOPROVISIONSOL/pddf.loc[pddf.MADURACION == 0]['MTOPRINCIPALSOL'].sum()"
      ],
      "metadata": {
        "id": "x7AjIDXvGXuC"
      },
      "execution_count": 78,
      "outputs": []
    },
    {
      "cell_type": "code",
      "source": [
        "# Provisiones por maduración\n",
        "res = pddf.groupby('MADURACION').aggregate({'MTOGASTOPROVISIONSOL': 'sum'}).reset_index()\n",
        "res"
      ],
      "metadata": {
        "id": "a65F5nbjIlwa"
      },
      "execution_count": null,
      "outputs": []
    },
    {
      "cell_type": "code",
      "source": [
        "# Acumulación de provisiones\n",
        "res['Acumulacion_prov'] = res.MTOGASTOPROVISIONSOL.cumsum()\n",
        "res"
      ],
      "metadata": {
        "id": "-RqUvyGS23vO"
      },
      "execution_count": null,
      "outputs": []
    },
    {
      "cell_type": "code",
      "source": [
        "sns.lineplot(data = res, x = 'MADURACION', y = 'Acumulacion_prov')"
      ],
      "metadata": {
        "id": "1BLl6hbD3aVu"
      },
      "execution_count": null,
      "outputs": []
    },
    {
      "cell_type": "markdown",
      "source": [
        "### Definición de Pauta por provisiones"
      ],
      "metadata": {
        "id": "bNKcM_g8yWyO"
      }
    },
    {
      "cell_type": "code",
      "source": [
        "res = pddf.groupby('NUMENTIDADES_6').aggregate({'MTOGASTOPROVISIONSOL': 'sum'}).reset_index()\n",
        "res"
      ],
      "metadata": {
        "id": "pFxSbayuKEsi"
      },
      "execution_count": null,
      "outputs": []
    },
    {
      "cell_type": "code",
      "source": [
        "temp = pddf.loc[pddf.MADURACION == 0].groupby('NUMENTIDADES_6').aggregate({'ID': 'count',\n",
        "                                                                           'MTOPRINCIPALSOL': 'sum'}).reset_index()\n",
        "temp.head()"
      ],
      "metadata": {
        "id": "ZNgEb27Zyz3t"
      },
      "execution_count": null,
      "outputs": []
    },
    {
      "cell_type": "code",
      "source": [
        "dfRes = pd.merge(res, temp, on = 'NUMENTIDADES_6', how = 'left')\n",
        "dfRes.head()"
      ],
      "metadata": {
        "id": "4PB0xV2eKqP6"
      },
      "execution_count": null,
      "outputs": []
    },
    {
      "cell_type": "code",
      "source": [
        "dfRes['prov_saldo_12'] = dfRes.MTOGASTOPROVISIONSOL/dfRes.MTOPRINCIPALSOL\n",
        "dfRes"
      ],
      "metadata": {
        "id": "EgkRU2qcysi7"
      },
      "execution_count": null,
      "outputs": []
    },
    {
      "cell_type": "markdown",
      "source": [
        "---\n",
        "## Gracias por completar este laboratorio!"
      ],
      "metadata": {
        "id": "t86dwOV314V8"
      }
    }
  ]
}