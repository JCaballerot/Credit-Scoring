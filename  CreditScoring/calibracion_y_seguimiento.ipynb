{
  "nbformat": 4,
  "nbformat_minor": 0,
  "metadata": {
    "colab": {
      "provenance": [],
      "authorship_tag": "ABX9TyNGDCjoa4Wd3PvEP3TmLErF",
      "include_colab_link": true
    },
    "kernelspec": {
      "name": "python3",
      "display_name": "Python 3"
    },
    "language_info": {
      "name": "python"
    }
  },
  "cells": [
    {
      "cell_type": "markdown",
      "metadata": {
        "id": "view-in-github",
        "colab_type": "text"
      },
      "source": [
        "<a href=\"https://colab.research.google.com/github/JCaballerot/Credit-Scoring/blob/main/%20CreditScoring/calibracion_y_seguimiento.ipynb\" target=\"_parent\"><img src=\"https://colab.research.google.com/assets/colab-badge.svg\" alt=\"Open In Colab\"/></a>"
      ]
    },
    {
      "cell_type": "markdown",
      "source": [
        "\n",
        "<h1 align=center><font size = 5>Calibración de modelos\n",
        "</font></h1>\n",
        "\n",
        "---"
      ],
      "metadata": {
        "id": "0Zanem5x0VGd"
      }
    },
    {
      "cell_type": "markdown",
      "source": [
        "### 1. Lectura de dataset"
      ],
      "metadata": {
        "id": "dvjDMe4v0PdJ"
      }
    },
    {
      "cell_type": "code",
      "source": [
        "import pandas as pd\n",
        "import numpy as np\n",
        "\n",
        "import matplotlib.pyplot as plt\n",
        "import seaborn as sns\n"
      ],
      "metadata": {
        "id": "j4mZAj5usMQ2"
      },
      "execution_count": 3,
      "outputs": []
    },
    {
      "cell_type": "code",
      "execution_count": null,
      "metadata": {
        "id": "E3v4T_Kmq0Ad"
      },
      "outputs": [],
      "source": [
        "pddf = pd.read_csv('loan_default_prediction.csv')\n",
        "pddf.head()"
      ]
    },
    {
      "cell_type": "markdown",
      "source": [
        "### 2. Diagnóstico de calibración"
      ],
      "metadata": {
        "id": "x7_i6h1cuS_m"
      }
    },
    {
      "cell_type": "code",
      "source": [
        "plt.figure(figsize=(6, 3))  # Tamaños\n",
        "\n",
        "# gráfico de distribución\n",
        "sns.histplot(pddf.prediction, color=\"lightskyblue\")\n",
        "\n",
        "# Muestra el gráfico\n",
        "plt.xlabel(\"Probabilidad de Default\")\n",
        "plt.show()"
      ],
      "metadata": {
        "id": "_CbX-ilYsi6S"
      },
      "execution_count": null,
      "outputs": []
    },
    {
      "cell_type": "code",
      "source": [
        "pddf[['prediction', 'Default']].describe()"
      ],
      "metadata": {
        "id": "e7a1bSkDxb9K"
      },
      "execution_count": null,
      "outputs": []
    },
    {
      "cell_type": "code",
      "source": [
        "calib = pddf.groupby('codmes').agg({'Default' :  'mean', 'prediction': 'mean'}).reset_index()\n"
      ],
      "metadata": {
        "id": "rRZH5wWStP4v"
      },
      "execution_count": 7,
      "outputs": []
    },
    {
      "cell_type": "markdown",
      "source": [
        "**Calibración mensual**"
      ],
      "metadata": {
        "id": "DOeXSZfZgy_6"
      }
    },
    {
      "cell_type": "code",
      "source": [
        "# Graficar las series\n",
        "plt.figure(figsize=(8, 4))  # Tamaños\n",
        "\n",
        "# Convertir índices a strings para tratarlos como categóricos\n",
        "calib.codmes = calib.codmes.astype(str)\n",
        "\n",
        "plt.plot(calib.codmes, calib.Default,    label='rd', marker='o')\n",
        "plt.plot(calib.codmes, calib.prediction, label='PD', marker='o')\n",
        "plt.ylim(ymin=0, ymax=1)\n",
        "\n",
        "plt.title('Calibración mensual')\n",
        "plt.xlabel('Codmes')\n",
        "plt.legend()\n",
        "plt.grid(True)\n",
        "plt.tight_layout()\n",
        "plt.show()\n",
        ""
      ],
      "metadata": {
        "id": "kKzAjCwOtEI3"
      },
      "execution_count": null,
      "outputs": []
    },
    {
      "cell_type": "markdown",
      "source": [
        "**Curva de calibración**"
      ],
      "metadata": {
        "id": "HoXGMKhag7Jg"
      }
    },
    {
      "cell_type": "code",
      "source": [
        "from sklearn.calibration import calibration_curve"
      ],
      "metadata": {
        "id": "XwmBfglKtwAH"
      },
      "execution_count": 9,
      "outputs": []
    },
    {
      "cell_type": "code",
      "source": [
        "probs = pddf.prediction\n",
        "prob_true, prob_pred = calibration_curve(pddf.Default, probs, n_bins=6, strategy = 'quantile')"
      ],
      "metadata": {
        "id": "68WYjPeytyMu"
      },
      "execution_count": 10,
      "outputs": []
    },
    {
      "cell_type": "code",
      "source": [
        "%matplotlib inline\n",
        "import matplotlib.pyplot as plt\n",
        "import matplotlib.lines as mlines\n",
        "import matplotlib.transforms as mtransforms\n",
        "\n",
        "fig, ax = plt.subplots()\n",
        "\n",
        "plt.plot(prob_pred, prob_true, marker='o', linewidth=1, label='modelo sin calibrar')\n",
        "\n",
        "# reference line, legends, and axis labels\n",
        "plt.plot([0,1], [0,1], color='black', label=\"Calibración perfecta\")\n",
        "plt.xlim([0, 0.6])\n",
        "plt.ylim([0, 0.6])\n",
        "\n",
        "fig.suptitle('Calibration plot')\n",
        "ax.set_xlabel('Predicted probability')\n",
        "ax.set_ylabel('True probability in each bin')\n",
        "plt.legend()\n",
        "plt.show()"
      ],
      "metadata": {
        "id": "56ehCVzMuBIq"
      },
      "execution_count": null,
      "outputs": []
    },
    {
      "cell_type": "markdown",
      "source": [
        "### 3. Calibración de modelo"
      ],
      "metadata": {
        "id": "awq4uRnKuXu3"
      }
    },
    {
      "cell_type": "code",
      "source": [
        "import statsmodels.api as sm\n",
        "\n",
        "# Fit and summarize OLS model\n",
        "mod = sm.Logit(pddf.Default, sm.add_constant(pddf.prediction))\n",
        "res = mod.fit()\n",
        "\n",
        "print(res.summary())"
      ],
      "metadata": {
        "id": "jovNx_GSuas7"
      },
      "execution_count": null,
      "outputs": []
    },
    {
      "cell_type": "code",
      "source": [
        "pddf['XB_CAL'] = 25.2886*pddf.prediction - 15.0513\n",
        "pddf['PD_CAL'] = 1/(1 + np.exp(-pddf.XB_CAL))"
      ],
      "metadata": {
        "id": "ZyUdjMawu6vK"
      },
      "execution_count": 13,
      "outputs": []
    },
    {
      "cell_type": "code",
      "source": [
        "pddf[['Default', 'PD_CAL', 'prediction']].describe()"
      ],
      "metadata": {
        "id": "DdYeTYlkvrdZ"
      },
      "execution_count": null,
      "outputs": []
    },
    {
      "cell_type": "code",
      "source": [
        "plt.figure(figsize=(6, 3))  # Tamaños\n",
        "\n",
        "# gráfico de distribución\n",
        "sns.histplot(pddf.PD_CAL, color=\"lightskyblue\")\n",
        "\n",
        "# Muestra el gráfico\n",
        "plt.xlabel(\"Probabilidad de Default\")\n",
        "plt.show()"
      ],
      "metadata": {
        "id": "03vC9hJQu6E9"
      },
      "execution_count": null,
      "outputs": []
    },
    {
      "cell_type": "markdown",
      "source": [
        "**Calibración mensual**"
      ],
      "metadata": {
        "id": "A8-FvrvxhIUl"
      }
    },
    {
      "cell_type": "code",
      "source": [
        "calib"
      ],
      "metadata": {
        "id": "lLGn2hTNtWsu"
      },
      "execution_count": null,
      "outputs": []
    },
    {
      "cell_type": "code",
      "source": [
        "calib = pddf.groupby('codmes').agg({'Default' :  'mean', 'PD_CAL': 'mean'}).reset_index()\n",
        "\n",
        "# Graficar las series\n",
        "plt.figure(figsize=(8, 4))  # Tamaños\n",
        "\n",
        "# Convertir índices a strings para tratarlos como categóricos\n",
        "calib.codmes = calib.codmes.astype(str)\n",
        "\n",
        "plt.plot(calib.codmes, calib.Default,    label='rd', marker='o')\n",
        "plt.plot(calib.codmes, calib.PD_CAL,     label='PD_cal', marker='o')\n",
        "plt.ylim(ymin=0, ymax=0.2)\n",
        "\n",
        "plt.title('Calibración mensual')\n",
        "plt.xlabel('Codmes')\n",
        "plt.legend()\n",
        "plt.grid(True)\n",
        "plt.tight_layout()\n",
        "plt.show()\n",
        ""
      ],
      "metadata": {
        "id": "wGEsvY3fzhM1"
      },
      "execution_count": null,
      "outputs": []
    },
    {
      "cell_type": "code",
      "source": [
        "\n",
        "probs = pddf.PD_CAL\n",
        "prob_true, prob_pred = calibration_curve(pddf.Default, probs, n_bins=6, strategy = 'quantile')\n"
      ],
      "metadata": {
        "id": "muQ0s4LUz5Y7"
      },
      "execution_count": 17,
      "outputs": []
    },
    {
      "cell_type": "markdown",
      "source": [
        "**Curva de calibración**"
      ],
      "metadata": {
        "id": "yw9oPOiohMhI"
      }
    },
    {
      "cell_type": "code",
      "source": [
        "%matplotlib inline\n",
        "import matplotlib.pyplot as plt\n",
        "import matplotlib.lines as mlines\n",
        "import matplotlib.transforms as mtransforms\n",
        "\n",
        "fig, ax = plt.subplots()\n",
        "\n",
        "plt.plot(prob_pred, prob_true, marker='o', linewidth=1, label='modelo sin calibrar')\n",
        "\n",
        "# reference line, legends, and axis labels\n",
        "plt.plot([0,1], [0,1], color='black', label=\"Calibración perfecta\")\n",
        "plt.xlim([0, 0.3])\n",
        "plt.ylim([0, 0.3])\n",
        "\n",
        "fig.suptitle('Calibration plot')\n",
        "ax.set_xlabel('Predicted probability')\n",
        "ax.set_ylabel('True probability in each bin')\n",
        "plt.legend()\n",
        "plt.show()"
      ],
      "metadata": {
        "id": "KyXYNoA7z7wO"
      },
      "execution_count": null,
      "outputs": []
    },
    {
      "cell_type": "markdown",
      "source": [
        "\n",
        "<h1 align=center><font size = 5>Seguimiento de Modelos\n",
        "</font></h1>\n",
        "\n",
        "---\n"
      ],
      "metadata": {
        "id": "emljY1I-0fho"
      }
    },
    {
      "cell_type": "markdown",
      "source": [
        "**Indice de estabilidad poblacional PSI**\n",
        "\n",
        "Se utiliza para evaluar la estabilidad de una distribución de datos entre dos momentos en el tiempo o entre dos poblaciones diferentes.\n",
        "\n",
        "Mide cuánto ha cambiado la distribución de datos (por ejemplo, puntuaciones de PD) entre dos puntos en el tiempo o entre dos grupos (como dos carteras de clientes).\n"
      ],
      "metadata": {
        "id": "D8jLgbE0hlUw"
      }
    },
    {
      "cell_type": "code",
      "source": [
        "# PASO1: Discretizar variables\n",
        "from sklearn.preprocessing import KBinsDiscretizer\n",
        "\n",
        "discretizer = KBinsDiscretizer(n_bins = 10,\n",
        "                               encode = 'ordinal',\n",
        "                               strategy = \"quantile\").fit(pddf[pddf.codmes == 202109][['PD_CAL']])\n"
      ],
      "metadata": {
        "id": "bbtxJ0BS0idx"
      },
      "execution_count": 19,
      "outputs": []
    },
    {
      "cell_type": "code",
      "source": [
        "pddf[['PD_CAL_DISC']] = discretizer.transform(pddf[['PD_CAL']])"
      ],
      "metadata": {
        "id": "k7REOPF91u1x"
      },
      "execution_count": 20,
      "outputs": []
    },
    {
      "cell_type": "code",
      "source": [
        "population = pddf.codmes.drop_duplicates().sort_values().tolist()\n",
        "\n",
        "pddf_psi = pddf.pivot_table(index='PD_CAL_DISC', columns='codmes', values='ID', aggfunc='count').reset_index()\n",
        "pddf_psi[population] = pddf_psi[population]/pddf_psi[population].sum()\n"
      ],
      "metadata": {
        "id": "L7lZNL-O2IMy"
      },
      "execution_count": 27,
      "outputs": []
    },
    {
      "cell_type": "code",
      "source": [
        "pddf_psi"
      ],
      "metadata": {
        "id": "7HFjRhxZlUfp"
      },
      "execution_count": null,
      "outputs": []
    },
    {
      "cell_type": "code",
      "source": [
        "%%capture\n",
        "resume = pd.DataFrame({'codmes' : [],\n",
        "                       'psi' : []})\n",
        "\n",
        "for i in range(0, len(population)-1):\n",
        "  psi = sum((pddf_psi[population[i+1]] - pddf_psi[population[i]])*np.log(pddf_psi[population[i+1]]/pddf_psi[population[i]]))\n",
        "  resume = resume.append(pd.DataFrame({'codmes' : [population[i]],\n",
        "                                       'psi' : [psi]}))\n"
      ],
      "metadata": {
        "id": "ajloMZKm4IX8"
      },
      "execution_count": 48,
      "outputs": []
    },
    {
      "cell_type": "code",
      "source": [
        "\n",
        "# Graficar las series\n",
        "plt.figure(figsize=(8, 4))  # Tamaños\n",
        "\n",
        "# Convertir índices a strings para tratarlos como categóricos\n",
        "resume.codmes = resume.codmes.astype(str)\n",
        "\n",
        "plt.plot(resume.codmes, resume.psi, label='PSI', marker='o')\n",
        "plt.ylim(ymin=0, ymax=0.04)\n",
        "\n",
        "plt.title('PSI mensual')\n",
        "plt.xlabel('Codmes')\n",
        "plt.xticks(rotation=45)  # Rota las etiquetas del eje X a 45 grados\n",
        "plt.legend()\n",
        "plt.grid(True)\n",
        "plt.tight_layout()\n",
        "plt.show()"
      ],
      "metadata": {
        "id": "9Rkfm83tnRdd"
      },
      "execution_count": null,
      "outputs": []
    },
    {
      "cell_type": "markdown",
      "source": [
        "**límites de PSI**\n",
        "\n",
        "> <b>Verde:</b> PSI < 0.1\n",
        ">\n",
        "> <b>Ambar:</b> PSI [0.1 - 0.2>\n",
        ">\n",
        "> <b>Rojo:</b> PSI >= 0.2\n",
        "\n"
      ],
      "metadata": {
        "id": "X6jAhTdJos4I"
      }
    },
    {
      "cell_type": "markdown",
      "source": [
        "**Bandas de Confianza**"
      ],
      "metadata": {
        "id": "i3w2RZMmrliT"
      }
    },
    {
      "cell_type": "markdown",
      "source": [
        "Proporciona un rango en el que es probable que se encuentre un valor desconocido. Son una extensión del concepto de intervalo de confianza a las predicciones realizadas por modelos, como regresiones, y se utilizan principalmente en la visualización de estimaciones y sus incertidumbres."
      ],
      "metadata": {
        "id": "VM_qKTwlxsmW"
      }
    },
    {
      "cell_type": "code",
      "source": [
        "#Intervalos de confianza\n",
        "\n",
        "import pandas as pd\n",
        "import numpy as np\n",
        "import matplotlib.pyplot as plt\n",
        "\n",
        "calib = pddf.groupby('codmes').agg({'Default': 'mean', 'PD_CAL': ['mean', 'std', 'count']}).reset_index()\n",
        "calib.columns = ['codmes', 'Default', 'PD_CAL_mean', 'PD_CAL_std', 'count']\n",
        "\n",
        "# Calcular bandas de confianza\n",
        "z_90 = 1.64  # Valor z para 90% de confianza\n",
        "z_95 = 1.96   # Valor z para 95% de confianza\n",
        "\n",
        "calib['lower_90'] = calib['PD_CAL_mean'] - z_90 * calib['PD_CAL_std']*0.15\n",
        "calib['upper_90'] = calib['PD_CAL_mean'] + z_90 * calib['PD_CAL_std']*0.15\n",
        "calib['lower_95'] = calib['PD_CAL_mean'] - z_95 * calib['PD_CAL_std']*0.3\n",
        "calib['upper_95'] = calib['PD_CAL_mean'] + z_95 * calib['PD_CAL_std']*0.3\n",
        "\n",
        "# Graficar\n",
        "fig, ax = plt.subplots(figsize=(8, 4))\n",
        "calib.codmes = calib.codmes.astype(str)\n",
        "\n",
        "ax.plot(calib.codmes, calib.Default, label='rd', marker='o', color = 'firebrick')\n",
        "ax.plot(calib.codmes, calib.PD_CAL_mean, label='PD', marker='o', color = 'darkblue')\n",
        "ax.fill_between(calib.codmes, calib['lower_95'], calib['upper_95'], color='yellow', alpha=0.2, label='95% Confianza')\n",
        "ax.fill_between(calib.codmes, calib['lower_90'], calib['upper_90'], color='green', alpha=0.2, label='90% Confianza')\n",
        "ax.set_ylim(ymin=0, ymax=0.20)\n",
        "\n",
        "# Configurar el color\n",
        "ax.set_facecolor((1, 0.9, 0.9))\n",
        "ax.set_xlim(calib.codmes.min(), calib.codmes.max())\n",
        "\n",
        "ax.set_title('Calibración mensual con Bandas de Confianza')\n",
        "ax.set_xlabel('Codmes')\n",
        "ax.legend()\n",
        "plt.tight_layout()\n",
        "plt.show()"
      ],
      "metadata": {
        "id": "1zpZgBYvrpX4"
      },
      "execution_count": null,
      "outputs": []
    },
    {
      "cell_type": "code",
      "source": [
        "#Intervalos OW\n",
        "\n",
        "import pandas as pd\n",
        "import numpy as np\n",
        "import matplotlib.pyplot as plt\n",
        "\n",
        "calib = pddf.groupby('codmes').agg({'Default': 'mean', 'PD_CAL': ['mean', 'std', 'count']}).reset_index()\n",
        "calib.columns = ['codmes', 'Default', 'PD_CAL_mean', 'PD_CAL_std', 'count']\n",
        "\n",
        "\n",
        "calib['lower_90'] = calib['PD_CAL_mean']*0.9\n",
        "calib['upper_90'] = calib['PD_CAL_mean']*1.1\n",
        "calib['lower_95'] = calib['PD_CAL_mean']*0.8\n",
        "calib['upper_95'] = calib['PD_CAL_mean']*1.2\n",
        "\n",
        "# Graficar\n",
        "fig, ax = plt.subplots(figsize=(8, 4))\n",
        "calib.codmes = calib.codmes.astype(str)\n",
        "\n",
        "ax.plot(calib.codmes, calib.Default, label='rd', marker='o', color = 'firebrick')\n",
        "ax.plot(calib.codmes, calib.PD_CAL_mean, label='PD', marker='o', color = 'darkblue')\n",
        "ax.fill_between(calib.codmes, calib['lower_95'], calib['upper_95'], color='yellow', alpha=0.2, label='L2')\n",
        "ax.fill_between(calib.codmes, calib['lower_90'], calib['upper_90'], color='green', alpha=0.2, label='L1')\n",
        "ax.set_ylim(ymin=0, ymax=0.20)\n",
        "\n",
        "# Configurar el color\n",
        "ax.set_facecolor((1, 0.9, 0.9))\n",
        "ax.set_xlim(calib.codmes.min(), calib.codmes.max())\n",
        "\n",
        "ax.set_title('Calibración mensual con Bandas de OW')\n",
        "ax.set_xlabel('Codmes')\n",
        "ax.legend()\n",
        "plt.tight_layout()\n",
        "plt.show()"
      ],
      "metadata": {
        "id": "Pmo2971hx27R"
      },
      "execution_count": null,
      "outputs": []
    },
    {
      "cell_type": "markdown",
      "source": [
        "---\n",
        "## Gracias por completar este laboratorio!"
      ],
      "metadata": {
        "id": "Fyt5msmAztG7"
      }
    }
  ]
}