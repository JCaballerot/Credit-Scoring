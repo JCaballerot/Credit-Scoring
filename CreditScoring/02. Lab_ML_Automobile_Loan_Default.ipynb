{
  "nbformat": 4,
  "nbformat_minor": 0,
  "metadata": {
    "colab": {
      "provenance": [],
      "authorship_tag": "ABX9TyOldCvZ7HukGSIkWI6F7Gkl",
      "include_colab_link": true
    },
    "kernelspec": {
      "name": "python3",
      "display_name": "Python 3"
    },
    "language_info": {
      "name": "python"
    }
  },
  "cells": [
    {
      "cell_type": "markdown",
      "metadata": {
        "id": "view-in-github",
        "colab_type": "text"
      },
      "source": [
        "<a href=\"https://colab.research.google.com/github/JCaballerot/Credit-Scoring/blob/main/CreditScoring/02.%20Lab_ML_Automobile_Loan_Default.ipynb\" target=\"_parent\"><img src=\"https://colab.research.google.com/assets/colab-badge.svg\" alt=\"Open In Colab\"/></a>"
      ]
    },
    {
      "cell_type": "markdown",
      "source": [
        "\n",
        "<h1 align=center><font size = 5>Automobile Loan Default Dataset\n",
        "</font></h1>\n",
        "\n",
        "---"
      ],
      "metadata": {
        "id": "s6UHVkgOXcmw"
      }
    },
    {
      "cell_type": "markdown",
      "source": [
        "## Introducción\n",
        "\n",
        "En este laboratorio, aprenderá a usar python para construir un modelo de <b>credit scoring</b>.\n",
        "\n"
      ],
      "metadata": {
        "id": "zINWKfpHZJRl"
      }
    },
    {
      "cell_type": "markdown",
      "source": [
        "## Objetivo de este Notebook\n",
        "\n",
        "1. Como construir e interpretar un modelo de regresión logística.\n",
        "2. Descargar y limpiar un Dataset\n",
        "3. Realizar los pasos necesarios previos a la etapa de modelamiento\n",
        "4. Entrenar y Testear modelo"
      ],
      "metadata": {
        "id": "mLlfVwLIZV7b"
      }
    },
    {
      "cell_type": "markdown",
      "source": [
        "## Tabla de Contenidos\n",
        "\n",
        "<div class=\"alert alert-block alert-info\" style=\"margin-top: 20px\">\n",
        "\n",
        "<font size = 3>\n",
        "    \n",
        "1. <a href=\"#item31\">Contexto</a>  \n",
        "2. <a href=\"#item32\">Descargar y preparar Dataset</a>  \n",
        "3. <a href=\"#item33\">Muestreo de datos</a>  \n",
        "4. <a href=\"#item34\">Tratamiento de variables</a>  \n",
        "5. <a href=\"#item34\">Modelamiento</a>  \n",
        "6. <a href=\"#item34\">Evaluación del modelo</a>  \n",
        "7. <a href=\"#item34\">Interpretación del modelo</a>  \n",
        "8. <a href=\"#item34\">Implementación del modelo</a>  \n",
        "\n",
        "</font>\n",
        "</div>"
      ],
      "metadata": {
        "id": "icLdd0FKXoSA"
      }
    },
    {
      "cell_type": "markdown",
      "source": [
        "### 1. Contexto"
      ],
      "metadata": {
        "id": "wXxiLTiBXyw8"
      }
    },
    {
      "cell_type": "markdown",
      "source": [
        "Una institución financiera no bancaria (NBFI) o una compañía financiera no bancaria (NBFC) es una institución financiera que no tiene una licencia bancaria completa o no está supervisada por una agencia reguladora bancaria nacional o internacional. NBFC facilita los servicios financieros relacionados con los bancos, como inversión, agrupación de riesgos, ahorros contractuales y corretaje de mercado.\n",
        "\n",
        "Una NBFI está luchando por marcar ganancias debido a un aumento en los incumplimientos en la categoría de préstamos para vehículos. La empresa tiene como objetivo determinar la capacidad de pago del préstamo del cliente y comprender la importancia relativa de cada parámetro que contribuye a la capacidad del prestatario para pagar el préstamo.\n"
      ],
      "metadata": {
        "id": "KHm-j2aHZoFB"
      }
    },
    {
      "cell_type": "markdown",
      "source": [
        "\n",
        "<b>Meta:</b>\n",
        "\n",
        "El objetivo del problema es predecir si un cliente no cumplirá con el pago del préstamo del vehículo o no."
      ],
      "metadata": {
        "id": "fRuCC45BXxwX"
      }
    },
    {
      "cell_type": "markdown",
      "source": [
        "\n",
        "\n",
        "\n",
        "<img src=\"https://storage.googleapis.com/kaggle-datasets-images/1205706/2014650/7a50061003ce0de9839d54ff4673ccf2/dataset-cover.jpg?t=2021-07-04-09-18-01\" alt=\"HTML5 Icon\" style=\"width: 600px; height: 450px;\">\n",
        "<div style=\"text-align: center\">¿Cómo identificaremos a los clientes morosos? </div>"
      ],
      "metadata": {
        "id": "sYbqHyYAYeW1"
      }
    },
    {
      "cell_type": "markdown",
      "source": [
        "\n",
        "<b>Descripción de datos</b>\n",
        "\n",
        "El data frame de Automovile Loan tiene 121,856 filas y 40 columnas.\n",
        "\n",
        "\n",
        "---\n",
        "\n",
        "Se le proporciona un conjunto de datos anónimos que contiene una gran cantidad de variables. La columna <b>\"Default\"</b> es la variable a predecir. Es igual a uno para clientes que cayeron en mora y 0 para clientes que no.\n",
        "\n",
        "La tarea consiste en predecir la probabilidad de que cada cliente del conjunto de prueba sea un cliente moroso.\n",
        "\n",
        "\n",
        "---\n",
        "\n",
        "\n",
        "<strong>Puede consultar este [link](https://www.kaggle.com/datasets/saurabhbagchi/dish-network-hackathon) para leer más sobre la fuente de datos Automobile Loan Default.</strong>\n"
      ],
      "metadata": {
        "id": "fsKmSeWpZtFC"
      }
    },
    {
      "cell_type": "markdown",
      "source": [
        "### 2. Descargar y preparar Dataset"
      ],
      "metadata": {
        "id": "d5-Lsjy8aZv4"
      }
    },
    {
      "cell_type": "code",
      "source": [
        "# Principales librerías\n",
        "\n",
        "# Scikit-Learn\n",
        "import sklearn\n",
        "\n",
        "# Imports comunes\n",
        "import pandas as pd\n",
        "import numpy as np\n"
      ],
      "metadata": {
        "id": "JilRYoLvcSYk"
      },
      "execution_count": 15,
      "outputs": []
    },
    {
      "cell_type": "code",
      "source": [
        "# Cargar Data\n",
        "pddf = pd.read_csv(\"loan_default.csv\")\n",
        "pddf.head()\n"
      ],
      "metadata": {
        "id": "eL4GrOMHXj87"
      },
      "execution_count": null,
      "outputs": []
    },
    {
      "cell_type": "code",
      "source": [
        "# Indentificar las variables\n",
        "features = list(set(pddf.columns.tolist()) - set(['ID', 'ID_Days','Default', 'codmes']))\n",
        "features"
      ],
      "metadata": {
        "id": "EUrUFH48c1Mw"
      },
      "execution_count": null,
      "outputs": []
    },
    {
      "cell_type": "code",
      "source": [
        "catergory_features = ['Accompany_Client', 'Client_Income_Type', 'Client_Education', 'Client_Marital_Status',\n",
        "                      'Client_Gender', 'Loan_Contract_Type', 'Client_Housing_Type', 'Client_Occupation', 'Client_Permanent_Match_Tag', 'Client_Contact_Work_Tag', 'Type_Organization']\n"
      ],
      "metadata": {
        "id": "ykF1pSWVobe0"
      },
      "execution_count": 37,
      "outputs": []
    },
    {
      "cell_type": "code",
      "source": [
        "numeric_features = list(set(features) - set(catergory_features))\n",
        "\n",
        "# convert Series\n",
        "for col in numeric_features:\n",
        "  pddf[col] = pd.to_numeric(pddf[col])"
      ],
      "metadata": {
        "id": "fDjKdXmNpTGN"
      },
      "execution_count": null,
      "outputs": []
    },
    {
      "cell_type": "markdown",
      "source": [
        "### 3. Muestreo de datos"
      ],
      "metadata": {
        "id": "OPYoc7iznZ_P"
      }
    },
    {
      "cell_type": "markdown",
      "source": [
        "El **watchlist** es un tipo de muestra adicional que se utiliza en el entrenamiento de modelos de machine learning principalmente para monitorear el rendimiendo dado que permitirá imprimir métricas de evaluación (como el error de clasificación, el error cuadrático medio, etc.) en cada iteración del proceso de entrenamiento, ofreciendo así una traza visible del rendimiento del modelo a medida que aprende."
      ],
      "metadata": {
        "id": "L6zkryLUoWAN"
      }
    },
    {
      "cell_type": "code",
      "source": [
        "# Muestreo de data\n",
        "from sklearn.model_selection import train_test_split\n",
        "\n",
        "\n",
        "train, test = train_test_split(pddf,\n",
        "                               stratify = pddf.Default,\n",
        "                               train_size = 0.6,\n",
        "                               random_state = 123)\n",
        "\n",
        "watch, test = train_test_split(test,\n",
        "                               stratify = test.Default,\n",
        "                               train_size = 0.5,\n",
        "                               random_state = 123)\n"
      ],
      "metadata": {
        "id": "r4htXb8fi58W"
      },
      "execution_count": 35,
      "outputs": []
    },
    {
      "cell_type": "markdown",
      "source": [
        "### 4. Tratamiento de variables"
      ],
      "metadata": {
        "id": "sjxPwJX98Naj"
      }
    },
    {
      "cell_type": "markdown",
      "metadata": {
        "id": "szuWpiMqmwvL"
      },
      "source": [
        "**Encoding**\n",
        "\n",
        "El encoding de variables categóricas convierte las categorías de texto en números de una manera que puede ser utilizada de manera eficiente por los algoritmos de machine learning."
      ]
    },
    {
      "cell_type": "code",
      "metadata": {
        "id": "0pcSepG4TZa-"
      },
      "source": [
        "%%capture\n",
        "!pip3 install category_encoders"
      ],
      "execution_count": 36,
      "outputs": []
    },
    {
      "cell_type": "code",
      "metadata": {
        "id": "33Y7NZyJHobo",
        "outputId": "30dac23d-83f9-43aa-b352-b1c26dbabf2c",
        "colab": {
          "base_uri": "https://localhost:8080/",
          "height": 179
        }
      },
      "source": [
        "# Aplicando category encoders\n",
        "from category_encoders import TargetEncoder\n",
        "\n",
        "encoder = TargetEncoder(handle_unknown = 'infrequent_if_exist',\n",
        "                        handle_missing = 'value',\n",
        "                        min_samples_leaf = 30)\n",
        "\n",
        "encoder.fit(train[catergory_features].astype('category'), train['Default'])"
      ],
      "execution_count": 39,
      "outputs": [
        {
          "output_type": "execute_result",
          "data": {
            "text/plain": [
              "TargetEncoder(cols=['Accompany_Client', 'Client_Income_Type',\n",
              "                    'Client_Education', 'Client_Marital_Status',\n",
              "                    'Client_Gender', 'Loan_Contract_Type',\n",
              "                    'Client_Housing_Type', 'Client_Occupation',\n",
              "                    'Client_Permanent_Match_Tag', 'Client_Contact_Work_Tag',\n",
              "                    'Type_Organization'],\n",
              "              handle_unknown='infrequent_if_exist', min_samples_leaf=30)"
            ],
            "text/html": [
              "<style>#sk-container-id-1 {color: black;background-color: white;}#sk-container-id-1 pre{padding: 0;}#sk-container-id-1 div.sk-toggleable {background-color: white;}#sk-container-id-1 label.sk-toggleable__label {cursor: pointer;display: block;width: 100%;margin-bottom: 0;padding: 0.3em;box-sizing: border-box;text-align: center;}#sk-container-id-1 label.sk-toggleable__label-arrow:before {content: \"▸\";float: left;margin-right: 0.25em;color: #696969;}#sk-container-id-1 label.sk-toggleable__label-arrow:hover:before {color: black;}#sk-container-id-1 div.sk-estimator:hover label.sk-toggleable__label-arrow:before {color: black;}#sk-container-id-1 div.sk-toggleable__content {max-height: 0;max-width: 0;overflow: hidden;text-align: left;background-color: #f0f8ff;}#sk-container-id-1 div.sk-toggleable__content pre {margin: 0.2em;color: black;border-radius: 0.25em;background-color: #f0f8ff;}#sk-container-id-1 input.sk-toggleable__control:checked~div.sk-toggleable__content {max-height: 200px;max-width: 100%;overflow: auto;}#sk-container-id-1 input.sk-toggleable__control:checked~label.sk-toggleable__label-arrow:before {content: \"▾\";}#sk-container-id-1 div.sk-estimator input.sk-toggleable__control:checked~label.sk-toggleable__label {background-color: #d4ebff;}#sk-container-id-1 div.sk-label input.sk-toggleable__control:checked~label.sk-toggleable__label {background-color: #d4ebff;}#sk-container-id-1 input.sk-hidden--visually {border: 0;clip: rect(1px 1px 1px 1px);clip: rect(1px, 1px, 1px, 1px);height: 1px;margin: -1px;overflow: hidden;padding: 0;position: absolute;width: 1px;}#sk-container-id-1 div.sk-estimator {font-family: monospace;background-color: #f0f8ff;border: 1px dotted black;border-radius: 0.25em;box-sizing: border-box;margin-bottom: 0.5em;}#sk-container-id-1 div.sk-estimator:hover {background-color: #d4ebff;}#sk-container-id-1 div.sk-parallel-item::after {content: \"\";width: 100%;border-bottom: 1px solid gray;flex-grow: 1;}#sk-container-id-1 div.sk-label:hover label.sk-toggleable__label {background-color: #d4ebff;}#sk-container-id-1 div.sk-serial::before {content: \"\";position: absolute;border-left: 1px solid gray;box-sizing: border-box;top: 0;bottom: 0;left: 50%;z-index: 0;}#sk-container-id-1 div.sk-serial {display: flex;flex-direction: column;align-items: center;background-color: white;padding-right: 0.2em;padding-left: 0.2em;position: relative;}#sk-container-id-1 div.sk-item {position: relative;z-index: 1;}#sk-container-id-1 div.sk-parallel {display: flex;align-items: stretch;justify-content: center;background-color: white;position: relative;}#sk-container-id-1 div.sk-item::before, #sk-container-id-1 div.sk-parallel-item::before {content: \"\";position: absolute;border-left: 1px solid gray;box-sizing: border-box;top: 0;bottom: 0;left: 50%;z-index: -1;}#sk-container-id-1 div.sk-parallel-item {display: flex;flex-direction: column;z-index: 1;position: relative;background-color: white;}#sk-container-id-1 div.sk-parallel-item:first-child::after {align-self: flex-end;width: 50%;}#sk-container-id-1 div.sk-parallel-item:last-child::after {align-self: flex-start;width: 50%;}#sk-container-id-1 div.sk-parallel-item:only-child::after {width: 0;}#sk-container-id-1 div.sk-dashed-wrapped {border: 1px dashed gray;margin: 0 0.4em 0.5em 0.4em;box-sizing: border-box;padding-bottom: 0.4em;background-color: white;}#sk-container-id-1 div.sk-label label {font-family: monospace;font-weight: bold;display: inline-block;line-height: 1.2em;}#sk-container-id-1 div.sk-label-container {text-align: center;}#sk-container-id-1 div.sk-container {/* jupyter's `normalize.less` sets `[hidden] { display: none; }` but bootstrap.min.css set `[hidden] { display: none !important; }` so we also need the `!important` here to be able to override the default hidden behavior on the sphinx rendered scikit-learn.org. See: https://github.com/scikit-learn/scikit-learn/issues/21755 */display: inline-block !important;position: relative;}#sk-container-id-1 div.sk-text-repr-fallback {display: none;}</style><div id=\"sk-container-id-1\" class=\"sk-top-container\"><div class=\"sk-text-repr-fallback\"><pre>TargetEncoder(cols=[&#x27;Accompany_Client&#x27;, &#x27;Client_Income_Type&#x27;,\n",
              "                    &#x27;Client_Education&#x27;, &#x27;Client_Marital_Status&#x27;,\n",
              "                    &#x27;Client_Gender&#x27;, &#x27;Loan_Contract_Type&#x27;,\n",
              "                    &#x27;Client_Housing_Type&#x27;, &#x27;Client_Occupation&#x27;,\n",
              "                    &#x27;Client_Permanent_Match_Tag&#x27;, &#x27;Client_Contact_Work_Tag&#x27;,\n",
              "                    &#x27;Type_Organization&#x27;],\n",
              "              handle_unknown=&#x27;infrequent_if_exist&#x27;, min_samples_leaf=30)</pre><b>In a Jupyter environment, please rerun this cell to show the HTML representation or trust the notebook. <br />On GitHub, the HTML representation is unable to render, please try loading this page with nbviewer.org.</b></div><div class=\"sk-container\" hidden><div class=\"sk-item\"><div class=\"sk-estimator sk-toggleable\"><input class=\"sk-toggleable__control sk-hidden--visually\" id=\"sk-estimator-id-1\" type=\"checkbox\" checked><label for=\"sk-estimator-id-1\" class=\"sk-toggleable__label sk-toggleable__label-arrow\">TargetEncoder</label><div class=\"sk-toggleable__content\"><pre>TargetEncoder(cols=[&#x27;Accompany_Client&#x27;, &#x27;Client_Income_Type&#x27;,\n",
              "                    &#x27;Client_Education&#x27;, &#x27;Client_Marital_Status&#x27;,\n",
              "                    &#x27;Client_Gender&#x27;, &#x27;Loan_Contract_Type&#x27;,\n",
              "                    &#x27;Client_Housing_Type&#x27;, &#x27;Client_Occupation&#x27;,\n",
              "                    &#x27;Client_Permanent_Match_Tag&#x27;, &#x27;Client_Contact_Work_Tag&#x27;,\n",
              "                    &#x27;Type_Organization&#x27;],\n",
              "              handle_unknown=&#x27;infrequent_if_exist&#x27;, min_samples_leaf=30)</pre></div></div></div></div></div>"
            ]
          },
          "metadata": {},
          "execution_count": 39
        }
      ]
    },
    {
      "cell_type": "code",
      "source": [
        "# Aplicando transformaciones sobre  variables\n",
        "\n",
        "train[[x + '_coded' for x in catergory_features]] = encoder.transform(train[catergory_features].astype('category'))\n",
        "test[[ x + '_coded' for x in catergory_features]] = encoder.transform(test[catergory_features].astype('category'))\n",
        "watch[[x + '_coded' for x in catergory_features]] = encoder.transform(watch[catergory_features].astype('category'))\n",
        "\n"
      ],
      "metadata": {
        "id": "v25pphTVzj62"
      },
      "execution_count": 40,
      "outputs": []
    },
    {
      "cell_type": "markdown",
      "source": [
        "### 6. Modelamiento\n"
      ],
      "metadata": {
        "id": "ses-MjvqDudt"
      }
    },
    {
      "cell_type": "code",
      "source": [
        "#Cargando librerías\n",
        "import xgboost as xgb\n",
        "from sklearn.metrics import *"
      ],
      "metadata": {
        "id": "Aw2W6RDO8MkQ"
      },
      "execution_count": 41,
      "outputs": []
    },
    {
      "cell_type": "code",
      "source": [
        "# Definimos los parámetros para el Grid Search\n",
        "\n",
        "param_grid = {'objective': ['binary:logistic'],\n",
        "              'scale_pos_weight' : [11.37],\n",
        "              'booster' :  ['gbtree'],\n",
        "              'learning_rate': [0.01, 0.05, 0.1],\n",
        "              'max_depth': [3, 5, 7],\n",
        "              'colsample_bytree': [0.7, 1],\n",
        "              'subsample': [0.7, 1]}\n"
      ],
      "metadata": {
        "id": "0mGUwfjPpukN"
      },
      "execution_count": 72,
      "outputs": []
    },
    {
      "cell_type": "code",
      "source": [
        "features =  numeric_features + [x + '_coded' for x in catergory_features]"
      ],
      "metadata": {
        "id": "Y5l-sLjKp7aW"
      },
      "execution_count": 70,
      "outputs": []
    },
    {
      "cell_type": "code",
      "source": [
        "%%time\n",
        "from sklearn.model_selection import GridSearchCV\n",
        "\n",
        "# Crear clasificador\n",
        "xgBoost = xgb.XGBClassifier(use_label_encoder=False, n_estimators = 500)\n",
        "\n",
        "# Crear objeto GridSearchCV\n",
        "grid_search = GridSearchCV(xgBoost,\n",
        "                           param_grid,\n",
        "                           scoring = make_scorer(auc),\n",
        "                           cv = 3,  # Número de folds en la validación cruzada\n",
        "                           verbose = 2,  # Verbosidad del output\n",
        "                           n_jobs = -1  # Uso de todos los núcleos disponibles\n",
        "                          )\n",
        "\n",
        "# Realizar búsqueda de parámetros\n",
        "grid_search.fit(train[features],\n",
        "                train.Default,\n",
        "                early_stopping_rounds = 10,\n",
        "                eval_metric = \"auc\",\n",
        "                eval_set=[(watch[features], watch.Default)],\n",
        "                verbose = True)\n",
        "\n"
      ],
      "metadata": {
        "id": "PXxNtmLTD2ut"
      },
      "execution_count": null,
      "outputs": []
    },
    {
      "cell_type": "code",
      "source": [
        "# Obtener el mejor modelo\n",
        "best_model = grid_search.best_estimator_\n",
        "\n",
        "# Si deseas, también puedes extraer y visualizar los mejores parámetros encontrados\n",
        "best_params = grid_search.best_params_\n",
        "print(f\"Best parameters found: {best_params}\")\n"
      ],
      "metadata": {
        "id": "Kfw-2lfdCg8p"
      },
      "execution_count": null,
      "outputs": []
    },
    {
      "cell_type": "code",
      "source": [
        "%%capture\n",
        "!pip install --upgrade xgboost"
      ],
      "metadata": {
        "id": "W-ALoOoWGI6y"
      },
      "execution_count": 46,
      "outputs": []
    },
    {
      "cell_type": "code",
      "source": [
        "# Entrenando el modelo final\n",
        "\n",
        "xgBoost = xgb.XGBClassifier(use_label_encoder=False,\n",
        "                            n_estimators = 500, **best_params)\n",
        "\n",
        "xgBoost.fit(train[features],\n",
        "            train.Default,\n",
        "            early_stopping_rounds=10,\n",
        "            eval_metric=\"auc\",\n",
        "            eval_set=[(train[features], train.Default), (watch[features], watch.Default)],\n",
        "            verbose=True)\n",
        "\n",
        "\n",
        "# Extraer los resultados de evaluación\n",
        "results = xgBoost.evals_result()\n"
      ],
      "metadata": {
        "id": "nZ7JWw80GLra"
      },
      "execution_count": null,
      "outputs": []
    },
    {
      "cell_type": "code",
      "source": [
        "import matplotlib.pyplot as plt\n",
        "\n",
        "epochs = len(results['validation_0']['auc'])\n",
        "x_axis = range(0, epochs)\n",
        "\n",
        "# Ajusta el tamaño\n",
        "fig, ax = plt.subplots(figsize=(8, 4))\n",
        "\n",
        "ax.plot(x_axis, results['validation_0']['auc'], label='Train')\n",
        "ax.plot(x_axis, results['validation_1']['auc'], label='Watch')\n",
        "\n",
        "ax.set_ylim([0.65, 0.75])  # Para limitar la cantidad de epochs\n",
        "\n",
        "ax.legend()\n",
        "plt.ylabel('AUC')\n",
        "plt.title('XGBoost AUC')\n",
        "plt.show()"
      ],
      "metadata": {
        "id": "jSbUo17M8HDS"
      },
      "execution_count": null,
      "outputs": []
    },
    {
      "cell_type": "markdown",
      "metadata": {
        "id": "C4z0wIVH-MIX"
      },
      "source": [
        "<b>Variables del Modelo</b>"
      ]
    },
    {
      "cell_type": "code",
      "source": [
        "import matplotlib.pyplot as plt\n",
        "\n",
        "# Obtener importancia\n",
        "feature_importance = xgBoost.get_booster().get_score(importance_type='weight')\n",
        "\n",
        "# Ordenar por importancia\n",
        "sorted_importance = sorted(feature_importance.items(), key=lambda x: x[1], reverse=True)\n",
        "\n",
        "# Graficar\n",
        "plt.barh([x[0] for x in sorted_importance[:10]], [x[1] for x in sorted_importance[:10]])\n",
        "plt.xlabel('Importancia')\n",
        "plt.ylabel('Características')\n",
        "plt.title('Top 10 variables por Importancia')\n",
        "plt.gca().invert_yaxis()\n",
        "plt.show()"
      ],
      "metadata": {
        "id": "0KmV3SUfEB0M"
      },
      "execution_count": null,
      "outputs": []
    },
    {
      "cell_type": "markdown",
      "source": [
        "### 7. Evaluación del modelo"
      ],
      "metadata": {
        "id": "WILxj2K98sCa"
      }
    },
    {
      "cell_type": "code",
      "metadata": {
        "id": "yg81nbtE_WzY"
      },
      "source": [
        "from scipy.stats import ks_2samp\n",
        "\n",
        "# Definir métricas adicionales\n",
        "def gini(y_true, y_score):\n",
        "    auc = roc_auc_score(y_true, y_score)\n",
        "    return 2*auc - 1\n",
        "\n",
        "def ks_statistic(y_true, y_score):\n",
        "    return ks_2samp(y_score[y_true == 1], y_score[y_true == 0]).statistic"
      ],
      "execution_count": 80,
      "outputs": []
    },
    {
      "cell_type": "code",
      "metadata": {
        "id": "1GIK4-wkOdWm"
      },
      "source": [
        "# predicción del modelo\n",
        "train['prediction'] = xgBoost.predict_proba(train[features])[:, 1]\n",
        "test['prediction']  = xgBoost.predict_proba(test[features])[:, 1]\n",
        "watch['prediction'] = xgBoost.predict_proba(watch[features])[:, 1]\n"
      ],
      "execution_count": 81,
      "outputs": []
    },
    {
      "cell_type": "code",
      "metadata": {
        "id": "ADGsicCEP67k"
      },
      "source": [
        "results = pd.DataFrame(columns=['Metric', 'Train', 'Test', 'Watch'])\n",
        "\n",
        "metrics = [\n",
        "    (\"Accuracy\", accuracy_score),\n",
        "    (\"Precision\", precision_score),\n",
        "    (\"Recall\", recall_score),\n",
        "    (\"F1 Score\", f1_score),\n",
        "    (\"AUC-ROC\", roc_auc_score),\n",
        "    (\"Gini\", gini),\n",
        "    (\"KS Statistic\", ks_statistic),\n",
        "    (\"Jaccard\", jaccard_score)\n",
        "]\n",
        "\n",
        "for metric_name, metric_func in metrics:\n",
        "    if metric_name in [\"Gini\", \"KS Statistic\"]:  # Si la métrica requiere probabilidades\n",
        "        train_score = metric_func(train['Default'], train['prediction'])\n",
        "        test_score = metric_func(test['Default'], test['prediction'])\n",
        "        watch_score = metric_func(watch['Default'], watch['prediction'])\n",
        "\n",
        "    else:  # Si la métrica se aplica a etiquetas\n",
        "        train_score = metric_func(train['Default'], train['prediction'].apply(lambda x: 1 if x > 0.5 else 0))\n",
        "        test_score = metric_func(test['Default'],   test['prediction'].apply(lambda x: 1 if x > 0.5 else 0))\n",
        "        watch_score = metric_func(watch['Default'], watch['prediction'].apply(lambda x: 1 if x > 0.5 else 0))\n",
        "\n",
        "    results = results.append({\n",
        "        'Metric': metric_name,\n",
        "        'Train': train_score,\n",
        "        'Test': test_score,\n",
        "        'Watch': watch_score\n",
        "    }, ignore_index=True)\n",
        "\n",
        "\n",
        "pd.set_option('display.float_format', '{:.2f}'.format)\n",
        "\n",
        "# Mostrar los resultados\n",
        "results"
      ],
      "execution_count": null,
      "outputs": []
    },
    {
      "cell_type": "markdown",
      "source": [
        "### 8. Interpretación de modelo"
      ],
      "metadata": {
        "id": "_WjuAlXdDCwK"
      }
    },
    {
      "cell_type": "code",
      "source": [
        "%%capture\n",
        "!pip install shap"
      ],
      "metadata": {
        "id": "auh10_unEn_y"
      },
      "execution_count": 88,
      "outputs": []
    },
    {
      "cell_type": "code",
      "source": [
        "explainer = shap.Explainer(xgBoost,\n",
        "                           train[features],\n",
        "                           feature_names = features)\n",
        "\n",
        "shap_values = explainer(train[features])"
      ],
      "metadata": {
        "id": "0qdWxIhwHOYx"
      },
      "execution_count": null,
      "outputs": []
    },
    {
      "cell_type": "markdown",
      "source": [
        "**PDP: Partial dependency plot**\n",
        "\n",
        "Estos gráficos muestran cómo una característica afecta las predicciones manteniendo constantes las otras características."
      ],
      "metadata": {
        "id": "u7Le0cT8ER7U"
      }
    },
    {
      "cell_type": "code",
      "source": [
        "shap.plots.scatter(shap_values[:,\"Score_Source_3\"])"
      ],
      "metadata": {
        "id": "78oF2zjbGmgz"
      },
      "execution_count": null,
      "outputs": []
    },
    {
      "cell_type": "code",
      "source": [
        "shap.plots.scatter(shap_values[:,\"Score_Source_1\"], color = shap_values)"
      ],
      "metadata": {
        "id": "uOUEeH6vG0O1"
      },
      "execution_count": null,
      "outputs": []
    },
    {
      "cell_type": "markdown",
      "source": [
        "**Waterfall de SHAP**\n",
        "\n",
        "Descompone la contribución de cada característica a una predicción individual, desde la predicción base (es decir, el valor promedio de todas las predicciones) hasta la predicción final para esa instancia específica.\n",
        "\n"
      ],
      "metadata": {
        "id": "vIIUJM85IYfX"
      }
    },
    {
      "cell_type": "code",
      "source": [
        "shap.plots.waterfall(shap_values[2])"
      ],
      "metadata": {
        "id": "KcL2UUDfFCEq"
      },
      "execution_count": null,
      "outputs": []
    },
    {
      "cell_type": "markdown",
      "source": [
        "**Beeswarm de SHAP**\n",
        "\n",
        "El eje x muestra el valor SHAP, lo que indica cuánto influyó cada característica en la diferencia entre la predicción del modelo para esa instancia y la salida promedio del modelo en todo el conjunto de datos. Un valor SHAP positivo indica que esa característica hizo que la predicción aumentara, mientras que un valor SHAP negativo indica que la característica hizo que la predicción disminuyera."
      ],
      "metadata": {
        "id": "ZmIdrz5UIbNm"
      }
    },
    {
      "cell_type": "code",
      "source": [
        "shap.plots.beeswarm(shap_values)"
      ],
      "metadata": {
        "id": "OaVlvxoUFWeY"
      },
      "execution_count": null,
      "outputs": []
    },
    {
      "cell_type": "markdown",
      "source": [
        "### 9. Implementación del modelo"
      ],
      "metadata": {
        "id": "aXp6VvIcJsHu"
      }
    },
    {
      "cell_type": "code",
      "source": [
        "import pickle"
      ],
      "metadata": {
        "id": "oWSiM8C_JuuX"
      },
      "execution_count": 121,
      "outputs": []
    },
    {
      "cell_type": "code",
      "source": [
        "type(xgBoost)"
      ],
      "metadata": {
        "id": "gsYN8MXnKg1e",
        "outputId": "c174af78-1b16-4438-9a85-4c98309b1c64",
        "colab": {
          "base_uri": "https://localhost:8080/"
        }
      },
      "execution_count": 125,
      "outputs": [
        {
          "output_type": "execute_result",
          "data": {
            "text/plain": [
              "xgboost.sklearn.XGBClassifier"
            ]
          },
          "metadata": {},
          "execution_count": 125
        }
      ]
    },
    {
      "cell_type": "markdown",
      "source": [
        "Guardando objeto de Python"
      ],
      "metadata": {
        "id": "peXiYTodK87U"
      }
    },
    {
      "cell_type": "code",
      "source": [
        "pickle.dump(xgBoost, open(\"./XGBoost.xgb\", 'wb'))\n",
        "print(\"done\")"
      ],
      "metadata": {
        "id": "YJkMCthLKiPF"
      },
      "execution_count": null,
      "outputs": []
    },
    {
      "cell_type": "markdown",
      "source": [
        "Leyendo objeto de Python"
      ],
      "metadata": {
        "id": "MKkIAKMHLAd7"
      }
    },
    {
      "cell_type": "code",
      "source": [
        "loaded_model = pickle.load(open(\"./XGBoost.xgb\", 'rb'))"
      ],
      "metadata": {
        "id": "ES9-y6pnKlGF"
      },
      "execution_count": null,
      "outputs": []
    },
    {
      "cell_type": "code",
      "source": [
        "loaded_model"
      ],
      "metadata": {
        "id": "LsMrGC5pKnkz"
      },
      "execution_count": null,
      "outputs": []
    },
    {
      "cell_type": "markdown",
      "source": [
        "Puntuando nuevas bases"
      ],
      "metadata": {
        "id": "fhfRFjUtLDd6"
      }
    },
    {
      "cell_type": "code",
      "source": [
        "loaded_model.predict(xgb.DMatrix(X_test[features], label = y_test))"
      ],
      "metadata": {
        "id": "BkIbsV_AKnBr"
      },
      "execution_count": null,
      "outputs": []
    },
    {
      "cell_type": "markdown",
      "source": [
        "---\n",
        "## Gracias por completar este laboratorio!"
      ],
      "metadata": {
        "id": "Ou7U5hlgp5nz"
      }
    }
  ]
}