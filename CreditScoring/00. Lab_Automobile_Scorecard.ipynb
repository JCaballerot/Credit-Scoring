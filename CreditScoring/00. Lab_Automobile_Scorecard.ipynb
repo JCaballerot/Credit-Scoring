{
  "nbformat": 4,
  "nbformat_minor": 0,
  "metadata": {
    "colab": {
      "provenance": [],
      "machine_shape": "hm",
      "authorship_tag": "ABX9TyMyDRYg2xwxugvWcXg1dMDK",
      "include_colab_link": true
    },
    "kernelspec": {
      "name": "python3",
      "display_name": "Python 3"
    },
    "language_info": {
      "name": "python"
    }
  },
  "cells": [
    {
      "cell_type": "markdown",
      "metadata": {
        "id": "view-in-github",
        "colab_type": "text"
      },
      "source": [
        "<a href=\"https://colab.research.google.com/github/JCaballerot/Credit-Scoring/blob/main/CreditScoring/00.%20Lab_Automobile_Scorecard.ipynb\" target=\"_parent\"><img src=\"https://colab.research.google.com/assets/colab-badge.svg\" alt=\"Open In Colab\"/></a>"
      ]
    },
    {
      "cell_type": "markdown",
      "source": [
        "\n",
        "<h1 align=center><font size = 5>Automobile Loan Default Dataset\n",
        "</font></h1>\n",
        "\n",
        "---"
      ],
      "metadata": {
        "id": "s6UHVkgOXcmw"
      }
    },
    {
      "cell_type": "markdown",
      "source": [
        "## Introducción\n",
        "\n",
        "En este laboratorio, aprenderá a usar python para construir un modelo de <b>credit scoring</b>.\n",
        "\n"
      ],
      "metadata": {
        "id": "zINWKfpHZJRl"
      }
    },
    {
      "cell_type": "markdown",
      "source": [
        "## Objetivo de este Notebook\n",
        "\n",
        "1. Como construir e interpretar un modelo de regresión logística.\n",
        "2. Descargar y limpiar un Dataset\n",
        "3. Realizar los pasos necesarios previos a la etapa de modelamiento\n",
        "4. Entrenar y Testear modelo"
      ],
      "metadata": {
        "id": "mLlfVwLIZV7b"
      }
    },
    {
      "cell_type": "markdown",
      "source": [
        "## Tabla de Contenidos\n",
        "\n",
        "<div class=\"alert alert-block alert-info\" style=\"margin-top: 20px\">\n",
        "\n",
        "<font size = 3>\n",
        "    \n",
        "1. <a href=\"#item31\">Contexto</a>  \n",
        "2. <a href=\"#item32\">Descargar y limpiar el Dataset</a>  \n",
        "3. <a href=\"#item33\">Pre-selección de variables</a>  \n",
        "4. <a href=\"#item34\">Tratamiento de variables categóricas</a>  \n",
        "5. <a href=\"#item34\">Tratamiento de variables numéricas</a>  \n",
        "6. <a href=\"#item34\">Entrenamiento del modelo</a>  \n",
        "\n",
        "</font>\n",
        "</div>"
      ],
      "metadata": {
        "id": "icLdd0FKXoSA"
      }
    },
    {
      "cell_type": "markdown",
      "source": [
        "## 1. Contexto"
      ],
      "metadata": {
        "id": "wXxiLTiBXyw8"
      }
    },
    {
      "cell_type": "markdown",
      "source": [
        "Una institución financiera no bancaria (NBFI) o una compañía financiera no bancaria (NBFC) es una institución financiera que no tiene una licencia bancaria completa o no está supervisada por una agencia reguladora bancaria nacional o internacional. NBFC facilita los servicios financieros *relacionados* con los bancos, como inversión, agrupación de riesgos, ahorros contractuales y corretaje de mercado.\n",
        "\n",
        "Una NBFI está luchando por marcar ganancias debido a un aumento en los incumplimientos en la categoría de préstamos para vehículos. La empresa tiene como objetivo determinar la capacidad de pago del préstamo del cliente y comprender la importancia relativa de cada parámetro que contribuye a la capacidad del prestatario para pagar el préstamo.\n"
      ],
      "metadata": {
        "id": "KHm-j2aHZoFB"
      }
    },
    {
      "cell_type": "markdown",
      "source": [
        "\n",
        "<b>Meta:</b>\n",
        "\n",
        "El objetivo del problema es predecir si un cliente no cumplirá con el pago del préstamo del vehículo o no."
      ],
      "metadata": {
        "id": "fRuCC45BXxwX"
      }
    },
    {
      "cell_type": "markdown",
      "source": [
        "\n",
        "\n",
        "\n",
        "<img src=\"https://storage.googleapis.com/kaggle-datasets-images/1205706/2014650/7a50061003ce0de9839d54ff4673ccf2/dataset-cover.jpg?t=2021-07-04-09-18-01\" alt=\"HTML5 Icon\" style=\"width: 600px; height: 450px;\">\n",
        "<div style=\"text-align: center\">¿Cómo identificaremos a los clientes morosos? </div>"
      ],
      "metadata": {
        "id": "sYbqHyYAYeW1"
      }
    },
    {
      "cell_type": "markdown",
      "source": [
        "\n",
        "<b>Descripción de datos</b>\n",
        "\n",
        "El data frame de Automovile Loan tiene 121,856 filas y 40 columnas.\n",
        "\n",
        "\n",
        "---\n",
        "\n",
        "Se le proporciona un conjunto de datos anónimos que contiene una gran cantidad de variables. La columna <b>\"Default\"</b> es la variable a predecir. Es igual a uno para clientes que cayeron en mora y 0 para clientes que no.\n",
        "\n",
        "La tarea consiste en predecir la probabilidad de que cada cliente del conjunto de prueba sea un cliente moroso.\n",
        "\n",
        "\n",
        "---\n",
        "\n",
        "\n",
        "<strong>Puede consultar este [link](https://www.kaggle.com/datasets/saurabhbagchi/dish-network-hackathon) para leer más sobre la fuente de datos Automobile Loan Default.</strong>\n"
      ],
      "metadata": {
        "id": "fsKmSeWpZtFC"
      }
    },
    {
      "cell_type": "markdown",
      "source": [
        "## 2. Descargar y limpiar Dataset"
      ],
      "metadata": {
        "id": "d5-Lsjy8aZv4"
      }
    },
    {
      "cell_type": "code",
      "source": [
        "# Principales librerías\n",
        "# Imports comunes\n",
        "import pandas as pd\n",
        "import numpy as np\n",
        "\n",
        "# Cargar liberías gráficas\n",
        "import seaborn as sns\n",
        "import matplotlib.pyplot as plt\n"
      ],
      "metadata": {
        "id": "JilRYoLvcSYk"
      },
      "execution_count": 2,
      "outputs": []
    },
    {
      "cell_type": "code",
      "source": [
        "# Cargar Data\n",
        "pddf = pd.read_csv(\"Train_Dataset.csv\")\n",
        "pddf.head()"
      ],
      "metadata": {
        "id": "eL4GrOMHXj87"
      },
      "execution_count": null,
      "outputs": []
    },
    {
      "cell_type": "markdown",
      "source": [
        "Limpieza de algunos problemas en datos"
      ],
      "metadata": {
        "id": "71zc7oVjRJ7N"
      }
    },
    {
      "cell_type": "code",
      "source": [
        "pddf.replace({'@': None,\n",
        "              '#': None,\n",
        "              '&': None,\n",
        "              'x': None,\n",
        "              '$': None,\n",
        "              'XNA' : None,\n",
        "              '#VALUE!': None}, inplace = True)"
      ],
      "metadata": {
        "id": "Wr8y3jFMiTYW"
      },
      "execution_count": 4,
      "outputs": []
    },
    {
      "cell_type": "code",
      "source": [
        "print(\"La base de datos tiene:\",len(pddf),\"filas\")\n",
        "print(\"La base de datos tiene:\",pddf.shape[1],\"columnas\")\n"
      ],
      "metadata": {
        "id": "qX0WL6wOH93W"
      },
      "execution_count": null,
      "outputs": []
    },
    {
      "cell_type": "code",
      "source": [
        "pddf.columns.tolist()"
      ],
      "metadata": {
        "id": "frVk9idsIwLs"
      },
      "execution_count": null,
      "outputs": []
    },
    {
      "cell_type": "code",
      "execution_count": null,
      "metadata": {
        "id": "-FqBSIbhmGgu"
      },
      "outputs": [],
      "source": [
        "# Analizando el target\n",
        "\n",
        "# Crear una figura y especificar el tamaño\n",
        "plt.figure(figsize=(6, 3))\n",
        "\n",
        "# Crear el gráfico\n",
        "sns.countplot(x='Default', data=pddf, palette='Blues')\n",
        "\n",
        "# Agregar nombres a los ejes\n",
        "plt.ylabel('Frecuencia')\n",
        "\n",
        "# Agregar un título al gráfico\n",
        "plt.title('Distribución de Incumplimiento de Pagos')\n",
        "\n",
        "# Mostrar el gráfico\n",
        "plt.show()"
      ]
    },
    {
      "cell_type": "code",
      "source": [
        "print('La mora del universo es :', round(pddf.Default.mean(),4)*100,'%')"
      ],
      "metadata": {
        "id": "NDSNI7ZsI_Rs"
      },
      "execution_count": null,
      "outputs": []
    },
    {
      "cell_type": "code",
      "source": [
        "# Indentificar las variables\n",
        "features = list(set(pddf.columns.tolist()) - set(['ID', 'ID_Days', 'Default']))"
      ],
      "metadata": {
        "id": "nI6OwK06LP0z"
      },
      "execution_count": 9,
      "outputs": []
    },
    {
      "cell_type": "code",
      "source": [
        "features_string = list(pddf.select_dtypes(include=['object']).columns)\n",
        "features_string"
      ],
      "metadata": {
        "id": "xTdwWdrnnoo8"
      },
      "execution_count": null,
      "outputs": []
    },
    {
      "cell_type": "code",
      "source": [
        "%%capture\n",
        "pddf.convert_dtypes(infer_objects=True).dtypes"
      ],
      "metadata": {
        "id": "AA2LeemQp6kU"
      },
      "execution_count": 11,
      "outputs": []
    },
    {
      "cell_type": "code",
      "source": [
        "# Indentificar las variables categoricas\n",
        "categorical_features = ['Accompany_Client', 'Client_Income_Type',\n",
        "                        'Client_Education', 'Client_Marital_Status',\n",
        "                        'Client_Gender', 'Loan_Contract_Type', 'Client_Housing_Type',\n",
        "                        'Client_Occupation', 'Client_Permanent_Match_Tag',\n",
        "                        'Client_Contact_Work_Tag', 'Type_Organization',\n",
        "                        'Workphone_Working', 'Mobile_Tag', 'Active_Loan', 'Bike_Owned',\n",
        "                        'House_Own','Car_Owned', 'Child_Count', 'Client_Family_Members']\n",
        "\n",
        "cols_to_rmv = ['Cleint_City_Rating', 'Homephone_Tag']"
      ],
      "metadata": {
        "id": "ykF1pSWVobe0"
      },
      "execution_count": 12,
      "outputs": []
    },
    {
      "cell_type": "code",
      "source": [
        "# Indentificar las variables numéricas\n",
        "numeric_features = list(set(features) - set(categorical_features + cols_to_rmv))\n"
      ],
      "metadata": {
        "id": "fDjKdXmNpTGN"
      },
      "execution_count": 13,
      "outputs": []
    },
    {
      "cell_type": "code",
      "source": [
        "def contar_valores_unicos(df):\n",
        "    # Crear un DataFrame para almacenar los resultados\n",
        "    resultados = pd.DataFrame(columns=['Variable', 'Valores Únicos'])\n",
        "\n",
        "    # Iterar a través de las columnas del DataFrame\n",
        "    for columna in df.columns:\n",
        "        # Calcular la cantidad de valores únicos en la columna\n",
        "        valores_unicos = df[columna].nunique()\n",
        "\n",
        "        # Agregar los resultados a DataFrame\n",
        "        resultados = resultados.append({'Variable': columna, 'Valores Únicos': valores_unicos}, ignore_index=True)\n",
        "\n",
        "    return resultados\n",
        "\n",
        "contar_valores_unicos(pddf[numeric_features])"
      ],
      "metadata": {
        "id": "8dWoBqO-M3__"
      },
      "execution_count": null,
      "outputs": []
    },
    {
      "cell_type": "code",
      "source": [
        "# convertir Series\n",
        "for col in numeric_features:\n",
        "  pddf[col] = pd.to_numeric(pddf[col])"
      ],
      "metadata": {
        "id": "_m5dNZnWprHp"
      },
      "execution_count": 15,
      "outputs": []
    },
    {
      "cell_type": "markdown",
      "source": [
        "## 3. Muestreo"
      ],
      "metadata": {
        "id": "MKJFU5JMMdT_"
      }
    },
    {
      "cell_type": "code",
      "source": [
        "# Muestreo de data\n",
        "from sklearn.model_selection import train_test_split\n",
        "\n",
        "train, test = train_test_split(pddf,\n",
        "                               stratify = pddf['Default'],\n",
        "                               train_size = 0.8,\n",
        "                               random_state = 123)\n"
      ],
      "metadata": {
        "id": "r4htXb8fi58W"
      },
      "execution_count": 16,
      "outputs": []
    },
    {
      "cell_type": "code",
      "source": [
        "print(\"El ratio de default en train es:\",round(train.Default.mean(),2))"
      ],
      "metadata": {
        "id": "GzCR1rVfNioO"
      },
      "execution_count": null,
      "outputs": []
    },
    {
      "cell_type": "code",
      "source": [
        "print(\"El ratio de default en test es:\",round(test.Default.mean(),2))"
      ],
      "metadata": {
        "id": "Twi4YX3aNlJG"
      },
      "execution_count": null,
      "outputs": []
    },
    {
      "cell_type": "markdown",
      "source": [
        "## 4. Tratamiento de variables numéricas\n",
        "\n",
        "\n"
      ],
      "metadata": {
        "id": "g6Z1t2VtPvKX"
      }
    },
    {
      "cell_type": "markdown",
      "source": [
        "### Tratamiento de outliers"
      ],
      "metadata": {
        "id": "JXxgC8bfjFof"
      }
    },
    {
      "cell_type": "code",
      "source": [
        "# boxplot\n",
        "plt.figure(figsize=(6, 3))  # Establecer el tamaño de la figura (opcional)\n",
        "sns.boxplot(x=\"Client_Income\", data=train, palette=\"Blues\")\n",
        "\n",
        "# Personalizar el título y etiquetas de los ejes\n",
        "plt.title(\"Boxplot de Client_Income pre tratamiento de outliers\")\n",
        "plt.xlabel(\"Client_Income\")\n",
        "\n",
        "# Mostrar el boxplot\n",
        "plt.show()"
      ],
      "metadata": {
        "id": "paXuEdB9k7iD"
      },
      "execution_count": null,
      "outputs": []
    },
    {
      "cell_type": "code",
      "source": [
        "Q1 = train[numeric_features].quantile(0.25)\n",
        "Q3 = train[numeric_features].quantile(0.75)\n",
        "IQR = Q3 - Q1\n",
        "\n",
        "lower_bound = Q1 - 1.5 * IQR\n",
        "upper_bound = Q3 + 1.5 * IQR\n"
      ],
      "metadata": {
        "id": "mSHKa0s8jHS-"
      },
      "execution_count": 20,
      "outputs": []
    },
    {
      "cell_type": "code",
      "source": [
        "# Reemplazar valores que estén fuera de los límites con NaN\n",
        "train[numeric_features] = train[numeric_features].mask((train[numeric_features] < lower_bound) | (train[numeric_features] > upper_bound), None)\n",
        "test[numeric_features]  = test[numeric_features].mask((test[numeric_features] < lower_bound) | (test[numeric_features] > upper_bound), None)\n"
      ],
      "metadata": {
        "id": "XmcdTI1ujH2-"
      },
      "execution_count": 21,
      "outputs": []
    },
    {
      "cell_type": "code",
      "source": [
        "# boxplot\n",
        "plt.figure(figsize=(6, 3))  # Establecer el tamaño de la figura (opcional)\n",
        "sns.boxplot(x=\"Client_Income\", data=train, palette=\"Blues\")\n",
        "\n",
        "# Personalizar el título y etiquetas de los ejes\n",
        "plt.title(\"Boxplot de Client_Income post tratamiento de outliers\")\n",
        "plt.xlabel(\"Client_Income\")\n",
        "\n",
        "# Mostrar el boxplot\n",
        "plt.show()"
      ],
      "metadata": {
        "id": "nFVpnOv0lf68"
      },
      "execution_count": null,
      "outputs": []
    },
    {
      "cell_type": "markdown",
      "source": [
        "### Tratamiento de missings"
      ],
      "metadata": {
        "id": "4rlSQI0bP9Ci"
      }
    },
    {
      "cell_type": "code",
      "source": [
        "# Imputación por mediana\n",
        "train[numeric_features] = train[numeric_features].fillna(train[numeric_features].median())\n",
        "test[numeric_features]  = test[numeric_features].fillna(train[numeric_features].median())\n"
      ],
      "metadata": {
        "id": "Rv7mpD4bZ-9M"
      },
      "execution_count": 23,
      "outputs": []
    },
    {
      "cell_type": "code",
      "source": [
        "%%capture\n",
        "# Discretizar variables\n",
        "from sklearn.preprocessing import KBinsDiscretizer\n",
        "discretizer = KBinsDiscretizer(n_bins = 5,\n",
        "                               encode = 'ordinal',\n",
        "                               strategy = \"uniform\", subsample = None).fit(train[numeric_features])"
      ],
      "metadata": {
        "id": "1Srnm4HGP8dW"
      },
      "execution_count": 24,
      "outputs": []
    },
    {
      "cell_type": "code",
      "source": [
        "# Aplicación\n",
        "train[[x + '_cat' for x in numeric_features]] = discretizer.transform(train[numeric_features]).astype(int)\n",
        "test[[x + '_cat' for x in numeric_features]] = discretizer.transform(test[numeric_features]).astype(int)\n"
      ],
      "metadata": {
        "id": "WxL1E3Y8P3GE"
      },
      "execution_count": 25,
      "outputs": []
    },
    {
      "cell_type": "code",
      "source": [
        "position = 0\n",
        "for column in discretizer.feature_names_in_:\n",
        "  my_list = []\n",
        "  for x in range(discretizer.n_bins_[position]):\n",
        "    my_list.append(str(round(discretizer.bin_edges_[position][x], 2)) + ' a ' +\n",
        "                  str(round(discretizer.bin_edges_[position][x+1], 2)))\n",
        "\n",
        "  temp = pd.DataFrame({column + '_cat': range(0, discretizer.n_bins_[position]),\n",
        "                       column + '_cat_desc' : my_list})\n",
        "  temp[column + '_cat'] = temp[column + '_cat'].astype(int)\n",
        "  train = pd.merge(train, temp, on = [column + '_cat'], how = 'left')\n",
        "  test  = pd.merge(test,  temp, on = [column + '_cat'], how = 'left')\n",
        "  position += 1\n"
      ],
      "metadata": {
        "id": "mRj-CAe_ESfq"
      },
      "execution_count": 26,
      "outputs": []
    },
    {
      "cell_type": "code",
      "source": [
        "train[['Score_Source_3_cat', 'Score_Source_3_cat_desc']].sort_values(by='Score_Source_3_cat').drop_duplicates().head(20)\n"
      ],
      "metadata": {
        "id": "lnlsScqJC7eM"
      },
      "execution_count": null,
      "outputs": []
    },
    {
      "cell_type": "markdown",
      "metadata": {
        "id": "BzjJoA4znq1u"
      },
      "source": [
        "### Encoding de variables"
      ]
    },
    {
      "cell_type": "markdown",
      "source": [
        "Los métodos de encoding se utilizan en el procesamiento de datos y análisis de datos para transformar variables categóricas en una forma numérica que sea adecuada para su uso en algoritmos de aprendizaje automático y otros análisis estadísticos. Estos métodos son importantes porque muchos algoritmos de machine learning requieren que las variables de entrada sean numéricas, mientras que en la vida real, los datos pueden contener muchas variables categóricas o de texto."
      ],
      "metadata": {
        "id": "9p-9xNdaenof"
      }
    },
    {
      "cell_type": "markdown",
      "metadata": {
        "id": "NkpAoL6tI7mS"
      },
      "source": [
        "\n",
        "---\n",
        "\n",
        "<h3>Label Encoding</h3>\n",
        "\n",
        "El label encoding consiste en asignar un número (por lo general entero) a cada una de las categorías de la variable categórica.\n",
        "\n",
        "<img src=\"https://miro.medium.com/max/772/1*QQe-4476Oy3_dI1vhb3dDg.png\" alt=\"HTML5 Icon\" width=\"250\" height=\"200\">\n",
        "\n",
        "---\n",
        "\n"
      ]
    },
    {
      "cell_type": "markdown",
      "source": [
        "\n",
        "<h3>One Hot Encoding</h3>\n",
        "\n",
        "El One hot encoding es un proceso que consiste en dummizar cada catgoría de la variable en una nueva variable, de esta manera las nuevas variables se activarán dependiendo del valor que tome la variable original.\n",
        "\n",
        "<img src=\"https://encrypted-tbn0.gstatic.com/images?q=tbn:ANd9GcTr11qA6j0WCbEYrfNoQ7QO_NpMIZus42BJwQ&usqp=CAU\" alt=\"HTML5 Icon\" width=\"500\" height=\"150\">\n",
        "\n",
        "\n",
        "---\n",
        "\n",
        "<div style=\"text-align: center\">Ejemplo de one hot Encoding </div>\n",
        "\n"
      ],
      "metadata": {
        "id": "6SOxZIGocigY"
      }
    },
    {
      "cell_type": "markdown",
      "source": [
        "<h3>Target Encoding</h3>\n",
        "\n",
        "El target encoding es una técnica que consiste en inputar el promedio del target a cada uno de los valores de la variable categórica.\n",
        "\n",
        "<img src=\"https://lh6.googleusercontent.com/6_KrGj2k9NvcLVfmZ6HIYruAqav4rX86YU7WOhXofDGd6-98JjUPWajo0dDqmFMXv3tN0b_LOmgYLiPMCFyIWw3b7lVrCAiSboWgJ_AJ4TqHpNWUHkgIxl0xuSF9JdSXNbWG48QS\" alt=\"HTML5 Icon\" width=\"500\" height=\"225\">\n",
        "\n",
        "\n",
        " ---"
      ],
      "metadata": {
        "id": "rAmHhGvFceid"
      }
    },
    {
      "cell_type": "markdown",
      "source": [
        "<h3>Woe Encoding</h3>\n",
        "\n",
        "El WOE encoding (Weight of Evidence Encoding) asigna un valor numérico a cada categoría de una variable categórica de tal manera que refleje la relación entre la categoría y la probabilidad de ocurrencia de un evento (como el incumplimiento de un préstamo o un evento de interés) en comparación con la probabilidad general del evento en todo el conjunto de datos. A menudo se utiliza en problemas en los que se desea evaluar la influencia de una variable categórica en la variable objetivo.\n",
        "\n",
        "<img src=\"https://miro.medium.com/v2/resize:fit:1400/1*yh1Ps_ynoc5DklDPZhxPWA.png\" alt=\"HTML5 Icon\" width=\"600\" height=\"200\">\n",
        "\n",
        "\n",
        " ---"
      ],
      "metadata": {
        "id": "KvU4UmsMdiK5"
      }
    },
    {
      "cell_type": "markdown",
      "source": [
        "### Aplicando WOE Encoding"
      ],
      "metadata": {
        "id": "qDqET_v6fAAk"
      }
    },
    {
      "cell_type": "code",
      "source": [
        "%%capture\n",
        "!pip install category_encoders"
      ],
      "metadata": {
        "id": "Rw8dNosH7p7F"
      },
      "execution_count": 28,
      "outputs": []
    },
    {
      "cell_type": "code",
      "source": [
        "# Generando codificador Target Encoding\n",
        "#from category_encoders.target_encoder import TargetEncoder\n",
        "#encoder = TargetEncoder(min_samples_leaf=0, smoothing = 0)\n",
        "\n",
        "from category_encoders.woe import WOEEncoder\n",
        "\n",
        "encoder = WOEEncoder()\n",
        "encoder.fit(train[[x + '_cat_desc' for x in numeric_features]], train.Default)\n"
      ],
      "metadata": {
        "id": "WXYJ4F_z9kmt"
      },
      "execution_count": null,
      "outputs": []
    },
    {
      "cell_type": "code",
      "source": [
        "# Tratamiento por WOE Encoding\n",
        "train[[x + '_woe' for x in numeric_features]] = encoder.transform(train[[x + '_cat_desc' for x in numeric_features]])\n",
        "test[[x + '_woe' for x in numeric_features]] = encoder.transform(test[[x + '_cat_desc' for x in numeric_features]])\n"
      ],
      "metadata": {
        "id": "jrMYUvcu6Fvy"
      },
      "execution_count": 30,
      "outputs": []
    },
    {
      "cell_type": "code",
      "source": [
        "df_resume = train.\\\n",
        "            groupby(['Client_Income_cat', 'Client_Income_cat_desc']).agg({'ID':'count',\n",
        "                                              'Client_Income' : 'median',\n",
        "                                              'Client_Income_woe' : 'mean',\n",
        "                                              'Default' : 'sum'}).reset_index()\n",
        "\n",
        "df_resume"
      ],
      "metadata": {
        "id": "O0vvSa9JGhto"
      },
      "execution_count": null,
      "outputs": []
    },
    {
      "cell_type": "code",
      "source": [
        "# Crear el gráfico\n",
        "fig, ax1 = plt.subplots(figsize=(8, 4))\n",
        "\n",
        "# Configurar el primer eje (eje principal) para Client_Income_woe vs Client_Income\n",
        "ax1.set_xlabel('Ingreso del cliente')\n",
        "ax1.set_ylabel('Weight of evidence', color='tab:blue')\n",
        "ax1.plot(df_resume.Client_Income_cat_desc, df_resume.Client_Income_woe, marker='o', linestyle='-', color='tab:blue')\n",
        "ax1.tick_params(axis='y', labelcolor='tab:blue')\n",
        "\n",
        "# Configurar el segundo eje (eje secundario) para las barras de ID\n",
        "ax2 = ax1.twinx()\n",
        "ax2.bar(df_resume.Client_Income_cat_desc, df_resume.ID, alpha=0.3, color='tab:gray')\n",
        "ax2.set_ylabel('ID', color='tab:gray')\n",
        "ax2.tick_params(axis='y', labelcolor='tab:gray')\n",
        "\n",
        "# Rotar manualmente las etiquetas del eje x\n",
        "x_labels = df_resume.Client_Income_cat_desc\n",
        "ax1.set_xticks(range(len(x_labels)))\n",
        "ax1.set_xticklabels(x_labels, rotation=15, ha=\"right\")\n",
        "\n",
        "# Mostrar el gráfico\n",
        "plt.title('WOE de Client_Income')\n",
        "plt.tight_layout()  # Para evitar que las etiquetas se superpongan\n",
        "plt.show()"
      ],
      "metadata": {
        "id": "0mekl6FaGXUm"
      },
      "execution_count": null,
      "outputs": []
    },
    {
      "cell_type": "markdown",
      "source": [
        "## 5. Tratamiento de variables categóricas"
      ],
      "metadata": {
        "id": "8w2MnRM9968T"
      }
    },
    {
      "cell_type": "code",
      "source": [
        "# Imputación de missings\n",
        "train[categorical_features] = train[categorical_features].fillna('MISSING')\n",
        "test[categorical_features] = test[categorical_features].fillna('MISSING')"
      ],
      "metadata": {
        "id": "rpfVuXqX_xwf"
      },
      "execution_count": 33,
      "outputs": []
    },
    {
      "cell_type": "code",
      "source": [
        "# convertir Series\n",
        "train[categorical_features] = train[categorical_features].astype('category')\n",
        "test[categorical_features] = test[categorical_features].astype('category')\n"
      ],
      "metadata": {
        "id": "4P9aX-3wAK6F"
      },
      "execution_count": 34,
      "outputs": []
    },
    {
      "cell_type": "code",
      "source": [
        "# Configurando Encoder\n",
        "encoder = WOEEncoder()\n",
        "encoder.fit(train[categorical_features], train.Default)"
      ],
      "metadata": {
        "id": "0fU6yTwQ_pkU"
      },
      "execution_count": null,
      "outputs": []
    },
    {
      "cell_type": "code",
      "source": [
        "# Tratamiento por WOE Encoding\n",
        "train[[x + '_woe' for x in categorical_features]] = encoder.transform(train[categorical_features])\n",
        "test[[x + '_woe' for x in categorical_features]] = encoder.transform(test[categorical_features])\n"
      ],
      "metadata": {
        "id": "Dgev8kFG_vCK"
      },
      "execution_count": 36,
      "outputs": []
    },
    {
      "cell_type": "code",
      "source": [
        "df_resume = train.\\\n",
        "            groupby('Client_Marital_Status').agg({'ID':'count',\n",
        "                                              'Client_Marital_Status_woe' : 'mean',\n",
        "                                              'Default' : 'sum'}).reset_index().sort_values(by = 'Client_Marital_Status_woe')\n",
        "\n",
        "df_resume"
      ],
      "metadata": {
        "id": "Z688H0ueBg6b"
      },
      "execution_count": null,
      "outputs": []
    },
    {
      "cell_type": "code",
      "source": [
        "# Crear el gráfico\n",
        "fig, ax1 = plt.subplots(figsize=(8, 4))\n",
        "\n",
        "# Configurar el primer eje (eje principal) para Client_Income_woe vs Client_Income\n",
        "ax1.set_xlabel('Estado civil')\n",
        "ax1.set_ylabel('Weight of evidence', color='tab:blue')\n",
        "ax1.plot(df_resume.Client_Marital_Status, df_resume.Client_Marital_Status_woe, marker='o', linestyle='-', color='tab:blue')\n",
        "ax1.tick_params(axis='y', labelcolor='tab:blue')\n",
        "\n",
        "# Configurar el segundo eje (eje secundario) para las barras de ID\n",
        "ax2 = ax1.twinx()\n",
        "ax2.bar(df_resume.Client_Marital_Status, df_resume.ID, alpha=0.3, color='tab:gray')\n",
        "ax2.set_ylabel('ID', color='tab:gray')\n",
        "ax2.tick_params(axis='y', labelcolor='tab:gray')\n",
        "\n",
        "# Mostrar el gráfico\n",
        "plt.title('WOE de estado civil')\n",
        "plt.show()"
      ],
      "metadata": {
        "id": "BdUvhLJhBYeb"
      },
      "execution_count": null,
      "outputs": []
    },
    {
      "cell_type": "markdown",
      "source": [
        "## 6. Preselección de variables"
      ],
      "metadata": {
        "id": "zQkKFZRlCZzt"
      }
    },
    {
      "cell_type": "markdown",
      "source": [
        "Ahora tenemos muchas variables listas para trabajar, sin embargo los modelos de scorecard tradicionales no pueden utilizar tantas variables. Por esta razón debemos de seleccionar las características más importantes mediante alguna métrica."
      ],
      "metadata": {
        "id": "f-B2_oHwClEQ"
      }
    },
    {
      "cell_type": "markdown",
      "source": [
        "<b>Information Value<b/>"
      ],
      "metadata": {
        "id": "SfMCayVEFezP"
      }
    },
    {
      "cell_type": "markdown",
      "source": [
        "El Information Value (IV) es una métrica utilizada en el análisis de riesgos. Su objetivo principal es medir la importancia predictiva de una variable en relación con una variable objetivo binaria."
      ],
      "metadata": {
        "id": "0alII9sxFug3"
      }
    },
    {
      "cell_type": "markdown",
      "source": [
        "\n",
        "<img src=\"https://www.k2analytics.co.in/wp-content/uploads/2014/08/table.png\" alt=\"HTML5 Icon\" width=\"400\" height=\"200\">\n"
      ],
      "metadata": {
        "id": "zrxKd53OGEqg"
      }
    },
    {
      "cell_type": "code",
      "source": [
        "import pandas as pd\n",
        "import numpy as np\n",
        "from math import log\n",
        "\n",
        "def calculate_information_value(df, feature, target):\n",
        "    \"\"\"\n",
        "    Calcula el Information Value (IV) para una variable categórica en relación con una variable objetivo binaria.\n",
        "\n",
        "    Args:\n",
        "        df (DataFrame): El DataFrame que contiene los datos.\n",
        "        feature (str): El nombre de la variable categórica.\n",
        "        target (str): El nombre de la variable objetivo binaria.\n",
        "\n",
        "    Returns:\n",
        "        float: El valor del IV calculado.\n",
        "    \"\"\"\n",
        "    # Verificar que la variable objetivo sea binaria\n",
        "    if len(df[target].unique()) != 2:\n",
        "        raise ValueError(\"La variable objetivo debe ser binaria (2 categorías).\")\n",
        "\n",
        "    # Crear una tabla de contingencia\n",
        "    contingency_table = pd.crosstab(df[feature], df[target])\n",
        "\n",
        "    # Agregar una pequeña constante a los denominadores para evitar divisiones por cero\n",
        "    epsilon = 1e-6\n",
        "    contingency_table['rd'] = contingency_table[1] / (contingency_table[1] + contingency_table[0] + epsilon)\n",
        "\n",
        "    contingency_table['event_rate'] = (contingency_table[1]) / (contingency_table[1].sum() + epsilon)\n",
        "    contingency_table['non_event_rate'] = (contingency_table[0]) / (contingency_table[0].sum() + epsilon)\n",
        "\n",
        "    # Calcular el WOE (Weight of Evidence)\n",
        "    contingency_table['woe'] = np.log(contingency_table['event_rate'] / (contingency_table['non_event_rate'] + epsilon) + epsilon)\n",
        "\n",
        "    # Calcular el Information Value (IV)\n",
        "    contingency_table['iv'] = (contingency_table['event_rate'] - contingency_table['non_event_rate']) * contingency_table['woe']\n",
        "    iv = contingency_table.iv.sum()\n",
        "\n",
        "    # Mostrar el resultado\n",
        "    return round(iv, 4)"
      ],
      "metadata": {
        "id": "PICjcuKFEdfn"
      },
      "execution_count": 39,
      "outputs": []
    },
    {
      "cell_type": "code",
      "source": [
        "calculate_information_value(train, 'Score_Source_3_cat', 'Default')"
      ],
      "metadata": {
        "id": "3fK32vGhE8lG"
      },
      "execution_count": null,
      "outputs": []
    },
    {
      "cell_type": "code",
      "source": [
        "describe = pd.DataFrame({'feature': [x + '_cat' for x in numeric_features] +\n",
        "                                    categorical_features,\n",
        "                         'iv' : [calculate_information_value(train, x + '_cat', 'Default') for x in numeric_features] +\n",
        "                                [calculate_information_value(train, x, 'Default') for x in categorical_features]})\n",
        "\n",
        "describe = describe.sort_values(by = 'iv', ascending = False)\n",
        "describe"
      ],
      "metadata": {
        "id": "Bq1SqgRiGXFb"
      },
      "execution_count": null,
      "outputs": []
    },
    {
      "cell_type": "code",
      "source": [
        "describe[describe.iv > 0.05]"
      ],
      "metadata": {
        "id": "Nvc8IA1o1y9L"
      },
      "execution_count": null,
      "outputs": []
    },
    {
      "cell_type": "markdown",
      "source": [
        "## 7. ScoreCard"
      ],
      "metadata": {
        "id": "yOZm1pwc2Nbe"
      }
    },
    {
      "cell_type": "code",
      "source": [
        "scorecard_features = ['Score_Source_3_cat', 'Age_Days_cat', 'Client_Education', 'Client_Income_cat']\n",
        "\n",
        "train[scorecard_features].drop_duplicates()"
      ],
      "metadata": {
        "id": "wfB7dElK8DFz"
      },
      "execution_count": null,
      "outputs": []
    },
    {
      "cell_type": "code",
      "source": [
        "factor = - 100\n",
        "\n",
        "score_points_1 = train[['Score_Source_3_cat_desc', 'Score_Source_3_cat', 'Score_Source_3_woe']].sort_values(by='Score_Source_3_cat').drop_duplicates()\n",
        "score_points_1['scorepoints_1'] = round(score_points_1.Score_Source_3_woe*factor, 0)\n",
        "score_points_1['scorepoints_adj_1'] = [- 120, - 55, - 5, +55, +90]\n",
        "\n",
        "score_points_1\n"
      ],
      "metadata": {
        "id": "nDS99wjU3VTX"
      },
      "execution_count": null,
      "outputs": []
    },
    {
      "cell_type": "code",
      "source": [
        "score_points_2 = train[['Age_Days_cat_desc', 'Age_Days_cat', 'Age_Days_woe']].sort_values(by='Age_Days_cat').drop_duplicates()\n",
        "score_points_2['scorepoints_2'] = round(score_points_2.Age_Days_woe*factor, 0)\n",
        "score_points_2['scorepoints_adj_2'] = [-40, -20, 5, 25, 55]\n",
        "score_points_2\n"
      ],
      "metadata": {
        "id": "J0cJnBSk68hv"
      },
      "execution_count": null,
      "outputs": []
    },
    {
      "cell_type": "code",
      "source": [
        "score_points_3 = train[['Client_Education', 'Client_Education_woe']].sort_values(by='Client_Education_woe').drop_duplicates()\n",
        "score_points_3['scorepoints_3'] = round(score_points_3.Client_Education_woe*factor, 0)\n",
        "score_points_3['scorepoints_adj_3'] = [165, 50, 10, 0, -15, -30]\n",
        "score_points_3\n"
      ],
      "metadata": {
        "id": "Z3yMuE3k79lt"
      },
      "execution_count": null,
      "outputs": []
    },
    {
      "cell_type": "code",
      "source": [
        "score_points_4 = train[['Client_Income_cat_desc', 'Client_Income_cat', 'Client_Income_woe']].sort_values(by='Client_Income_cat').drop_duplicates()\n",
        "score_points_4['scorepoints_4'] = round(score_points_4.Client_Income_woe*factor, 0)\n",
        "score_points_4['scorepoints_adj_4'] = [-10, -5, 0, 15, 30]\n",
        "score_points_4\n"
      ],
      "metadata": {
        "id": "MfxPdvri9gco"
      },
      "execution_count": null,
      "outputs": []
    },
    {
      "cell_type": "code",
      "source": [
        "\n",
        "train = pd.merge(train, score_points_1, on = ['Score_Source_3_cat_desc', 'Score_Source_3_cat', 'Score_Source_3_woe'], how = 'left')\n",
        "test =  pd.merge(test,  score_points_1, on = ['Score_Source_3_cat_desc', 'Score_Source_3_cat', 'Score_Source_3_woe'], how = 'left')\n",
        "\n",
        "train = pd.merge(train, score_points_2, on = ['Age_Days_cat_desc', 'Age_Days_cat', 'Age_Days_woe'], how = 'left')\n",
        "test  = pd.merge(test,  score_points_2, on = ['Age_Days_cat_desc', 'Age_Days_cat', 'Age_Days_woe'], how = 'left')\n",
        "\n",
        "train = pd.merge(train, score_points_3, on = ['Client_Education', 'Client_Education_woe'], how = 'left')\n",
        "test  = pd.merge(test,  score_points_3, on = ['Client_Education', 'Client_Education_woe'], how = 'left')\n",
        "\n",
        "train = pd.merge(train, score_points_4, on = ['Client_Income_cat_desc', 'Client_Income_cat', 'Client_Income_woe'], how = 'left')\n",
        "test  = pd.merge(test,  score_points_4, on = ['Client_Income_cat_desc', 'Client_Income_cat', 'Client_Income_woe'], how = 'left')\n",
        "\n"
      ],
      "metadata": {
        "id": "2H6_NsD0bto1"
      },
      "execution_count": 48,
      "outputs": []
    },
    {
      "cell_type": "code",
      "source": [
        "offset = 300\n",
        "\n",
        "train['scorecard'] = train.scorepoints_adj_1 + train.scorepoints_adj_2 + train.scorepoints_adj_3 + train.scorepoints_adj_4 + offset\n",
        "test['scorecard']  =  test.scorepoints_adj_1 +  test.scorepoints_adj_2 +  test.scorepoints_adj_3 +  test.scorepoints_adj_4 + offset\n"
      ],
      "metadata": {
        "id": "0yDey5p3coIf"
      },
      "execution_count": 49,
      "outputs": []
    },
    {
      "cell_type": "code",
      "source": [
        "print(train.scorecard.min(), train.scorecard.max())"
      ],
      "metadata": {
        "id": "egTQ7H_HigjO"
      },
      "execution_count": null,
      "outputs": []
    },
    {
      "cell_type": "code",
      "source": [
        "test.head()"
      ],
      "metadata": {
        "id": "s6O--9iZb_Uj"
      },
      "execution_count": null,
      "outputs": []
    },
    {
      "cell_type": "code",
      "source": [
        "# Crear el histograma\n",
        "plt.figure(figsize=(8, 4))  # Ajustar el tamaño del gráfico\n",
        "sns.histplot(test.scorecard, bins=20, kde=False, color='lightblue', stat=\"percent\")\n",
        "\n",
        "# Personalizar el gráfico\n",
        "plt.title('Distribución de scorecard')\n",
        "plt.xlabel('Scorecard')\n",
        "plt.ylabel('Porcentaje')\n",
        "plt.grid(axis='y', linestyle='', alpha=0.7)\n",
        "\n",
        "# Mostrar el gráfico\n",
        "plt.show()"
      ],
      "metadata": {
        "id": "ixpG6MnhdFP8"
      },
      "execution_count": null,
      "outputs": []
    },
    {
      "cell_type": "code",
      "source": [
        "# Crear el histograma\n",
        "plt.figure(figsize=(8, 4))  # Ajustar el tamaño del gráfico\n",
        "sns.histplot(data = test[test.Default == 0], x = 'scorecard', bins=20, kde=True, color='green', stat=\"percent\", alpha = 0.2)\n",
        "sns.histplot(data = test[test.Default == 1], x = 'scorecard', bins=20, kde=True, color='red', stat=\"percent\", alpha = 0.2)\n",
        "\n",
        "# Personalizar el gráfico\n",
        "plt.title('Distribución de scorecard')\n",
        "plt.xlabel('Scorecard')\n",
        "plt.ylabel('Porcentaje')\n",
        "plt.grid(axis='y', linestyle='', alpha=0.7)\n",
        "\n",
        "# Mostrar el gráfico\n",
        "plt.show()"
      ],
      "metadata": {
        "id": "Vgzs3M-6f0AS"
      },
      "execution_count": null,
      "outputs": []
    },
    {
      "cell_type": "markdown",
      "source": [
        "**Gini**"
      ],
      "metadata": {
        "id": "xckEBkyINpRU"
      }
    },
    {
      "cell_type": "code",
      "source": [
        "# Calcula la curva ROC y el área bajo la curva (AUC)\n",
        "fpr, tpr, thresholds = roc_curve(train.Default, -train.scorecard)\n",
        "roc_auc = auc(fpr, tpr)\n",
        "\n",
        "# Encuentra el gini\n",
        "gini = auc(fpr, tpr) * 2 - 1\n",
        "print('El gini es train es:', gini)"
      ],
      "metadata": {
        "id": "kJ69fPnAOc2L"
      },
      "execution_count": null,
      "outputs": []
    },
    {
      "cell_type": "code",
      "source": [
        "# Calcula la curva ROC y el área bajo la curva (AUC)\n",
        "fpr, tpr, thresholds = roc_curve(test.Default, -test.scorecard)\n",
        "roc_auc = auc(fpr, tpr)\n",
        "\n",
        "# Encuentra el gini\n",
        "gini = auc(fpr, tpr) * 2 - 1\n",
        "\n",
        "# Plotea la curva ROC\n",
        "import matplotlib.pyplot as plt\n",
        "\n",
        "plt.figure(figsize=(8, 6))\n",
        "plt.plot(fpr, tpr, color='darkorange', lw=2, label='ROC curve (area = %0.2f)' % roc_auc)\n",
        "plt.plot([0, 1], [0, 1], color='navy', lw=2, linestyle='--')\n",
        "plt.xlim([0.0, 1.0])\n",
        "plt.ylim([0.0, 1.05])\n",
        "plt.xlabel('False Positive Rate')\n",
        "plt.ylabel('True Positive Rate')\n",
        "plt.title('Curva ROC')\n",
        "plt.legend(loc='lower right')\n",
        "plt.show()\n",
        "\n",
        "# Imprime el valor del índice de KS\n",
        "print(f\"Índice de gini: {gini:.2f}\")"
      ],
      "metadata": {
        "id": "Of2j3qN_NolQ"
      },
      "execution_count": null,
      "outputs": []
    },
    {
      "cell_type": "markdown",
      "source": [
        "**Indice de KS**"
      ],
      "metadata": {
        "id": "y0KHOsI6IEiR"
      }
    },
    {
      "cell_type": "code",
      "source": [
        "# Calcula la curva ROC y el área bajo la curva (AUC)\n",
        "fpr, tpr, thresholds = roc_curve(train.Default, -train.scorecard)\n",
        "roc_auc = auc(fpr, tpr)\n",
        "# Encuentra el punto de corte óptimo para el KS\n",
        "ks = max(tpr - fpr)\n",
        "\n",
        "print(f\"Índice de ks en train: {ks:.2f}\")"
      ],
      "metadata": {
        "id": "yTOyxNVMOsrv"
      },
      "execution_count": null,
      "outputs": []
    },
    {
      "cell_type": "code",
      "source": [
        "# Calcula la curva ROC y el área bajo la curva (AUC)\n",
        "fpr, tpr, thresholds = roc_curve(test.Default, -test.scorecard)\n",
        "roc_auc = auc(fpr, tpr)\n",
        "\n",
        "# Encuentra el punto de corte óptimo para el KS\n",
        "ks = max(tpr - fpr)\n",
        "\n",
        "# Plotea la curva ROC\n",
        "import matplotlib.pyplot as plt\n",
        "\n",
        "plt.figure(figsize=(8, 6))\n",
        "plt.plot(fpr, tpr, color='darkorange', lw=2, label='ROC curve (area = %0.2f)' % roc_auc)\n",
        "plt.plot([0, 1], [0, 1], color='navy', lw=2, linestyle='--')\n",
        "plt.xlim([0.0, 1.0])\n",
        "plt.ylim([0.0, 1.05])\n",
        "plt.xlabel('False Positive Rate')\n",
        "plt.ylabel('True Positive Rate')\n",
        "plt.title('Curva ROC')\n",
        "plt.legend(loc='lower right')\n",
        "plt.show()\n",
        "\n",
        "# Imprime el valor del índice de KS\n",
        "print(f\"Índice de KS: {ks:.2f}\")"
      ],
      "metadata": {
        "id": "FIR293UIHk19"
      },
      "execution_count": null,
      "outputs": []
    },
    {
      "cell_type": "markdown",
      "source": [
        "**Indice de Jaccard**"
      ],
      "metadata": {
        "id": "-xcbDZ91IVrh"
      }
    },
    {
      "cell_type": "code",
      "source": [
        "# Convierte las probabilidades en valores binarios usando un umbral (por ejemplo, 0.5)\n",
        "threshold = 400\n",
        "y_pred = (train.scorecard < threshold).astype(int)\n",
        "\n",
        "# Calcula el índice de Jaccard\n",
        "jaccard_index = jaccard_score(train.Default, y_pred)\n",
        "\n",
        "# Imprime el valor del índice de Jaccard\n",
        "print(f\"Índice de Jaccard en train: {jaccard_index:.2f}\")"
      ],
      "metadata": {
        "id": "_7QXmxpeO9II"
      },
      "execution_count": null,
      "outputs": []
    },
    {
      "cell_type": "code",
      "source": [
        "from sklearn.metrics import jaccard_score\n",
        "\n",
        "\n",
        "# Convierte las probabilidades en valores binarios usando un umbral (por ejemplo, 0.5)\n",
        "threshold = 400\n",
        "y_pred = (test.scorecard < threshold).astype(int)\n",
        "\n",
        "# Calcula el índice de Jaccard\n",
        "jaccard_index = jaccard_score(test.Default, y_pred)\n",
        "\n",
        "# Imprime el valor del índice de Jaccard\n",
        "print(f\"Índice de Jaccard: {jaccard_index:.2f}\")"
      ],
      "metadata": {
        "id": "fZCkxig_IUW1"
      },
      "execution_count": null,
      "outputs": []
    },
    {
      "cell_type": "markdown",
      "source": [
        "---\n",
        "## Gracias por completar este laboratorio!"
      ],
      "metadata": {
        "id": "0vO5yTfJuBZJ"
      }
    }
  ]
}