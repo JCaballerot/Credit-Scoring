{
  "nbformat": 4,
  "nbformat_minor": 0,
  "metadata": {
    "colab": {
      "provenance": [],
      "authorship_tag": "ABX9TyPBnaORm+mmzyl9xZPEnHTP",
      "include_colab_link": true
    },
    "kernelspec": {
      "name": "python3",
      "display_name": "Python 3"
    },
    "language_info": {
      "name": "python"
    }
  },
  "cells": [
    {
      "cell_type": "markdown",
      "metadata": {
        "id": "view-in-github",
        "colab_type": "text"
      },
      "source": [
        "<a href=\"https://colab.research.google.com/github/JCaballerot/Credit-Scoring/blob/main/CreditScoring/Lab_ML_Automobile_Loan_Default.ipynb\" target=\"_parent\"><img src=\"https://colab.research.google.com/assets/colab-badge.svg\" alt=\"Open In Colab\"/></a>"
      ]
    },
    {
      "cell_type": "markdown",
      "source": [
        "\n",
        "<h1 align=center><font size = 5>Automobile Loan Default Dataset\n",
        "</font></h1>\n",
        "\n",
        "---"
      ],
      "metadata": {
        "id": "s6UHVkgOXcmw"
      }
    },
    {
      "cell_type": "markdown",
      "source": [
        "## Introducción\n",
        "\n",
        "En este laboratorio, aprenderá a usar python para construir un modelo de <b>credit scoring</b>.\n",
        "\n"
      ],
      "metadata": {
        "id": "zINWKfpHZJRl"
      }
    },
    {
      "cell_type": "markdown",
      "source": [
        "## Objetivo de este Notebook\n",
        "\n",
        "1. Como construir e interpretar un modelo de regresión logística.\n",
        "2. Descargar y limpiar un Dataset\n",
        "3. Realizar los pasos necesarios previos a la etapa de modelamiento\n",
        "4. Entrenar y Testear modelo"
      ],
      "metadata": {
        "id": "mLlfVwLIZV7b"
      }
    },
    {
      "cell_type": "markdown",
      "source": [
        "## Tabla de Contenidos\n",
        "\n",
        "<div class=\"alert alert-block alert-info\" style=\"margin-top: 20px\">\n",
        "\n",
        "<font size = 3>\n",
        "    \n",
        "1. <a href=\"#item31\">Contexto</a>  \n",
        "2. <a href=\"#item32\">Descargar y limpiar el Dataset</a>  \n",
        "3. <a href=\"#item33\">Pre-selección de variables</a>  \n",
        "4. <a href=\"#item34\">Tratamiento de variables categóricas</a>  \n",
        "5. <a href=\"#item34\">Tratamiento de variables numéricas</a>  \n",
        "6. <a href=\"#item34\">Entrenamiento del modelo</a>  \n",
        "\n",
        "</font>\n",
        "</div>"
      ],
      "metadata": {
        "id": "icLdd0FKXoSA"
      }
    },
    {
      "cell_type": "markdown",
      "source": [
        "## 1. Contexto"
      ],
      "metadata": {
        "id": "wXxiLTiBXyw8"
      }
    },
    {
      "cell_type": "markdown",
      "source": [
        "Una institución financiera no bancaria (NBFI) o una compañía financiera no bancaria (NBFC) es una institución financiera que no tiene una licencia bancaria completa o no está supervisada por una agencia reguladora bancaria nacional o internacional. NBFC facilita los servicios financieros relacionados con los bancos, como inversión, agrupación de riesgos, ahorros contractuales y corretaje de mercado.\n",
        "\n",
        "Una NBFI está luchando por marcar ganancias debido a un aumento en los incumplimientos en la categoría de préstamos para vehículos. La empresa tiene como objetivo determinar la capacidad de pago del préstamo del cliente y comprender la importancia relativa de cada parámetro que contribuye a la capacidad del prestatario para pagar el préstamo.\n"
      ],
      "metadata": {
        "id": "KHm-j2aHZoFB"
      }
    },
    {
      "cell_type": "markdown",
      "source": [
        "\n",
        "<b>Meta:</b>\n",
        "\n",
        "El objetivo del problema es predecir si un cliente no cumplirá con el pago del préstamo del vehículo o no. "
      ],
      "metadata": {
        "id": "fRuCC45BXxwX"
      }
    },
    {
      "cell_type": "markdown",
      "source": [
        "\n",
        "\n",
        "\n",
        "<img src=\"https://storage.googleapis.com/kaggle-datasets-images/1205706/2014650/7a50061003ce0de9839d54ff4673ccf2/dataset-cover.jpg?t=2021-07-04-09-18-01\" alt=\"HTML5 Icon\" style=\"width: 600px; height: 450px;\">\n",
        "<div style=\"text-align: center\">¿Cómo identificaremos a los clientes morosos? </div>"
      ],
      "metadata": {
        "id": "sYbqHyYAYeW1"
      }
    },
    {
      "cell_type": "markdown",
      "source": [
        "\n",
        "<b>Descripción de datos</b>\n",
        "\n",
        "El data frame de Automovile Loan tiene 121,856 filas y 40 columnas.\n",
        "\n",
        "\n",
        "---\n",
        "\n",
        "Se le proporciona un conjunto de datos anónimos que contiene una gran cantidad de variables. La columna <b>\"Default\"</b> es la variable a predecir. Es igual a uno para clientes que cayeron en mora y 0 para clientes que no.\n",
        "\n",
        "La tarea consiste en predecir la probabilidad de que cada cliente del conjunto de prueba sea un cliente moroso.\n",
        "\n",
        "\n",
        "---\n",
        "\n",
        "\n",
        "<strong>Puede consultar este [link](https://www.kaggle.com/datasets/saurabhbagchi/dish-network-hackathon) para leer más sobre la fuente de datos Automobile Loan Default.</strong>\n"
      ],
      "metadata": {
        "id": "fsKmSeWpZtFC"
      }
    },
    {
      "cell_type": "markdown",
      "source": [
        "## 2. Descargar y limpiar Dataset"
      ],
      "metadata": {
        "id": "d5-Lsjy8aZv4"
      }
    },
    {
      "cell_type": "code",
      "source": [
        "# Principales librerías\n",
        "\n",
        "# Scikit-Learn \n",
        "import sklearn\n",
        "\n",
        "# Imports comunes\n",
        "import pandas as pd\n",
        "import numpy as np\n",
        "import os\n",
        "\n",
        "# Cargar seaborn \n",
        "import seaborn as sns\n",
        "sns.set(style=\"whitegrid\", color_codes = True)\n",
        "sns.set_palette('pastel')\n",
        "sns.set(rc={'figure.figsize':(10,6)})\n",
        "\n",
        "# Configuración de gráficos matplotlib\n",
        "%matplotlib inline\n",
        "import matplotlib as mpl\n",
        "import matplotlib.pyplot as plt\n",
        "\n",
        "mpl.rc('axes', labelsize=14)\n",
        "mpl.rc('xtick', labelsize=12)\n",
        "mpl.rc('ytick', labelsize=12)\n",
        "\n",
        "# Ignore las advertencias poco útiles\n",
        "import warnings\n",
        "warnings.filterwarnings(action=\"ignore\", message=\"^internal gelsd\")"
      ],
      "metadata": {
        "id": "JilRYoLvcSYk"
      },
      "execution_count": 1,
      "outputs": []
    },
    {
      "cell_type": "code",
      "source": [
        "# Cargar Data\n",
        "\n",
        "import pandas as pd\n",
        "pddf = pd.read_csv(\"Train_Dataset.csv\")\n",
        "pddf.head()\n"
      ],
      "metadata": {
        "id": "eL4GrOMHXj87",
        "outputId": "18d46a26-2520-400a-d8ef-02f7dc69015b",
        "colab": {
          "base_uri": "https://localhost:8080/",
          "height": 334
        }
      },
      "execution_count": 2,
      "outputs": [
        {
          "output_type": "stream",
          "name": "stderr",
          "text": [
            "/usr/local/lib/python3.7/dist-packages/IPython/core/interactiveshell.py:3326: DtypeWarning: Columns (1,7,8,16,17,18,19,20,35) have mixed types.Specify dtype option on import or set low_memory=False.\n",
            "  exec(code_obj, self.user_global_ns, self.user_ns)\n"
          ]
        },
        {
          "output_type": "execute_result",
          "data": {
            "text/plain": [
              "         ID Client_Income  Car_Owned  Bike_Owned  Active_Loan  House_Own  \\\n",
              "0  12142509          6750        0.0         0.0          1.0        0.0   \n",
              "1  12138936         20250        1.0         0.0          1.0        NaN   \n",
              "2  12181264         18000        0.0         0.0          1.0        0.0   \n",
              "3  12188929         15750        0.0         0.0          1.0        1.0   \n",
              "4  12133385         33750        1.0         0.0          1.0        0.0   \n",
              "\n",
              "   Child_Count Credit_Amount Loan_Annuity Accompany_Client  ...  \\\n",
              "0          0.0      61190.55      3416.85            Alone  ...   \n",
              "1          0.0         15282      1826.55            Alone  ...   \n",
              "2          1.0      59527.35       2788.2            Alone  ...   \n",
              "3          0.0       53870.4      2295.45            Alone  ...   \n",
              "4          2.0      133988.4      3547.35            Alone  ...   \n",
              "\n",
              "  Client_Permanent_Match_Tag Client_Contact_Work_Tag       Type_Organization  \\\n",
              "0                        Yes                     Yes           Self-employed   \n",
              "1                        Yes                     Yes              Government   \n",
              "2                        Yes                     Yes           Self-employed   \n",
              "3                        Yes                     Yes                     XNA   \n",
              "4                        Yes                     Yes  Business Entity Type 3   \n",
              "\n",
              "  Score_Source_1 Score_Source_2 Score_Source_3 Social_Circle_Default  \\\n",
              "0       0.568066       0.478787            NaN                0.0186   \n",
              "1       0.563360       0.215068            NaN                   NaN   \n",
              "2            NaN       0.552795       0.329655                0.0742   \n",
              "3            NaN       0.135182       0.631355                   NaN   \n",
              "4       0.508199       0.301182       0.355639                0.2021   \n",
              "\n",
              "  Phone_Change Credit_Bureau Default  \n",
              "0         63.0           NaN       0  \n",
              "1          NaN           NaN       0  \n",
              "2        277.0           0.0       0  \n",
              "3       1700.0           3.0       0  \n",
              "4        674.0           1.0       0  \n",
              "\n",
              "[5 rows x 40 columns]"
            ],
            "text/html": [
              "\n",
              "  <div id=\"df-beeae14d-9522-4c94-bcde-a9063c5bda7a\">\n",
              "    <div class=\"colab-df-container\">\n",
              "      <div>\n",
              "<style scoped>\n",
              "    .dataframe tbody tr th:only-of-type {\n",
              "        vertical-align: middle;\n",
              "    }\n",
              "\n",
              "    .dataframe tbody tr th {\n",
              "        vertical-align: top;\n",
              "    }\n",
              "\n",
              "    .dataframe thead th {\n",
              "        text-align: right;\n",
              "    }\n",
              "</style>\n",
              "<table border=\"1\" class=\"dataframe\">\n",
              "  <thead>\n",
              "    <tr style=\"text-align: right;\">\n",
              "      <th></th>\n",
              "      <th>ID</th>\n",
              "      <th>Client_Income</th>\n",
              "      <th>Car_Owned</th>\n",
              "      <th>Bike_Owned</th>\n",
              "      <th>Active_Loan</th>\n",
              "      <th>House_Own</th>\n",
              "      <th>Child_Count</th>\n",
              "      <th>Credit_Amount</th>\n",
              "      <th>Loan_Annuity</th>\n",
              "      <th>Accompany_Client</th>\n",
              "      <th>...</th>\n",
              "      <th>Client_Permanent_Match_Tag</th>\n",
              "      <th>Client_Contact_Work_Tag</th>\n",
              "      <th>Type_Organization</th>\n",
              "      <th>Score_Source_1</th>\n",
              "      <th>Score_Source_2</th>\n",
              "      <th>Score_Source_3</th>\n",
              "      <th>Social_Circle_Default</th>\n",
              "      <th>Phone_Change</th>\n",
              "      <th>Credit_Bureau</th>\n",
              "      <th>Default</th>\n",
              "    </tr>\n",
              "  </thead>\n",
              "  <tbody>\n",
              "    <tr>\n",
              "      <th>0</th>\n",
              "      <td>12142509</td>\n",
              "      <td>6750</td>\n",
              "      <td>0.0</td>\n",
              "      <td>0.0</td>\n",
              "      <td>1.0</td>\n",
              "      <td>0.0</td>\n",
              "      <td>0.0</td>\n",
              "      <td>61190.55</td>\n",
              "      <td>3416.85</td>\n",
              "      <td>Alone</td>\n",
              "      <td>...</td>\n",
              "      <td>Yes</td>\n",
              "      <td>Yes</td>\n",
              "      <td>Self-employed</td>\n",
              "      <td>0.568066</td>\n",
              "      <td>0.478787</td>\n",
              "      <td>NaN</td>\n",
              "      <td>0.0186</td>\n",
              "      <td>63.0</td>\n",
              "      <td>NaN</td>\n",
              "      <td>0</td>\n",
              "    </tr>\n",
              "    <tr>\n",
              "      <th>1</th>\n",
              "      <td>12138936</td>\n",
              "      <td>20250</td>\n",
              "      <td>1.0</td>\n",
              "      <td>0.0</td>\n",
              "      <td>1.0</td>\n",
              "      <td>NaN</td>\n",
              "      <td>0.0</td>\n",
              "      <td>15282</td>\n",
              "      <td>1826.55</td>\n",
              "      <td>Alone</td>\n",
              "      <td>...</td>\n",
              "      <td>Yes</td>\n",
              "      <td>Yes</td>\n",
              "      <td>Government</td>\n",
              "      <td>0.563360</td>\n",
              "      <td>0.215068</td>\n",
              "      <td>NaN</td>\n",
              "      <td>NaN</td>\n",
              "      <td>NaN</td>\n",
              "      <td>NaN</td>\n",
              "      <td>0</td>\n",
              "    </tr>\n",
              "    <tr>\n",
              "      <th>2</th>\n",
              "      <td>12181264</td>\n",
              "      <td>18000</td>\n",
              "      <td>0.0</td>\n",
              "      <td>0.0</td>\n",
              "      <td>1.0</td>\n",
              "      <td>0.0</td>\n",
              "      <td>1.0</td>\n",
              "      <td>59527.35</td>\n",
              "      <td>2788.2</td>\n",
              "      <td>Alone</td>\n",
              "      <td>...</td>\n",
              "      <td>Yes</td>\n",
              "      <td>Yes</td>\n",
              "      <td>Self-employed</td>\n",
              "      <td>NaN</td>\n",
              "      <td>0.552795</td>\n",
              "      <td>0.329655</td>\n",
              "      <td>0.0742</td>\n",
              "      <td>277.0</td>\n",
              "      <td>0.0</td>\n",
              "      <td>0</td>\n",
              "    </tr>\n",
              "    <tr>\n",
              "      <th>3</th>\n",
              "      <td>12188929</td>\n",
              "      <td>15750</td>\n",
              "      <td>0.0</td>\n",
              "      <td>0.0</td>\n",
              "      <td>1.0</td>\n",
              "      <td>1.0</td>\n",
              "      <td>0.0</td>\n",
              "      <td>53870.4</td>\n",
              "      <td>2295.45</td>\n",
              "      <td>Alone</td>\n",
              "      <td>...</td>\n",
              "      <td>Yes</td>\n",
              "      <td>Yes</td>\n",
              "      <td>XNA</td>\n",
              "      <td>NaN</td>\n",
              "      <td>0.135182</td>\n",
              "      <td>0.631355</td>\n",
              "      <td>NaN</td>\n",
              "      <td>1700.0</td>\n",
              "      <td>3.0</td>\n",
              "      <td>0</td>\n",
              "    </tr>\n",
              "    <tr>\n",
              "      <th>4</th>\n",
              "      <td>12133385</td>\n",
              "      <td>33750</td>\n",
              "      <td>1.0</td>\n",
              "      <td>0.0</td>\n",
              "      <td>1.0</td>\n",
              "      <td>0.0</td>\n",
              "      <td>2.0</td>\n",
              "      <td>133988.4</td>\n",
              "      <td>3547.35</td>\n",
              "      <td>Alone</td>\n",
              "      <td>...</td>\n",
              "      <td>Yes</td>\n",
              "      <td>Yes</td>\n",
              "      <td>Business Entity Type 3</td>\n",
              "      <td>0.508199</td>\n",
              "      <td>0.301182</td>\n",
              "      <td>0.355639</td>\n",
              "      <td>0.2021</td>\n",
              "      <td>674.0</td>\n",
              "      <td>1.0</td>\n",
              "      <td>0</td>\n",
              "    </tr>\n",
              "  </tbody>\n",
              "</table>\n",
              "<p>5 rows × 40 columns</p>\n",
              "</div>\n",
              "      <button class=\"colab-df-convert\" onclick=\"convertToInteractive('df-beeae14d-9522-4c94-bcde-a9063c5bda7a')\"\n",
              "              title=\"Convert this dataframe to an interactive table.\"\n",
              "              style=\"display:none;\">\n",
              "        \n",
              "  <svg xmlns=\"http://www.w3.org/2000/svg\" height=\"24px\"viewBox=\"0 0 24 24\"\n",
              "       width=\"24px\">\n",
              "    <path d=\"M0 0h24v24H0V0z\" fill=\"none\"/>\n",
              "    <path d=\"M18.56 5.44l.94 2.06.94-2.06 2.06-.94-2.06-.94-.94-2.06-.94 2.06-2.06.94zm-11 1L8.5 8.5l.94-2.06 2.06-.94-2.06-.94L8.5 2.5l-.94 2.06-2.06.94zm10 10l.94 2.06.94-2.06 2.06-.94-2.06-.94-.94-2.06-.94 2.06-2.06.94z\"/><path d=\"M17.41 7.96l-1.37-1.37c-.4-.4-.92-.59-1.43-.59-.52 0-1.04.2-1.43.59L10.3 9.45l-7.72 7.72c-.78.78-.78 2.05 0 2.83L4 21.41c.39.39.9.59 1.41.59.51 0 1.02-.2 1.41-.59l7.78-7.78 2.81-2.81c.8-.78.8-2.07 0-2.86zM5.41 20L4 18.59l7.72-7.72 1.47 1.35L5.41 20z\"/>\n",
              "  </svg>\n",
              "      </button>\n",
              "      \n",
              "  <style>\n",
              "    .colab-df-container {\n",
              "      display:flex;\n",
              "      flex-wrap:wrap;\n",
              "      gap: 12px;\n",
              "    }\n",
              "\n",
              "    .colab-df-convert {\n",
              "      background-color: #E8F0FE;\n",
              "      border: none;\n",
              "      border-radius: 50%;\n",
              "      cursor: pointer;\n",
              "      display: none;\n",
              "      fill: #1967D2;\n",
              "      height: 32px;\n",
              "      padding: 0 0 0 0;\n",
              "      width: 32px;\n",
              "    }\n",
              "\n",
              "    .colab-df-convert:hover {\n",
              "      background-color: #E2EBFA;\n",
              "      box-shadow: 0px 1px 2px rgba(60, 64, 67, 0.3), 0px 1px 3px 1px rgba(60, 64, 67, 0.15);\n",
              "      fill: #174EA6;\n",
              "    }\n",
              "\n",
              "    [theme=dark] .colab-df-convert {\n",
              "      background-color: #3B4455;\n",
              "      fill: #D2E3FC;\n",
              "    }\n",
              "\n",
              "    [theme=dark] .colab-df-convert:hover {\n",
              "      background-color: #434B5C;\n",
              "      box-shadow: 0px 1px 3px 1px rgba(0, 0, 0, 0.15);\n",
              "      filter: drop-shadow(0px 1px 2px rgba(0, 0, 0, 0.3));\n",
              "      fill: #FFFFFF;\n",
              "    }\n",
              "  </style>\n",
              "\n",
              "      <script>\n",
              "        const buttonEl =\n",
              "          document.querySelector('#df-beeae14d-9522-4c94-bcde-a9063c5bda7a button.colab-df-convert');\n",
              "        buttonEl.style.display =\n",
              "          google.colab.kernel.accessAllowed ? 'block' : 'none';\n",
              "\n",
              "        async function convertToInteractive(key) {\n",
              "          const element = document.querySelector('#df-beeae14d-9522-4c94-bcde-a9063c5bda7a');\n",
              "          const dataTable =\n",
              "            await google.colab.kernel.invokeFunction('convertToInteractive',\n",
              "                                                     [key], {});\n",
              "          if (!dataTable) return;\n",
              "\n",
              "          const docLinkHtml = 'Like what you see? Visit the ' +\n",
              "            '<a target=\"_blank\" href=https://colab.research.google.com/notebooks/data_table.ipynb>data table notebook</a>'\n",
              "            + ' to learn more about interactive tables.';\n",
              "          element.innerHTML = '';\n",
              "          dataTable['output_type'] = 'display_data';\n",
              "          await google.colab.output.renderOutput(dataTable, element);\n",
              "          const docLink = document.createElement('div');\n",
              "          docLink.innerHTML = docLinkHtml;\n",
              "          element.appendChild(docLink);\n",
              "        }\n",
              "      </script>\n",
              "    </div>\n",
              "  </div>\n",
              "  "
            ]
          },
          "metadata": {},
          "execution_count": 2
        }
      ]
    },
    {
      "cell_type": "code",
      "execution_count": 3,
      "metadata": {
        "id": "-FqBSIbhmGgu",
        "outputId": "332ab053-8688-4bf2-fd4d-932687189b79",
        "colab": {
          "base_uri": "https://localhost:8080/",
          "height": 306
        }
      },
      "outputs": [
        {
          "output_type": "execute_result",
          "data": {
            "text/plain": [
              "<matplotlib.axes._subplots.AxesSubplot at 0x7fc1953d5b10>"
            ]
          },
          "metadata": {},
          "execution_count": 3
        },
        {
          "output_type": "display_data",
          "data": {
            "text/plain": [
              "<Figure size 432x288 with 1 Axes>"
            ],
            "image/png": "[encoded data removed]"
          },
          "metadata": {
            "needs_background": "light"
          }
        }
      ],
      "source": [
        "# Analizando el target \n",
        "sns.countplot(x='Default', data = pddf, palette = 'hls')"
      ]
    },
    {
      "cell_type": "code",
      "source": [
        "# Indentificar las variables \n",
        "\n",
        "features = list(set(pddf.columns.tolist()) - set(['ID', 'ID_Days','Default']))\n",
        "features"
      ],
      "metadata": {
        "id": "EUrUFH48c1Mw",
        "outputId": "44e8d8a7-066e-4608-be23-3a0a67586543",
        "colab": {
          "base_uri": "https://localhost:8080/"
        }
      },
      "execution_count": 4,
      "outputs": [
        {
          "output_type": "execute_result",
          "data": {
            "text/plain": [
              "['Client_Income_Type',\n",
              " 'Homephone_Tag',\n",
              " 'Social_Circle_Default',\n",
              " 'Application_Process_Day',\n",
              " 'Client_Occupation',\n",
              " 'Own_House_Age',\n",
              " 'Mobile_Tag',\n",
              " 'Loan_Annuity',\n",
              " 'Active_Loan',\n",
              " 'Car_Owned',\n",
              " 'Workphone_Working',\n",
              " 'Application_Process_Hour',\n",
              " 'Child_Count',\n",
              " 'Client_Contact_Work_Tag',\n",
              " 'Loan_Contract_Type',\n",
              " 'Client_Marital_Status',\n",
              " 'Client_Family_Members',\n",
              " 'Client_Housing_Type',\n",
              " 'Score_Source_2',\n",
              " 'Accompany_Client',\n",
              " 'Type_Organization',\n",
              " 'Cleint_City_Rating',\n",
              " 'Age_Days',\n",
              " 'Credit_Amount',\n",
              " 'Employed_Days',\n",
              " 'Population_Region_Relative',\n",
              " 'Score_Source_1',\n",
              " 'Score_Source_3',\n",
              " 'Bike_Owned',\n",
              " 'Registration_Days',\n",
              " 'Credit_Bureau',\n",
              " 'Client_Income',\n",
              " 'Phone_Change',\n",
              " 'Client_Gender',\n",
              " 'Client_Education',\n",
              " 'House_Own',\n",
              " 'Client_Permanent_Match_Tag']"
            ]
          },
          "metadata": {},
          "execution_count": 4
        }
      ]
    },
    {
      "cell_type": "code",
      "source": [
        "features_string = list(pddf.select_dtypes(include=['object']).columns)\n",
        "features_string"
      ],
      "metadata": {
        "id": "xTdwWdrnnoo8",
        "outputId": "314aa380-261a-414c-f424-86ec90636b19",
        "colab": {
          "base_uri": "https://localhost:8080/"
        }
      },
      "execution_count": 5,
      "outputs": [
        {
          "output_type": "execute_result",
          "data": {
            "text/plain": [
              "['Client_Income',\n",
              " 'Credit_Amount',\n",
              " 'Loan_Annuity',\n",
              " 'Accompany_Client',\n",
              " 'Client_Income_Type',\n",
              " 'Client_Education',\n",
              " 'Client_Marital_Status',\n",
              " 'Client_Gender',\n",
              " 'Loan_Contract_Type',\n",
              " 'Client_Housing_Type',\n",
              " 'Population_Region_Relative',\n",
              " 'Age_Days',\n",
              " 'Employed_Days',\n",
              " 'Registration_Days',\n",
              " 'ID_Days',\n",
              " 'Client_Occupation',\n",
              " 'Client_Permanent_Match_Tag',\n",
              " 'Client_Contact_Work_Tag',\n",
              " 'Type_Organization',\n",
              " 'Score_Source_3']"
            ]
          },
          "metadata": {},
          "execution_count": 5
        }
      ]
    },
    {
      "cell_type": "code",
      "source": [
        "pddf.convert_dtypes(infer_objects=True).dtypes "
      ],
      "metadata": {
        "id": "AA2LeemQp6kU",
        "outputId": "bdd9cfa0-81e2-4ef5-fdf0-b49a6aeed5cf",
        "colab": {
          "base_uri": "https://localhost:8080/"
        }
      },
      "execution_count": 6,
      "outputs": [
        {
          "output_type": "execute_result",
          "data": {
            "text/plain": [
              "ID                              Int64\n",
              "Client_Income                  object\n",
              "Car_Owned                       Int64\n",
              "Bike_Owned                      Int64\n",
              "Active_Loan                     Int64\n",
              "House_Own                       Int64\n",
              "Child_Count                     Int64\n",
              "Credit_Amount                  object\n",
              "Loan_Annuity                   object\n",
              "Accompany_Client               string\n",
              "Client_Income_Type             string\n",
              "Client_Education               string\n",
              "Client_Marital_Status          string\n",
              "Client_Gender                  string\n",
              "Loan_Contract_Type             string\n",
              "Client_Housing_Type            string\n",
              "Population_Region_Relative     object\n",
              "Age_Days                       object\n",
              "Employed_Days                  object\n",
              "Registration_Days              object\n",
              "ID_Days                        object\n",
              "Own_House_Age                   Int64\n",
              "Mobile_Tag                      Int64\n",
              "Homephone_Tag                   Int64\n",
              "Workphone_Working               Int64\n",
              "Client_Occupation              string\n",
              "Client_Family_Members           Int64\n",
              "Cleint_City_Rating              Int64\n",
              "Application_Process_Day         Int64\n",
              "Application_Process_Hour        Int64\n",
              "Client_Permanent_Match_Tag     string\n",
              "Client_Contact_Work_Tag        string\n",
              "Type_Organization              string\n",
              "Score_Source_1                Float64\n",
              "Score_Source_2                Float64\n",
              "Score_Source_3                 object\n",
              "Social_Circle_Default         Float64\n",
              "Phone_Change                    Int64\n",
              "Credit_Bureau                   Int64\n",
              "Default                         Int64\n",
              "dtype: object"
            ]
          },
          "metadata": {},
          "execution_count": 6
        }
      ]
    },
    {
      "cell_type": "code",
      "source": [
        "categorical_features = ['Accompany_Client', 'Client_Income_Type', \n",
        "                        'Client_Education', 'Client_Marital_Status', \n",
        "                        'Client_Gender', 'Loan_Contract_Type', 'Client_Housing_Type',\n",
        "                        'Client_Occupation', 'Client_Permanent_Match_Tag', \n",
        "                        'Client_Contact_Work_Tag', 'Type_Organization']"
      ],
      "metadata": {
        "id": "ykF1pSWVobe0"
      },
      "execution_count": 7,
      "outputs": []
    },
    {
      "cell_type": "code",
      "source": [
        "numeric_features = list(set(features) - set(categorical_features))\n",
        "numeric_features"
      ],
      "metadata": {
        "id": "fDjKdXmNpTGN",
        "outputId": "942c3463-b8d1-4a4e-aa45-a9a2d7c3d6a6",
        "colab": {
          "base_uri": "https://localhost:8080/"
        }
      },
      "execution_count": 8,
      "outputs": [
        {
          "output_type": "execute_result",
          "data": {
            "text/plain": [
              "['Homephone_Tag',\n",
              " 'Social_Circle_Default',\n",
              " 'Application_Process_Day',\n",
              " 'Own_House_Age',\n",
              " 'Mobile_Tag',\n",
              " 'Loan_Annuity',\n",
              " 'Active_Loan',\n",
              " 'Car_Owned',\n",
              " 'Workphone_Working',\n",
              " 'Application_Process_Hour',\n",
              " 'Child_Count',\n",
              " 'Client_Family_Members',\n",
              " 'Score_Source_2',\n",
              " 'Cleint_City_Rating',\n",
              " 'Age_Days',\n",
              " 'Credit_Amount',\n",
              " 'Employed_Days',\n",
              " 'Population_Region_Relative',\n",
              " 'Score_Source_1',\n",
              " 'Score_Source_3',\n",
              " 'Bike_Owned',\n",
              " 'Registration_Days',\n",
              " 'Credit_Bureau',\n",
              " 'Client_Income',\n",
              " 'Phone_Change',\n",
              " 'House_Own']"
            ]
          },
          "metadata": {},
          "execution_count": 8
        }
      ]
    },
    {
      "cell_type": "code",
      "source": [
        "pddf.replace({'@': None,\n",
        "              '#': None,\n",
        "              '&': None,\n",
        "              'x': None,\n",
        "              '$': None,\n",
        "              'XNA' : None,\n",
        "              '#VALUE!': None}, inplace = True)"
      ],
      "metadata": {
        "id": "Wr8y3jFMiTYW"
      },
      "execution_count": 9,
      "outputs": []
    },
    {
      "cell_type": "code",
      "source": [
        "# convert Series\n",
        "\n",
        "for col in numeric_features:\n",
        "  pddf[col] = pd.to_numeric(pddf[col])\n"
      ],
      "metadata": {
        "id": "_m5dNZnWprHp"
      },
      "execution_count": 10,
      "outputs": []
    },
    {
      "cell_type": "code",
      "source": [
        "pddf.dtypes"
      ],
      "metadata": {
        "id": "06jO_nvgixYG",
        "outputId": "04b4010e-530f-41b4-ed38-085a2cb7aabd",
        "colab": {
          "base_uri": "https://localhost:8080/"
        }
      },
      "execution_count": 11,
      "outputs": [
        {
          "output_type": "execute_result",
          "data": {
            "text/plain": [
              "ID                              int64\n",
              "Client_Income                 float64\n",
              "Car_Owned                     float64\n",
              "Bike_Owned                    float64\n",
              "Active_Loan                   float64\n",
              "House_Own                     float64\n",
              "Child_Count                   float64\n",
              "Credit_Amount                 float64\n",
              "Loan_Annuity                  float64\n",
              "Accompany_Client               object\n",
              "Client_Income_Type             object\n",
              "Client_Education               object\n",
              "Client_Marital_Status          object\n",
              "Client_Gender                  object\n",
              "Loan_Contract_Type             object\n",
              "Client_Housing_Type            object\n",
              "Population_Region_Relative    float64\n",
              "Age_Days                      float64\n",
              "Employed_Days                 float64\n",
              "Registration_Days             float64\n",
              "ID_Days                        object\n",
              "Own_House_Age                 float64\n",
              "Mobile_Tag                      int64\n",
              "Homephone_Tag                   int64\n",
              "Workphone_Working               int64\n",
              "Client_Occupation              object\n",
              "Client_Family_Members         float64\n",
              "Cleint_City_Rating            float64\n",
              "Application_Process_Day       float64\n",
              "Application_Process_Hour      float64\n",
              "Client_Permanent_Match_Tag     object\n",
              "Client_Contact_Work_Tag        object\n",
              "Type_Organization              object\n",
              "Score_Source_1                float64\n",
              "Score_Source_2                float64\n",
              "Score_Source_3                float64\n",
              "Social_Circle_Default         float64\n",
              "Phone_Change                  float64\n",
              "Credit_Bureau                 float64\n",
              "Default                         int64\n",
              "dtype: object"
            ]
          },
          "metadata": {},
          "execution_count": 11
        }
      ]
    },
    {
      "cell_type": "code",
      "source": [
        "# Determinando matrices de datos\n",
        "\n",
        "X = pddf[features + ['ID', 'Default']]\n",
        "y = pddf.Default\n"
      ],
      "metadata": {
        "id": "Uknriuy8fCwD"
      },
      "execution_count": 13,
      "outputs": []
    },
    {
      "cell_type": "code",
      "source": [
        "# Muestreo de data\n",
        "\n",
        "from sklearn.model_selection import train_test_split\n",
        "\n",
        "X_train, X_test, y_train, y_test = train_test_split(X, y, \n",
        "                                                    stratify = y,\n",
        "                                                    train_size = 0.6,\n",
        "                                                    random_state = 123)\n",
        "\n",
        "\n",
        "X_watch, X_test, y_watch, y_test = train_test_split(X_test, y_test, \n",
        "                                                    stratify = y_test,\n",
        "                                                    train_size = 0.5,\n",
        "                                                    random_state = 123)\n"
      ],
      "metadata": {
        "id": "r4htXb8fi58W"
      },
      "execution_count": 24,
      "outputs": []
    },
    {
      "cell_type": "markdown",
      "source": [
        "## 3. Tratamiento de variables categóricas"
      ],
      "metadata": {
        "id": "sjxPwJX98Naj"
      }
    },
    {
      "cell_type": "markdown",
      "metadata": {
        "id": "szuWpiMqmwvL"
      },
      "source": [
        "<h3>Target Encoding</h3> "
      ]
    },
    {
      "cell_type": "code",
      "metadata": {
        "id": "0pcSepG4TZa-",
        "outputId": "39504a55-69a0-451e-fb35-f21d7fadc336",
        "colab": {
          "base_uri": "https://localhost:8080/"
        }
      },
      "source": [
        "!pip install category_encoders"
      ],
      "execution_count": 14,
      "outputs": [
        {
          "output_type": "stream",
          "name": "stdout",
          "text": [
            "Looking in indexes: https://pypi.org/simple, https://us-python.pkg.dev/colab-wheels/public/simple/\n",
            "Collecting category_encoders\n",
            "  Downloading category_encoders-2.5.1.post0-py2.py3-none-any.whl (72 kB)\n",
            "\u001b[K     |████████████████████████████████| 72 kB 813 kB/s \n",
            "\u001b[?25hRequirement already satisfied: scipy>=1.0.0 in /usr/local/lib/python3.7/dist-packages (from category_encoders) (1.7.3)\n",
            "Requirement already satisfied: scikit-learn>=0.20.0 in /usr/local/lib/python3.7/dist-packages (from category_encoders) (1.0.2)\n",
            "Requirement already satisfied: statsmodels>=0.9.0 in /usr/local/lib/python3.7/dist-packages (from category_encoders) (0.12.2)\n",
            "Requirement already satisfied: pandas>=1.0.5 in /usr/local/lib/python3.7/dist-packages (from category_encoders) (1.3.5)\n",
            "Requirement already satisfied: numpy>=1.14.0 in /usr/local/lib/python3.7/dist-packages (from category_encoders) (1.21.6)\n",
            "Requirement already satisfied: patsy>=0.5.1 in /usr/local/lib/python3.7/dist-packages (from category_encoders) (0.5.2)\n",
            "Requirement already satisfied: python-dateutil>=2.7.3 in /usr/local/lib/python3.7/dist-packages (from pandas>=1.0.5->category_encoders) (2.8.2)\n",
            "Requirement already satisfied: pytz>=2017.3 in /usr/local/lib/python3.7/dist-packages (from pandas>=1.0.5->category_encoders) (2022.4)\n",
            "Requirement already satisfied: six in /usr/local/lib/python3.7/dist-packages (from patsy>=0.5.1->category_encoders) (1.15.0)\n",
            "Requirement already satisfied: threadpoolctl>=2.0.0 in /usr/local/lib/python3.7/dist-packages (from scikit-learn>=0.20.0->category_encoders) (3.1.0)\n",
            "Requirement already satisfied: joblib>=0.11 in /usr/local/lib/python3.7/dist-packages (from scikit-learn>=0.20.0->category_encoders) (1.2.0)\n",
            "Installing collected packages: category-encoders\n",
            "Successfully installed category-encoders-2.5.1.post0\n"
          ]
        }
      ]
    },
    {
      "cell_type": "code",
      "metadata": {
        "id": "33Y7NZyJHobo",
        "outputId": "e245bc96-5205-4f20-b785-b9fb1684a9a3",
        "colab": {
          "base_uri": "https://localhost:8080/"
        }
      },
      "source": [
        "# Target Encoding\n",
        "\n",
        "from category_encoders import TargetEncoder\n",
        "encoder = TargetEncoder()\n"
      ],
      "execution_count": 25,
      "outputs": [
        {
          "output_type": "stream",
          "name": "stderr",
          "text": [
            "/usr/local/lib/python3.7/dist-packages/category_encoders/target_encoder.py:124: FutureWarning: Default parameter min_samples_leaf will change in version 2.6.See https://github.com/scikit-learn-contrib/category_encoders/issues/327\n",
            "  category=FutureWarning)\n",
            "/usr/local/lib/python3.7/dist-packages/category_encoders/target_encoder.py:129: FutureWarning: Default parameter smoothing will change in version 2.6.See https://github.com/scikit-learn-contrib/category_encoders/issues/327\n",
            "  category=FutureWarning)\n"
          ]
        }
      ]
    },
    {
      "cell_type": "code",
      "source": [
        "# definiendo reglas de encoding\n",
        "\n",
        "TargetEncoder = encoder.fit(X_train[categorical_features], X_train['Default'])"
      ],
      "metadata": {
        "id": "jOHMI7d_zS88"
      },
      "execution_count": 26,
      "outputs": []
    },
    {
      "cell_type": "code",
      "source": [
        "# Usando reglas de encoding\n",
        "\n",
        "X_train[[x + '_num' for x in categorical_features]] = TargetEncoder.transform(X_train[categorical_features])\n",
        "X_watch[[x + '_num' for x in categorical_features]] = TargetEncoder.transform(X_watch[categorical_features])\n",
        "X_test[[x + '_num' for x in categorical_features]] = TargetEncoder.transform(X_test[categorical_features])\n"
      ],
      "metadata": {
        "id": "v25pphTVzj62"
      },
      "execution_count": 27,
      "outputs": []
    },
    {
      "cell_type": "markdown",
      "source": [
        "## 4. Modelo"
      ],
      "metadata": {
        "id": "ses-MjvqDudt"
      }
    },
    {
      "cell_type": "code",
      "source": [
        "#Cargando librerías\n",
        "import xgboost as xgb\n"
      ],
      "metadata": {
        "id": "Aw2W6RDO8MkQ"
      },
      "execution_count": 20,
      "outputs": []
    },
    {
      "cell_type": "code",
      "source": [
        "X_train = X_train[numeric_features + [x + '_num' for x in categorical_features]]\n",
        "X_watch = X_watch[numeric_features + [x + '_num' for x in categorical_features]]\n",
        "X_test  = X_test[numeric_features + [x + '_num' for x in categorical_features]]\n"
      ],
      "metadata": {
        "id": "PXxNtmLTD2ut"
      },
      "execution_count": 28,
      "outputs": []
    },
    {
      "cell_type": "code",
      "source": [
        "# Data to Train\n",
        "\n",
        "dtrain = xgb.DMatrix(X_train, label = y_train)\n",
        "dwatch = xgb.DMatrix(X_watch, label = y_watch)\n",
        "dtest  = xgb.DMatrix(X_test, label = y_test)\n"
      ],
      "metadata": {
        "id": "Kfw-2lfdCg8p"
      },
      "execution_count": 30,
      "outputs": []
    },
    {
      "cell_type": "code",
      "source": [
        "# Definiendo parámetros\n",
        "\n",
        "param = {'objetive' : 'binary_logistic',\n",
        "         'max_depth' : 5,\n",
        "         'learning_rate': 0.05,\n",
        "         'seed' : 123,\n",
        "         'min_data_leaf' : 0.1,\n",
        "         'subsample' : 0.7,\n",
        "         'grow_policy' : 'lossguide'}\n",
        "\n",
        "param['eval_metric'] = 'auc'\n",
        "num_round = 300         \n",
        "\n",
        "evallist = [(dtrain,'train'), (dwatch,'Watchlist')]\n"
      ],
      "metadata": {
        "id": "W-ALoOoWGI6y"
      },
      "execution_count": 38,
      "outputs": []
    },
    {
      "cell_type": "code",
      "source": [
        "import time\n",
        "\n",
        "start_time = time.time()\n",
        "xgBoost = xgb.train(param, \n",
        "                    dtrain, \n",
        "                    num_round, \n",
        "                    evallist, \n",
        "                    early_stopping_rounds = 10)\n",
        "print(\"----%s seconds ---\" % ((time.time() - start_time)))\n"
      ],
      "metadata": {
        "colab": {
          "base_uri": "https://localhost:8080/"
        },
        "id": "nZ7JWw80GLra",
        "outputId": "ad833117-055e-445f-d394-a206cfdf3f7c"
      },
      "execution_count": 39,
      "outputs": [
        {
          "output_type": "stream",
          "name": "stdout",
          "text": [
            "[0]\ttrain-auc:0.705222\tWatchlist-auc:0.686195\n",
            "Multiple eval metrics have been passed: 'Watchlist-auc' will be used for early stopping.\n",
            "\n",
            "Will train until Watchlist-auc hasn't improved in 10 rounds.\n",
            "[1]\ttrain-auc:0.717822\tWatchlist-auc:0.699846\n",
            "[2]\ttrain-auc:0.721119\tWatchlist-auc:0.703766\n",
            "[3]\ttrain-auc:0.725349\tWatchlist-auc:0.706038\n",
            "[4]\ttrain-auc:0.727647\tWatchlist-auc:0.70957\n",
            "[5]\ttrain-auc:0.728809\tWatchlist-auc:0.709875\n",
            "[6]\ttrain-auc:0.72961\tWatchlist-auc:0.71117\n",
            "[7]\ttrain-auc:0.730716\tWatchlist-auc:0.712292\n",
            "[8]\ttrain-auc:0.731971\tWatchlist-auc:0.713049\n",
            "[9]\ttrain-auc:0.732323\tWatchlist-auc:0.713821\n",
            "[10]\ttrain-auc:0.733204\tWatchlist-auc:0.7151\n",
            "[11]\ttrain-auc:0.734432\tWatchlist-auc:0.716448\n",
            "[12]\ttrain-auc:0.735429\tWatchlist-auc:0.71704\n",
            "[13]\ttrain-auc:0.736312\tWatchlist-auc:0.717496\n",
            "[14]\ttrain-auc:0.737846\tWatchlist-auc:0.718876\n",
            "[15]\ttrain-auc:0.738662\tWatchlist-auc:0.71954\n",
            "[16]\ttrain-auc:0.739389\tWatchlist-auc:0.720226\n",
            "[17]\ttrain-auc:0.740473\tWatchlist-auc:0.720863\n",
            "[18]\ttrain-auc:0.741596\tWatchlist-auc:0.72186\n",
            "[19]\ttrain-auc:0.742449\tWatchlist-auc:0.722307\n",
            "[20]\ttrain-auc:0.743376\tWatchlist-auc:0.722529\n",
            "[21]\ttrain-auc:0.744303\tWatchlist-auc:0.722843\n",
            "[22]\ttrain-auc:0.745278\tWatchlist-auc:0.722918\n",
            "[23]\ttrain-auc:0.745992\tWatchlist-auc:0.72368\n",
            "[24]\ttrain-auc:0.746691\tWatchlist-auc:0.723927\n",
            "[25]\ttrain-auc:0.747576\tWatchlist-auc:0.724546\n",
            "[26]\ttrain-auc:0.748464\tWatchlist-auc:0.725348\n",
            "[27]\ttrain-auc:0.749476\tWatchlist-auc:0.726037\n",
            "[28]\ttrain-auc:0.750227\tWatchlist-auc:0.72651\n",
            "[29]\ttrain-auc:0.750526\tWatchlist-auc:0.726912\n",
            "[30]\ttrain-auc:0.751263\tWatchlist-auc:0.727283\n",
            "[31]\ttrain-auc:0.752251\tWatchlist-auc:0.727958\n",
            "[32]\ttrain-auc:0.753422\tWatchlist-auc:0.728642\n",
            "[33]\ttrain-auc:0.754144\tWatchlist-auc:0.72904\n",
            "[34]\ttrain-auc:0.755095\tWatchlist-auc:0.729676\n",
            "[35]\ttrain-auc:0.75559\tWatchlist-auc:0.730098\n",
            "[36]\ttrain-auc:0.756517\tWatchlist-auc:0.73039\n",
            "[37]\ttrain-auc:0.756804\tWatchlist-auc:0.730807\n",
            "[38]\ttrain-auc:0.757423\tWatchlist-auc:0.731445\n",
            "[39]\ttrain-auc:0.75798\tWatchlist-auc:0.731807\n",
            "[40]\ttrain-auc:0.758396\tWatchlist-auc:0.732313\n",
            "[41]\ttrain-auc:0.758986\tWatchlist-auc:0.73271\n",
            "[42]\ttrain-auc:0.759647\tWatchlist-auc:0.733238\n",
            "[43]\ttrain-auc:0.760296\tWatchlist-auc:0.73348\n",
            "[44]\ttrain-auc:0.760813\tWatchlist-auc:0.733322\n",
            "[45]\ttrain-auc:0.761079\tWatchlist-auc:0.733399\n",
            "[46]\ttrain-auc:0.761184\tWatchlist-auc:0.733543\n",
            "[47]\ttrain-auc:0.761783\tWatchlist-auc:0.733894\n",
            "[48]\ttrain-auc:0.762482\tWatchlist-auc:0.734317\n",
            "[49]\ttrain-auc:0.763006\tWatchlist-auc:0.734654\n",
            "[50]\ttrain-auc:0.763708\tWatchlist-auc:0.734949\n",
            "[51]\ttrain-auc:0.764241\tWatchlist-auc:0.735321\n",
            "[52]\ttrain-auc:0.764602\tWatchlist-auc:0.735575\n",
            "[53]\ttrain-auc:0.765479\tWatchlist-auc:0.735986\n",
            "[54]\ttrain-auc:0.76609\tWatchlist-auc:0.736387\n",
            "[55]\ttrain-auc:0.766556\tWatchlist-auc:0.736571\n",
            "[56]\ttrain-auc:0.767112\tWatchlist-auc:0.736844\n",
            "[57]\ttrain-auc:0.7678\tWatchlist-auc:0.73715\n",
            "[58]\ttrain-auc:0.768295\tWatchlist-auc:0.737573\n",
            "[59]\ttrain-auc:0.768792\tWatchlist-auc:0.737711\n",
            "[60]\ttrain-auc:0.769264\tWatchlist-auc:0.737921\n",
            "[61]\ttrain-auc:0.769715\tWatchlist-auc:0.738221\n",
            "[62]\ttrain-auc:0.770091\tWatchlist-auc:0.738509\n",
            "[63]\ttrain-auc:0.770603\tWatchlist-auc:0.738602\n",
            "[64]\ttrain-auc:0.770903\tWatchlist-auc:0.738643\n",
            "[65]\ttrain-auc:0.771703\tWatchlist-auc:0.739033\n",
            "[66]\ttrain-auc:0.772469\tWatchlist-auc:0.739267\n",
            "[67]\ttrain-auc:0.772875\tWatchlist-auc:0.739577\n",
            "[68]\ttrain-auc:0.773394\tWatchlist-auc:0.739861\n",
            "[69]\ttrain-auc:0.774057\tWatchlist-auc:0.739968\n",
            "[70]\ttrain-auc:0.774317\tWatchlist-auc:0.740264\n",
            "[71]\ttrain-auc:0.774991\tWatchlist-auc:0.740473\n",
            "[72]\ttrain-auc:0.775864\tWatchlist-auc:0.740782\n",
            "[73]\ttrain-auc:0.776331\tWatchlist-auc:0.740826\n",
            "[74]\ttrain-auc:0.776826\tWatchlist-auc:0.741113\n",
            "[75]\ttrain-auc:0.777192\tWatchlist-auc:0.741212\n",
            "[76]\ttrain-auc:0.777687\tWatchlist-auc:0.741347\n",
            "[77]\ttrain-auc:0.777945\tWatchlist-auc:0.741625\n",
            "[78]\ttrain-auc:0.778529\tWatchlist-auc:0.74197\n",
            "[79]\ttrain-auc:0.77892\tWatchlist-auc:0.742188\n",
            "[80]\ttrain-auc:0.779524\tWatchlist-auc:0.742355\n",
            "[81]\ttrain-auc:0.780038\tWatchlist-auc:0.742664\n",
            "[82]\ttrain-auc:0.780684\tWatchlist-auc:0.742959\n",
            "[83]\ttrain-auc:0.781135\tWatchlist-auc:0.743084\n",
            "[84]\ttrain-auc:0.781328\tWatchlist-auc:0.743211\n",
            "[85]\ttrain-auc:0.781785\tWatchlist-auc:0.743347\n",
            "[86]\ttrain-auc:0.782332\tWatchlist-auc:0.743387\n",
            "[87]\ttrain-auc:0.782626\tWatchlist-auc:0.743368\n",
            "[88]\ttrain-auc:0.783041\tWatchlist-auc:0.743392\n",
            "[89]\ttrain-auc:0.783527\tWatchlist-auc:0.743314\n",
            "----20.26582932472229 seconds ---\n"
          ]
        }
      ]
    },
    {
      "cell_type": "markdown",
      "metadata": {
        "id": "C4z0wIVH-MIX"
      },
      "source": [
        "<b>Variables del Modelo</b>"
      ]
    },
    {
      "cell_type": "code",
      "metadata": {
        "id": "H4AWrUcz-Q3K",
        "colab": {
          "base_uri": "https://localhost:8080/"
        },
        "outputId": "5f58bb96-77f8-400a-8947-1e529887b1a4"
      },
      "source": [
        "importance = xgBoost.get_score(importance_type = 'total_gain')\n",
        "importance"
      ],
      "execution_count": 40,
      "outputs": [
        {
          "output_type": "execute_result",
          "data": {
            "text/plain": [
              "{'Score_Source_2': 1283.1592920081084,\n",
              " 'Score_Source_3': 1212.7803725328993,\n",
              " 'Score_Source_1': 488.2311878328,\n",
              " 'Type_Organization_num': 226.94742910899987,\n",
              " 'Client_Occupation_num': 121.38515676900003,\n",
              " 'Employed_Days': 339.490333611,\n",
              " 'Age_Days': 236.41786760058,\n",
              " 'Registration_Days': 118.25118693399996,\n",
              " 'Loan_Annuity': 169.56734567199996,\n",
              " 'Client_Education_num': 101.284963846,\n",
              " 'Population_Region_Relative': 94.94158993800004,\n",
              " 'Social_Circle_Default': 140.38166401755095,\n",
              " 'Cleint_City_Rating': 40.554421179,\n",
              " 'Credit_Amount': 176.96225755200015,\n",
              " 'Own_House_Age': 141.73536516899995,\n",
              " 'Client_Gender_num': 61.623274103,\n",
              " 'Phone_Change': 100.06756380159999,\n",
              " 'Car_Owned': 7.706432046,\n",
              " 'Client_Income': 76.42861697200001,\n",
              " 'Credit_Bureau': 85.749746761,\n",
              " 'Client_Family_Members': 20.584785255,\n",
              " 'Child_Count': 15.755496396000002,\n",
              " 'Client_Housing_Type_num': 20.848478972,\n",
              " 'Workphone_Working': 5.28110731,\n",
              " 'Loan_Contract_Type_num': 21.651511182999993,\n",
              " 'Application_Process_Hour': 73.382323174,\n",
              " 'Application_Process_Day': 34.386200976999994,\n",
              " 'Homephone_Tag': 7.327388273999999,\n",
              " 'Client_Marital_Status_num': 12.547683962,\n",
              " 'House_Own': 6.76326406,\n",
              " 'Accompany_Client_num': 8.275985658,\n",
              " 'Client_Permanent_Match_Tag_num': 7.290488836,\n",
              " 'Client_Income_Type_num': 7.759712399,\n",
              " 'Bike_Owned': 6.115920189,\n",
              " 'Client_Contact_Work_Tag_num': 1.80303097,\n",
              " 'Active_Loan': 3.7973411099999996}"
            ]
          },
          "metadata": {},
          "execution_count": 40
        }
      ]
    },
    {
      "cell_type": "code",
      "metadata": {
        "id": "yg81nbtE_WzY",
        "colab": {
          "base_uri": "https://localhost:8080/",
          "height": 322
        },
        "outputId": "d17ae5b0-35d6-4a0f-c2b9-b8b866c6a18a"
      },
      "source": [
        "xgb.plot_importance(xgBoost, max_num_features=20, importance_type = 'total_gain')"
      ],
      "execution_count": 41,
      "outputs": [
        {
          "output_type": "execute_result",
          "data": {
            "text/plain": [
              "<matplotlib.axes._subplots.AxesSubplot at 0x7fc185864a10>"
            ]
          },
          "metadata": {},
          "execution_count": 41
        },
        {
          "output_type": "display_data",
          "data": {
            "text/plain": [
              "<Figure size 432x288 with 1 Axes>"
            ],
            "image/png": "[encoded data removed]"
          },
          "metadata": {
            "needs_background": "light"
          }
        }
      ]
    },
    {
      "cell_type": "code",
      "metadata": {
        "id": "1GIK4-wkOdWm",
        "colab": {
          "base_uri": "https://localhost:8080/",
          "height": 1000
        },
        "outputId": "a3655a3b-486e-4d61-f7b8-2628b2384795"
      },
      "source": [
        "pdVarImp = pd.DataFrame({'Feature': list(importance.keys()),\n",
        "                         'Importance' : list(importance.values())}).sort_values('Importance', ascending = False)\n",
        "\n",
        "pdVarImp['C'] = np.arange(len(pdVarImp)) + 1\n",
        "pdVarImp"
      ],
      "execution_count": 42,
      "outputs": [
        {
          "output_type": "execute_result",
          "data": {
            "text/plain": [
              "                           Feature   Importance   C\n",
              "0                   Score_Source_2  1283.159292   1\n",
              "1                   Score_Source_3  1212.780373   2\n",
              "2                   Score_Source_1   488.231188   3\n",
              "5                    Employed_Days   339.490334   4\n",
              "6                         Age_Days   236.417868   5\n",
              "3            Type_Organization_num   226.947429   6\n",
              "13                   Credit_Amount   176.962258   7\n",
              "8                     Loan_Annuity   169.567346   8\n",
              "14                   Own_House_Age   141.735365   9\n",
              "11           Social_Circle_Default   140.381664  10\n",
              "4            Client_Occupation_num   121.385157  11\n",
              "7                Registration_Days   118.251187  12\n",
              "9             Client_Education_num   101.284964  13\n",
              "16                    Phone_Change   100.067564  14\n",
              "10      Population_Region_Relative    94.941590  15\n",
              "19                   Credit_Bureau    85.749747  16\n",
              "18                   Client_Income    76.428617  17\n",
              "25        Application_Process_Hour    73.382323  18\n",
              "15               Client_Gender_num    61.623274  19\n",
              "12              Cleint_City_Rating    40.554421  20\n",
              "26         Application_Process_Day    34.386201  21\n",
              "24          Loan_Contract_Type_num    21.651511  22\n",
              "22         Client_Housing_Type_num    20.848479  23\n",
              "20           Client_Family_Members    20.584785  24\n",
              "21                     Child_Count    15.755496  25\n",
              "28       Client_Marital_Status_num    12.547684  26\n",
              "30            Accompany_Client_num     8.275986  27\n",
              "32          Client_Income_Type_num     7.759712  28\n",
              "17                       Car_Owned     7.706432  29\n",
              "27                   Homephone_Tag     7.327388  30\n",
              "31  Client_Permanent_Match_Tag_num     7.290489  31\n",
              "29                       House_Own     6.763264  32\n",
              "33                      Bike_Owned     6.115920  33\n",
              "23               Workphone_Working     5.281107  34\n",
              "35                     Active_Loan     3.797341  35\n",
              "34     Client_Contact_Work_Tag_num     1.803031  36"
            ],
            "text/html": [
              "\n",
              "  <div id=\"df-f4ce43c1-26c6-4821-84ca-72581f16bfc4\">\n",
              "    <div class=\"colab-df-container\">\n",
              "      <div>\n",
              "<style scoped>\n",
              "    .dataframe tbody tr th:only-of-type {\n",
              "        vertical-align: middle;\n",
              "    }\n",
              "\n",
              "    .dataframe tbody tr th {\n",
              "        vertical-align: top;\n",
              "    }\n",
              "\n",
              "    .dataframe thead th {\n",
              "        text-align: right;\n",
              "    }\n",
              "</style>\n",
              "<table border=\"1\" class=\"dataframe\">\n",
              "  <thead>\n",
              "    <tr style=\"text-align: right;\">\n",
              "      <th></th>\n",
              "      <th>Feature</th>\n",
              "      <th>Importance</th>\n",
              "      <th>C</th>\n",
              "    </tr>\n",
              "  </thead>\n",
              "  <tbody>\n",
              "    <tr>\n",
              "      <th>0</th>\n",
              "      <td>Score_Source_2</td>\n",
              "      <td>1283.159292</td>\n",
              "      <td>1</td>\n",
              "    </tr>\n",
              "    <tr>\n",
              "      <th>1</th>\n",
              "      <td>Score_Source_3</td>\n",
              "      <td>1212.780373</td>\n",
              "      <td>2</td>\n",
              "    </tr>\n",
              "    <tr>\n",
              "      <th>2</th>\n",
              "      <td>Score_Source_1</td>\n",
              "      <td>488.231188</td>\n",
              "      <td>3</td>\n",
              "    </tr>\n",
              "    <tr>\n",
              "      <th>5</th>\n",
              "      <td>Employed_Days</td>\n",
              "      <td>339.490334</td>\n",
              "      <td>4</td>\n",
              "    </tr>\n",
              "    <tr>\n",
              "      <th>6</th>\n",
              "      <td>Age_Days</td>\n",
              "      <td>236.417868</td>\n",
              "      <td>5</td>\n",
              "    </tr>\n",
              "    <tr>\n",
              "      <th>3</th>\n",
              "      <td>Type_Organization_num</td>\n",
              "      <td>226.947429</td>\n",
              "      <td>6</td>\n",
              "    </tr>\n",
              "    <tr>\n",
              "      <th>13</th>\n",
              "      <td>Credit_Amount</td>\n",
              "      <td>176.962258</td>\n",
              "      <td>7</td>\n",
              "    </tr>\n",
              "    <tr>\n",
              "      <th>8</th>\n",
              "      <td>Loan_Annuity</td>\n",
              "      <td>169.567346</td>\n",
              "      <td>8</td>\n",
              "    </tr>\n",
              "    <tr>\n",
              "      <th>14</th>\n",
              "      <td>Own_House_Age</td>\n",
              "      <td>141.735365</td>\n",
              "      <td>9</td>\n",
              "    </tr>\n",
              "    <tr>\n",
              "      <th>11</th>\n",
              "      <td>Social_Circle_Default</td>\n",
              "      <td>140.381664</td>\n",
              "      <td>10</td>\n",
              "    </tr>\n",
              "    <tr>\n",
              "      <th>4</th>\n",
              "      <td>Client_Occupation_num</td>\n",
              "      <td>121.385157</td>\n",
              "      <td>11</td>\n",
              "    </tr>\n",
              "    <tr>\n",
              "      <th>7</th>\n",
              "      <td>Registration_Days</td>\n",
              "      <td>118.251187</td>\n",
              "      <td>12</td>\n",
              "    </tr>\n",
              "    <tr>\n",
              "      <th>9</th>\n",
              "      <td>Client_Education_num</td>\n",
              "      <td>101.284964</td>\n",
              "      <td>13</td>\n",
              "    </tr>\n",
              "    <tr>\n",
              "      <th>16</th>\n",
              "      <td>Phone_Change</td>\n",
              "      <td>100.067564</td>\n",
              "      <td>14</td>\n",
              "    </tr>\n",
              "    <tr>\n",
              "      <th>10</th>\n",
              "      <td>Population_Region_Relative</td>\n",
              "      <td>94.941590</td>\n",
              "      <td>15</td>\n",
              "    </tr>\n",
              "    <tr>\n",
              "      <th>19</th>\n",
              "      <td>Credit_Bureau</td>\n",
              "      <td>85.749747</td>\n",
              "      <td>16</td>\n",
              "    </tr>\n",
              "    <tr>\n",
              "      <th>18</th>\n",
              "      <td>Client_Income</td>\n",
              "      <td>76.428617</td>\n",
              "      <td>17</td>\n",
              "    </tr>\n",
              "    <tr>\n",
              "      <th>25</th>\n",
              "      <td>Application_Process_Hour</td>\n",
              "      <td>73.382323</td>\n",
              "      <td>18</td>\n",
              "    </tr>\n",
              "    <tr>\n",
              "      <th>15</th>\n",
              "      <td>Client_Gender_num</td>\n",
              "      <td>61.623274</td>\n",
              "      <td>19</td>\n",
              "    </tr>\n",
              "    <tr>\n",
              "      <th>12</th>\n",
              "      <td>Cleint_City_Rating</td>\n",
              "      <td>40.554421</td>\n",
              "      <td>20</td>\n",
              "    </tr>\n",
              "    <tr>\n",
              "      <th>26</th>\n",
              "      <td>Application_Process_Day</td>\n",
              "      <td>34.386201</td>\n",
              "      <td>21</td>\n",
              "    </tr>\n",
              "    <tr>\n",
              "      <th>24</th>\n",
              "      <td>Loan_Contract_Type_num</td>\n",
              "      <td>21.651511</td>\n",
              "      <td>22</td>\n",
              "    </tr>\n",
              "    <tr>\n",
              "      <th>22</th>\n",
              "      <td>Client_Housing_Type_num</td>\n",
              "      <td>20.848479</td>\n",
              "      <td>23</td>\n",
              "    </tr>\n",
              "    <tr>\n",
              "      <th>20</th>\n",
              "      <td>Client_Family_Members</td>\n",
              "      <td>20.584785</td>\n",
              "      <td>24</td>\n",
              "    </tr>\n",
              "    <tr>\n",
              "      <th>21</th>\n",
              "      <td>Child_Count</td>\n",
              "      <td>15.755496</td>\n",
              "      <td>25</td>\n",
              "    </tr>\n",
              "    <tr>\n",
              "      <th>28</th>\n",
              "      <td>Client_Marital_Status_num</td>\n",
              "      <td>12.547684</td>\n",
              "      <td>26</td>\n",
              "    </tr>\n",
              "    <tr>\n",
              "      <th>30</th>\n",
              "      <td>Accompany_Client_num</td>\n",
              "      <td>8.275986</td>\n",
              "      <td>27</td>\n",
              "    </tr>\n",
              "    <tr>\n",
              "      <th>32</th>\n",
              "      <td>Client_Income_Type_num</td>\n",
              "      <td>7.759712</td>\n",
              "      <td>28</td>\n",
              "    </tr>\n",
              "    <tr>\n",
              "      <th>17</th>\n",
              "      <td>Car_Owned</td>\n",
              "      <td>7.706432</td>\n",
              "      <td>29</td>\n",
              "    </tr>\n",
              "    <tr>\n",
              "      <th>27</th>\n",
              "      <td>Homephone_Tag</td>\n",
              "      <td>7.327388</td>\n",
              "      <td>30</td>\n",
              "    </tr>\n",
              "    <tr>\n",
              "      <th>31</th>\n",
              "      <td>Client_Permanent_Match_Tag_num</td>\n",
              "      <td>7.290489</td>\n",
              "      <td>31</td>\n",
              "    </tr>\n",
              "    <tr>\n",
              "      <th>29</th>\n",
              "      <td>House_Own</td>\n",
              "      <td>6.763264</td>\n",
              "      <td>32</td>\n",
              "    </tr>\n",
              "    <tr>\n",
              "      <th>33</th>\n",
              "      <td>Bike_Owned</td>\n",
              "      <td>6.115920</td>\n",
              "      <td>33</td>\n",
              "    </tr>\n",
              "    <tr>\n",
              "      <th>23</th>\n",
              "      <td>Workphone_Working</td>\n",
              "      <td>5.281107</td>\n",
              "      <td>34</td>\n",
              "    </tr>\n",
              "    <tr>\n",
              "      <th>35</th>\n",
              "      <td>Active_Loan</td>\n",
              "      <td>3.797341</td>\n",
              "      <td>35</td>\n",
              "    </tr>\n",
              "    <tr>\n",
              "      <th>34</th>\n",
              "      <td>Client_Contact_Work_Tag_num</td>\n",
              "      <td>1.803031</td>\n",
              "      <td>36</td>\n",
              "    </tr>\n",
              "  </tbody>\n",
              "</table>\n",
              "</div>\n",
              "      <button class=\"colab-df-convert\" onclick=\"convertToInteractive('df-f4ce43c1-26c6-4821-84ca-72581f16bfc4')\"\n",
              "              title=\"Convert this dataframe to an interactive table.\"\n",
              "              style=\"display:none;\">\n",
              "        \n",
              "  <svg xmlns=\"http://www.w3.org/2000/svg\" height=\"24px\"viewBox=\"0 0 24 24\"\n",
              "       width=\"24px\">\n",
              "    <path d=\"M0 0h24v24H0V0z\" fill=\"none\"/>\n",
              "    <path d=\"M18.56 5.44l.94 2.06.94-2.06 2.06-.94-2.06-.94-.94-2.06-.94 2.06-2.06.94zm-11 1L8.5 8.5l.94-2.06 2.06-.94-2.06-.94L8.5 2.5l-.94 2.06-2.06.94zm10 10l.94 2.06.94-2.06 2.06-.94-2.06-.94-.94-2.06-.94 2.06-2.06.94z\"/><path d=\"M17.41 7.96l-1.37-1.37c-.4-.4-.92-.59-1.43-.59-.52 0-1.04.2-1.43.59L10.3 9.45l-7.72 7.72c-.78.78-.78 2.05 0 2.83L4 21.41c.39.39.9.59 1.41.59.51 0 1.02-.2 1.41-.59l7.78-7.78 2.81-2.81c.8-.78.8-2.07 0-2.86zM5.41 20L4 18.59l7.72-7.72 1.47 1.35L5.41 20z\"/>\n",
              "  </svg>\n",
              "      </button>\n",
              "      \n",
              "  <style>\n",
              "    .colab-df-container {\n",
              "      display:flex;\n",
              "      flex-wrap:wrap;\n",
              "      gap: 12px;\n",
              "    }\n",
              "\n",
              "    .colab-df-convert {\n",
              "      background-color: #E8F0FE;\n",
              "      border: none;\n",
              "      border-radius: 50%;\n",
              "      cursor: pointer;\n",
              "      display: none;\n",
              "      fill: #1967D2;\n",
              "      height: 32px;\n",
              "      padding: 0 0 0 0;\n",
              "      width: 32px;\n",
              "    }\n",
              "\n",
              "    .colab-df-convert:hover {\n",
              "      background-color: #E2EBFA;\n",
              "      box-shadow: 0px 1px 2px rgba(60, 64, 67, 0.3), 0px 1px 3px 1px rgba(60, 64, 67, 0.15);\n",
              "      fill: #174EA6;\n",
              "    }\n",
              "\n",
              "    [theme=dark] .colab-df-convert {\n",
              "      background-color: #3B4455;\n",
              "      fill: #D2E3FC;\n",
              "    }\n",
              "\n",
              "    [theme=dark] .colab-df-convert:hover {\n",
              "      background-color: #434B5C;\n",
              "      box-shadow: 0px 1px 3px 1px rgba(0, 0, 0, 0.15);\n",
              "      filter: drop-shadow(0px 1px 2px rgba(0, 0, 0, 0.3));\n",
              "      fill: #FFFFFF;\n",
              "    }\n",
              "  </style>\n",
              "\n",
              "      <script>\n",
              "        const buttonEl =\n",
              "          document.querySelector('#df-f4ce43c1-26c6-4821-84ca-72581f16bfc4 button.colab-df-convert');\n",
              "        buttonEl.style.display =\n",
              "          google.colab.kernel.accessAllowed ? 'block' : 'none';\n",
              "\n",
              "        async function convertToInteractive(key) {\n",
              "          const element = document.querySelector('#df-f4ce43c1-26c6-4821-84ca-72581f16bfc4');\n",
              "          const dataTable =\n",
              "            await google.colab.kernel.invokeFunction('convertToInteractive',\n",
              "                                                     [key], {});\n",
              "          if (!dataTable) return;\n",
              "\n",
              "          const docLinkHtml = 'Like what you see? Visit the ' +\n",
              "            '<a target=\"_blank\" href=https://colab.research.google.com/notebooks/data_table.ipynb>data table notebook</a>'\n",
              "            + ' to learn more about interactive tables.';\n",
              "          element.innerHTML = '';\n",
              "          dataTable['output_type'] = 'display_data';\n",
              "          await google.colab.output.renderOutput(dataTable, element);\n",
              "          const docLink = document.createElement('div');\n",
              "          docLink.innerHTML = docLinkHtml;\n",
              "          element.appendChild(docLink);\n",
              "        }\n",
              "      </script>\n",
              "    </div>\n",
              "  </div>\n",
              "  "
            ]
          },
          "metadata": {},
          "execution_count": 42
        }
      ]
    },
    {
      "cell_type": "code",
      "metadata": {
        "id": "ADGsicCEP67k",
        "colab": {
          "base_uri": "https://localhost:8080/",
          "height": 288
        },
        "outputId": "58c1cf7f-b77e-400b-dec8-e6789da41824"
      },
      "source": [
        "plt.plot(pdVarImp.C,pdVarImp.Importance.cumsum(axis=0))"
      ],
      "execution_count": 43,
      "outputs": [
        {
          "output_type": "execute_result",
          "data": {
            "text/plain": [
              "[<matplotlib.lines.Line2D at 0x7fc1836c1490>]"
            ]
          },
          "metadata": {},
          "execution_count": 43
        },
        {
          "output_type": "display_data",
          "data": {
            "text/plain": [
              "<Figure size 432x288 with 1 Axes>"
            ],
            "image/png": "[encoded data removed]"
          },
          "metadata": {
            "needs_background": "light"
          }
        }
      ]
    },
    {
      "cell_type": "code",
      "metadata": {
        "id": "cWZjq9vHQS2H",
        "colab": {
          "base_uri": "https://localhost:8080/",
          "height": 288
        },
        "outputId": "1c3caca9-7384-4639-a6ce-79833bf21ef1"
      },
      "source": [
        "pdVarImp['porc_gain'] = pdVarImp.Importance.apply(lambda x: x/pdVarImp.Importance.sum())\n",
        "plt.plot(pdVarImp.C,pdVarImp.porc_gain.cumsum(axis=0))"
      ],
      "execution_count": 44,
      "outputs": [
        {
          "output_type": "execute_result",
          "data": {
            "text/plain": [
              "[<matplotlib.lines.Line2D at 0x7fc1836ca450>]"
            ]
          },
          "metadata": {},
          "execution_count": 44
        },
        {
          "output_type": "display_data",
          "data": {
            "text/plain": [
              "<Figure size 432x288 with 1 Axes>"
            ],
            "image/png": "[encoded data removed]"
          },
          "metadata": {
            "needs_background": "light"
          }
        }
      ]
    },
    {
      "cell_type": "code",
      "metadata": {
        "id": "bgIOmJGnRelh"
      },
      "source": [
        "pdVarImp['porc_gain_acum'] = pdVarImp.porc_gain.cumsum(axis = 0)\n"
      ],
      "execution_count": 45,
      "outputs": []
    },
    {
      "cell_type": "code",
      "metadata": {
        "id": "3Vc3JuvLRiIY",
        "colab": {
          "base_uri": "https://localhost:8080/",
          "height": 300
        },
        "outputId": "22279746-6c0b-4ccb-957f-970f720e0e53"
      },
      "source": [
        "pdVarImp.transpose()"
      ],
      "execution_count": 46,
      "outputs": [
        {
          "output_type": "execute_result",
          "data": {
            "text/plain": [
              "                            0               1               2              5   \\\n",
              "Feature         Score_Source_2  Score_Source_3  Score_Source_1  Employed_Days   \n",
              "Importance         1283.159292     1212.780373      488.231188     339.490334   \n",
              "C                            1               2               3              4   \n",
              "porc_gain             0.234271        0.221422        0.089138       0.061982   \n",
              "porc_gain_acum        0.234271        0.455693        0.544831       0.606813   \n",
              "\n",
              "                        6                      3              13  \\\n",
              "Feature           Age_Days  Type_Organization_num  Credit_Amount   \n",
              "Importance      236.417868             226.947429     176.962258   \n",
              "C                        5                      6              7   \n",
              "porc_gain         0.043164               0.041435       0.032309   \n",
              "porc_gain_acum    0.649977               0.691412       0.723721   \n",
              "\n",
              "                          8              14                     11  ...  \\\n",
              "Feature         Loan_Annuity  Own_House_Age  Social_Circle_Default  ...   \n",
              "Importance        169.567346     141.735365             140.381664  ...   \n",
              "C                          8              9                     10  ...   \n",
              "porc_gain           0.030959       0.025877                0.02563  ...   \n",
              "porc_gain_acum      0.754679       0.780556               0.806186  ...   \n",
              "\n",
              "                                  30                      32         17  \\\n",
              "Feature         Accompany_Client_num  Client_Income_Type_num  Car_Owned   \n",
              "Importance                  8.275986                7.759712   7.706432   \n",
              "C                                 27                      28         29   \n",
              "porc_gain                   0.001511                0.001417   0.001407   \n",
              "porc_gain_acum              0.990169                0.991586   0.992993   \n",
              "\n",
              "                           27                              31         29  \\\n",
              "Feature         Homephone_Tag  Client_Permanent_Match_Tag_num  House_Own   \n",
              "Importance           7.327388                        7.290489   6.763264   \n",
              "C                          30                              31         32   \n",
              "porc_gain            0.001338                        0.001331   0.001235   \n",
              "porc_gain_acum       0.994331                        0.995662   0.996897   \n",
              "\n",
              "                        33                 23           35  \\\n",
              "Feature         Bike_Owned  Workphone_Working  Active_Loan   \n",
              "Importance         6.11592           5.281107     3.797341   \n",
              "C                       33                 34           35   \n",
              "porc_gain         0.001117           0.000964     0.000693   \n",
              "porc_gain_acum    0.998013           0.998978     0.999671   \n",
              "\n",
              "                                         34  \n",
              "Feature         Client_Contact_Work_Tag_num  \n",
              "Importance                         1.803031  \n",
              "C                                        36  \n",
              "porc_gain                          0.000329  \n",
              "porc_gain_acum                          1.0  \n",
              "\n",
              "[5 rows x 36 columns]"
            ],
            "text/html": [
              "\n",
              "  <div id=\"df-3d915213-6b86-4f84-97ff-f071bfb1afa0\">\n",
              "    <div class=\"colab-df-container\">\n",
              "      <div>\n",
              "<style scoped>\n",
              "    .dataframe tbody tr th:only-of-type {\n",
              "        vertical-align: middle;\n",
              "    }\n",
              "\n",
              "    .dataframe tbody tr th {\n",
              "        vertical-align: top;\n",
              "    }\n",
              "\n",
              "    .dataframe thead th {\n",
              "        text-align: right;\n",
              "    }\n",
              "</style>\n",
              "<table border=\"1\" class=\"dataframe\">\n",
              "  <thead>\n",
              "    <tr style=\"text-align: right;\">\n",
              "      <th></th>\n",
              "      <th>0</th>\n",
              "      <th>1</th>\n",
              "      <th>2</th>\n",
              "      <th>5</th>\n",
              "      <th>6</th>\n",
              "      <th>3</th>\n",
              "      <th>13</th>\n",
              "      <th>8</th>\n",
              "      <th>14</th>\n",
              "      <th>11</th>\n",
              "      <th>...</th>\n",
              "      <th>30</th>\n",
              "      <th>32</th>\n",
              "      <th>17</th>\n",
              "      <th>27</th>\n",
              "      <th>31</th>\n",
              "      <th>29</th>\n",
              "      <th>33</th>\n",
              "      <th>23</th>\n",
              "      <th>35</th>\n",
              "      <th>34</th>\n",
              "    </tr>\n",
              "  </thead>\n",
              "  <tbody>\n",
              "    <tr>\n",
              "      <th>Feature</th>\n",
              "      <td>Score_Source_2</td>\n",
              "      <td>Score_Source_3</td>\n",
              "      <td>Score_Source_1</td>\n",
              "      <td>Employed_Days</td>\n",
              "      <td>Age_Days</td>\n",
              "      <td>Type_Organization_num</td>\n",
              "      <td>Credit_Amount</td>\n",
              "      <td>Loan_Annuity</td>\n",
              "      <td>Own_House_Age</td>\n",
              "      <td>Social_Circle_Default</td>\n",
              "      <td>...</td>\n",
              "      <td>Accompany_Client_num</td>\n",
              "      <td>Client_Income_Type_num</td>\n",
              "      <td>Car_Owned</td>\n",
              "      <td>Homephone_Tag</td>\n",
              "      <td>Client_Permanent_Match_Tag_num</td>\n",
              "      <td>House_Own</td>\n",
              "      <td>Bike_Owned</td>\n",
              "      <td>Workphone_Working</td>\n",
              "      <td>Active_Loan</td>\n",
              "      <td>Client_Contact_Work_Tag_num</td>\n",
              "    </tr>\n",
              "    <tr>\n",
              "      <th>Importance</th>\n",
              "      <td>1283.159292</td>\n",
              "      <td>1212.780373</td>\n",
              "      <td>488.231188</td>\n",
              "      <td>339.490334</td>\n",
              "      <td>236.417868</td>\n",
              "      <td>226.947429</td>\n",
              "      <td>176.962258</td>\n",
              "      <td>169.567346</td>\n",
              "      <td>141.735365</td>\n",
              "      <td>140.381664</td>\n",
              "      <td>...</td>\n",
              "      <td>8.275986</td>\n",
              "      <td>7.759712</td>\n",
              "      <td>7.706432</td>\n",
              "      <td>7.327388</td>\n",
              "      <td>7.290489</td>\n",
              "      <td>6.763264</td>\n",
              "      <td>6.11592</td>\n",
              "      <td>5.281107</td>\n",
              "      <td>3.797341</td>\n",
              "      <td>1.803031</td>\n",
              "    </tr>\n",
              "    <tr>\n",
              "      <th>C</th>\n",
              "      <td>1</td>\n",
              "      <td>2</td>\n",
              "      <td>3</td>\n",
              "      <td>4</td>\n",
              "      <td>5</td>\n",
              "      <td>6</td>\n",
              "      <td>7</td>\n",
              "      <td>8</td>\n",
              "      <td>9</td>\n",
              "      <td>10</td>\n",
              "      <td>...</td>\n",
              "      <td>27</td>\n",
              "      <td>28</td>\n",
              "      <td>29</td>\n",
              "      <td>30</td>\n",
              "      <td>31</td>\n",
              "      <td>32</td>\n",
              "      <td>33</td>\n",
              "      <td>34</td>\n",
              "      <td>35</td>\n",
              "      <td>36</td>\n",
              "    </tr>\n",
              "    <tr>\n",
              "      <th>porc_gain</th>\n",
              "      <td>0.234271</td>\n",
              "      <td>0.221422</td>\n",
              "      <td>0.089138</td>\n",
              "      <td>0.061982</td>\n",
              "      <td>0.043164</td>\n",
              "      <td>0.041435</td>\n",
              "      <td>0.032309</td>\n",
              "      <td>0.030959</td>\n",
              "      <td>0.025877</td>\n",
              "      <td>0.02563</td>\n",
              "      <td>...</td>\n",
              "      <td>0.001511</td>\n",
              "      <td>0.001417</td>\n",
              "      <td>0.001407</td>\n",
              "      <td>0.001338</td>\n",
              "      <td>0.001331</td>\n",
              "      <td>0.001235</td>\n",
              "      <td>0.001117</td>\n",
              "      <td>0.000964</td>\n",
              "      <td>0.000693</td>\n",
              "      <td>0.000329</td>\n",
              "    </tr>\n",
              "    <tr>\n",
              "      <th>porc_gain_acum</th>\n",
              "      <td>0.234271</td>\n",
              "      <td>0.455693</td>\n",
              "      <td>0.544831</td>\n",
              "      <td>0.606813</td>\n",
              "      <td>0.649977</td>\n",
              "      <td>0.691412</td>\n",
              "      <td>0.723721</td>\n",
              "      <td>0.754679</td>\n",
              "      <td>0.780556</td>\n",
              "      <td>0.806186</td>\n",
              "      <td>...</td>\n",
              "      <td>0.990169</td>\n",
              "      <td>0.991586</td>\n",
              "      <td>0.992993</td>\n",
              "      <td>0.994331</td>\n",
              "      <td>0.995662</td>\n",
              "      <td>0.996897</td>\n",
              "      <td>0.998013</td>\n",
              "      <td>0.998978</td>\n",
              "      <td>0.999671</td>\n",
              "      <td>1.0</td>\n",
              "    </tr>\n",
              "  </tbody>\n",
              "</table>\n",
              "<p>5 rows × 36 columns</p>\n",
              "</div>\n",
              "      <button class=\"colab-df-convert\" onclick=\"convertToInteractive('df-3d915213-6b86-4f84-97ff-f071bfb1afa0')\"\n",
              "              title=\"Convert this dataframe to an interactive table.\"\n",
              "              style=\"display:none;\">\n",
              "        \n",
              "  <svg xmlns=\"http://www.w3.org/2000/svg\" height=\"24px\"viewBox=\"0 0 24 24\"\n",
              "       width=\"24px\">\n",
              "    <path d=\"M0 0h24v24H0V0z\" fill=\"none\"/>\n",
              "    <path d=\"M18.56 5.44l.94 2.06.94-2.06 2.06-.94-2.06-.94-.94-2.06-.94 2.06-2.06.94zm-11 1L8.5 8.5l.94-2.06 2.06-.94-2.06-.94L8.5 2.5l-.94 2.06-2.06.94zm10 10l.94 2.06.94-2.06 2.06-.94-2.06-.94-.94-2.06-.94 2.06-2.06.94z\"/><path d=\"M17.41 7.96l-1.37-1.37c-.4-.4-.92-.59-1.43-.59-.52 0-1.04.2-1.43.59L10.3 9.45l-7.72 7.72c-.78.78-.78 2.05 0 2.83L4 21.41c.39.39.9.59 1.41.59.51 0 1.02-.2 1.41-.59l7.78-7.78 2.81-2.81c.8-.78.8-2.07 0-2.86zM5.41 20L4 18.59l7.72-7.72 1.47 1.35L5.41 20z\"/>\n",
              "  </svg>\n",
              "      </button>\n",
              "      \n",
              "  <style>\n",
              "    .colab-df-container {\n",
              "      display:flex;\n",
              "      flex-wrap:wrap;\n",
              "      gap: 12px;\n",
              "    }\n",
              "\n",
              "    .colab-df-convert {\n",
              "      background-color: #E8F0FE;\n",
              "      border: none;\n",
              "      border-radius: 50%;\n",
              "      cursor: pointer;\n",
              "      display: none;\n",
              "      fill: #1967D2;\n",
              "      height: 32px;\n",
              "      padding: 0 0 0 0;\n",
              "      width: 32px;\n",
              "    }\n",
              "\n",
              "    .colab-df-convert:hover {\n",
              "      background-color: #E2EBFA;\n",
              "      box-shadow: 0px 1px 2px rgba(60, 64, 67, 0.3), 0px 1px 3px 1px rgba(60, 64, 67, 0.15);\n",
              "      fill: #174EA6;\n",
              "    }\n",
              "\n",
              "    [theme=dark] .colab-df-convert {\n",
              "      background-color: #3B4455;\n",
              "      fill: #D2E3FC;\n",
              "    }\n",
              "\n",
              "    [theme=dark] .colab-df-convert:hover {\n",
              "      background-color: #434B5C;\n",
              "      box-shadow: 0px 1px 3px 1px rgba(0, 0, 0, 0.15);\n",
              "      filter: drop-shadow(0px 1px 2px rgba(0, 0, 0, 0.3));\n",
              "      fill: #FFFFFF;\n",
              "    }\n",
              "  </style>\n",
              "\n",
              "      <script>\n",
              "        const buttonEl =\n",
              "          document.querySelector('#df-3d915213-6b86-4f84-97ff-f071bfb1afa0 button.colab-df-convert');\n",
              "        buttonEl.style.display =\n",
              "          google.colab.kernel.accessAllowed ? 'block' : 'none';\n",
              "\n",
              "        async function convertToInteractive(key) {\n",
              "          const element = document.querySelector('#df-3d915213-6b86-4f84-97ff-f071bfb1afa0');\n",
              "          const dataTable =\n",
              "            await google.colab.kernel.invokeFunction('convertToInteractive',\n",
              "                                                     [key], {});\n",
              "          if (!dataTable) return;\n",
              "\n",
              "          const docLinkHtml = 'Like what you see? Visit the ' +\n",
              "            '<a target=\"_blank\" href=https://colab.research.google.com/notebooks/data_table.ipynb>data table notebook</a>'\n",
              "            + ' to learn more about interactive tables.';\n",
              "          element.innerHTML = '';\n",
              "          dataTable['output_type'] = 'display_data';\n",
              "          await google.colab.output.renderOutput(dataTable, element);\n",
              "          const docLink = document.createElement('div');\n",
              "          docLink.innerHTML = docLinkHtml;\n",
              "          element.appendChild(docLink);\n",
              "        }\n",
              "      </script>\n",
              "    </div>\n",
              "  </div>\n",
              "  "
            ]
          },
          "metadata": {},
          "execution_count": 46
        }
      ]
    },
    {
      "cell_type": "code",
      "metadata": {
        "id": "XgocmyNHVsb9"
      },
      "source": [
        "# Usando el modelo para predecir\n",
        "\n",
        "X_train['probability']  = xgBoost.predict(xgb.DMatrix(X_train, label = y_train))\n",
        "X_test['probability'] = xgBoost.predict(xgb.DMatrix(X_test, label = y_test))\n",
        "\n",
        "X_train['prediction']  = X_train.probability.apply(lambda x: 1 if x > 0.5 else 0)\n",
        "X_test['prediction'] = X_test.probability.apply(lambda x: 1 if x > 0.5 else 0)"
      ],
      "execution_count": 47,
      "outputs": []
    },
    {
      "cell_type": "code",
      "metadata": {
        "id": "i12M9tBeVsWK",
        "colab": {
          "base_uri": "https://localhost:8080/",
          "height": 238
        },
        "outputId": "b9076460-c9e6-4d92-bfb3-736e67c464a5"
      },
      "source": [
        "#Resumen de todas las métricas del modelo\n",
        "from sklearn.metrics import *\n",
        "\n",
        "metricsXGB = pd.DataFrame({'metric':['AUC','Gini','Accuracy','Precision','Recall','F1-score'],\n",
        "                                'xgb_train':[roc_auc_score(y_train, X_train.probability),\n",
        "                                        (roc_auc_score(y_train, X_train.probability)*2-1),\n",
        "                                        accuracy_score(y_train, X_train.prediction),\n",
        "                                        precision_score(y_train, X_train.prediction),\n",
        "                                        recall_score(y_train, X_train.prediction),\n",
        "                                        f1_score(y_train, X_train.prediction)],\n",
        "\n",
        "                                'xgb_test':[roc_auc_score(y_test, X_test.probability),\n",
        "                                        (roc_auc_score(y_test, X_test.probability)*2-1),\n",
        "                                        accuracy_score(y_test, X_test.prediction),\n",
        "                                        precision_score(y_test, X_test.prediction),\n",
        "                                        recall_score(y_test, X_test.prediction),\n",
        "                                        f1_score(y_test, X_test.prediction)]})\n",
        "\n",
        "metricsXGB\n",
        "    "
      ],
      "execution_count": 48,
      "outputs": [
        {
          "output_type": "execute_result",
          "data": {
            "text/plain": [
              "      metric  xgb_train  xgb_test\n",
              "0        AUC   0.783527  0.749629\n",
              "1       Gini   0.567055  0.499258\n",
              "2   Accuracy   0.920780  0.919375\n",
              "3  Precision   0.975207  0.576923\n",
              "4     Recall   0.019976  0.007618\n",
              "5   F1-score   0.039151  0.015038"
            ],
            "text/html": [
              "\n",
              "  <div id=\"df-7a08665c-7bdb-4cdb-b74c-5afee80eb75f\">\n",
              "    <div class=\"colab-df-container\">\n",
              "      <div>\n",
              "<style scoped>\n",
              "    .dataframe tbody tr th:only-of-type {\n",
              "        vertical-align: middle;\n",
              "    }\n",
              "\n",
              "    .dataframe tbody tr th {\n",
              "        vertical-align: top;\n",
              "    }\n",
              "\n",
              "    .dataframe thead th {\n",
              "        text-align: right;\n",
              "    }\n",
              "</style>\n",
              "<table border=\"1\" class=\"dataframe\">\n",
              "  <thead>\n",
              "    <tr style=\"text-align: right;\">\n",
              "      <th></th>\n",
              "      <th>metric</th>\n",
              "      <th>xgb_train</th>\n",
              "      <th>xgb_test</th>\n",
              "    </tr>\n",
              "  </thead>\n",
              "  <tbody>\n",
              "    <tr>\n",
              "      <th>0</th>\n",
              "      <td>AUC</td>\n",
              "      <td>0.783527</td>\n",
              "      <td>0.749629</td>\n",
              "    </tr>\n",
              "    <tr>\n",
              "      <th>1</th>\n",
              "      <td>Gini</td>\n",
              "      <td>0.567055</td>\n",
              "      <td>0.499258</td>\n",
              "    </tr>\n",
              "    <tr>\n",
              "      <th>2</th>\n",
              "      <td>Accuracy</td>\n",
              "      <td>0.920780</td>\n",
              "      <td>0.919375</td>\n",
              "    </tr>\n",
              "    <tr>\n",
              "      <th>3</th>\n",
              "      <td>Precision</td>\n",
              "      <td>0.975207</td>\n",
              "      <td>0.576923</td>\n",
              "    </tr>\n",
              "    <tr>\n",
              "      <th>4</th>\n",
              "      <td>Recall</td>\n",
              "      <td>0.019976</td>\n",
              "      <td>0.007618</td>\n",
              "    </tr>\n",
              "    <tr>\n",
              "      <th>5</th>\n",
              "      <td>F1-score</td>\n",
              "      <td>0.039151</td>\n",
              "      <td>0.015038</td>\n",
              "    </tr>\n",
              "  </tbody>\n",
              "</table>\n",
              "</div>\n",
              "      <button class=\"colab-df-convert\" onclick=\"convertToInteractive('df-7a08665c-7bdb-4cdb-b74c-5afee80eb75f')\"\n",
              "              title=\"Convert this dataframe to an interactive table.\"\n",
              "              style=\"display:none;\">\n",
              "        \n",
              "  <svg xmlns=\"http://www.w3.org/2000/svg\" height=\"24px\"viewBox=\"0 0 24 24\"\n",
              "       width=\"24px\">\n",
              "    <path d=\"M0 0h24v24H0V0z\" fill=\"none\"/>\n",
              "    <path d=\"M18.56 5.44l.94 2.06.94-2.06 2.06-.94-2.06-.94-.94-2.06-.94 2.06-2.06.94zm-11 1L8.5 8.5l.94-2.06 2.06-.94-2.06-.94L8.5 2.5l-.94 2.06-2.06.94zm10 10l.94 2.06.94-2.06 2.06-.94-2.06-.94-.94-2.06-.94 2.06-2.06.94z\"/><path d=\"M17.41 7.96l-1.37-1.37c-.4-.4-.92-.59-1.43-.59-.52 0-1.04.2-1.43.59L10.3 9.45l-7.72 7.72c-.78.78-.78 2.05 0 2.83L4 21.41c.39.39.9.59 1.41.59.51 0 1.02-.2 1.41-.59l7.78-7.78 2.81-2.81c.8-.78.8-2.07 0-2.86zM5.41 20L4 18.59l7.72-7.72 1.47 1.35L5.41 20z\"/>\n",
              "  </svg>\n",
              "      </button>\n",
              "      \n",
              "  <style>\n",
              "    .colab-df-container {\n",
              "      display:flex;\n",
              "      flex-wrap:wrap;\n",
              "      gap: 12px;\n",
              "    }\n",
              "\n",
              "    .colab-df-convert {\n",
              "      background-color: #E8F0FE;\n",
              "      border: none;\n",
              "      border-radius: 50%;\n",
              "      cursor: pointer;\n",
              "      display: none;\n",
              "      fill: #1967D2;\n",
              "      height: 32px;\n",
              "      padding: 0 0 0 0;\n",
              "      width: 32px;\n",
              "    }\n",
              "\n",
              "    .colab-df-convert:hover {\n",
              "      background-color: #E2EBFA;\n",
              "      box-shadow: 0px 1px 2px rgba(60, 64, 67, 0.3), 0px 1px 3px 1px rgba(60, 64, 67, 0.15);\n",
              "      fill: #174EA6;\n",
              "    }\n",
              "\n",
              "    [theme=dark] .colab-df-convert {\n",
              "      background-color: #3B4455;\n",
              "      fill: #D2E3FC;\n",
              "    }\n",
              "\n",
              "    [theme=dark] .colab-df-convert:hover {\n",
              "      background-color: #434B5C;\n",
              "      box-shadow: 0px 1px 3px 1px rgba(0, 0, 0, 0.15);\n",
              "      filter: drop-shadow(0px 1px 2px rgba(0, 0, 0, 0.3));\n",
              "      fill: #FFFFFF;\n",
              "    }\n",
              "  </style>\n",
              "\n",
              "      <script>\n",
              "        const buttonEl =\n",
              "          document.querySelector('#df-7a08665c-7bdb-4cdb-b74c-5afee80eb75f button.colab-df-convert');\n",
              "        buttonEl.style.display =\n",
              "          google.colab.kernel.accessAllowed ? 'block' : 'none';\n",
              "\n",
              "        async function convertToInteractive(key) {\n",
              "          const element = document.querySelector('#df-7a08665c-7bdb-4cdb-b74c-5afee80eb75f');\n",
              "          const dataTable =\n",
              "            await google.colab.kernel.invokeFunction('convertToInteractive',\n",
              "                                                     [key], {});\n",
              "          if (!dataTable) return;\n",
              "\n",
              "          const docLinkHtml = 'Like what you see? Visit the ' +\n",
              "            '<a target=\"_blank\" href=https://colab.research.google.com/notebooks/data_table.ipynb>data table notebook</a>'\n",
              "            + ' to learn more about interactive tables.';\n",
              "          element.innerHTML = '';\n",
              "          dataTable['output_type'] = 'display_data';\n",
              "          await google.colab.output.renderOutput(dataTable, element);\n",
              "          const docLink = document.createElement('div');\n",
              "          docLink.innerHTML = docLinkHtml;\n",
              "          element.appendChild(docLink);\n",
              "        }\n",
              "      </script>\n",
              "    </div>\n",
              "  </div>\n",
              "  "
            ]
          },
          "metadata": {},
          "execution_count": 48
        }
      ]
    },
    {
      "cell_type": "markdown",
      "metadata": {
        "id": "FttmZ9QVR5q4"
      },
      "source": [
        "# Random Search"
      ]
    },
    {
      "cell_type": "code",
      "metadata": {
        "id": "Mhcz2Zj1SmaL"
      },
      "source": [
        "# setear valores iniciales\n",
        "\n",
        "paramGrid = {'objetive' : ['binary_logistic'],\n",
        "         'max_depth' : [2,3,4,5,6,7,8,9,10,11,12],\n",
        "         'learning_rate': [0.01, 0.02, 0.05, 0.1, 0.2],\n",
        "         'seed' : [123],\n",
        "         'max_leaves' : [2, 4, 8],\n",
        "         'min_data_leaf' : [0.01, 0.02, 0.05, 0.08, 0.1, 0.15, 0.2],\n",
        "         'grow_policy' : ['lossguide'],\n",
        "         'min_child_weight' : [1,2,3,4,5,6,7,8,9,10]}\n",
        "\n",
        "param['eval_metric'] = 'auc'\n",
        "num_round = 100\n",
        "\n",
        "pdResults = pd.DataFrame()\n",
        "\n"
      ],
      "execution_count": null,
      "outputs": []
    },
    {
      "cell_type": "code",
      "source": [
        "X_train = X_train[numeric_features + [x + '_num' for x in categorical_features]]\n",
        "X_test  = X_test[numeric_features + [x + '_num' for x in categorical_features]]\n"
      ],
      "metadata": {
        "id": "pDdODYgXIVKQ"
      },
      "execution_count": null,
      "outputs": []
    },
    {
      "cell_type": "code",
      "source": [
        "# Data to Train\n",
        "\n",
        "dtrain = xgb.DMatrix(X_train, label = y_train)\n",
        "dtest  = xgb.DMatrix(X_test, label = y_test)"
      ],
      "metadata": {
        "id": "TuuYJozKIVKQ"
      },
      "execution_count": null,
      "outputs": []
    },
    {
      "cell_type": "code",
      "metadata": {
        "id": "bklFI4QqUvwv"
      },
      "source": [
        "# Iniciar iteración de Hyperparámetros\n",
        "import random\n",
        "\n",
        "for i in range(1000):\n",
        "  print(\"****** Iteration : \" + str(i))\n",
        "  param = {}\n",
        "  for paramName, paramValue in paramGrid.items():\n",
        "    param[paramName] = random.choice(paramValue)\n",
        "  param['eval_metric' ] = 'auc'\n",
        "  evallist = [(dtrain,'train'),(dtest,'valid')]\n",
        "  num_round = 10     \n",
        "\n",
        "  bst = xgb.train(param, dtrain, num_round, evallist, verbose_eval = 5)\n",
        "\n",
        "  y_train_pred = bst.predict(dtrain)\n",
        "  y_test_pred = bst.predict(dtest)\n",
        "\n",
        "  giniTrain = ((roc_auc_score(y_train, y_train_pred) - 0.5)*200)\n",
        "  giniTest =  ((roc_auc_score(y_test, y_test_pred) - 0.5)*200)\n",
        "\n",
        "  pdResults = pdResults.append(pd.DataFrame({'iter' : i,\n",
        "                                             'paramName': list(param.keys()),\n",
        "                                             'paramValue': list(param.values()),\n",
        "                                             'giniTrain' : giniTrain,\n",
        "                                             'giniTest' : giniTest}))\n",
        "\n",
        "  pdResults.to_csv('HyperParamSearch.csv', index = False)"
      ],
      "execution_count": null,
      "outputs": []
    },
    {
      "cell_type": "code",
      "metadata": {
        "id": "BS8ggXhrdy8b"
      },
      "source": [
        "pddf = pd.read_csv(\"HyperParamSearch.csv\")\n",
        "pddf.sort_values('giniTest', ascending=False)"
      ],
      "execution_count": null,
      "outputs": []
    },
    {
      "cell_type": "code",
      "metadata": {
        "id": "WVZSfXk6ewE0"
      },
      "source": [
        "pddf['overfitting'] = pddf.giniTrain - pddf.giniTest\n",
        "pddf.sort_values('overfitting')"
      ],
      "execution_count": null,
      "outputs": []
    },
    {
      "cell_type": "code",
      "source": [
        "pddf = pd.read_csv(\"HyperParamSearch.csv\")\n",
        "pddf['overfitting'] = pddf.giniTrain - pddf.giniTest\n",
        "pddf.loc[pddf.overfitting < 5].sort_values(['giniTest', 'iter'], ascending=False).head(50)"
      ],
      "metadata": {
        "id": "70QeSYAsZeMX"
      },
      "execution_count": null,
      "outputs": []
    },
    {
      "cell_type": "code",
      "metadata": {
        "id": "OsXym2Dpe4Ok"
      },
      "source": [
        "pdResults = pdResults[~pdResults.paramName.isin(['objective', 'eval_metric', 'eta'])]\n",
        "set(pdResults['paramName'])\n",
        "\n",
        "\n",
        "sns.FacetGrid(pdResults.loc[pdResults.paramName=='learning_rate'],\n",
        "              row=\"paramName\", \n",
        "              sharex=False, size=5, aspect=1.5).\\\n",
        "          map(sns.boxplot,\n",
        "              'paramValue',\n",
        "              'giniTest')"
      ],
      "execution_count": null,
      "outputs": []
    },
    {
      "cell_type": "code",
      "metadata": {
        "id": "mQJt2G5TU0IJ"
      },
      "source": [
        "sns.FacetGrid(pdResults.loc[pdResults.paramName=='max_depth'],\n",
        "              row=\"paramName\", \n",
        "              sharex=False, size=5, aspect=1.5).\\\n",
        "          map(sns.boxplot,\n",
        "              'paramValue',\n",
        "              'giniTest')"
      ],
      "execution_count": null,
      "outputs": []
    }
  ]
}