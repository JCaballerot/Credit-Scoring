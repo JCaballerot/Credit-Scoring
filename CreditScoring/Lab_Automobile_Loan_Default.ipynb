{
  "nbformat": 4,
  "nbformat_minor": 0,
  "metadata": {
    "colab": {
      "provenance": [],
      "authorship_tag": "ABX9TyOeZlidsUf7s48VzKOUVUV0",
      "include_colab_link": true
    },
    "kernelspec": {
      "name": "python3",
      "display_name": "Python 3"
    },
    "language_info": {
      "name": "python"
    }
  },
  "cells": [
    {
      "cell_type": "markdown",
      "metadata": {
        "id": "view-in-github",
        "colab_type": "text"
      },
      "source": [
        "<a href=\"https://colab.research.google.com/github/JCaballerot/Credit-Scoring/blob/main/CreditScoring/Lab_Automobile_Loan_Default.ipynb\" target=\"_parent\"><img src=\"https://colab.research.google.com/assets/colab-badge.svg\" alt=\"Open In Colab\"/></a>"
      ]
    },
    {
      "cell_type": "markdown",
      "source": [
        "\n",
        "<h1 align=center><font size = 5>Automobile Loan Default Dataset\n",
        "</font></h1>\n",
        "\n",
        "---"
      ],
      "metadata": {
        "id": "s6UHVkgOXcmw"
      }
    },
    {
      "cell_type": "markdown",
      "source": [
        "## Introducción\n",
        "\n",
        "En este laboratorio, aprenderá a usar python para construir un modelo de <b>credit scoring</b>.\n",
        "\n"
      ],
      "metadata": {
        "id": "zINWKfpHZJRl"
      }
    },
    {
      "cell_type": "markdown",
      "source": [
        "## Objetivo de este Notebook\n",
        "\n",
        "1. Como construir e interpretar un modelo de regresión logística.\n",
        "2. Descargar y limpiar un Dataset\n",
        "3. Realizar los pasos necesarios previos a la etapa de modelamiento\n",
        "4. Entrenar y Testear modelo"
      ],
      "metadata": {
        "id": "mLlfVwLIZV7b"
      }
    },
    {
      "cell_type": "markdown",
      "source": [
        "## Tabla de Contenidos\n",
        "\n",
        "<div class=\"alert alert-block alert-info\" style=\"margin-top: 20px\">\n",
        "\n",
        "<font size = 3>\n",
        "    \n",
        "1. <a href=\"#item31\">Contexto</a>  \n",
        "2. <a href=\"#item32\">Descargar y limpiar el Dataset</a>  \n",
        "3. <a href=\"#item33\">Pre-selección de variables</a>  \n",
        "4. <a href=\"#item34\">Tratamiento de variables categóricas</a>  \n",
        "5. <a href=\"#item34\">Tratamiento de variables numéricas</a>  \n",
        " \n",
        "\n",
        "</font>\n",
        "</div>"
      ],
      "metadata": {
        "id": "icLdd0FKXoSA"
      }
    },
    {
      "cell_type": "markdown",
      "source": [
        "## 1. Contexto"
      ],
      "metadata": {
        "id": "wXxiLTiBXyw8"
      }
    },
    {
      "cell_type": "markdown",
      "source": [
        "Una institución financiera no bancaria (NBFI) o una compañía financiera no bancaria (NBFC) es una institución financiera que no tiene una licencia bancaria completa o no está supervisada por una agencia reguladora bancaria nacional o internacional. NBFC facilita los servicios financieros relacionados con los bancos, como inversión, agrupación de riesgos, ahorros contractuales y corretaje de mercado.\n",
        "\n",
        "Una NBFI está luchando por marcar ganancias debido a un aumento en los incumplimientos en la categoría de préstamos para vehículos. La empresa tiene como objetivo determinar la capacidad de pago del préstamo del cliente y comprender la importancia relativa de cada parámetro que contribuye a la capacidad del prestatario para pagar el préstamo.\n"
      ],
      "metadata": {
        "id": "KHm-j2aHZoFB"
      }
    },
    {
      "cell_type": "markdown",
      "source": [
        "\n",
        "<b>Meta:</b>\n",
        "\n",
        "El objetivo del problema es predecir si un cliente no cumplirá con el pago del préstamo del vehículo o no. "
      ],
      "metadata": {
        "id": "fRuCC45BXxwX"
      }
    },
    {
      "cell_type": "markdown",
      "source": [
        "\n",
        "\n",
        "\n",
        "<img src=\"https://storage.googleapis.com/kaggle-datasets-images/1205706/2014650/7a50061003ce0de9839d54ff4673ccf2/dataset-cover.jpg?t=2021-07-04-09-18-01\" alt=\"HTML5 Icon\" style=\"width: 600px; height: 450px;\">\n",
        "<div style=\"text-align: center\">¿Cómo identificaremos a los clientes morosos? </div>"
      ],
      "metadata": {
        "id": "sYbqHyYAYeW1"
      }
    },
    {
      "cell_type": "markdown",
      "source": [
        "\n",
        "<b>Descripción de datos</b>\n",
        "\n",
        "El data frame de Automovile Loan tiene 121,856 filas y 40 columnas.\n",
        "\n",
        "\n",
        "---\n",
        "\n",
        "Se le proporciona un conjunto de datos anónimos que contiene una gran cantidad de variables. La columna <b>\"Default\"</b> es la variable a predecir. Es igual a uno para clientes que cayeron en mora y 0 para clientes que no.\n",
        "\n",
        "La tarea consiste en predecir la probabilidad de que cada cliente del conjunto de prueba sea un cliente moroso.\n",
        "\n",
        "\n",
        "---\n",
        "\n",
        "\n",
        "<strong>Puede consultar este [link](https://www.kaggle.com/datasets/saurabhbagchi/dish-network-hackathon) para leer más sobre la fuente de datos Automobile Loan Default.</strong>\n"
      ],
      "metadata": {
        "id": "fsKmSeWpZtFC"
      }
    },
    {
      "cell_type": "markdown",
      "source": [
        "## 2. Descargar y limpiar Dataset"
      ],
      "metadata": {
        "id": "d5-Lsjy8aZv4"
      }
    },
    {
      "cell_type": "code",
      "source": [
        "# Principales librerías\n",
        "\n",
        "# Scikit-Learn \n",
        "import sklearn\n",
        "\n",
        "# Imports comunes\n",
        "import pandas as pd\n",
        "import numpy as np\n",
        "import os\n",
        "\n",
        "# Cargar seaborn \n",
        "import seaborn as sns\n",
        "sns.set(style=\"whitegrid\", color_codes = True)\n",
        "sns.set_palette('pastel')\n",
        "sns.set(rc={'figure.figsize':(10,6)})\n",
        "\n",
        "# Configuración de gráficos matplotlib\n",
        "%matplotlib inline\n",
        "import matplotlib as mpl\n",
        "import matplotlib.pyplot as plt\n",
        "\n",
        "mpl.rc('axes', labelsize=14)\n",
        "mpl.rc('xtick', labelsize=12)\n",
        "mpl.rc('ytick', labelsize=12)\n",
        "\n",
        "# Ignore las advertencias poco útiles\n",
        "import warnings\n",
        "warnings.filterwarnings(action=\"ignore\", message=\"^internal gelsd\")"
      ],
      "metadata": {
        "id": "JilRYoLvcSYk"
      },
      "execution_count": 89,
      "outputs": []
    },
    {
      "cell_type": "code",
      "source": [
        "# Cargar Data\n",
        "\n",
        "import pandas as pd\n",
        "pddf = pd.read_csv(\"Train_Dataset.csv\")\n",
        "pddf.head()\n"
      ],
      "metadata": {
        "id": "eL4GrOMHXj87"
      },
      "execution_count": null,
      "outputs": []
    },
    {
      "cell_type": "code",
      "execution_count": null,
      "metadata": {
        "id": "-FqBSIbhmGgu"
      },
      "outputs": [],
      "source": [
        "# Analizando el target \n",
        "sns.countplot(x='Default', data = pddf, palette = 'hls')"
      ]
    },
    {
      "cell_type": "code",
      "source": [
        "# Indentificar las variables \n",
        "\n",
        "features = list(set(pddf.columns.tolist()) - set(['ID', 'ID_Days','Default']))\n",
        "features"
      ],
      "metadata": {
        "id": "EUrUFH48c1Mw"
      },
      "execution_count": null,
      "outputs": []
    },
    {
      "cell_type": "code",
      "source": [
        "features_string = list(pddf.select_dtypes(include=['object']).columns)\n",
        "features_string"
      ],
      "metadata": {
        "id": "xTdwWdrnnoo8"
      },
      "execution_count": null,
      "outputs": []
    },
    {
      "cell_type": "code",
      "source": [
        "pddf.convert_dtypes(infer_objects=True).dtypes "
      ],
      "metadata": {
        "id": "AA2LeemQp6kU"
      },
      "execution_count": null,
      "outputs": []
    },
    {
      "cell_type": "code",
      "source": [
        "categorical_features = ['Accompany_Client', 'Client_Income_Type', \n",
        "                        'Client_Education', 'Client_Marital_Status', \n",
        "                        'Client_Gender', 'Loan_Contract_Type', 'Client_Housing_Type',\n",
        "                        'Client_Occupation', 'Client_Permanent_Match_Tag', \n",
        "                        'Client_Contact_Work_Tag', 'Type_Organization']"
      ],
      "metadata": {
        "id": "ykF1pSWVobe0"
      },
      "execution_count": 209,
      "outputs": []
    },
    {
      "cell_type": "code",
      "source": [
        "numeric_features = list(set(features) - set(categorical_features))\n",
        "numeric_features"
      ],
      "metadata": {
        "id": "fDjKdXmNpTGN"
      },
      "execution_count": null,
      "outputs": []
    },
    {
      "cell_type": "code",
      "source": [
        "pddf.replace({'@': None,\n",
        "              '#': None,\n",
        "              '&': None,\n",
        "              'x': None,\n",
        "              '$': None,\n",
        "              '#VALUE!': None}, inplace = True)"
      ],
      "metadata": {
        "id": "Wr8y3jFMiTYW"
      },
      "execution_count": 211,
      "outputs": []
    },
    {
      "cell_type": "code",
      "source": [
        "# convert Series\n",
        "\n",
        "for col in numeric_features:\n",
        "  pddf[col] = pd.to_numeric(pddf[col])\n"
      ],
      "metadata": {
        "id": "_m5dNZnWprHp"
      },
      "execution_count": 212,
      "outputs": []
    },
    {
      "cell_type": "code",
      "source": [
        "pddf.dtypes"
      ],
      "metadata": {
        "id": "06jO_nvgixYG"
      },
      "execution_count": null,
      "outputs": []
    },
    {
      "cell_type": "code",
      "source": [
        "# Determinando matrices de datos\n",
        "\n",
        "X = pddf[features + ['ID', 'Default']]\n",
        "y = pddf.Default\n"
      ],
      "metadata": {
        "id": "Uknriuy8fCwD"
      },
      "execution_count": 213,
      "outputs": []
    },
    {
      "cell_type": "code",
      "source": [
        "# Muestreo de data\n",
        "\n",
        "from sklearn.model_selection import train_test_split\n",
        "\n",
        "X_train, X_test, y_train, y_test = train_test_split(X, y, \n",
        "                                                    stratify = y,\n",
        "                                                    train_size = 0.7,\n",
        "                                                    random_state = 123)\n"
      ],
      "metadata": {
        "id": "r4htXb8fi58W"
      },
      "execution_count": 214,
      "outputs": []
    },
    {
      "cell_type": "markdown",
      "source": [
        "## 3. Pre-selección de variables"
      ],
      "metadata": {
        "id": "7cNhaU-dlISW"
      }
    },
    {
      "cell_type": "code",
      "source": [
        "# Estadísticos básicos\n",
        "\n",
        "df_res = X_train[numeric_features].describe().transpose()\n",
        "df_res.head()"
      ],
      "metadata": {
        "id": "At2-Fd8_jy7s"
      },
      "execution_count": null,
      "outputs": []
    },
    {
      "cell_type": "code",
      "source": [
        "# Dando formato a la data\n",
        "\n",
        "df_res.reset_index(inplace = True)\n",
        "df_res.rename(columns = {'index': 'feature',\n",
        "                         '25%': 'Q1',\n",
        "                         '50%': 'Median',\n",
        "                         '75%': 'Q3'}, inplace = True)\n",
        "df_res.head()"
      ],
      "metadata": {
        "id": "3FcU8zD6lpFe"
      },
      "execution_count": null,
      "outputs": []
    },
    {
      "cell_type": "code",
      "source": [
        "# Calculando el porcentaje de missings\n",
        "\n",
        "df_res['missing_rate'] = 1 - df_res['count']/pddf.shape[0]\n",
        "df_res.head()\n"
      ],
      "metadata": {
        "id": "d79NS43EmI31"
      },
      "execution_count": null,
      "outputs": []
    },
    {
      "cell_type": "code",
      "source": [
        "#Calculando el gini univariado de todas las variables\n",
        "\n",
        "ginisZero = [sklearn.metrics.roc_auc_score(y_train, X_train[col].fillna(0))*2-1 for col in numeric_features]\n"
      ],
      "metadata": {
        "id": "wPYZryrBj5eI"
      },
      "execution_count": 279,
      "outputs": []
    },
    {
      "cell_type": "code",
      "source": [
        "temp = X_train.copy()\n",
        "temp['y'] = y_train\n",
        "\n",
        "ginisNan = [sklearn.metrics.roc_auc_score(temp[['y', col]].dropna().y, temp[['y', col]].dropna()[col])*2-1 for col in numeric_features]\n"
      ],
      "metadata": {
        "id": "lYKYIj13hOX-"
      },
      "execution_count": 280,
      "outputs": []
    },
    {
      "cell_type": "code",
      "source": [
        "res_ginis = pd.DataFrame({'feature' : numeric_features,\n",
        "                          'giniZero' : ginisZero,\n",
        "                          'giniNan'  : ginisNan})"
      ],
      "metadata": {
        "id": "jOQpvEGVk9gD"
      },
      "execution_count": 281,
      "outputs": []
    },
    {
      "cell_type": "code",
      "source": [
        "df_res2 = pd.merge(df_res, res_ginis, on = 'feature', how='left')\n",
        "df_res2.head()"
      ],
      "metadata": {
        "id": "VrAPIq1ElhKD"
      },
      "execution_count": null,
      "outputs": []
    },
    {
      "cell_type": "code",
      "source": [
        "# Ordenando variables por importancia de explicación\n",
        "\n",
        "df_res2['abs_giniZero'] = df_res2.giniZero.apply(lambda x: abs(x))\n",
        "df_res2['abs_giniNan'] = df_res2.giniNan.apply(lambda x: abs(x))\n",
        "\n",
        "df_res2['abs_ginimax'] = df_res2[['abs_giniZero', 'abs_giniNan']].max(axis = 1)\n",
        "df_res2.sort_values('abs_ginimax', ascending = False)\n"
      ],
      "metadata": {
        "id": "e0EVfWVhl3Ao"
      },
      "execution_count": null,
      "outputs": []
    },
    {
      "cell_type": "code",
      "source": [
        "df_res.to_csv('univariate_assesment.csv', index = 0)"
      ],
      "metadata": {
        "id": "igVG_0cbnWHV"
      },
      "execution_count": 299,
      "outputs": []
    },
    {
      "cell_type": "markdown",
      "source": [
        "## 4. Tratamiento de variables categóricas"
      ],
      "metadata": {
        "id": "OeZebzd8oQLJ"
      }
    },
    {
      "cell_type": "code",
      "source": [
        "categorical_features"
      ],
      "metadata": {
        "id": "fCQksGpspMtN"
      },
      "execution_count": null,
      "outputs": []
    },
    {
      "cell_type": "code",
      "source": [
        "# Analizando variable categórica\n",
        "sns.countplot(x='Client_Marital_Status', data = X_train, palette = 'hls')"
      ],
      "metadata": {
        "id": "--MCtChFocvZ"
      },
      "execution_count": null,
      "outputs": []
    },
    {
      "cell_type": "code",
      "source": [
        "mar_res = X_train.groupby(['Client_Marital_Status']).agg({\"ID\":\"count\",\n",
        "                                                \"Default\" :\"mean\"}).reset_index()\n",
        "mar_res                                                "
      ],
      "metadata": {
        "id": "-L7TJc1Qpb4J"
      },
      "execution_count": null,
      "outputs": []
    },
    {
      "cell_type": "code",
      "source": [
        "sns.lineplot(x = 'Client_Marital_Status', y = 'Default', data = mar_res)"
      ],
      "metadata": {
        "id": "CXwRRlqfqQlA"
      },
      "execution_count": null,
      "outputs": []
    },
    {
      "cell_type": "code",
      "source": [
        "# Title\n",
        "plt.title('Análisis de RD')\n",
        "# X label\n",
        "plt.xlabel('Client_Marital_Status')\n",
        "# Y label\n",
        "plt.ylabel('Default')\n",
        "\n",
        "\n",
        "ax = mar_res['Default'].plot(secondary_y = True)\n",
        "mar_res[['Client_Marital_Status','ID']].plot(kind='bar', ax=ax)\n"
      ],
      "metadata": {
        "id": "uzzF1_-lq3GC"
      },
      "execution_count": null,
      "outputs": []
    },
    {
      "cell_type": "markdown",
      "metadata": {
        "id": "BzjJoA4znq1u"
      },
      "source": [
        "#### Encoding de variables categóricas"
      ]
    },
    {
      "cell_type": "markdown",
      "metadata": {
        "id": "NkpAoL6tI7mS"
      },
      "source": [
        "\n",
        "---\n",
        "\n",
        "<h3>Label Encoding</h3> \n",
        "\n",
        "El label encoding consiste en asignar un número (por lo general entero) a cada una de las categorías de la variable categórica.\n",
        "\n",
        "<img src=\"https://miro.medium.com/max/772/1*QQe-4476Oy3_dI1vhb3dDg.png\" alt=\"HTML5 Icon\" style=\"width: 1600px; height: 1250px;\">\n",
        "\n",
        "\n",
        "\n",
        "---\n",
        "\n",
        "<h3>One Hot Encoding</h3> \n",
        "\n",
        "El One hot encoding es un proceso que consiste en dummizar cada catgoría de la variable en una nueva variable, de esta manera las nuevas variables se activarán dependiendo del valor que tome la variable original.\n",
        "\n",
        "<img src=\"https://encrypted-tbn0.gstatic.com/images?q=tbn:ANd9GcTr11qA6j0WCbEYrfNoQ7QO_NpMIZus42BJwQ&usqp=CAU\" alt=\"HTML5 Icon\" style=\"width: 1600px; height: 1250px;\">\n",
        "\n",
        "---\n",
        "\n",
        "<div style=\"text-align: center\">Ejemplo de one hot Encoding </div>\n",
        "\n",
        "<h3>Target Encoding</h3> \n",
        "\n",
        "El target encoding es una técnica que consiste en inputar el promedio del target a cada uno de los valores de la variable categórica.\n",
        "\n",
        "<img src=\"https://lh6.googleusercontent.com/6_KrGj2k9NvcLVfmZ6HIYruAqav4rX86YU7WOhXofDGd6-98JjUPWajo0dDqmFMXv3tN0b_LOmgYLiPMCFyIWw3b7lVrCAiSboWgJ_AJ4TqHpNWUHkgIxl0xuSF9JdSXNbWG48QS\" alt=\"HTML5 Icon\" style=\"width: 600px; height: 450px;\">\n",
        "\n",
        "---\n"
      ]
    },
    {
      "cell_type": "code",
      "source": [
        "# Reemplazar las filas NaN por una categoría específica para missings \n",
        "\n",
        "X_train[categorical_features].fillna('missing', inplace = True)\n",
        "X_train[categorical_features] = X_train[categorical_features].replace(np.nan,'missing')\n",
        "\n",
        "X_train[categorical_features].head()"
      ],
      "metadata": {
        "id": "TmO3FRbUtkfu"
      },
      "execution_count": null,
      "outputs": []
    },
    {
      "cell_type": "markdown",
      "source": [
        "<h3>One Hot Encoding</h3> "
      ],
      "metadata": {
        "id": "yJPa11C1us-g"
      }
    },
    {
      "cell_type": "code",
      "source": [
        "# One hot Encoding\n",
        "\n",
        "from sklearn.preprocessing import OneHotEncoder\n",
        "OneHotEncoder = OneHotEncoder()\n"
      ],
      "metadata": {
        "id": "Km1H1PkcusSn"
      },
      "execution_count": 116,
      "outputs": []
    },
    {
      "cell_type": "code",
      "source": [
        "# definiendo reglas de encoding\n",
        "\n",
        "OneHotEncoder.fit(X_train[categorical_features])\n"
      ],
      "metadata": {
        "id": "QqvB0eiLu9aU"
      },
      "execution_count": null,
      "outputs": []
    },
    {
      "cell_type": "code",
      "source": [
        "list_dummys = []\n",
        "for c in categorical_features:\n",
        "  list_dummys += [c + '_dum' + str(x) for x in range(len(X_train[c].drop_duplicates()))]\n"
      ],
      "metadata": {
        "id": "KU40y8FvxsWs"
      },
      "execution_count": 118,
      "outputs": []
    },
    {
      "cell_type": "code",
      "source": [
        "list_dummys\n"
      ],
      "metadata": {
        "id": "b3P7wyW1vt7h"
      },
      "execution_count": null,
      "outputs": []
    },
    {
      "cell_type": "code",
      "source": [
        "# Usando reglas de encoding\n",
        "\n",
        "X_train[list_dummys] = OneHotEncoder.transform(X_train[categorical_features]).toarray()\n",
        "X_train[categorical_features + list_dummys].head()"
      ],
      "metadata": {
        "id": "y6p_GV43vlrk"
      },
      "execution_count": null,
      "outputs": []
    },
    {
      "cell_type": "markdown",
      "metadata": {
        "id": "szuWpiMqmwvL"
      },
      "source": [
        "<h3>Target Encoding</h3> "
      ]
    },
    {
      "cell_type": "code",
      "metadata": {
        "id": "0pcSepG4TZa-"
      },
      "source": [
        "!pip install category_encoders"
      ],
      "execution_count": null,
      "outputs": []
    },
    {
      "cell_type": "code",
      "metadata": {
        "id": "33Y7NZyJHobo"
      },
      "source": [
        "# Target Encoding\n",
        "\n",
        "from category_encoders import TargetEncoder\n",
        "encoder = TargetEncoder()\n",
        "\n"
      ],
      "execution_count": null,
      "outputs": []
    },
    {
      "cell_type": "code",
      "source": [
        "# definiendo reglas de encoding\n",
        "\n",
        "TargetEncoder = encoder.fit(X_train[categorical_features], X_train['Default'])"
      ],
      "metadata": {
        "id": "jOHMI7d_zS88"
      },
      "execution_count": 123,
      "outputs": []
    },
    {
      "cell_type": "code",
      "source": [
        "# Usando reglas de encoding\n",
        "\n",
        "X_train[[x + '_num' for x in categorical_features]] = TargetEncoder.transform(X_train[categorical_features])\n"
      ],
      "metadata": {
        "id": "v25pphTVzj62"
      },
      "execution_count": 124,
      "outputs": []
    },
    {
      "cell_type": "code",
      "source": [
        "#Analizamos resultados\n",
        "\n",
        "X_train[[x for x in X_train.columns.tolist() if 'Client_Gender' in x] ].drop_duplicates().head()\n"
      ],
      "metadata": {
        "id": "qtpaMDgpypNe"
      },
      "execution_count": null,
      "outputs": []
    },
    {
      "cell_type": "markdown",
      "source": [
        "<h3>WOE Encoding</h3> "
      ],
      "metadata": {
        "id": "WQGxr-js1u_Y"
      }
    },
    {
      "cell_type": "code",
      "source": [
        "# Target Encoding\n",
        "\n",
        "from category_encoders.woe import WOEEncoder\n",
        "encoder = WOEEncoder()\n"
      ],
      "metadata": {
        "id": "LqaVIcDJ1Pd9"
      },
      "execution_count": 126,
      "outputs": []
    },
    {
      "cell_type": "code",
      "source": [
        "# definiendo reglas de encoding\n",
        "\n",
        "WOEEncoder = encoder.fit(X_train[categorical_features], X_train['Default'])"
      ],
      "metadata": {
        "id": "WinkhYIV1b3Y"
      },
      "execution_count": 127,
      "outputs": []
    },
    {
      "cell_type": "code",
      "source": [
        "# Usando reglas de encoding\n",
        "\n",
        "X_train[[x + '_woe' for x in categorical_features]] = WOEEncoder.transform(X_train[categorical_features])\n"
      ],
      "metadata": {
        "id": "ROYm8xIW1hQI"
      },
      "execution_count": 128,
      "outputs": []
    },
    {
      "cell_type": "code",
      "source": [
        "#Analizamos resultados\n",
        "\n",
        "X_train[[x for x in X_train.columns.tolist() if 'Client_Gender' in x] ].drop_duplicates().head()\n"
      ],
      "metadata": {
        "id": "d8TkdH821laB"
      },
      "execution_count": null,
      "outputs": []
    },
    {
      "cell_type": "markdown",
      "metadata": {
        "id": "l-USf44pnQqv"
      },
      "source": [
        "## 5. Tratamiento de variables numéricas\n",
        "\n",
        "\n"
      ]
    },
    {
      "cell_type": "code",
      "source": [
        "numeric_features"
      ],
      "metadata": {
        "id": "_myogeAK4CzJ"
      },
      "execution_count": null,
      "outputs": []
    },
    {
      "cell_type": "code",
      "source": [
        "# Cargar seaborn \n",
        "import seaborn as sns\n",
        "sns.set(style=\"whitegrid\", color_codes = True)\n",
        "sns.set(rc={'figure.figsize':(10,6)})"
      ],
      "metadata": {
        "id": "T5cEYYsvR7ES"
      },
      "execution_count": 227,
      "outputs": []
    },
    {
      "cell_type": "code",
      "source": [
        "#sns.displot(X_train, x = 'Client_Income', bins=30, kde=True)\n",
        "sns.displot(X_train, x = \"Client_Income\", kind=\"kde\", fill=True)"
      ],
      "metadata": {
        "id": "b2eScYq64rik"
      },
      "execution_count": null,
      "outputs": []
    },
    {
      "cell_type": "code",
      "source": [
        "sns.displot(X_train, x=\"Client_Income\", hue='Default', kind=\"kde\", fill=True)"
      ],
      "metadata": {
        "id": "zyszMw1tRoSu"
      },
      "execution_count": null,
      "outputs": []
    },
    {
      "cell_type": "code",
      "source": [
        "sns.set_theme(style=\"whitegrid\")\n",
        "ax = sns.boxplot(x = \"Client_Income\", data = X_train, palette = 'hls')"
      ],
      "metadata": {
        "id": "KdjYGsVC1-j9"
      },
      "execution_count": null,
      "outputs": []
    },
    {
      "cell_type": "code",
      "source": [
        "ax = sns.boxplot(x=\"Default\", y=\"Client_Income\", data=X_train, palette = 'hls')\n"
      ],
      "metadata": {
        "id": "zDn3tYxcSq_m"
      },
      "execution_count": null,
      "outputs": []
    },
    {
      "cell_type": "markdown",
      "source": [
        "<h3>Tratamiento de outliers</h3> "
      ],
      "metadata": {
        "id": "FduQMBhdRLf8"
      }
    },
    {
      "cell_type": "markdown",
      "source": [
        "### Outliers por Rango Intercuantílico"
      ],
      "metadata": {
        "id": "vzdI2sGIRQhX"
      }
    },
    {
      "cell_type": "markdown",
      "source": [
        "<img src=\"https://miro.medium.com/max/1400/1*2c21SkzJMf3frPXPAR_gZA.png\" width=\"500\" \n",
        "     height=\"300\" > "
      ],
      "metadata": {
        "id": "hreWAj5MTulj"
      }
    },
    {
      "cell_type": "markdown",
      "source": [
        "<img src=\"data:image/png;base64,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\" width=\"450\" \n",
        "     height=\"150\" > "
      ],
      "metadata": {
        "id": "6rUdS5wpU5Yb"
      }
    },
    {
      "cell_type": "code",
      "source": [
        "#Leyendo tabla resumen\n",
        "\n",
        "univariate_II = pd.read_csv('univariate_asssesment.csv').sort_values(by = 'abs_gini', ascending = False)\n",
        "univariate_II = univariate_II.loc[univariate_II.abs_gini > 0.025]\n",
        "\n",
        "univariate_II.head() "
      ],
      "metadata": {
        "id": "SgMQ0ILTWW3D"
      },
      "execution_count": null,
      "outputs": []
    },
    {
      "cell_type": "code",
      "source": [
        "# Calculando los intervalos RIC\n",
        "\n",
        "univariate_II['ric'] = univariate_II['Q3'] - univariate_II['Q1']\n",
        "\n",
        "univariate_II['min_ric'] = univariate_II['Q1'] - 1.5*univariate_II['ric']\n",
        "univariate_II['max_ric'] = univariate_II['Q3'] + 1.5*univariate_II['ric']\n",
        "\n",
        "univariate_II.head() "
      ],
      "metadata": {
        "id": "UYWNWVzMW9Z5"
      },
      "execution_count": null,
      "outputs": []
    },
    {
      "cell_type": "code",
      "source": [
        "# Tratamiento de outliers por RIC\n",
        "\n",
        "for col in univariate_II.feature.tolist():\n",
        "  desc = univariate_II.loc[univariate_II.feature == col]\n",
        "  X_train[col + '_tric'] = X_train[col].apply(lambda x: desc.max_ric.values[0] if x > desc.max_ric.values[0]\n",
        "                                                   else desc.min_ric.values[0] if x < desc.min_ric.values[0]\n",
        "                                                   else x)\n",
        "\n",
        "X_train.head()"
      ],
      "metadata": {
        "id": "qHcqYBNoRVxy"
      },
      "execution_count": null,
      "outputs": []
    },
    {
      "cell_type": "markdown",
      "source": [
        "Revisemos los resultados"
      ],
      "metadata": {
        "id": "a9R44YcWecex"
      }
    },
    {
      "cell_type": "code",
      "source": [
        "sns.displot(X_train, x = \"Score_Source_2\", kind=\"kde\", fill=True)"
      ],
      "metadata": {
        "id": "FOMDrJLNa__P"
      },
      "execution_count": null,
      "outputs": []
    },
    {
      "cell_type": "code",
      "source": [
        "sns.displot(X_train, x = \"Score_Source_2_tric\", kind=\"kde\", fill=True)"
      ],
      "metadata": {
        "id": "D3MLhR6fbAa2"
      },
      "execution_count": null,
      "outputs": []
    },
    {
      "cell_type": "code",
      "source": [
        "sns.displot(X_train, x=\"Score_Source_2_tric\", hue='Default', kind=\"kde\", fill=True)"
      ],
      "metadata": {
        "id": "dALiC6WTcZOg"
      },
      "execution_count": null,
      "outputs": []
    },
    {
      "cell_type": "code",
      "source": [
        "ax = sns.boxplot(x=\"Default\", y=\"Score_Source_2_tric\", data=X_train, palette = 'hls')"
      ],
      "metadata": {
        "id": "hbS3aIw2ceu4"
      },
      "execution_count": null,
      "outputs": []
    },
    {
      "cell_type": "markdown",
      "source": [
        "### Outliers por Z-score"
      ],
      "metadata": {
        "id": "YYEmnHm-dTPN"
      }
    },
    {
      "cell_type": "markdown",
      "source": [
        "\n",
        "\n",
        "<img src=\"https://editor.analyticsvidhya.com/uploads/440971.png\" width=\"500\" \n",
        "     height=\"300\" > "
      ],
      "metadata": {
        "id": "yO4pD-9edbSY"
      }
    },
    {
      "cell_type": "code",
      "source": [
        "univariate_II.head()"
      ],
      "metadata": {
        "id": "tDUSsX1Cd7ZE"
      },
      "execution_count": null,
      "outputs": []
    },
    {
      "cell_type": "code",
      "metadata": {
        "id": "oxT_G0swngqE"
      },
      "source": [
        "# Calculando los intervalos Z-score\n",
        "\n",
        "univariate_II['min_zscore'] = univariate_II['mean'] - 3*univariate_II['std']\n",
        "univariate_II['max_zscore'] = univariate_II['mean'] + 3*univariate_II['std']\n",
        "\n",
        "univariate_II.head() "
      ],
      "execution_count": null,
      "outputs": []
    },
    {
      "cell_type": "code",
      "source": [
        "# Tratamiento de outliers por Z-score\n",
        "\n",
        "for col in univariate_II.feature.tolist():\n",
        "  desc = univariate_II.loc[univariate_II.feature == col]\n",
        "  X_train[col + '_tzscore'] = X_train[col].apply(lambda x: desc.max_zscore.values[0] if x > desc.max_zscore.values[0]\n",
        "                                                   else desc.min_zscore.values[0] if x < desc.min_zscore.values[0]\n",
        "                                                   else x)\n",
        "\n",
        "X_train.head()"
      ],
      "metadata": {
        "id": "JVYo0Jrceg6S"
      },
      "execution_count": null,
      "outputs": []
    },
    {
      "cell_type": "markdown",
      "source": [
        "Revisemos los resultados"
      ],
      "metadata": {
        "id": "gQcKHTXwgr_E"
      }
    },
    {
      "cell_type": "code",
      "source": [
        "sns.displot(X_train, x = \"Score_Source_2\", kind=\"kde\", fill=True)"
      ],
      "metadata": {
        "id": "b4qgg1WVgr_F"
      },
      "execution_count": null,
      "outputs": []
    },
    {
      "cell_type": "code",
      "source": [
        "sns.displot(X_train, x = \"Score_Source_2_tzscore\", kind=\"kde\", fill=True)"
      ],
      "metadata": {
        "id": "wAlIzA32gr_F"
      },
      "execution_count": null,
      "outputs": []
    },
    {
      "cell_type": "code",
      "source": [
        "sns.displot(X_train, x=\"Score_Source_2_tzscore\", hue='Default', kind=\"kde\", fill=True)"
      ],
      "metadata": {
        "id": "NjWByaGZgr_F"
      },
      "execution_count": null,
      "outputs": []
    },
    {
      "cell_type": "code",
      "source": [
        "ax = sns.boxplot(x=\"Default\", y=\"Score_Source_2_tzscore\", data=X_train, palette = 'hls')"
      ],
      "metadata": {
        "id": "5wt8hPGhgr_F"
      },
      "execution_count": null,
      "outputs": []
    },
    {
      "cell_type": "code",
      "source": [
        "#Calculando el gini univariado de todas las variables\n",
        "\n",
        "features_outtreat_zscore = [x  + '_tzscore' for x in univariate_II.feature.tolist()]\n",
        "features_outtreat_tric = [x  + '_tric' for x in univariate_II.feature.tolist()]\n"
      ],
      "metadata": {
        "id": "6cHBshO2hCku"
      },
      "execution_count": 318,
      "outputs": []
    },
    {
      "cell_type": "code",
      "source": [
        "#Calculando el gini univariado de todas las variables\n",
        "\n",
        "ginisZeroZscore = [sklearn.metrics.roc_auc_score(y_train, X_train[col].fillna(0))*2-1 for col in features_outtreat_zscore]\n",
        "ginisZeroTric = [sklearn.metrics.roc_auc_score(y_train, X_train[col].fillna(0))*2-1 for col in features_outtreat_tric]\n"
      ],
      "metadata": {
        "id": "Bo55rgE7l60H"
      },
      "execution_count": 319,
      "outputs": []
    },
    {
      "cell_type": "code",
      "source": [
        "temp = X_train.copy()\n",
        "temp['y'] = y_train\n",
        "\n",
        "ginisNanZscore = [sklearn.metrics.roc_auc_score(temp[['y', col]].dropna().y, temp[['y', col]].dropna()[col])*2-1 for col in features_outtreat_zscore]\n",
        "ginisNanTric = [sklearn.metrics.roc_auc_score(temp[['y', col]].dropna().y, temp[['y', col]].dropna()[col])*2-1 for col in features_outtreat_tric]\n"
      ],
      "metadata": {
        "id": "Uyky9L8hl60R"
      },
      "execution_count": 320,
      "outputs": []
    },
    {
      "cell_type": "code",
      "source": [
        "res_ginis2 = pd.DataFrame({'feature' : univariate_II.feature.tolist(),\n",
        "                          'giniZeroZscore' : ginisZeroZscore,\n",
        "                          'giniZeroTric' : ginisZeroTric,\n",
        "                          'giniNanZscore' : ginisNanZscore,\n",
        "                          'giniNanTric'  : ginisNanTric})"
      ],
      "metadata": {
        "id": "ZWUiZFiWl60R"
      },
      "execution_count": 321,
      "outputs": []
    },
    {
      "cell_type": "code",
      "source": [
        "univariate_III = pd.merge(univariate_II, res_ginis2, on = 'feature', how='left')\n",
        "univariate_III[['feature'] + [x for x in univariate_III.columns.tolist() if 'gini' in x]].head(10)"
      ],
      "metadata": {
        "id": "3hNUDcAfl60R"
      },
      "execution_count": null,
      "outputs": []
    },
    {
      "cell_type": "markdown",
      "source": [
        "### Tratamiento de Missings"
      ],
      "metadata": {
        "id": "rbw45Wj_g_uk"
      }
    },
    {
      "cell_type": "code",
      "metadata": {
        "id": "_SmrbJFWrKx1"
      },
      "source": [
        "# Trataiento de missings\n",
        "\n",
        "data[[x + '_t' for x in numFeatures]] = data[numFeatures].fillna(data[numFeatures].median())\n"
      ],
      "execution_count": null,
      "outputs": []
    },
    {
      "cell_type": "code",
      "metadata": {
        "id": "WySovzP5rgok"
      },
      "source": [
        "data[[x + '_t' for x in numFeatures]].head(30)"
      ],
      "execution_count": null,
      "outputs": []
    },
    {
      "cell_type": "code",
      "source": [
        "X_train.groupby(['Client_Gender']).agg({\"ID\":\"count\",\n",
        "                                        \"Default\" :\"mean\"}).reset_index()"
      ],
      "metadata": {
        "id": "X1BpQDVDz6xG"
      },
      "execution_count": null,
      "outputs": []
    }
  ]
}