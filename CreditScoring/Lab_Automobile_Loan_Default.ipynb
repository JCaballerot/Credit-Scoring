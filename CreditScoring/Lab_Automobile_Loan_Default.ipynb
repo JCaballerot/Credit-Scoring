{
  "nbformat": 4,
  "nbformat_minor": 0,
  "metadata": {
    "colab": {
      "provenance": [],
      "machine_shape": "hm",
      "authorship_tag": "ABX9TyMd5E6HMEUJDUvx1W6t0nTH",
      "include_colab_link": true
    },
    "kernelspec": {
      "name": "python3",
      "display_name": "Python 3"
    },
    "language_info": {
      "name": "python"
    }
  },
  "cells": [
    {
      "cell_type": "markdown",
      "metadata": {
        "id": "view-in-github",
        "colab_type": "text"
      },
      "source": [
        "<a href=\"https://colab.research.google.com/github/JCaballerot/Credit-Scoring/blob/main/CreditScoring/Lab_Automobile_Loan_Default.ipynb\" target=\"_parent\"><img src=\"https://colab.research.google.com/assets/colab-badge.svg\" alt=\"Open In Colab\"/></a>"
      ]
    },
    {
      "cell_type": "markdown",
      "source": [
        "\n",
        "<h1 align=center><font size = 5>Automobile Loan Default Dataset\n",
        "</font></h1>\n",
        "\n",
        "---"
      ],
      "metadata": {
        "id": "s6UHVkgOXcmw"
      }
    },
    {
      "cell_type": "markdown",
      "source": [
        "## Introducción\n",
        "\n",
        "En este laboratorio, aprenderá a usar python para construir un modelo de <b>credit scoring</b>.\n",
        "\n"
      ],
      "metadata": {
        "id": "zINWKfpHZJRl"
      }
    },
    {
      "cell_type": "markdown",
      "source": [
        "## Objetivo de este Notebook\n",
        "\n",
        "1. Como construir e interpretar un modelo de regresión logística.\n",
        "2. Descargar y limpiar un Dataset\n",
        "3. Realizar los pasos necesarios previos a la etapa de modelamiento\n",
        "4. Entrenar y Testear modelo"
      ],
      "metadata": {
        "id": "mLlfVwLIZV7b"
      }
    },
    {
      "cell_type": "markdown",
      "source": [
        "## Tabla de Contenidos\n",
        "\n",
        "<div class=\"alert alert-block alert-info\" style=\"margin-top: 20px\">\n",
        "\n",
        "<font size = 3>\n",
        "    \n",
        "1. <a href=\"#item31\">Contexto</a>  \n",
        "2. <a href=\"#item32\">Descargar y limpiar el Dataset</a>  \n",
        "3. <a href=\"#item33\">Pre-selección de variables</a>  \n",
        "4. <a href=\"#item34\">Tratamiento de variables categóricas</a>  \n",
        "5. <a href=\"#item34\">Tratamiento de variables numéricas</a>  \n",
        " \n",
        "\n",
        "</font>\n",
        "</div>"
      ],
      "metadata": {
        "id": "icLdd0FKXoSA"
      }
    },
    {
      "cell_type": "markdown",
      "source": [
        "## 1. Contexto"
      ],
      "metadata": {
        "id": "wXxiLTiBXyw8"
      }
    },
    {
      "cell_type": "markdown",
      "source": [
        "Una institución financiera no bancaria (NBFI) o una compañía financiera no bancaria (NBFC) es una institución financiera que no tiene una licencia bancaria completa o no está supervisada por una agencia reguladora bancaria nacional o internacional. NBFC facilita los servicios financieros relacionados con los bancos, como inversión, agrupación de riesgos, ahorros contractuales y corretaje de mercado.\n",
        "\n",
        "Una NBFI está luchando por marcar ganancias debido a un aumento en los incumplimientos en la categoría de préstamos para vehículos. La empresa tiene como objetivo determinar la capacidad de pago del préstamo del cliente y comprender la importancia relativa de cada parámetro que contribuye a la capacidad del prestatario para pagar el préstamo.\n"
      ],
      "metadata": {
        "id": "KHm-j2aHZoFB"
      }
    },
    {
      "cell_type": "markdown",
      "source": [
        "\n",
        "<b>Meta:</b>\n",
        "\n",
        "El objetivo del problema es predecir si un cliente no cumplirá con el pago del préstamo del vehículo o no. "
      ],
      "metadata": {
        "id": "fRuCC45BXxwX"
      }
    },
    {
      "cell_type": "markdown",
      "source": [
        "\n",
        "\n",
        "\n",
        "<img src=\"https://storage.googleapis.com/kaggle-datasets-images/1205706/2014650/7a50061003ce0de9839d54ff4673ccf2/dataset-cover.jpg?t=2021-07-04-09-18-01\" alt=\"HTML5 Icon\" style=\"width: 600px; height: 450px;\">\n",
        "<div style=\"text-align: center\">¿Cómo identificaremos a los clientes morosos? </div>"
      ],
      "metadata": {
        "id": "sYbqHyYAYeW1"
      }
    },
    {
      "cell_type": "markdown",
      "source": [
        "\n",
        "<b>Descripción de datos</b>\n",
        "\n",
        "El data frame de Automovile Loan tiene 121,856 filas y 40 columnas.\n",
        "\n",
        "\n",
        "---\n",
        "\n",
        "Se le proporciona un conjunto de datos anónimos que contiene una gran cantidad de variables. La columna <b>\"Default\"</b> es la variable a predecir. Es igual a uno para clientes que cayeron en mora y 0 para clientes que no.\n",
        "\n",
        "La tarea consiste en predecir la probabilidad de que cada cliente del conjunto de prueba sea un cliente moroso.\n",
        "\n",
        "\n",
        "---\n",
        "\n",
        "\n",
        "<strong>Puede consultar este [link](https://www.kaggle.com/datasets/saurabhbagchi/dish-network-hackathon) para leer más sobre la fuente de datos Automobile Loan Default.</strong>\n"
      ],
      "metadata": {
        "id": "fsKmSeWpZtFC"
      }
    },
    {
      "cell_type": "markdown",
      "source": [
        "## 2. Descargar y limpiar Dataset"
      ],
      "metadata": {
        "id": "d5-Lsjy8aZv4"
      }
    },
    {
      "cell_type": "code",
      "source": [
        "# Principales librerías\n",
        "\n",
        "# Scikit-Learn \n",
        "import sklearn\n",
        "\n",
        "# Imports comunes\n",
        "import pandas as pd\n",
        "import numpy as np\n",
        "import os\n",
        "\n",
        "# Cargar seaborn \n",
        "import seaborn as sns\n",
        "sns.set(style=\"whitegrid\", color_codes = True)\n",
        "sns.set_palette('pastel')\n",
        "sns.set(rc={'figure.figsize':(10,6)})\n",
        "\n",
        "# Configuración de gráficos matplotlib\n",
        "%matplotlib inline\n",
        "import matplotlib as mpl\n",
        "import matplotlib.pyplot as plt\n",
        "\n",
        "mpl.rc('axes', labelsize=14)\n",
        "mpl.rc('xtick', labelsize=12)\n",
        "mpl.rc('ytick', labelsize=12)\n",
        "\n",
        "# Ignore las advertencias poco útiles\n",
        "import warnings\n",
        "warnings.filterwarnings(action=\"ignore\", message=\"^internal gelsd\")"
      ],
      "metadata": {
        "id": "JilRYoLvcSYk"
      },
      "execution_count": 8,
      "outputs": []
    },
    {
      "cell_type": "code",
      "source": [
        "# Cargar Data\n",
        "\n",
        "import pandas as pd\n",
        "pddf = pd.read_csv(\"Train_Dataset.csv\")\n",
        "pddf.head()\n"
      ],
      "metadata": {
        "id": "eL4GrOMHXj87",
        "outputId": "74e8a2af-c11f-4083-b9f0-71c6be00531c",
        "colab": {
          "base_uri": "https://localhost:8080/",
          "height": 0
        }
      },
      "execution_count": 9,
      "outputs": [
        {
          "output_type": "stream",
          "name": "stderr",
          "text": [
            "/usr/local/lib/python3.7/dist-packages/IPython/core/interactiveshell.py:3326: DtypeWarning: Columns (1,7,8,16,17,18,19,20,35) have mixed types.Specify dtype option on import or set low_memory=False.\n",
            "  exec(code_obj, self.user_global_ns, self.user_ns)\n"
          ]
        },
        {
          "output_type": "execute_result",
          "data": {
            "text/plain": [
              "         ID Client_Income  Car_Owned  Bike_Owned  Active_Loan  House_Own  \\\n",
              "0  12142509          6750        0.0         0.0          1.0        0.0   \n",
              "1  12138936         20250        1.0         0.0          1.0        NaN   \n",
              "2  12181264         18000        0.0         0.0          1.0        0.0   \n",
              "3  12188929         15750        0.0         0.0          1.0        1.0   \n",
              "4  12133385         33750        1.0         0.0          1.0        0.0   \n",
              "\n",
              "   Child_Count Credit_Amount Loan_Annuity Accompany_Client  ...  \\\n",
              "0          0.0      61190.55      3416.85            Alone  ...   \n",
              "1          0.0         15282      1826.55            Alone  ...   \n",
              "2          1.0      59527.35       2788.2            Alone  ...   \n",
              "3          0.0       53870.4      2295.45            Alone  ...   \n",
              "4          2.0      133988.4      3547.35            Alone  ...   \n",
              "\n",
              "  Client_Permanent_Match_Tag Client_Contact_Work_Tag       Type_Organization  \\\n",
              "0                        Yes                     Yes           Self-employed   \n",
              "1                        Yes                     Yes              Government   \n",
              "2                        Yes                     Yes           Self-employed   \n",
              "3                        Yes                     Yes                     XNA   \n",
              "4                        Yes                     Yes  Business Entity Type 3   \n",
              "\n",
              "  Score_Source_1 Score_Source_2 Score_Source_3 Social_Circle_Default  \\\n",
              "0       0.568066       0.478787            NaN                0.0186   \n",
              "1       0.563360       0.215068            NaN                   NaN   \n",
              "2            NaN       0.552795       0.329655                0.0742   \n",
              "3            NaN       0.135182       0.631355                   NaN   \n",
              "4       0.508199       0.301182       0.355639                0.2021   \n",
              "\n",
              "  Phone_Change Credit_Bureau Default  \n",
              "0         63.0           NaN       0  \n",
              "1          NaN           NaN       0  \n",
              "2        277.0           0.0       0  \n",
              "3       1700.0           3.0       0  \n",
              "4        674.0           1.0       0  \n",
              "\n",
              "[5 rows x 40 columns]"
            ],
            "text/html": [
              "\n",
              "  <div id=\"df-8a738975-8719-44b9-abb6-376b1316654c\">\n",
              "    <div class=\"colab-df-container\">\n",
              "      <div>\n",
              "<style scoped>\n",
              "    .dataframe tbody tr th:only-of-type {\n",
              "        vertical-align: middle;\n",
              "    }\n",
              "\n",
              "    .dataframe tbody tr th {\n",
              "        vertical-align: top;\n",
              "    }\n",
              "\n",
              "    .dataframe thead th {\n",
              "        text-align: right;\n",
              "    }\n",
              "</style>\n",
              "<table border=\"1\" class=\"dataframe\">\n",
              "  <thead>\n",
              "    <tr style=\"text-align: right;\">\n",
              "      <th></th>\n",
              "      <th>ID</th>\n",
              "      <th>Client_Income</th>\n",
              "      <th>Car_Owned</th>\n",
              "      <th>Bike_Owned</th>\n",
              "      <th>Active_Loan</th>\n",
              "      <th>House_Own</th>\n",
              "      <th>Child_Count</th>\n",
              "      <th>Credit_Amount</th>\n",
              "      <th>Loan_Annuity</th>\n",
              "      <th>Accompany_Client</th>\n",
              "      <th>...</th>\n",
              "      <th>Client_Permanent_Match_Tag</th>\n",
              "      <th>Client_Contact_Work_Tag</th>\n",
              "      <th>Type_Organization</th>\n",
              "      <th>Score_Source_1</th>\n",
              "      <th>Score_Source_2</th>\n",
              "      <th>Score_Source_3</th>\n",
              "      <th>Social_Circle_Default</th>\n",
              "      <th>Phone_Change</th>\n",
              "      <th>Credit_Bureau</th>\n",
              "      <th>Default</th>\n",
              "    </tr>\n",
              "  </thead>\n",
              "  <tbody>\n",
              "    <tr>\n",
              "      <th>0</th>\n",
              "      <td>12142509</td>\n",
              "      <td>6750</td>\n",
              "      <td>0.0</td>\n",
              "      <td>0.0</td>\n",
              "      <td>1.0</td>\n",
              "      <td>0.0</td>\n",
              "      <td>0.0</td>\n",
              "      <td>61190.55</td>\n",
              "      <td>3416.85</td>\n",
              "      <td>Alone</td>\n",
              "      <td>...</td>\n",
              "      <td>Yes</td>\n",
              "      <td>Yes</td>\n",
              "      <td>Self-employed</td>\n",
              "      <td>0.568066</td>\n",
              "      <td>0.478787</td>\n",
              "      <td>NaN</td>\n",
              "      <td>0.0186</td>\n",
              "      <td>63.0</td>\n",
              "      <td>NaN</td>\n",
              "      <td>0</td>\n",
              "    </tr>\n",
              "    <tr>\n",
              "      <th>1</th>\n",
              "      <td>12138936</td>\n",
              "      <td>20250</td>\n",
              "      <td>1.0</td>\n",
              "      <td>0.0</td>\n",
              "      <td>1.0</td>\n",
              "      <td>NaN</td>\n",
              "      <td>0.0</td>\n",
              "      <td>15282</td>\n",
              "      <td>1826.55</td>\n",
              "      <td>Alone</td>\n",
              "      <td>...</td>\n",
              "      <td>Yes</td>\n",
              "      <td>Yes</td>\n",
              "      <td>Government</td>\n",
              "      <td>0.563360</td>\n",
              "      <td>0.215068</td>\n",
              "      <td>NaN</td>\n",
              "      <td>NaN</td>\n",
              "      <td>NaN</td>\n",
              "      <td>NaN</td>\n",
              "      <td>0</td>\n",
              "    </tr>\n",
              "    <tr>\n",
              "      <th>2</th>\n",
              "      <td>12181264</td>\n",
              "      <td>18000</td>\n",
              "      <td>0.0</td>\n",
              "      <td>0.0</td>\n",
              "      <td>1.0</td>\n",
              "      <td>0.0</td>\n",
              "      <td>1.0</td>\n",
              "      <td>59527.35</td>\n",
              "      <td>2788.2</td>\n",
              "      <td>Alone</td>\n",
              "      <td>...</td>\n",
              "      <td>Yes</td>\n",
              "      <td>Yes</td>\n",
              "      <td>Self-employed</td>\n",
              "      <td>NaN</td>\n",
              "      <td>0.552795</td>\n",
              "      <td>0.329655</td>\n",
              "      <td>0.0742</td>\n",
              "      <td>277.0</td>\n",
              "      <td>0.0</td>\n",
              "      <td>0</td>\n",
              "    </tr>\n",
              "    <tr>\n",
              "      <th>3</th>\n",
              "      <td>12188929</td>\n",
              "      <td>15750</td>\n",
              "      <td>0.0</td>\n",
              "      <td>0.0</td>\n",
              "      <td>1.0</td>\n",
              "      <td>1.0</td>\n",
              "      <td>0.0</td>\n",
              "      <td>53870.4</td>\n",
              "      <td>2295.45</td>\n",
              "      <td>Alone</td>\n",
              "      <td>...</td>\n",
              "      <td>Yes</td>\n",
              "      <td>Yes</td>\n",
              "      <td>XNA</td>\n",
              "      <td>NaN</td>\n",
              "      <td>0.135182</td>\n",
              "      <td>0.631355</td>\n",
              "      <td>NaN</td>\n",
              "      <td>1700.0</td>\n",
              "      <td>3.0</td>\n",
              "      <td>0</td>\n",
              "    </tr>\n",
              "    <tr>\n",
              "      <th>4</th>\n",
              "      <td>12133385</td>\n",
              "      <td>33750</td>\n",
              "      <td>1.0</td>\n",
              "      <td>0.0</td>\n",
              "      <td>1.0</td>\n",
              "      <td>0.0</td>\n",
              "      <td>2.0</td>\n",
              "      <td>133988.4</td>\n",
              "      <td>3547.35</td>\n",
              "      <td>Alone</td>\n",
              "      <td>...</td>\n",
              "      <td>Yes</td>\n",
              "      <td>Yes</td>\n",
              "      <td>Business Entity Type 3</td>\n",
              "      <td>0.508199</td>\n",
              "      <td>0.301182</td>\n",
              "      <td>0.355639</td>\n",
              "      <td>0.2021</td>\n",
              "      <td>674.0</td>\n",
              "      <td>1.0</td>\n",
              "      <td>0</td>\n",
              "    </tr>\n",
              "  </tbody>\n",
              "</table>\n",
              "<p>5 rows × 40 columns</p>\n",
              "</div>\n",
              "      <button class=\"colab-df-convert\" onclick=\"convertToInteractive('df-8a738975-8719-44b9-abb6-376b1316654c')\"\n",
              "              title=\"Convert this dataframe to an interactive table.\"\n",
              "              style=\"display:none;\">\n",
              "        \n",
              "  <svg xmlns=\"http://www.w3.org/2000/svg\" height=\"24px\"viewBox=\"0 0 24 24\"\n",
              "       width=\"24px\">\n",
              "    <path d=\"M0 0h24v24H0V0z\" fill=\"none\"/>\n",
              "    <path d=\"M18.56 5.44l.94 2.06.94-2.06 2.06-.94-2.06-.94-.94-2.06-.94 2.06-2.06.94zm-11 1L8.5 8.5l.94-2.06 2.06-.94-2.06-.94L8.5 2.5l-.94 2.06-2.06.94zm10 10l.94 2.06.94-2.06 2.06-.94-2.06-.94-.94-2.06-.94 2.06-2.06.94z\"/><path d=\"M17.41 7.96l-1.37-1.37c-.4-.4-.92-.59-1.43-.59-.52 0-1.04.2-1.43.59L10.3 9.45l-7.72 7.72c-.78.78-.78 2.05 0 2.83L4 21.41c.39.39.9.59 1.41.59.51 0 1.02-.2 1.41-.59l7.78-7.78 2.81-2.81c.8-.78.8-2.07 0-2.86zM5.41 20L4 18.59l7.72-7.72 1.47 1.35L5.41 20z\"/>\n",
              "  </svg>\n",
              "      </button>\n",
              "      \n",
              "  <style>\n",
              "    .colab-df-container {\n",
              "      display:flex;\n",
              "      flex-wrap:wrap;\n",
              "      gap: 12px;\n",
              "    }\n",
              "\n",
              "    .colab-df-convert {\n",
              "      background-color: #E8F0FE;\n",
              "      border: none;\n",
              "      border-radius: 50%;\n",
              "      cursor: pointer;\n",
              "      display: none;\n",
              "      fill: #1967D2;\n",
              "      height: 32px;\n",
              "      padding: 0 0 0 0;\n",
              "      width: 32px;\n",
              "    }\n",
              "\n",
              "    .colab-df-convert:hover {\n",
              "      background-color: #E2EBFA;\n",
              "      box-shadow: 0px 1px 2px rgba(60, 64, 67, 0.3), 0px 1px 3px 1px rgba(60, 64, 67, 0.15);\n",
              "      fill: #174EA6;\n",
              "    }\n",
              "\n",
              "    [theme=dark] .colab-df-convert {\n",
              "      background-color: #3B4455;\n",
              "      fill: #D2E3FC;\n",
              "    }\n",
              "\n",
              "    [theme=dark] .colab-df-convert:hover {\n",
              "      background-color: #434B5C;\n",
              "      box-shadow: 0px 1px 3px 1px rgba(0, 0, 0, 0.15);\n",
              "      filter: drop-shadow(0px 1px 2px rgba(0, 0, 0, 0.3));\n",
              "      fill: #FFFFFF;\n",
              "    }\n",
              "  </style>\n",
              "\n",
              "      <script>\n",
              "        const buttonEl =\n",
              "          document.querySelector('#df-8a738975-8719-44b9-abb6-376b1316654c button.colab-df-convert');\n",
              "        buttonEl.style.display =\n",
              "          google.colab.kernel.accessAllowed ? 'block' : 'none';\n",
              "\n",
              "        async function convertToInteractive(key) {\n",
              "          const element = document.querySelector('#df-8a738975-8719-44b9-abb6-376b1316654c');\n",
              "          const dataTable =\n",
              "            await google.colab.kernel.invokeFunction('convertToInteractive',\n",
              "                                                     [key], {});\n",
              "          if (!dataTable) return;\n",
              "\n",
              "          const docLinkHtml = 'Like what you see? Visit the ' +\n",
              "            '<a target=\"_blank\" href=https://colab.research.google.com/notebooks/data_table.ipynb>data table notebook</a>'\n",
              "            + ' to learn more about interactive tables.';\n",
              "          element.innerHTML = '';\n",
              "          dataTable['output_type'] = 'display_data';\n",
              "          await google.colab.output.renderOutput(dataTable, element);\n",
              "          const docLink = document.createElement('div');\n",
              "          docLink.innerHTML = docLinkHtml;\n",
              "          element.appendChild(docLink);\n",
              "        }\n",
              "      </script>\n",
              "    </div>\n",
              "  </div>\n",
              "  "
            ]
          },
          "metadata": {},
          "execution_count": 9
        }
      ]
    },
    {
      "cell_type": "code",
      "execution_count": 10,
      "metadata": {
        "id": "-FqBSIbhmGgu",
        "outputId": "03a557bf-55ba-4756-834f-d0c80d2b19ff",
        "colab": {
          "base_uri": "https://localhost:8080/",
          "height": 0
        }
      },
      "outputs": [
        {
          "output_type": "execute_result",
          "data": {
            "text/plain": [
              "<matplotlib.axes._subplots.AxesSubplot at 0x7ff86aa79e50>"
            ]
          },
          "metadata": {},
          "execution_count": 10
        },
        {
          "output_type": "display_data",
          "data": {
            "text/plain": [
              "<Figure size 432x288 with 1 Axes>"
            ],
            "image/png": "[encoded data removed]"
          },
          "metadata": {
            "needs_background": "light"
          }
        }
      ],
      "source": [
        "# Analizando el target \n",
        "sns.countplot(x='Default', data = pddf, palette = 'hls')"
      ]
    },
    {
      "cell_type": "code",
      "source": [
        "# Indentificar las variables \n",
        "\n",
        "features = list(set(pddf.columns.tolist()) - set(['ID', 'ID_Days','Default']))\n",
        "features"
      ],
      "metadata": {
        "id": "EUrUFH48c1Mw",
        "outputId": "8fe45ac9-ec5f-4b37-c4db-ea28308c53d0",
        "colab": {
          "base_uri": "https://localhost:8080/"
        }
      },
      "execution_count": 11,
      "outputs": [
        {
          "output_type": "execute_result",
          "data": {
            "text/plain": [
              "['Mobile_Tag',\n",
              " 'Employed_Days',\n",
              " 'Client_Contact_Work_Tag',\n",
              " 'Credit_Amount',\n",
              " 'Phone_Change',\n",
              " 'Client_Permanent_Match_Tag',\n",
              " 'Child_Count',\n",
              " 'Accompany_Client',\n",
              " 'Own_House_Age',\n",
              " 'Client_Housing_Type',\n",
              " 'Application_Process_Hour',\n",
              " 'Type_Organization',\n",
              " 'Client_Occupation',\n",
              " 'Client_Income',\n",
              " 'Active_Loan',\n",
              " 'Client_Education',\n",
              " 'Social_Circle_Default',\n",
              " 'Homephone_Tag',\n",
              " 'Client_Gender',\n",
              " 'Score_Source_1',\n",
              " 'Client_Marital_Status',\n",
              " 'Car_Owned',\n",
              " 'Client_Family_Members',\n",
              " 'Application_Process_Day',\n",
              " 'Bike_Owned',\n",
              " 'Age_Days',\n",
              " 'Registration_Days',\n",
              " 'Loan_Contract_Type',\n",
              " 'Score_Source_2',\n",
              " 'Workphone_Working',\n",
              " 'Credit_Bureau',\n",
              " 'Score_Source_3',\n",
              " 'Client_Income_Type',\n",
              " 'Cleint_City_Rating',\n",
              " 'House_Own',\n",
              " 'Loan_Annuity',\n",
              " 'Population_Region_Relative']"
            ]
          },
          "metadata": {},
          "execution_count": 11
        }
      ]
    },
    {
      "cell_type": "code",
      "source": [
        "features_string = list(pddf.select_dtypes(include=['object']).columns)\n",
        "features_string"
      ],
      "metadata": {
        "id": "xTdwWdrnnoo8",
        "outputId": "c20d19e1-89f8-47fa-90cb-1b94bf182d9a",
        "colab": {
          "base_uri": "https://localhost:8080/"
        }
      },
      "execution_count": 12,
      "outputs": [
        {
          "output_type": "execute_result",
          "data": {
            "text/plain": [
              "['Client_Income',\n",
              " 'Credit_Amount',\n",
              " 'Loan_Annuity',\n",
              " 'Accompany_Client',\n",
              " 'Client_Income_Type',\n",
              " 'Client_Education',\n",
              " 'Client_Marital_Status',\n",
              " 'Client_Gender',\n",
              " 'Loan_Contract_Type',\n",
              " 'Client_Housing_Type',\n",
              " 'Population_Region_Relative',\n",
              " 'Age_Days',\n",
              " 'Employed_Days',\n",
              " 'Registration_Days',\n",
              " 'ID_Days',\n",
              " 'Client_Occupation',\n",
              " 'Client_Permanent_Match_Tag',\n",
              " 'Client_Contact_Work_Tag',\n",
              " 'Type_Organization',\n",
              " 'Score_Source_3']"
            ]
          },
          "metadata": {},
          "execution_count": 12
        }
      ]
    },
    {
      "cell_type": "code",
      "source": [
        "pddf.convert_dtypes(infer_objects=True).dtypes "
      ],
      "metadata": {
        "id": "AA2LeemQp6kU",
        "outputId": "cce88e71-3fa7-427c-916c-55d84c6e68a7",
        "colab": {
          "base_uri": "https://localhost:8080/"
        }
      },
      "execution_count": 13,
      "outputs": [
        {
          "output_type": "execute_result",
          "data": {
            "text/plain": [
              "ID                              Int64\n",
              "Client_Income                  object\n",
              "Car_Owned                       Int64\n",
              "Bike_Owned                      Int64\n",
              "Active_Loan                     Int64\n",
              "House_Own                       Int64\n",
              "Child_Count                     Int64\n",
              "Credit_Amount                  object\n",
              "Loan_Annuity                   object\n",
              "Accompany_Client               string\n",
              "Client_Income_Type             string\n",
              "Client_Education               string\n",
              "Client_Marital_Status          string\n",
              "Client_Gender                  string\n",
              "Loan_Contract_Type             string\n",
              "Client_Housing_Type            string\n",
              "Population_Region_Relative     object\n",
              "Age_Days                       object\n",
              "Employed_Days                  object\n",
              "Registration_Days              object\n",
              "ID_Days                        object\n",
              "Own_House_Age                   Int64\n",
              "Mobile_Tag                      Int64\n",
              "Homephone_Tag                   Int64\n",
              "Workphone_Working               Int64\n",
              "Client_Occupation              string\n",
              "Client_Family_Members           Int64\n",
              "Cleint_City_Rating              Int64\n",
              "Application_Process_Day         Int64\n",
              "Application_Process_Hour        Int64\n",
              "Client_Permanent_Match_Tag     string\n",
              "Client_Contact_Work_Tag        string\n",
              "Type_Organization              string\n",
              "Score_Source_1                Float64\n",
              "Score_Source_2                Float64\n",
              "Score_Source_3                 object\n",
              "Social_Circle_Default         Float64\n",
              "Phone_Change                    Int64\n",
              "Credit_Bureau                   Int64\n",
              "Default                         Int64\n",
              "dtype: object"
            ]
          },
          "metadata": {},
          "execution_count": 13
        }
      ]
    },
    {
      "cell_type": "code",
      "source": [
        "categorical_features = ['Accompany_Client', 'Client_Income_Type', \n",
        "                        'Client_Education', 'Client_Marital_Status', \n",
        "                        'Client_Gender', 'Loan_Contract_Type', 'Client_Housing_Type',\n",
        "                        'Client_Occupation', 'Client_Permanent_Match_Tag', \n",
        "                        'Client_Contact_Work_Tag', 'Type_Organization']"
      ],
      "metadata": {
        "id": "ykF1pSWVobe0"
      },
      "execution_count": 14,
      "outputs": []
    },
    {
      "cell_type": "code",
      "source": [
        "numeric_features = list(set(features) - set(categorical_features))\n",
        "numeric_features"
      ],
      "metadata": {
        "id": "fDjKdXmNpTGN",
        "outputId": "1041573d-8fea-413a-d048-e81aed1ff227",
        "colab": {
          "base_uri": "https://localhost:8080/"
        }
      },
      "execution_count": 15,
      "outputs": [
        {
          "output_type": "execute_result",
          "data": {
            "text/plain": [
              "['Mobile_Tag',\n",
              " 'Employed_Days',\n",
              " 'Credit_Amount',\n",
              " 'Phone_Change',\n",
              " 'Child_Count',\n",
              " 'Own_House_Age',\n",
              " 'Application_Process_Hour',\n",
              " 'Client_Income',\n",
              " 'Active_Loan',\n",
              " 'Social_Circle_Default',\n",
              " 'Homephone_Tag',\n",
              " 'Score_Source_1',\n",
              " 'Car_Owned',\n",
              " 'Client_Family_Members',\n",
              " 'Application_Process_Day',\n",
              " 'Bike_Owned',\n",
              " 'Age_Days',\n",
              " 'Registration_Days',\n",
              " 'Score_Source_2',\n",
              " 'Workphone_Working',\n",
              " 'Credit_Bureau',\n",
              " 'Score_Source_3',\n",
              " 'Cleint_City_Rating',\n",
              " 'House_Own',\n",
              " 'Loan_Annuity',\n",
              " 'Population_Region_Relative']"
            ]
          },
          "metadata": {},
          "execution_count": 15
        }
      ]
    },
    {
      "cell_type": "code",
      "source": [
        "pddf.replace({'@': None,\n",
        "              '#': None,\n",
        "              '&': None,\n",
        "              'x': None,\n",
        "              '$': None,\n",
        "              'XNA' : None,\n",
        "              '#VALUE!': None}, inplace = True)"
      ],
      "metadata": {
        "id": "Wr8y3jFMiTYW"
      },
      "execution_count": 16,
      "outputs": []
    },
    {
      "cell_type": "code",
      "source": [
        "# convert Series\n",
        "\n",
        "for col in numeric_features:\n",
        "  pddf[col] = pd.to_numeric(pddf[col])\n"
      ],
      "metadata": {
        "id": "_m5dNZnWprHp"
      },
      "execution_count": 17,
      "outputs": []
    },
    {
      "cell_type": "code",
      "source": [
        "pddf.dtypes"
      ],
      "metadata": {
        "id": "06jO_nvgixYG",
        "outputId": "c3021c50-c8ad-4845-9e0c-0d8507d7a77e",
        "colab": {
          "base_uri": "https://localhost:8080/"
        }
      },
      "execution_count": 18,
      "outputs": [
        {
          "output_type": "execute_result",
          "data": {
            "text/plain": [
              "ID                              int64\n",
              "Client_Income                 float64\n",
              "Car_Owned                     float64\n",
              "Bike_Owned                    float64\n",
              "Active_Loan                   float64\n",
              "House_Own                     float64\n",
              "Child_Count                   float64\n",
              "Credit_Amount                 float64\n",
              "Loan_Annuity                  float64\n",
              "Accompany_Client               object\n",
              "Client_Income_Type             object\n",
              "Client_Education               object\n",
              "Client_Marital_Status          object\n",
              "Client_Gender                  object\n",
              "Loan_Contract_Type             object\n",
              "Client_Housing_Type            object\n",
              "Population_Region_Relative    float64\n",
              "Age_Days                      float64\n",
              "Employed_Days                 float64\n",
              "Registration_Days             float64\n",
              "ID_Days                        object\n",
              "Own_House_Age                 float64\n",
              "Mobile_Tag                      int64\n",
              "Homephone_Tag                   int64\n",
              "Workphone_Working               int64\n",
              "Client_Occupation              object\n",
              "Client_Family_Members         float64\n",
              "Cleint_City_Rating            float64\n",
              "Application_Process_Day       float64\n",
              "Application_Process_Hour      float64\n",
              "Client_Permanent_Match_Tag     object\n",
              "Client_Contact_Work_Tag        object\n",
              "Type_Organization              object\n",
              "Score_Source_1                float64\n",
              "Score_Source_2                float64\n",
              "Score_Source_3                float64\n",
              "Social_Circle_Default         float64\n",
              "Phone_Change                  float64\n",
              "Credit_Bureau                 float64\n",
              "Default                         int64\n",
              "dtype: object"
            ]
          },
          "metadata": {},
          "execution_count": 18
        }
      ]
    },
    {
      "cell_type": "code",
      "source": [
        "# Determinando matrices de datos\n",
        "\n",
        "X = pddf[features + ['ID', 'Default']]\n",
        "y = pddf.Default\n"
      ],
      "metadata": {
        "id": "Uknriuy8fCwD"
      },
      "execution_count": 19,
      "outputs": []
    },
    {
      "cell_type": "code",
      "source": [
        "# Muestreo de data\n",
        "\n",
        "from sklearn.model_selection import train_test_split\n",
        "\n",
        "X_train, X_test, y_train, y_test = train_test_split(X, y, \n",
        "                                                    stratify = y,\n",
        "                                                    train_size = 0.7,\n",
        "                                                    random_state = 123)\n"
      ],
      "metadata": {
        "id": "r4htXb8fi58W"
      },
      "execution_count": 20,
      "outputs": []
    },
    {
      "cell_type": "markdown",
      "source": [
        "## 3. Pre-selección de variables"
      ],
      "metadata": {
        "id": "7cNhaU-dlISW"
      }
    },
    {
      "cell_type": "code",
      "source": [
        "# Estadísticos básicos\n",
        "\n",
        "df_res = X_train[numeric_features].describe().transpose()\n",
        "df_res.head()"
      ],
      "metadata": {
        "id": "At2-Fd8_jy7s",
        "outputId": "99efbb38-e1f6-4556-fe56-61f94b0dc505",
        "colab": {
          "base_uri": "https://localhost:8080/",
          "height": 0
        }
      },
      "execution_count": 21,
      "outputs": [
        {
          "output_type": "execute_result",
          "data": {
            "text/plain": [
              "                 count          mean            std     min      25%      50%  \\\n",
              "Mobile_Tag     85299.0      0.999988       0.003424     0.0      1.0      1.0   \n",
              "Employed_Days  82761.0  67160.180641  138977.268774     0.0    931.0   2211.0   \n",
              "Credit_Amount  82800.0  60178.829207   40422.343390  4500.0  27000.0  51750.0   \n",
              "Phone_Change   82764.0    963.112066     827.365281     0.0    273.0    756.0   \n",
              "Child_Count    82807.0      0.415895       0.724959     0.0      0.0      0.0   \n",
              "\n",
              "                   75%       max  \n",
              "Mobile_Tag         1.0       1.0  \n",
              "Employed_Days   5625.0  365243.0  \n",
              "Credit_Amount  80865.0  405000.0  \n",
              "Phone_Change    1575.0    4185.0  \n",
              "Child_Count        1.0      19.0  "
            ],
            "text/html": [
              "\n",
              "  <div id=\"df-1ac1f985-01cb-4bcc-a23f-fe16019b12d4\">\n",
              "    <div class=\"colab-df-container\">\n",
              "      <div>\n",
              "<style scoped>\n",
              "    .dataframe tbody tr th:only-of-type {\n",
              "        vertical-align: middle;\n",
              "    }\n",
              "\n",
              "    .dataframe tbody tr th {\n",
              "        vertical-align: top;\n",
              "    }\n",
              "\n",
              "    .dataframe thead th {\n",
              "        text-align: right;\n",
              "    }\n",
              "</style>\n",
              "<table border=\"1\" class=\"dataframe\">\n",
              "  <thead>\n",
              "    <tr style=\"text-align: right;\">\n",
              "      <th></th>\n",
              "      <th>count</th>\n",
              "      <th>mean</th>\n",
              "      <th>std</th>\n",
              "      <th>min</th>\n",
              "      <th>25%</th>\n",
              "      <th>50%</th>\n",
              "      <th>75%</th>\n",
              "      <th>max</th>\n",
              "    </tr>\n",
              "  </thead>\n",
              "  <tbody>\n",
              "    <tr>\n",
              "      <th>Mobile_Tag</th>\n",
              "      <td>85299.0</td>\n",
              "      <td>0.999988</td>\n",
              "      <td>0.003424</td>\n",
              "      <td>0.0</td>\n",
              "      <td>1.0</td>\n",
              "      <td>1.0</td>\n",
              "      <td>1.0</td>\n",
              "      <td>1.0</td>\n",
              "    </tr>\n",
              "    <tr>\n",
              "      <th>Employed_Days</th>\n",
              "      <td>82761.0</td>\n",
              "      <td>67160.180641</td>\n",
              "      <td>138977.268774</td>\n",
              "      <td>0.0</td>\n",
              "      <td>931.0</td>\n",
              "      <td>2211.0</td>\n",
              "      <td>5625.0</td>\n",
              "      <td>365243.0</td>\n",
              "    </tr>\n",
              "    <tr>\n",
              "      <th>Credit_Amount</th>\n",
              "      <td>82800.0</td>\n",
              "      <td>60178.829207</td>\n",
              "      <td>40422.343390</td>\n",
              "      <td>4500.0</td>\n",
              "      <td>27000.0</td>\n",
              "      <td>51750.0</td>\n",
              "      <td>80865.0</td>\n",
              "      <td>405000.0</td>\n",
              "    </tr>\n",
              "    <tr>\n",
              "      <th>Phone_Change</th>\n",
              "      <td>82764.0</td>\n",
              "      <td>963.112066</td>\n",
              "      <td>827.365281</td>\n",
              "      <td>0.0</td>\n",
              "      <td>273.0</td>\n",
              "      <td>756.0</td>\n",
              "      <td>1575.0</td>\n",
              "      <td>4185.0</td>\n",
              "    </tr>\n",
              "    <tr>\n",
              "      <th>Child_Count</th>\n",
              "      <td>82807.0</td>\n",
              "      <td>0.415895</td>\n",
              "      <td>0.724959</td>\n",
              "      <td>0.0</td>\n",
              "      <td>0.0</td>\n",
              "      <td>0.0</td>\n",
              "      <td>1.0</td>\n",
              "      <td>19.0</td>\n",
              "    </tr>\n",
              "  </tbody>\n",
              "</table>\n",
              "</div>\n",
              "      <button class=\"colab-df-convert\" onclick=\"convertToInteractive('df-1ac1f985-01cb-4bcc-a23f-fe16019b12d4')\"\n",
              "              title=\"Convert this dataframe to an interactive table.\"\n",
              "              style=\"display:none;\">\n",
              "        \n",
              "  <svg xmlns=\"http://www.w3.org/2000/svg\" height=\"24px\"viewBox=\"0 0 24 24\"\n",
              "       width=\"24px\">\n",
              "    <path d=\"M0 0h24v24H0V0z\" fill=\"none\"/>\n",
              "    <path d=\"M18.56 5.44l.94 2.06.94-2.06 2.06-.94-2.06-.94-.94-2.06-.94 2.06-2.06.94zm-11 1L8.5 8.5l.94-2.06 2.06-.94-2.06-.94L8.5 2.5l-.94 2.06-2.06.94zm10 10l.94 2.06.94-2.06 2.06-.94-2.06-.94-.94-2.06-.94 2.06-2.06.94z\"/><path d=\"M17.41 7.96l-1.37-1.37c-.4-.4-.92-.59-1.43-.59-.52 0-1.04.2-1.43.59L10.3 9.45l-7.72 7.72c-.78.78-.78 2.05 0 2.83L4 21.41c.39.39.9.59 1.41.59.51 0 1.02-.2 1.41-.59l7.78-7.78 2.81-2.81c.8-.78.8-2.07 0-2.86zM5.41 20L4 18.59l7.72-7.72 1.47 1.35L5.41 20z\"/>\n",
              "  </svg>\n",
              "      </button>\n",
              "      \n",
              "  <style>\n",
              "    .colab-df-container {\n",
              "      display:flex;\n",
              "      flex-wrap:wrap;\n",
              "      gap: 12px;\n",
              "    }\n",
              "\n",
              "    .colab-df-convert {\n",
              "      background-color: #E8F0FE;\n",
              "      border: none;\n",
              "      border-radius: 50%;\n",
              "      cursor: pointer;\n",
              "      display: none;\n",
              "      fill: #1967D2;\n",
              "      height: 32px;\n",
              "      padding: 0 0 0 0;\n",
              "      width: 32px;\n",
              "    }\n",
              "\n",
              "    .colab-df-convert:hover {\n",
              "      background-color: #E2EBFA;\n",
              "      box-shadow: 0px 1px 2px rgba(60, 64, 67, 0.3), 0px 1px 3px 1px rgba(60, 64, 67, 0.15);\n",
              "      fill: #174EA6;\n",
              "    }\n",
              "\n",
              "    [theme=dark] .colab-df-convert {\n",
              "      background-color: #3B4455;\n",
              "      fill: #D2E3FC;\n",
              "    }\n",
              "\n",
              "    [theme=dark] .colab-df-convert:hover {\n",
              "      background-color: #434B5C;\n",
              "      box-shadow: 0px 1px 3px 1px rgba(0, 0, 0, 0.15);\n",
              "      filter: drop-shadow(0px 1px 2px rgba(0, 0, 0, 0.3));\n",
              "      fill: #FFFFFF;\n",
              "    }\n",
              "  </style>\n",
              "\n",
              "      <script>\n",
              "        const buttonEl =\n",
              "          document.querySelector('#df-1ac1f985-01cb-4bcc-a23f-fe16019b12d4 button.colab-df-convert');\n",
              "        buttonEl.style.display =\n",
              "          google.colab.kernel.accessAllowed ? 'block' : 'none';\n",
              "\n",
              "        async function convertToInteractive(key) {\n",
              "          const element = document.querySelector('#df-1ac1f985-01cb-4bcc-a23f-fe16019b12d4');\n",
              "          const dataTable =\n",
              "            await google.colab.kernel.invokeFunction('convertToInteractive',\n",
              "                                                     [key], {});\n",
              "          if (!dataTable) return;\n",
              "\n",
              "          const docLinkHtml = 'Like what you see? Visit the ' +\n",
              "            '<a target=\"_blank\" href=https://colab.research.google.com/notebooks/data_table.ipynb>data table notebook</a>'\n",
              "            + ' to learn more about interactive tables.';\n",
              "          element.innerHTML = '';\n",
              "          dataTable['output_type'] = 'display_data';\n",
              "          await google.colab.output.renderOutput(dataTable, element);\n",
              "          const docLink = document.createElement('div');\n",
              "          docLink.innerHTML = docLinkHtml;\n",
              "          element.appendChild(docLink);\n",
              "        }\n",
              "      </script>\n",
              "    </div>\n",
              "  </div>\n",
              "  "
            ]
          },
          "metadata": {},
          "execution_count": 21
        }
      ]
    },
    {
      "cell_type": "code",
      "source": [
        "# Dando formato a la data\n",
        "\n",
        "df_res.reset_index(inplace = True)\n",
        "df_res.rename(columns = {'index': 'feature',\n",
        "                         '25%': 'Q1',\n",
        "                         '50%': 'Median',\n",
        "                         '75%': 'Q3'}, inplace = True)\n",
        "df_res.head()"
      ],
      "metadata": {
        "id": "3FcU8zD6lpFe",
        "outputId": "cf250eb9-4097-4a20-d6a6-c761ec957de6",
        "colab": {
          "base_uri": "https://localhost:8080/",
          "height": 0
        }
      },
      "execution_count": 22,
      "outputs": [
        {
          "output_type": "execute_result",
          "data": {
            "text/plain": [
              "         feature    count          mean            std     min       Q1  \\\n",
              "0     Mobile_Tag  85299.0      0.999988       0.003424     0.0      1.0   \n",
              "1  Employed_Days  82761.0  67160.180641  138977.268774     0.0    931.0   \n",
              "2  Credit_Amount  82800.0  60178.829207   40422.343390  4500.0  27000.0   \n",
              "3   Phone_Change  82764.0    963.112066     827.365281     0.0    273.0   \n",
              "4    Child_Count  82807.0      0.415895       0.724959     0.0      0.0   \n",
              "\n",
              "    Median       Q3       max  \n",
              "0      1.0      1.0       1.0  \n",
              "1   2211.0   5625.0  365243.0  \n",
              "2  51750.0  80865.0  405000.0  \n",
              "3    756.0   1575.0    4185.0  \n",
              "4      0.0      1.0      19.0  "
            ],
            "text/html": [
              "\n",
              "  <div id=\"df-0cb68308-44f4-48f4-8b32-c5a915a6a45e\">\n",
              "    <div class=\"colab-df-container\">\n",
              "      <div>\n",
              "<style scoped>\n",
              "    .dataframe tbody tr th:only-of-type {\n",
              "        vertical-align: middle;\n",
              "    }\n",
              "\n",
              "    .dataframe tbody tr th {\n",
              "        vertical-align: top;\n",
              "    }\n",
              "\n",
              "    .dataframe thead th {\n",
              "        text-align: right;\n",
              "    }\n",
              "</style>\n",
              "<table border=\"1\" class=\"dataframe\">\n",
              "  <thead>\n",
              "    <tr style=\"text-align: right;\">\n",
              "      <th></th>\n",
              "      <th>feature</th>\n",
              "      <th>count</th>\n",
              "      <th>mean</th>\n",
              "      <th>std</th>\n",
              "      <th>min</th>\n",
              "      <th>Q1</th>\n",
              "      <th>Median</th>\n",
              "      <th>Q3</th>\n",
              "      <th>max</th>\n",
              "    </tr>\n",
              "  </thead>\n",
              "  <tbody>\n",
              "    <tr>\n",
              "      <th>0</th>\n",
              "      <td>Mobile_Tag</td>\n",
              "      <td>85299.0</td>\n",
              "      <td>0.999988</td>\n",
              "      <td>0.003424</td>\n",
              "      <td>0.0</td>\n",
              "      <td>1.0</td>\n",
              "      <td>1.0</td>\n",
              "      <td>1.0</td>\n",
              "      <td>1.0</td>\n",
              "    </tr>\n",
              "    <tr>\n",
              "      <th>1</th>\n",
              "      <td>Employed_Days</td>\n",
              "      <td>82761.0</td>\n",
              "      <td>67160.180641</td>\n",
              "      <td>138977.268774</td>\n",
              "      <td>0.0</td>\n",
              "      <td>931.0</td>\n",
              "      <td>2211.0</td>\n",
              "      <td>5625.0</td>\n",
              "      <td>365243.0</td>\n",
              "    </tr>\n",
              "    <tr>\n",
              "      <th>2</th>\n",
              "      <td>Credit_Amount</td>\n",
              "      <td>82800.0</td>\n",
              "      <td>60178.829207</td>\n",
              "      <td>40422.343390</td>\n",
              "      <td>4500.0</td>\n",
              "      <td>27000.0</td>\n",
              "      <td>51750.0</td>\n",
              "      <td>80865.0</td>\n",
              "      <td>405000.0</td>\n",
              "    </tr>\n",
              "    <tr>\n",
              "      <th>3</th>\n",
              "      <td>Phone_Change</td>\n",
              "      <td>82764.0</td>\n",
              "      <td>963.112066</td>\n",
              "      <td>827.365281</td>\n",
              "      <td>0.0</td>\n",
              "      <td>273.0</td>\n",
              "      <td>756.0</td>\n",
              "      <td>1575.0</td>\n",
              "      <td>4185.0</td>\n",
              "    </tr>\n",
              "    <tr>\n",
              "      <th>4</th>\n",
              "      <td>Child_Count</td>\n",
              "      <td>82807.0</td>\n",
              "      <td>0.415895</td>\n",
              "      <td>0.724959</td>\n",
              "      <td>0.0</td>\n",
              "      <td>0.0</td>\n",
              "      <td>0.0</td>\n",
              "      <td>1.0</td>\n",
              "      <td>19.0</td>\n",
              "    </tr>\n",
              "  </tbody>\n",
              "</table>\n",
              "</div>\n",
              "      <button class=\"colab-df-convert\" onclick=\"convertToInteractive('df-0cb68308-44f4-48f4-8b32-c5a915a6a45e')\"\n",
              "              title=\"Convert this dataframe to an interactive table.\"\n",
              "              style=\"display:none;\">\n",
              "        \n",
              "  <svg xmlns=\"http://www.w3.org/2000/svg\" height=\"24px\"viewBox=\"0 0 24 24\"\n",
              "       width=\"24px\">\n",
              "    <path d=\"M0 0h24v24H0V0z\" fill=\"none\"/>\n",
              "    <path d=\"M18.56 5.44l.94 2.06.94-2.06 2.06-.94-2.06-.94-.94-2.06-.94 2.06-2.06.94zm-11 1L8.5 8.5l.94-2.06 2.06-.94-2.06-.94L8.5 2.5l-.94 2.06-2.06.94zm10 10l.94 2.06.94-2.06 2.06-.94-2.06-.94-.94-2.06-.94 2.06-2.06.94z\"/><path d=\"M17.41 7.96l-1.37-1.37c-.4-.4-.92-.59-1.43-.59-.52 0-1.04.2-1.43.59L10.3 9.45l-7.72 7.72c-.78.78-.78 2.05 0 2.83L4 21.41c.39.39.9.59 1.41.59.51 0 1.02-.2 1.41-.59l7.78-7.78 2.81-2.81c.8-.78.8-2.07 0-2.86zM5.41 20L4 18.59l7.72-7.72 1.47 1.35L5.41 20z\"/>\n",
              "  </svg>\n",
              "      </button>\n",
              "      \n",
              "  <style>\n",
              "    .colab-df-container {\n",
              "      display:flex;\n",
              "      flex-wrap:wrap;\n",
              "      gap: 12px;\n",
              "    }\n",
              "\n",
              "    .colab-df-convert {\n",
              "      background-color: #E8F0FE;\n",
              "      border: none;\n",
              "      border-radius: 50%;\n",
              "      cursor: pointer;\n",
              "      display: none;\n",
              "      fill: #1967D2;\n",
              "      height: 32px;\n",
              "      padding: 0 0 0 0;\n",
              "      width: 32px;\n",
              "    }\n",
              "\n",
              "    .colab-df-convert:hover {\n",
              "      background-color: #E2EBFA;\n",
              "      box-shadow: 0px 1px 2px rgba(60, 64, 67, 0.3), 0px 1px 3px 1px rgba(60, 64, 67, 0.15);\n",
              "      fill: #174EA6;\n",
              "    }\n",
              "\n",
              "    [theme=dark] .colab-df-convert {\n",
              "      background-color: #3B4455;\n",
              "      fill: #D2E3FC;\n",
              "    }\n",
              "\n",
              "    [theme=dark] .colab-df-convert:hover {\n",
              "      background-color: #434B5C;\n",
              "      box-shadow: 0px 1px 3px 1px rgba(0, 0, 0, 0.15);\n",
              "      filter: drop-shadow(0px 1px 2px rgba(0, 0, 0, 0.3));\n",
              "      fill: #FFFFFF;\n",
              "    }\n",
              "  </style>\n",
              "\n",
              "      <script>\n",
              "        const buttonEl =\n",
              "          document.querySelector('#df-0cb68308-44f4-48f4-8b32-c5a915a6a45e button.colab-df-convert');\n",
              "        buttonEl.style.display =\n",
              "          google.colab.kernel.accessAllowed ? 'block' : 'none';\n",
              "\n",
              "        async function convertToInteractive(key) {\n",
              "          const element = document.querySelector('#df-0cb68308-44f4-48f4-8b32-c5a915a6a45e');\n",
              "          const dataTable =\n",
              "            await google.colab.kernel.invokeFunction('convertToInteractive',\n",
              "                                                     [key], {});\n",
              "          if (!dataTable) return;\n",
              "\n",
              "          const docLinkHtml = 'Like what you see? Visit the ' +\n",
              "            '<a target=\"_blank\" href=https://colab.research.google.com/notebooks/data_table.ipynb>data table notebook</a>'\n",
              "            + ' to learn more about interactive tables.';\n",
              "          element.innerHTML = '';\n",
              "          dataTable['output_type'] = 'display_data';\n",
              "          await google.colab.output.renderOutput(dataTable, element);\n",
              "          const docLink = document.createElement('div');\n",
              "          docLink.innerHTML = docLinkHtml;\n",
              "          element.appendChild(docLink);\n",
              "        }\n",
              "      </script>\n",
              "    </div>\n",
              "  </div>\n",
              "  "
            ]
          },
          "metadata": {},
          "execution_count": 22
        }
      ]
    },
    {
      "cell_type": "code",
      "source": [
        "# Calculando el porcentaje de missings\n",
        "\n",
        "df_res['missing_rate'] = 1 - df_res['count']/pddf.shape[0]\n",
        "df_res.head()\n"
      ],
      "metadata": {
        "id": "d79NS43EmI31",
        "outputId": "8cde9f52-2bca-4876-f219-528910787c05",
        "colab": {
          "base_uri": "https://localhost:8080/",
          "height": 0
        }
      },
      "execution_count": 23,
      "outputs": [
        {
          "output_type": "execute_result",
          "data": {
            "text/plain": [
              "         feature    count          mean            std     min       Q1  \\\n",
              "0     Mobile_Tag  85299.0      0.999988       0.003424     0.0      1.0   \n",
              "1  Employed_Days  82761.0  67160.180641  138977.268774     0.0    931.0   \n",
              "2  Credit_Amount  82800.0  60178.829207   40422.343390  4500.0  27000.0   \n",
              "3   Phone_Change  82764.0    963.112066     827.365281     0.0    273.0   \n",
              "4    Child_Count  82807.0      0.415895       0.724959     0.0      0.0   \n",
              "\n",
              "    Median       Q3       max  missing_rate  \n",
              "0      1.0      1.0       1.0      0.300002  \n",
              "1   2211.0   5625.0  365243.0      0.320830  \n",
              "2  51750.0  80865.0  405000.0      0.320509  \n",
              "3    756.0   1575.0    4185.0      0.320805  \n",
              "4      0.0      1.0      19.0      0.320452  "
            ],
            "text/html": [
              "\n",
              "  <div id=\"df-a3601251-5e1f-4914-a4d0-cb75c0529d44\">\n",
              "    <div class=\"colab-df-container\">\n",
              "      <div>\n",
              "<style scoped>\n",
              "    .dataframe tbody tr th:only-of-type {\n",
              "        vertical-align: middle;\n",
              "    }\n",
              "\n",
              "    .dataframe tbody tr th {\n",
              "        vertical-align: top;\n",
              "    }\n",
              "\n",
              "    .dataframe thead th {\n",
              "        text-align: right;\n",
              "    }\n",
              "</style>\n",
              "<table border=\"1\" class=\"dataframe\">\n",
              "  <thead>\n",
              "    <tr style=\"text-align: right;\">\n",
              "      <th></th>\n",
              "      <th>feature</th>\n",
              "      <th>count</th>\n",
              "      <th>mean</th>\n",
              "      <th>std</th>\n",
              "      <th>min</th>\n",
              "      <th>Q1</th>\n",
              "      <th>Median</th>\n",
              "      <th>Q3</th>\n",
              "      <th>max</th>\n",
              "      <th>missing_rate</th>\n",
              "    </tr>\n",
              "  </thead>\n",
              "  <tbody>\n",
              "    <tr>\n",
              "      <th>0</th>\n",
              "      <td>Mobile_Tag</td>\n",
              "      <td>85299.0</td>\n",
              "      <td>0.999988</td>\n",
              "      <td>0.003424</td>\n",
              "      <td>0.0</td>\n",
              "      <td>1.0</td>\n",
              "      <td>1.0</td>\n",
              "      <td>1.0</td>\n",
              "      <td>1.0</td>\n",
              "      <td>0.300002</td>\n",
              "    </tr>\n",
              "    <tr>\n",
              "      <th>1</th>\n",
              "      <td>Employed_Days</td>\n",
              "      <td>82761.0</td>\n",
              "      <td>67160.180641</td>\n",
              "      <td>138977.268774</td>\n",
              "      <td>0.0</td>\n",
              "      <td>931.0</td>\n",
              "      <td>2211.0</td>\n",
              "      <td>5625.0</td>\n",
              "      <td>365243.0</td>\n",
              "      <td>0.320830</td>\n",
              "    </tr>\n",
              "    <tr>\n",
              "      <th>2</th>\n",
              "      <td>Credit_Amount</td>\n",
              "      <td>82800.0</td>\n",
              "      <td>60178.829207</td>\n",
              "      <td>40422.343390</td>\n",
              "      <td>4500.0</td>\n",
              "      <td>27000.0</td>\n",
              "      <td>51750.0</td>\n",
              "      <td>80865.0</td>\n",
              "      <td>405000.0</td>\n",
              "      <td>0.320509</td>\n",
              "    </tr>\n",
              "    <tr>\n",
              "      <th>3</th>\n",
              "      <td>Phone_Change</td>\n",
              "      <td>82764.0</td>\n",
              "      <td>963.112066</td>\n",
              "      <td>827.365281</td>\n",
              "      <td>0.0</td>\n",
              "      <td>273.0</td>\n",
              "      <td>756.0</td>\n",
              "      <td>1575.0</td>\n",
              "      <td>4185.0</td>\n",
              "      <td>0.320805</td>\n",
              "    </tr>\n",
              "    <tr>\n",
              "      <th>4</th>\n",
              "      <td>Child_Count</td>\n",
              "      <td>82807.0</td>\n",
              "      <td>0.415895</td>\n",
              "      <td>0.724959</td>\n",
              "      <td>0.0</td>\n",
              "      <td>0.0</td>\n",
              "      <td>0.0</td>\n",
              "      <td>1.0</td>\n",
              "      <td>19.0</td>\n",
              "      <td>0.320452</td>\n",
              "    </tr>\n",
              "  </tbody>\n",
              "</table>\n",
              "</div>\n",
              "      <button class=\"colab-df-convert\" onclick=\"convertToInteractive('df-a3601251-5e1f-4914-a4d0-cb75c0529d44')\"\n",
              "              title=\"Convert this dataframe to an interactive table.\"\n",
              "              style=\"display:none;\">\n",
              "        \n",
              "  <svg xmlns=\"http://www.w3.org/2000/svg\" height=\"24px\"viewBox=\"0 0 24 24\"\n",
              "       width=\"24px\">\n",
              "    <path d=\"M0 0h24v24H0V0z\" fill=\"none\"/>\n",
              "    <path d=\"M18.56 5.44l.94 2.06.94-2.06 2.06-.94-2.06-.94-.94-2.06-.94 2.06-2.06.94zm-11 1L8.5 8.5l.94-2.06 2.06-.94-2.06-.94L8.5 2.5l-.94 2.06-2.06.94zm10 10l.94 2.06.94-2.06 2.06-.94-2.06-.94-.94-2.06-.94 2.06-2.06.94z\"/><path d=\"M17.41 7.96l-1.37-1.37c-.4-.4-.92-.59-1.43-.59-.52 0-1.04.2-1.43.59L10.3 9.45l-7.72 7.72c-.78.78-.78 2.05 0 2.83L4 21.41c.39.39.9.59 1.41.59.51 0 1.02-.2 1.41-.59l7.78-7.78 2.81-2.81c.8-.78.8-2.07 0-2.86zM5.41 20L4 18.59l7.72-7.72 1.47 1.35L5.41 20z\"/>\n",
              "  </svg>\n",
              "      </button>\n",
              "      \n",
              "  <style>\n",
              "    .colab-df-container {\n",
              "      display:flex;\n",
              "      flex-wrap:wrap;\n",
              "      gap: 12px;\n",
              "    }\n",
              "\n",
              "    .colab-df-convert {\n",
              "      background-color: #E8F0FE;\n",
              "      border: none;\n",
              "      border-radius: 50%;\n",
              "      cursor: pointer;\n",
              "      display: none;\n",
              "      fill: #1967D2;\n",
              "      height: 32px;\n",
              "      padding: 0 0 0 0;\n",
              "      width: 32px;\n",
              "    }\n",
              "\n",
              "    .colab-df-convert:hover {\n",
              "      background-color: #E2EBFA;\n",
              "      box-shadow: 0px 1px 2px rgba(60, 64, 67, 0.3), 0px 1px 3px 1px rgba(60, 64, 67, 0.15);\n",
              "      fill: #174EA6;\n",
              "    }\n",
              "\n",
              "    [theme=dark] .colab-df-convert {\n",
              "      background-color: #3B4455;\n",
              "      fill: #D2E3FC;\n",
              "    }\n",
              "\n",
              "    [theme=dark] .colab-df-convert:hover {\n",
              "      background-color: #434B5C;\n",
              "      box-shadow: 0px 1px 3px 1px rgba(0, 0, 0, 0.15);\n",
              "      filter: drop-shadow(0px 1px 2px rgba(0, 0, 0, 0.3));\n",
              "      fill: #FFFFFF;\n",
              "    }\n",
              "  </style>\n",
              "\n",
              "      <script>\n",
              "        const buttonEl =\n",
              "          document.querySelector('#df-a3601251-5e1f-4914-a4d0-cb75c0529d44 button.colab-df-convert');\n",
              "        buttonEl.style.display =\n",
              "          google.colab.kernel.accessAllowed ? 'block' : 'none';\n",
              "\n",
              "        async function convertToInteractive(key) {\n",
              "          const element = document.querySelector('#df-a3601251-5e1f-4914-a4d0-cb75c0529d44');\n",
              "          const dataTable =\n",
              "            await google.colab.kernel.invokeFunction('convertToInteractive',\n",
              "                                                     [key], {});\n",
              "          if (!dataTable) return;\n",
              "\n",
              "          const docLinkHtml = 'Like what you see? Visit the ' +\n",
              "            '<a target=\"_blank\" href=https://colab.research.google.com/notebooks/data_table.ipynb>data table notebook</a>'\n",
              "            + ' to learn more about interactive tables.';\n",
              "          element.innerHTML = '';\n",
              "          dataTable['output_type'] = 'display_data';\n",
              "          await google.colab.output.renderOutput(dataTable, element);\n",
              "          const docLink = document.createElement('div');\n",
              "          docLink.innerHTML = docLinkHtml;\n",
              "          element.appendChild(docLink);\n",
              "        }\n",
              "      </script>\n",
              "    </div>\n",
              "  </div>\n",
              "  "
            ]
          },
          "metadata": {},
          "execution_count": 23
        }
      ]
    },
    {
      "cell_type": "code",
      "source": [
        "#Calculando el gini univariado de todas las variables\n",
        "\n",
        "ginisZero = [sklearn.metrics.roc_auc_score(y_train, X_train[col].fillna(0))*2-1 for col in numeric_features]\n"
      ],
      "metadata": {
        "id": "wPYZryrBj5eI"
      },
      "execution_count": 24,
      "outputs": []
    },
    {
      "cell_type": "code",
      "source": [
        "temp = X_train.copy()\n",
        "temp['y'] = y_train\n",
        "\n",
        "ginisNan = [sklearn.metrics.roc_auc_score(temp[['y', col]].dropna().y, temp[['y', col]].dropna()[col])*2-1 for col in numeric_features]\n"
      ],
      "metadata": {
        "id": "lYKYIj13hOX-"
      },
      "execution_count": 25,
      "outputs": []
    },
    {
      "cell_type": "code",
      "source": [
        "res_ginis = pd.DataFrame({'feature' : numeric_features,\n",
        "                          'giniZero' : ginisZero,\n",
        "                          'giniNan'  : ginisNan})"
      ],
      "metadata": {
        "id": "jOQpvEGVk9gD"
      },
      "execution_count": 26,
      "outputs": []
    },
    {
      "cell_type": "code",
      "source": [
        "df_res2 = pd.merge(df_res, res_ginis, on = 'feature', how='left')\n",
        "df_res2.head()"
      ],
      "metadata": {
        "id": "VrAPIq1ElhKD",
        "outputId": "5ff48b84-2ff2-4717-8a8c-4a4044a9b775",
        "colab": {
          "base_uri": "https://localhost:8080/",
          "height": 0
        }
      },
      "execution_count": 27,
      "outputs": [
        {
          "output_type": "execute_result",
          "data": {
            "text/plain": [
              "         feature    count          mean            std     min       Q1  \\\n",
              "0     Mobile_Tag  85299.0      0.999988       0.003424     0.0      1.0   \n",
              "1  Employed_Days  82761.0  67160.180641  138977.268774     0.0    931.0   \n",
              "2  Credit_Amount  82800.0  60178.829207   40422.343390  4500.0  27000.0   \n",
              "3   Phone_Change  82764.0    963.112066     827.365281     0.0    273.0   \n",
              "4    Child_Count  82807.0      0.415895       0.724959     0.0      0.0   \n",
              "\n",
              "    Median       Q3       max  missing_rate  giniZero   giniNan  \n",
              "0      1.0      1.0       1.0      0.300002  0.000013  0.000013  \n",
              "1   2211.0   5625.0  365243.0      0.320830 -0.172016 -0.183437  \n",
              "2  51750.0  80865.0  405000.0      0.320509 -0.039217 -0.042410  \n",
              "3    756.0   1575.0    4185.0      0.320805 -0.113137 -0.116412  \n",
              "4      0.0      1.0      19.0      0.320452  0.032323  0.032765  "
            ],
            "text/html": [
              "\n",
              "  <div id=\"df-0fa6274c-2087-4235-bfcf-f1e6e8367e59\">\n",
              "    <div class=\"colab-df-container\">\n",
              "      <div>\n",
              "<style scoped>\n",
              "    .dataframe tbody tr th:only-of-type {\n",
              "        vertical-align: middle;\n",
              "    }\n",
              "\n",
              "    .dataframe tbody tr th {\n",
              "        vertical-align: top;\n",
              "    }\n",
              "\n",
              "    .dataframe thead th {\n",
              "        text-align: right;\n",
              "    }\n",
              "</style>\n",
              "<table border=\"1\" class=\"dataframe\">\n",
              "  <thead>\n",
              "    <tr style=\"text-align: right;\">\n",
              "      <th></th>\n",
              "      <th>feature</th>\n",
              "      <th>count</th>\n",
              "      <th>mean</th>\n",
              "      <th>std</th>\n",
              "      <th>min</th>\n",
              "      <th>Q1</th>\n",
              "      <th>Median</th>\n",
              "      <th>Q3</th>\n",
              "      <th>max</th>\n",
              "      <th>missing_rate</th>\n",
              "      <th>giniZero</th>\n",
              "      <th>giniNan</th>\n",
              "    </tr>\n",
              "  </thead>\n",
              "  <tbody>\n",
              "    <tr>\n",
              "      <th>0</th>\n",
              "      <td>Mobile_Tag</td>\n",
              "      <td>85299.0</td>\n",
              "      <td>0.999988</td>\n",
              "      <td>0.003424</td>\n",
              "      <td>0.0</td>\n",
              "      <td>1.0</td>\n",
              "      <td>1.0</td>\n",
              "      <td>1.0</td>\n",
              "      <td>1.0</td>\n",
              "      <td>0.300002</td>\n",
              "      <td>0.000013</td>\n",
              "      <td>0.000013</td>\n",
              "    </tr>\n",
              "    <tr>\n",
              "      <th>1</th>\n",
              "      <td>Employed_Days</td>\n",
              "      <td>82761.0</td>\n",
              "      <td>67160.180641</td>\n",
              "      <td>138977.268774</td>\n",
              "      <td>0.0</td>\n",
              "      <td>931.0</td>\n",
              "      <td>2211.0</td>\n",
              "      <td>5625.0</td>\n",
              "      <td>365243.0</td>\n",
              "      <td>0.320830</td>\n",
              "      <td>-0.172016</td>\n",
              "      <td>-0.183437</td>\n",
              "    </tr>\n",
              "    <tr>\n",
              "      <th>2</th>\n",
              "      <td>Credit_Amount</td>\n",
              "      <td>82800.0</td>\n",
              "      <td>60178.829207</td>\n",
              "      <td>40422.343390</td>\n",
              "      <td>4500.0</td>\n",
              "      <td>27000.0</td>\n",
              "      <td>51750.0</td>\n",
              "      <td>80865.0</td>\n",
              "      <td>405000.0</td>\n",
              "      <td>0.320509</td>\n",
              "      <td>-0.039217</td>\n",
              "      <td>-0.042410</td>\n",
              "    </tr>\n",
              "    <tr>\n",
              "      <th>3</th>\n",
              "      <td>Phone_Change</td>\n",
              "      <td>82764.0</td>\n",
              "      <td>963.112066</td>\n",
              "      <td>827.365281</td>\n",
              "      <td>0.0</td>\n",
              "      <td>273.0</td>\n",
              "      <td>756.0</td>\n",
              "      <td>1575.0</td>\n",
              "      <td>4185.0</td>\n",
              "      <td>0.320805</td>\n",
              "      <td>-0.113137</td>\n",
              "      <td>-0.116412</td>\n",
              "    </tr>\n",
              "    <tr>\n",
              "      <th>4</th>\n",
              "      <td>Child_Count</td>\n",
              "      <td>82807.0</td>\n",
              "      <td>0.415895</td>\n",
              "      <td>0.724959</td>\n",
              "      <td>0.0</td>\n",
              "      <td>0.0</td>\n",
              "      <td>0.0</td>\n",
              "      <td>1.0</td>\n",
              "      <td>19.0</td>\n",
              "      <td>0.320452</td>\n",
              "      <td>0.032323</td>\n",
              "      <td>0.032765</td>\n",
              "    </tr>\n",
              "  </tbody>\n",
              "</table>\n",
              "</div>\n",
              "      <button class=\"colab-df-convert\" onclick=\"convertToInteractive('df-0fa6274c-2087-4235-bfcf-f1e6e8367e59')\"\n",
              "              title=\"Convert this dataframe to an interactive table.\"\n",
              "              style=\"display:none;\">\n",
              "        \n",
              "  <svg xmlns=\"http://www.w3.org/2000/svg\" height=\"24px\"viewBox=\"0 0 24 24\"\n",
              "       width=\"24px\">\n",
              "    <path d=\"M0 0h24v24H0V0z\" fill=\"none\"/>\n",
              "    <path d=\"M18.56 5.44l.94 2.06.94-2.06 2.06-.94-2.06-.94-.94-2.06-.94 2.06-2.06.94zm-11 1L8.5 8.5l.94-2.06 2.06-.94-2.06-.94L8.5 2.5l-.94 2.06-2.06.94zm10 10l.94 2.06.94-2.06 2.06-.94-2.06-.94-.94-2.06-.94 2.06-2.06.94z\"/><path d=\"M17.41 7.96l-1.37-1.37c-.4-.4-.92-.59-1.43-.59-.52 0-1.04.2-1.43.59L10.3 9.45l-7.72 7.72c-.78.78-.78 2.05 0 2.83L4 21.41c.39.39.9.59 1.41.59.51 0 1.02-.2 1.41-.59l7.78-7.78 2.81-2.81c.8-.78.8-2.07 0-2.86zM5.41 20L4 18.59l7.72-7.72 1.47 1.35L5.41 20z\"/>\n",
              "  </svg>\n",
              "      </button>\n",
              "      \n",
              "  <style>\n",
              "    .colab-df-container {\n",
              "      display:flex;\n",
              "      flex-wrap:wrap;\n",
              "      gap: 12px;\n",
              "    }\n",
              "\n",
              "    .colab-df-convert {\n",
              "      background-color: #E8F0FE;\n",
              "      border: none;\n",
              "      border-radius: 50%;\n",
              "      cursor: pointer;\n",
              "      display: none;\n",
              "      fill: #1967D2;\n",
              "      height: 32px;\n",
              "      padding: 0 0 0 0;\n",
              "      width: 32px;\n",
              "    }\n",
              "\n",
              "    .colab-df-convert:hover {\n",
              "      background-color: #E2EBFA;\n",
              "      box-shadow: 0px 1px 2px rgba(60, 64, 67, 0.3), 0px 1px 3px 1px rgba(60, 64, 67, 0.15);\n",
              "      fill: #174EA6;\n",
              "    }\n",
              "\n",
              "    [theme=dark] .colab-df-convert {\n",
              "      background-color: #3B4455;\n",
              "      fill: #D2E3FC;\n",
              "    }\n",
              "\n",
              "    [theme=dark] .colab-df-convert:hover {\n",
              "      background-color: #434B5C;\n",
              "      box-shadow: 0px 1px 3px 1px rgba(0, 0, 0, 0.15);\n",
              "      filter: drop-shadow(0px 1px 2px rgba(0, 0, 0, 0.3));\n",
              "      fill: #FFFFFF;\n",
              "    }\n",
              "  </style>\n",
              "\n",
              "      <script>\n",
              "        const buttonEl =\n",
              "          document.querySelector('#df-0fa6274c-2087-4235-bfcf-f1e6e8367e59 button.colab-df-convert');\n",
              "        buttonEl.style.display =\n",
              "          google.colab.kernel.accessAllowed ? 'block' : 'none';\n",
              "\n",
              "        async function convertToInteractive(key) {\n",
              "          const element = document.querySelector('#df-0fa6274c-2087-4235-bfcf-f1e6e8367e59');\n",
              "          const dataTable =\n",
              "            await google.colab.kernel.invokeFunction('convertToInteractive',\n",
              "                                                     [key], {});\n",
              "          if (!dataTable) return;\n",
              "\n",
              "          const docLinkHtml = 'Like what you see? Visit the ' +\n",
              "            '<a target=\"_blank\" href=https://colab.research.google.com/notebooks/data_table.ipynb>data table notebook</a>'\n",
              "            + ' to learn more about interactive tables.';\n",
              "          element.innerHTML = '';\n",
              "          dataTable['output_type'] = 'display_data';\n",
              "          await google.colab.output.renderOutput(dataTable, element);\n",
              "          const docLink = document.createElement('div');\n",
              "          docLink.innerHTML = docLinkHtml;\n",
              "          element.appendChild(docLink);\n",
              "        }\n",
              "      </script>\n",
              "    </div>\n",
              "  </div>\n",
              "  "
            ]
          },
          "metadata": {},
          "execution_count": 27
        }
      ]
    },
    {
      "cell_type": "code",
      "source": [
        "# Ordenando variables por importancia de explicación\n",
        "\n",
        "df_res2['abs_giniZero'] = df_res2.giniZero.apply(lambda x: abs(x))\n",
        "df_res2['abs_giniNan'] = df_res2.giniNan.apply(lambda x: abs(x))\n",
        "\n",
        "df_res2['abs_ginimax'] = df_res2[['abs_giniZero', 'abs_giniNan']].max(axis = 1)\n",
        "df_res2.sort_values('abs_ginimax', ascending = False)\n"
      ],
      "metadata": {
        "id": "e0EVfWVhl3Ao",
        "outputId": "902e5664-4cd8-466c-d793-bfbae5eec90a",
        "colab": {
          "base_uri": "https://localhost:8080/",
          "height": 0
        }
      },
      "execution_count": 28,
      "outputs": [
        {
          "output_type": "execute_result",
          "data": {
            "text/plain": [
              "                       feature    count          mean            std  \\\n",
              "21              Score_Source_3  66516.0      0.511120       0.194368   \n",
              "11              Score_Source_1  37130.0      0.500320       0.211204   \n",
              "18              Score_Source_2  81359.0      0.518766       0.723443   \n",
              "1                Employed_Days  82761.0  67160.180641  138977.268774   \n",
              "16                    Age_Days  82785.0  16030.353482    4367.969719   \n",
              "5                Own_House_Age  29326.0     12.214690      12.136193   \n",
              "3                 Phone_Change  82764.0    963.112066     827.365281   \n",
              "9        Social_Circle_Default  42004.0      0.116864       0.107001   \n",
              "22          Cleint_City_Rating  83633.0      2.030443       0.504363   \n",
              "17           Registration_Days  82748.0   4980.901146    3517.494509   \n",
              "25  Population_Region_Relative  81860.0      0.023335       0.494376   \n",
              "6     Application_Process_Hour  82758.0     12.061625       3.281232   \n",
              "12                   Car_Owned  82806.0      0.344009       0.475047   \n",
              "19           Workphone_Working  85299.0      0.281926       0.449940   \n",
              "2                Credit_Amount  82800.0  60178.829207   40422.343390   \n",
              "7                Client_Income  82766.0  16853.821827   10190.803686   \n",
              "20               Credit_Bureau  72339.0      1.892313       1.862089   \n",
              "4                  Child_Count  82807.0      0.415895       0.724959   \n",
              "10               Homephone_Tag  85299.0      0.200835       0.400627   \n",
              "13       Client_Family_Members  83621.0      2.152091       0.909934   \n",
              "14     Application_Process_Day  83605.0      3.162801       1.758039   \n",
              "23                   House_Own  82749.0      0.691150       0.462022   \n",
              "24                Loan_Annuity  81925.0   2724.754839    1466.162865   \n",
              "15                  Bike_Owned  82816.0      0.331554       0.470775   \n",
              "8                  Active_Loan  82786.0      0.497536       0.499997   \n",
              "0                   Mobile_Tag  85299.0      0.999988       0.003424   \n",
              "\n",
              "            min            Q1       Median            Q3            max  \\\n",
              "21     0.000527      0.372334      0.53707      0.667458       0.896010   \n",
              "11     0.014568      0.332750      0.50333      0.673347       0.945741   \n",
              "18     0.000005      0.390915      0.56544      0.663990     100.000000   \n",
              "1      0.000000    931.000000   2211.00000   5625.000000  365243.000000   \n",
              "16  7676.000000  12399.000000  15736.00000  19671.000000   25201.000000   \n",
              "5      0.000000      5.000000      9.00000     15.000000      69.000000   \n",
              "3      0.000000    273.000000    756.00000   1575.000000    4185.000000   \n",
              "9      0.000000      0.057700      0.08760      0.148500       1.000000   \n",
              "22     1.000000      2.000000      2.00000      2.000000       3.000000   \n",
              "17     0.000000   2000.000000   4496.00000   7470.000000   23738.000000   \n",
              "25     0.000533      0.010006      0.01885      0.028663     100.000000   \n",
              "6      0.000000     10.000000     12.00000     14.000000      23.000000   \n",
              "12     0.000000      0.000000      0.00000      1.000000       1.000000   \n",
              "19     0.000000      0.000000      0.00000      1.000000       1.000000   \n",
              "2   4500.000000  27000.000000  51750.00000  80865.000000  405000.000000   \n",
              "7   2646.000000  11250.000000  14760.00000  20250.000000  450000.000000   \n",
              "20     0.000000      0.000000      1.00000      3.000000      22.000000   \n",
              "4      0.000000      0.000000      0.00000      1.000000      19.000000   \n",
              "10     0.000000      0.000000      0.00000      0.000000       1.000000   \n",
              "13     1.000000      2.000000      2.00000      3.000000      16.000000   \n",
              "14     0.000000      2.000000      3.00000      5.000000       6.000000   \n",
              "23     0.000000      0.000000      1.00000      1.000000       1.000000   \n",
              "24   217.350000   1660.500000   2501.10000   3469.950000   22500.000000   \n",
              "15     0.000000      0.000000      0.00000      1.000000       1.000000   \n",
              "8      0.000000      0.000000      0.00000      1.000000       1.000000   \n",
              "0      0.000000      1.000000      1.00000      1.000000       1.000000   \n",
              "\n",
              "    missing_rate  giniZero   giniNan  abs_giniZero  abs_giniNan  abs_ginimax  \n",
              "21      0.454143 -0.225921 -0.342416      0.225921     0.342416     0.342416  \n",
              "11      0.695296 -0.097251 -0.316251      0.097251     0.316251     0.316251  \n",
              "18      0.332335 -0.273964 -0.303939      0.273964     0.303939     0.303939  \n",
              "1       0.320830 -0.172016 -0.183437      0.172016     0.183437     0.183437  \n",
              "16      0.320633 -0.146395 -0.155875      0.146395     0.155875     0.155875  \n",
              "5       0.759339 -0.028796  0.130995      0.028796     0.130995     0.130995  \n",
              "3       0.320805 -0.113137 -0.116412      0.113137     0.116412     0.116412  \n",
              "9       0.655298 -0.097401 -0.083640      0.097401     0.083640     0.097401  \n",
              "22      0.313674  0.090308  0.094014      0.090308     0.094014     0.094014  \n",
              "17      0.320936 -0.068334 -0.075461      0.068334     0.075461     0.075461  \n",
              "25      0.328223 -0.063607 -0.066114      0.063607     0.066114     0.066114  \n",
              "6       0.320854 -0.047660 -0.048242      0.047660     0.048242     0.048242  \n",
              "12      0.320460 -0.042985 -0.044349      0.042985     0.044349     0.044349  \n",
              "19      0.300002 -0.042586 -0.042586      0.042586     0.042586     0.042586  \n",
              "2       0.320509 -0.039217 -0.042410      0.039217     0.042410     0.042410  \n",
              "7       0.320788 -0.037669 -0.040437      0.037669     0.040437     0.040437  \n",
              "20      0.406357  0.001208  0.035580      0.001208     0.035580     0.035580  \n",
              "4       0.320452  0.032323  0.032765      0.032323     0.032765     0.032765  \n",
              "10      0.300002  0.030003  0.030003      0.030003     0.030003     0.030003  \n",
              "13      0.313772  0.012385  0.014124      0.012385     0.014124     0.014124  \n",
              "14      0.313903  0.012773  0.013655      0.012773     0.013655     0.013655  \n",
              "23      0.320928 -0.007789 -0.006243      0.007789     0.006243     0.007789  \n",
              "24      0.327690 -0.003493 -0.005418      0.003493     0.005418     0.005418  \n",
              "15      0.320378  0.001226  0.002696      0.001226     0.002696     0.002696  \n",
              "8       0.320624 -0.000870  0.001048      0.000870     0.001048     0.001048  \n",
              "0       0.300002  0.000013  0.000013      0.000013     0.000013     0.000013  "
            ],
            "text/html": [
              "\n",
              "  <div id=\"df-a4c45f3e-415f-45e3-ae3e-b5464d320127\">\n",
              "    <div class=\"colab-df-container\">\n",
              "      <div>\n",
              "<style scoped>\n",
              "    .dataframe tbody tr th:only-of-type {\n",
              "        vertical-align: middle;\n",
              "    }\n",
              "\n",
              "    .dataframe tbody tr th {\n",
              "        vertical-align: top;\n",
              "    }\n",
              "\n",
              "    .dataframe thead th {\n",
              "        text-align: right;\n",
              "    }\n",
              "</style>\n",
              "<table border=\"1\" class=\"dataframe\">\n",
              "  <thead>\n",
              "    <tr style=\"text-align: right;\">\n",
              "      <th></th>\n",
              "      <th>feature</th>\n",
              "      <th>count</th>\n",
              "      <th>mean</th>\n",
              "      <th>std</th>\n",
              "      <th>min</th>\n",
              "      <th>Q1</th>\n",
              "      <th>Median</th>\n",
              "      <th>Q3</th>\n",
              "      <th>max</th>\n",
              "      <th>missing_rate</th>\n",
              "      <th>giniZero</th>\n",
              "      <th>giniNan</th>\n",
              "      <th>abs_giniZero</th>\n",
              "      <th>abs_giniNan</th>\n",
              "      <th>abs_ginimax</th>\n",
              "    </tr>\n",
              "  </thead>\n",
              "  <tbody>\n",
              "    <tr>\n",
              "      <th>21</th>\n",
              "      <td>Score_Source_3</td>\n",
              "      <td>66516.0</td>\n",
              "      <td>0.511120</td>\n",
              "      <td>0.194368</td>\n",
              "      <td>0.000527</td>\n",
              "      <td>0.372334</td>\n",
              "      <td>0.53707</td>\n",
              "      <td>0.667458</td>\n",
              "      <td>0.896010</td>\n",
              "      <td>0.454143</td>\n",
              "      <td>-0.225921</td>\n",
              "      <td>-0.342416</td>\n",
              "      <td>0.225921</td>\n",
              "      <td>0.342416</td>\n",
              "      <td>0.342416</td>\n",
              "    </tr>\n",
              "    <tr>\n",
              "      <th>11</th>\n",
              "      <td>Score_Source_1</td>\n",
              "      <td>37130.0</td>\n",
              "      <td>0.500320</td>\n",
              "      <td>0.211204</td>\n",
              "      <td>0.014568</td>\n",
              "      <td>0.332750</td>\n",
              "      <td>0.50333</td>\n",
              "      <td>0.673347</td>\n",
              "      <td>0.945741</td>\n",
              "      <td>0.695296</td>\n",
              "      <td>-0.097251</td>\n",
              "      <td>-0.316251</td>\n",
              "      <td>0.097251</td>\n",
              "      <td>0.316251</td>\n",
              "      <td>0.316251</td>\n",
              "    </tr>\n",
              "    <tr>\n",
              "      <th>18</th>\n",
              "      <td>Score_Source_2</td>\n",
              "      <td>81359.0</td>\n",
              "      <td>0.518766</td>\n",
              "      <td>0.723443</td>\n",
              "      <td>0.000005</td>\n",
              "      <td>0.390915</td>\n",
              "      <td>0.56544</td>\n",
              "      <td>0.663990</td>\n",
              "      <td>100.000000</td>\n",
              "      <td>0.332335</td>\n",
              "      <td>-0.273964</td>\n",
              "      <td>-0.303939</td>\n",
              "      <td>0.273964</td>\n",
              "      <td>0.303939</td>\n",
              "      <td>0.303939</td>\n",
              "    </tr>\n",
              "    <tr>\n",
              "      <th>1</th>\n",
              "      <td>Employed_Days</td>\n",
              "      <td>82761.0</td>\n",
              "      <td>67160.180641</td>\n",
              "      <td>138977.268774</td>\n",
              "      <td>0.000000</td>\n",
              "      <td>931.000000</td>\n",
              "      <td>2211.00000</td>\n",
              "      <td>5625.000000</td>\n",
              "      <td>365243.000000</td>\n",
              "      <td>0.320830</td>\n",
              "      <td>-0.172016</td>\n",
              "      <td>-0.183437</td>\n",
              "      <td>0.172016</td>\n",
              "      <td>0.183437</td>\n",
              "      <td>0.183437</td>\n",
              "    </tr>\n",
              "    <tr>\n",
              "      <th>16</th>\n",
              "      <td>Age_Days</td>\n",
              "      <td>82785.0</td>\n",
              "      <td>16030.353482</td>\n",
              "      <td>4367.969719</td>\n",
              "      <td>7676.000000</td>\n",
              "      <td>12399.000000</td>\n",
              "      <td>15736.00000</td>\n",
              "      <td>19671.000000</td>\n",
              "      <td>25201.000000</td>\n",
              "      <td>0.320633</td>\n",
              "      <td>-0.146395</td>\n",
              "      <td>-0.155875</td>\n",
              "      <td>0.146395</td>\n",
              "      <td>0.155875</td>\n",
              "      <td>0.155875</td>\n",
              "    </tr>\n",
              "    <tr>\n",
              "      <th>5</th>\n",
              "      <td>Own_House_Age</td>\n",
              "      <td>29326.0</td>\n",
              "      <td>12.214690</td>\n",
              "      <td>12.136193</td>\n",
              "      <td>0.000000</td>\n",
              "      <td>5.000000</td>\n",
              "      <td>9.00000</td>\n",
              "      <td>15.000000</td>\n",
              "      <td>69.000000</td>\n",
              "      <td>0.759339</td>\n",
              "      <td>-0.028796</td>\n",
              "      <td>0.130995</td>\n",
              "      <td>0.028796</td>\n",
              "      <td>0.130995</td>\n",
              "      <td>0.130995</td>\n",
              "    </tr>\n",
              "    <tr>\n",
              "      <th>3</th>\n",
              "      <td>Phone_Change</td>\n",
              "      <td>82764.0</td>\n",
              "      <td>963.112066</td>\n",
              "      <td>827.365281</td>\n",
              "      <td>0.000000</td>\n",
              "      <td>273.000000</td>\n",
              "      <td>756.00000</td>\n",
              "      <td>1575.000000</td>\n",
              "      <td>4185.000000</td>\n",
              "      <td>0.320805</td>\n",
              "      <td>-0.113137</td>\n",
              "      <td>-0.116412</td>\n",
              "      <td>0.113137</td>\n",
              "      <td>0.116412</td>\n",
              "      <td>0.116412</td>\n",
              "    </tr>\n",
              "    <tr>\n",
              "      <th>9</th>\n",
              "      <td>Social_Circle_Default</td>\n",
              "      <td>42004.0</td>\n",
              "      <td>0.116864</td>\n",
              "      <td>0.107001</td>\n",
              "      <td>0.000000</td>\n",
              "      <td>0.057700</td>\n",
              "      <td>0.08760</td>\n",
              "      <td>0.148500</td>\n",
              "      <td>1.000000</td>\n",
              "      <td>0.655298</td>\n",
              "      <td>-0.097401</td>\n",
              "      <td>-0.083640</td>\n",
              "      <td>0.097401</td>\n",
              "      <td>0.083640</td>\n",
              "      <td>0.097401</td>\n",
              "    </tr>\n",
              "    <tr>\n",
              "      <th>22</th>\n",
              "      <td>Cleint_City_Rating</td>\n",
              "      <td>83633.0</td>\n",
              "      <td>2.030443</td>\n",
              "      <td>0.504363</td>\n",
              "      <td>1.000000</td>\n",
              "      <td>2.000000</td>\n",
              "      <td>2.00000</td>\n",
              "      <td>2.000000</td>\n",
              "      <td>3.000000</td>\n",
              "      <td>0.313674</td>\n",
              "      <td>0.090308</td>\n",
              "      <td>0.094014</td>\n",
              "      <td>0.090308</td>\n",
              "      <td>0.094014</td>\n",
              "      <td>0.094014</td>\n",
              "    </tr>\n",
              "    <tr>\n",
              "      <th>17</th>\n",
              "      <td>Registration_Days</td>\n",
              "      <td>82748.0</td>\n",
              "      <td>4980.901146</td>\n",
              "      <td>3517.494509</td>\n",
              "      <td>0.000000</td>\n",
              "      <td>2000.000000</td>\n",
              "      <td>4496.00000</td>\n",
              "      <td>7470.000000</td>\n",
              "      <td>23738.000000</td>\n",
              "      <td>0.320936</td>\n",
              "      <td>-0.068334</td>\n",
              "      <td>-0.075461</td>\n",
              "      <td>0.068334</td>\n",
              "      <td>0.075461</td>\n",
              "      <td>0.075461</td>\n",
              "    </tr>\n",
              "    <tr>\n",
              "      <th>25</th>\n",
              "      <td>Population_Region_Relative</td>\n",
              "      <td>81860.0</td>\n",
              "      <td>0.023335</td>\n",
              "      <td>0.494376</td>\n",
              "      <td>0.000533</td>\n",
              "      <td>0.010006</td>\n",
              "      <td>0.01885</td>\n",
              "      <td>0.028663</td>\n",
              "      <td>100.000000</td>\n",
              "      <td>0.328223</td>\n",
              "      <td>-0.063607</td>\n",
              "      <td>-0.066114</td>\n",
              "      <td>0.063607</td>\n",
              "      <td>0.066114</td>\n",
              "      <td>0.066114</td>\n",
              "    </tr>\n",
              "    <tr>\n",
              "      <th>6</th>\n",
              "      <td>Application_Process_Hour</td>\n",
              "      <td>82758.0</td>\n",
              "      <td>12.061625</td>\n",
              "      <td>3.281232</td>\n",
              "      <td>0.000000</td>\n",
              "      <td>10.000000</td>\n",
              "      <td>12.00000</td>\n",
              "      <td>14.000000</td>\n",
              "      <td>23.000000</td>\n",
              "      <td>0.320854</td>\n",
              "      <td>-0.047660</td>\n",
              "      <td>-0.048242</td>\n",
              "      <td>0.047660</td>\n",
              "      <td>0.048242</td>\n",
              "      <td>0.048242</td>\n",
              "    </tr>\n",
              "    <tr>\n",
              "      <th>12</th>\n",
              "      <td>Car_Owned</td>\n",
              "      <td>82806.0</td>\n",
              "      <td>0.344009</td>\n",
              "      <td>0.475047</td>\n",
              "      <td>0.000000</td>\n",
              "      <td>0.000000</td>\n",
              "      <td>0.00000</td>\n",
              "      <td>1.000000</td>\n",
              "      <td>1.000000</td>\n",
              "      <td>0.320460</td>\n",
              "      <td>-0.042985</td>\n",
              "      <td>-0.044349</td>\n",
              "      <td>0.042985</td>\n",
              "      <td>0.044349</td>\n",
              "      <td>0.044349</td>\n",
              "    </tr>\n",
              "    <tr>\n",
              "      <th>19</th>\n",
              "      <td>Workphone_Working</td>\n",
              "      <td>85299.0</td>\n",
              "      <td>0.281926</td>\n",
              "      <td>0.449940</td>\n",
              "      <td>0.000000</td>\n",
              "      <td>0.000000</td>\n",
              "      <td>0.00000</td>\n",
              "      <td>1.000000</td>\n",
              "      <td>1.000000</td>\n",
              "      <td>0.300002</td>\n",
              "      <td>-0.042586</td>\n",
              "      <td>-0.042586</td>\n",
              "      <td>0.042586</td>\n",
              "      <td>0.042586</td>\n",
              "      <td>0.042586</td>\n",
              "    </tr>\n",
              "    <tr>\n",
              "      <th>2</th>\n",
              "      <td>Credit_Amount</td>\n",
              "      <td>82800.0</td>\n",
              "      <td>60178.829207</td>\n",
              "      <td>40422.343390</td>\n",
              "      <td>4500.000000</td>\n",
              "      <td>27000.000000</td>\n",
              "      <td>51750.00000</td>\n",
              "      <td>80865.000000</td>\n",
              "      <td>405000.000000</td>\n",
              "      <td>0.320509</td>\n",
              "      <td>-0.039217</td>\n",
              "      <td>-0.042410</td>\n",
              "      <td>0.039217</td>\n",
              "      <td>0.042410</td>\n",
              "      <td>0.042410</td>\n",
              "    </tr>\n",
              "    <tr>\n",
              "      <th>7</th>\n",
              "      <td>Client_Income</td>\n",
              "      <td>82766.0</td>\n",
              "      <td>16853.821827</td>\n",
              "      <td>10190.803686</td>\n",
              "      <td>2646.000000</td>\n",
              "      <td>11250.000000</td>\n",
              "      <td>14760.00000</td>\n",
              "      <td>20250.000000</td>\n",
              "      <td>450000.000000</td>\n",
              "      <td>0.320788</td>\n",
              "      <td>-0.037669</td>\n",
              "      <td>-0.040437</td>\n",
              "      <td>0.037669</td>\n",
              "      <td>0.040437</td>\n",
              "      <td>0.040437</td>\n",
              "    </tr>\n",
              "    <tr>\n",
              "      <th>20</th>\n",
              "      <td>Credit_Bureau</td>\n",
              "      <td>72339.0</td>\n",
              "      <td>1.892313</td>\n",
              "      <td>1.862089</td>\n",
              "      <td>0.000000</td>\n",
              "      <td>0.000000</td>\n",
              "      <td>1.00000</td>\n",
              "      <td>3.000000</td>\n",
              "      <td>22.000000</td>\n",
              "      <td>0.406357</td>\n",
              "      <td>0.001208</td>\n",
              "      <td>0.035580</td>\n",
              "      <td>0.001208</td>\n",
              "      <td>0.035580</td>\n",
              "      <td>0.035580</td>\n",
              "    </tr>\n",
              "    <tr>\n",
              "      <th>4</th>\n",
              "      <td>Child_Count</td>\n",
              "      <td>82807.0</td>\n",
              "      <td>0.415895</td>\n",
              "      <td>0.724959</td>\n",
              "      <td>0.000000</td>\n",
              "      <td>0.000000</td>\n",
              "      <td>0.00000</td>\n",
              "      <td>1.000000</td>\n",
              "      <td>19.000000</td>\n",
              "      <td>0.320452</td>\n",
              "      <td>0.032323</td>\n",
              "      <td>0.032765</td>\n",
              "      <td>0.032323</td>\n",
              "      <td>0.032765</td>\n",
              "      <td>0.032765</td>\n",
              "    </tr>\n",
              "    <tr>\n",
              "      <th>10</th>\n",
              "      <td>Homephone_Tag</td>\n",
              "      <td>85299.0</td>\n",
              "      <td>0.200835</td>\n",
              "      <td>0.400627</td>\n",
              "      <td>0.000000</td>\n",
              "      <td>0.000000</td>\n",
              "      <td>0.00000</td>\n",
              "      <td>0.000000</td>\n",
              "      <td>1.000000</td>\n",
              "      <td>0.300002</td>\n",
              "      <td>0.030003</td>\n",
              "      <td>0.030003</td>\n",
              "      <td>0.030003</td>\n",
              "      <td>0.030003</td>\n",
              "      <td>0.030003</td>\n",
              "    </tr>\n",
              "    <tr>\n",
              "      <th>13</th>\n",
              "      <td>Client_Family_Members</td>\n",
              "      <td>83621.0</td>\n",
              "      <td>2.152091</td>\n",
              "      <td>0.909934</td>\n",
              "      <td>1.000000</td>\n",
              "      <td>2.000000</td>\n",
              "      <td>2.00000</td>\n",
              "      <td>3.000000</td>\n",
              "      <td>16.000000</td>\n",
              "      <td>0.313772</td>\n",
              "      <td>0.012385</td>\n",
              "      <td>0.014124</td>\n",
              "      <td>0.012385</td>\n",
              "      <td>0.014124</td>\n",
              "      <td>0.014124</td>\n",
              "    </tr>\n",
              "    <tr>\n",
              "      <th>14</th>\n",
              "      <td>Application_Process_Day</td>\n",
              "      <td>83605.0</td>\n",
              "      <td>3.162801</td>\n",
              "      <td>1.758039</td>\n",
              "      <td>0.000000</td>\n",
              "      <td>2.000000</td>\n",
              "      <td>3.00000</td>\n",
              "      <td>5.000000</td>\n",
              "      <td>6.000000</td>\n",
              "      <td>0.313903</td>\n",
              "      <td>0.012773</td>\n",
              "      <td>0.013655</td>\n",
              "      <td>0.012773</td>\n",
              "      <td>0.013655</td>\n",
              "      <td>0.013655</td>\n",
              "    </tr>\n",
              "    <tr>\n",
              "      <th>23</th>\n",
              "      <td>House_Own</td>\n",
              "      <td>82749.0</td>\n",
              "      <td>0.691150</td>\n",
              "      <td>0.462022</td>\n",
              "      <td>0.000000</td>\n",
              "      <td>0.000000</td>\n",
              "      <td>1.00000</td>\n",
              "      <td>1.000000</td>\n",
              "      <td>1.000000</td>\n",
              "      <td>0.320928</td>\n",
              "      <td>-0.007789</td>\n",
              "      <td>-0.006243</td>\n",
              "      <td>0.007789</td>\n",
              "      <td>0.006243</td>\n",
              "      <td>0.007789</td>\n",
              "    </tr>\n",
              "    <tr>\n",
              "      <th>24</th>\n",
              "      <td>Loan_Annuity</td>\n",
              "      <td>81925.0</td>\n",
              "      <td>2724.754839</td>\n",
              "      <td>1466.162865</td>\n",
              "      <td>217.350000</td>\n",
              "      <td>1660.500000</td>\n",
              "      <td>2501.10000</td>\n",
              "      <td>3469.950000</td>\n",
              "      <td>22500.000000</td>\n",
              "      <td>0.327690</td>\n",
              "      <td>-0.003493</td>\n",
              "      <td>-0.005418</td>\n",
              "      <td>0.003493</td>\n",
              "      <td>0.005418</td>\n",
              "      <td>0.005418</td>\n",
              "    </tr>\n",
              "    <tr>\n",
              "      <th>15</th>\n",
              "      <td>Bike_Owned</td>\n",
              "      <td>82816.0</td>\n",
              "      <td>0.331554</td>\n",
              "      <td>0.470775</td>\n",
              "      <td>0.000000</td>\n",
              "      <td>0.000000</td>\n",
              "      <td>0.00000</td>\n",
              "      <td>1.000000</td>\n",
              "      <td>1.000000</td>\n",
              "      <td>0.320378</td>\n",
              "      <td>0.001226</td>\n",
              "      <td>0.002696</td>\n",
              "      <td>0.001226</td>\n",
              "      <td>0.002696</td>\n",
              "      <td>0.002696</td>\n",
              "    </tr>\n",
              "    <tr>\n",
              "      <th>8</th>\n",
              "      <td>Active_Loan</td>\n",
              "      <td>82786.0</td>\n",
              "      <td>0.497536</td>\n",
              "      <td>0.499997</td>\n",
              "      <td>0.000000</td>\n",
              "      <td>0.000000</td>\n",
              "      <td>0.00000</td>\n",
              "      <td>1.000000</td>\n",
              "      <td>1.000000</td>\n",
              "      <td>0.320624</td>\n",
              "      <td>-0.000870</td>\n",
              "      <td>0.001048</td>\n",
              "      <td>0.000870</td>\n",
              "      <td>0.001048</td>\n",
              "      <td>0.001048</td>\n",
              "    </tr>\n",
              "    <tr>\n",
              "      <th>0</th>\n",
              "      <td>Mobile_Tag</td>\n",
              "      <td>85299.0</td>\n",
              "      <td>0.999988</td>\n",
              "      <td>0.003424</td>\n",
              "      <td>0.000000</td>\n",
              "      <td>1.000000</td>\n",
              "      <td>1.00000</td>\n",
              "      <td>1.000000</td>\n",
              "      <td>1.000000</td>\n",
              "      <td>0.300002</td>\n",
              "      <td>0.000013</td>\n",
              "      <td>0.000013</td>\n",
              "      <td>0.000013</td>\n",
              "      <td>0.000013</td>\n",
              "      <td>0.000013</td>\n",
              "    </tr>\n",
              "  </tbody>\n",
              "</table>\n",
              "</div>\n",
              "      <button class=\"colab-df-convert\" onclick=\"convertToInteractive('df-a4c45f3e-415f-45e3-ae3e-b5464d320127')\"\n",
              "              title=\"Convert this dataframe to an interactive table.\"\n",
              "              style=\"display:none;\">\n",
              "        \n",
              "  <svg xmlns=\"http://www.w3.org/2000/svg\" height=\"24px\"viewBox=\"0 0 24 24\"\n",
              "       width=\"24px\">\n",
              "    <path d=\"M0 0h24v24H0V0z\" fill=\"none\"/>\n",
              "    <path d=\"M18.56 5.44l.94 2.06.94-2.06 2.06-.94-2.06-.94-.94-2.06-.94 2.06-2.06.94zm-11 1L8.5 8.5l.94-2.06 2.06-.94-2.06-.94L8.5 2.5l-.94 2.06-2.06.94zm10 10l.94 2.06.94-2.06 2.06-.94-2.06-.94-.94-2.06-.94 2.06-2.06.94z\"/><path d=\"M17.41 7.96l-1.37-1.37c-.4-.4-.92-.59-1.43-.59-.52 0-1.04.2-1.43.59L10.3 9.45l-7.72 7.72c-.78.78-.78 2.05 0 2.83L4 21.41c.39.39.9.59 1.41.59.51 0 1.02-.2 1.41-.59l7.78-7.78 2.81-2.81c.8-.78.8-2.07 0-2.86zM5.41 20L4 18.59l7.72-7.72 1.47 1.35L5.41 20z\"/>\n",
              "  </svg>\n",
              "      </button>\n",
              "      \n",
              "  <style>\n",
              "    .colab-df-container {\n",
              "      display:flex;\n",
              "      flex-wrap:wrap;\n",
              "      gap: 12px;\n",
              "    }\n",
              "\n",
              "    .colab-df-convert {\n",
              "      background-color: #E8F0FE;\n",
              "      border: none;\n",
              "      border-radius: 50%;\n",
              "      cursor: pointer;\n",
              "      display: none;\n",
              "      fill: #1967D2;\n",
              "      height: 32px;\n",
              "      padding: 0 0 0 0;\n",
              "      width: 32px;\n",
              "    }\n",
              "\n",
              "    .colab-df-convert:hover {\n",
              "      background-color: #E2EBFA;\n",
              "      box-shadow: 0px 1px 2px rgba(60, 64, 67, 0.3), 0px 1px 3px 1px rgba(60, 64, 67, 0.15);\n",
              "      fill: #174EA6;\n",
              "    }\n",
              "\n",
              "    [theme=dark] .colab-df-convert {\n",
              "      background-color: #3B4455;\n",
              "      fill: #D2E3FC;\n",
              "    }\n",
              "\n",
              "    [theme=dark] .colab-df-convert:hover {\n",
              "      background-color: #434B5C;\n",
              "      box-shadow: 0px 1px 3px 1px rgba(0, 0, 0, 0.15);\n",
              "      filter: drop-shadow(0px 1px 2px rgba(0, 0, 0, 0.3));\n",
              "      fill: #FFFFFF;\n",
              "    }\n",
              "  </style>\n",
              "\n",
              "      <script>\n",
              "        const buttonEl =\n",
              "          document.querySelector('#df-a4c45f3e-415f-45e3-ae3e-b5464d320127 button.colab-df-convert');\n",
              "        buttonEl.style.display =\n",
              "          google.colab.kernel.accessAllowed ? 'block' : 'none';\n",
              "\n",
              "        async function convertToInteractive(key) {\n",
              "          const element = document.querySelector('#df-a4c45f3e-415f-45e3-ae3e-b5464d320127');\n",
              "          const dataTable =\n",
              "            await google.colab.kernel.invokeFunction('convertToInteractive',\n",
              "                                                     [key], {});\n",
              "          if (!dataTable) return;\n",
              "\n",
              "          const docLinkHtml = 'Like what you see? Visit the ' +\n",
              "            '<a target=\"_blank\" href=https://colab.research.google.com/notebooks/data_table.ipynb>data table notebook</a>'\n",
              "            + ' to learn more about interactive tables.';\n",
              "          element.innerHTML = '';\n",
              "          dataTable['output_type'] = 'display_data';\n",
              "          await google.colab.output.renderOutput(dataTable, element);\n",
              "          const docLink = document.createElement('div');\n",
              "          docLink.innerHTML = docLinkHtml;\n",
              "          element.appendChild(docLink);\n",
              "        }\n",
              "      </script>\n",
              "    </div>\n",
              "  </div>\n",
              "  "
            ]
          },
          "metadata": {},
          "execution_count": 28
        }
      ]
    },
    {
      "cell_type": "code",
      "source": [
        "df_res2.to_csv('univariate_assesment.csv', index = 0)"
      ],
      "metadata": {
        "id": "igVG_0cbnWHV"
      },
      "execution_count": 29,
      "outputs": []
    },
    {
      "cell_type": "markdown",
      "source": [
        "## 4. Tratamiento de variables categóricas"
      ],
      "metadata": {
        "id": "OeZebzd8oQLJ"
      }
    },
    {
      "cell_type": "code",
      "source": [
        "categorical_features"
      ],
      "metadata": {
        "id": "fCQksGpspMtN",
        "outputId": "cd66a47d-b88b-4306-9d3d-e67f2768bd57",
        "colab": {
          "base_uri": "https://localhost:8080/"
        }
      },
      "execution_count": 30,
      "outputs": [
        {
          "output_type": "execute_result",
          "data": {
            "text/plain": [
              "['Accompany_Client',\n",
              " 'Client_Income_Type',\n",
              " 'Client_Education',\n",
              " 'Client_Marital_Status',\n",
              " 'Client_Gender',\n",
              " 'Loan_Contract_Type',\n",
              " 'Client_Housing_Type',\n",
              " 'Client_Occupation',\n",
              " 'Client_Permanent_Match_Tag',\n",
              " 'Client_Contact_Work_Tag',\n",
              " 'Type_Organization']"
            ]
          },
          "metadata": {},
          "execution_count": 30
        }
      ]
    },
    {
      "cell_type": "code",
      "source": [
        "# Analizando variable categórica\n",
        "sns.countplot(x='Client_Marital_Status', data = X_train, palette = 'hls')"
      ],
      "metadata": {
        "id": "--MCtChFocvZ",
        "outputId": "4428a378-b2ae-4319-fc57-bb29a60f40c2",
        "colab": {
          "base_uri": "https://localhost:8080/",
          "height": 0
        }
      },
      "execution_count": 31,
      "outputs": [
        {
          "output_type": "execute_result",
          "data": {
            "text/plain": [
              "<matplotlib.axes._subplots.AxesSubplot at 0x7ff867e16e90>"
            ]
          },
          "metadata": {},
          "execution_count": 31
        },
        {
          "output_type": "display_data",
          "data": {
            "text/plain": [
              "<Figure size 432x288 with 1 Axes>"
            ],
            "image/png": "[encoded data removed]"
          },
          "metadata": {
            "needs_background": "light"
          }
        }
      ]
    },
    {
      "cell_type": "code",
      "source": [
        "mar_res = X_train.groupby(['Client_Marital_Status']).agg({\"ID\":\"count\",\n",
        "                                                \"Default\" :\"mean\"}).reset_index()\n",
        "mar_res                                                "
      ],
      "metadata": {
        "id": "-L7TJc1Qpb4J",
        "outputId": "bd0c4927-953d-4887-f0e8-baea6cdcb23f",
        "colab": {
          "base_uri": "https://localhost:8080/",
          "height": 0
        }
      },
      "execution_count": 32,
      "outputs": [
        {
          "output_type": "execute_result",
          "data": {
            "text/plain": [
              "  Client_Marital_Status     ID   Default\n",
              "0                     D   5288  0.076021\n",
              "1                     M  61181  0.079208\n",
              "2                     S  12110  0.097770\n",
              "3                     W   4329  0.063525"
            ],
            "text/html": [
              "\n",
              "  <div id=\"df-0a4b9041-496d-4a43-94c5-ec59b2036fd3\">\n",
              "    <div class=\"colab-df-container\">\n",
              "      <div>\n",
              "<style scoped>\n",
              "    .dataframe tbody tr th:only-of-type {\n",
              "        vertical-align: middle;\n",
              "    }\n",
              "\n",
              "    .dataframe tbody tr th {\n",
              "        vertical-align: top;\n",
              "    }\n",
              "\n",
              "    .dataframe thead th {\n",
              "        text-align: right;\n",
              "    }\n",
              "</style>\n",
              "<table border=\"1\" class=\"dataframe\">\n",
              "  <thead>\n",
              "    <tr style=\"text-align: right;\">\n",
              "      <th></th>\n",
              "      <th>Client_Marital_Status</th>\n",
              "      <th>ID</th>\n",
              "      <th>Default</th>\n",
              "    </tr>\n",
              "  </thead>\n",
              "  <tbody>\n",
              "    <tr>\n",
              "      <th>0</th>\n",
              "      <td>D</td>\n",
              "      <td>5288</td>\n",
              "      <td>0.076021</td>\n",
              "    </tr>\n",
              "    <tr>\n",
              "      <th>1</th>\n",
              "      <td>M</td>\n",
              "      <td>61181</td>\n",
              "      <td>0.079208</td>\n",
              "    </tr>\n",
              "    <tr>\n",
              "      <th>2</th>\n",
              "      <td>S</td>\n",
              "      <td>12110</td>\n",
              "      <td>0.097770</td>\n",
              "    </tr>\n",
              "    <tr>\n",
              "      <th>3</th>\n",
              "      <td>W</td>\n",
              "      <td>4329</td>\n",
              "      <td>0.063525</td>\n",
              "    </tr>\n",
              "  </tbody>\n",
              "</table>\n",
              "</div>\n",
              "      <button class=\"colab-df-convert\" onclick=\"convertToInteractive('df-0a4b9041-496d-4a43-94c5-ec59b2036fd3')\"\n",
              "              title=\"Convert this dataframe to an interactive table.\"\n",
              "              style=\"display:none;\">\n",
              "        \n",
              "  <svg xmlns=\"http://www.w3.org/2000/svg\" height=\"24px\"viewBox=\"0 0 24 24\"\n",
              "       width=\"24px\">\n",
              "    <path d=\"M0 0h24v24H0V0z\" fill=\"none\"/>\n",
              "    <path d=\"M18.56 5.44l.94 2.06.94-2.06 2.06-.94-2.06-.94-.94-2.06-.94 2.06-2.06.94zm-11 1L8.5 8.5l.94-2.06 2.06-.94-2.06-.94L8.5 2.5l-.94 2.06-2.06.94zm10 10l.94 2.06.94-2.06 2.06-.94-2.06-.94-.94-2.06-.94 2.06-2.06.94z\"/><path d=\"M17.41 7.96l-1.37-1.37c-.4-.4-.92-.59-1.43-.59-.52 0-1.04.2-1.43.59L10.3 9.45l-7.72 7.72c-.78.78-.78 2.05 0 2.83L4 21.41c.39.39.9.59 1.41.59.51 0 1.02-.2 1.41-.59l7.78-7.78 2.81-2.81c.8-.78.8-2.07 0-2.86zM5.41 20L4 18.59l7.72-7.72 1.47 1.35L5.41 20z\"/>\n",
              "  </svg>\n",
              "      </button>\n",
              "      \n",
              "  <style>\n",
              "    .colab-df-container {\n",
              "      display:flex;\n",
              "      flex-wrap:wrap;\n",
              "      gap: 12px;\n",
              "    }\n",
              "\n",
              "    .colab-df-convert {\n",
              "      background-color: #E8F0FE;\n",
              "      border: none;\n",
              "      border-radius: 50%;\n",
              "      cursor: pointer;\n",
              "      display: none;\n",
              "      fill: #1967D2;\n",
              "      height: 32px;\n",
              "      padding: 0 0 0 0;\n",
              "      width: 32px;\n",
              "    }\n",
              "\n",
              "    .colab-df-convert:hover {\n",
              "      background-color: #E2EBFA;\n",
              "      box-shadow: 0px 1px 2px rgba(60, 64, 67, 0.3), 0px 1px 3px 1px rgba(60, 64, 67, 0.15);\n",
              "      fill: #174EA6;\n",
              "    }\n",
              "\n",
              "    [theme=dark] .colab-df-convert {\n",
              "      background-color: #3B4455;\n",
              "      fill: #D2E3FC;\n",
              "    }\n",
              "\n",
              "    [theme=dark] .colab-df-convert:hover {\n",
              "      background-color: #434B5C;\n",
              "      box-shadow: 0px 1px 3px 1px rgba(0, 0, 0, 0.15);\n",
              "      filter: drop-shadow(0px 1px 2px rgba(0, 0, 0, 0.3));\n",
              "      fill: #FFFFFF;\n",
              "    }\n",
              "  </style>\n",
              "\n",
              "      <script>\n",
              "        const buttonEl =\n",
              "          document.querySelector('#df-0a4b9041-496d-4a43-94c5-ec59b2036fd3 button.colab-df-convert');\n",
              "        buttonEl.style.display =\n",
              "          google.colab.kernel.accessAllowed ? 'block' : 'none';\n",
              "\n",
              "        async function convertToInteractive(key) {\n",
              "          const element = document.querySelector('#df-0a4b9041-496d-4a43-94c5-ec59b2036fd3');\n",
              "          const dataTable =\n",
              "            await google.colab.kernel.invokeFunction('convertToInteractive',\n",
              "                                                     [key], {});\n",
              "          if (!dataTable) return;\n",
              "\n",
              "          const docLinkHtml = 'Like what you see? Visit the ' +\n",
              "            '<a target=\"_blank\" href=https://colab.research.google.com/notebooks/data_table.ipynb>data table notebook</a>'\n",
              "            + ' to learn more about interactive tables.';\n",
              "          element.innerHTML = '';\n",
              "          dataTable['output_type'] = 'display_data';\n",
              "          await google.colab.output.renderOutput(dataTable, element);\n",
              "          const docLink = document.createElement('div');\n",
              "          docLink.innerHTML = docLinkHtml;\n",
              "          element.appendChild(docLink);\n",
              "        }\n",
              "      </script>\n",
              "    </div>\n",
              "  </div>\n",
              "  "
            ]
          },
          "metadata": {},
          "execution_count": 32
        }
      ]
    },
    {
      "cell_type": "code",
      "source": [
        "sns.lineplot(x = 'Client_Marital_Status', y = 'Default', data = mar_res)"
      ],
      "metadata": {
        "id": "CXwRRlqfqQlA",
        "outputId": "017c261c-af34-4910-e2b3-f6ad3c600c71",
        "colab": {
          "base_uri": "https://localhost:8080/",
          "height": 0
        }
      },
      "execution_count": 33,
      "outputs": [
        {
          "output_type": "execute_result",
          "data": {
            "text/plain": [
              "<matplotlib.axes._subplots.AxesSubplot at 0x7ff867d97590>"
            ]
          },
          "metadata": {},
          "execution_count": 33
        },
        {
          "output_type": "display_data",
          "data": {
            "text/plain": [
              "<Figure size 432x288 with 1 Axes>"
            ],
            "image/png": "[encoded data removed]"
          },
          "metadata": {
            "needs_background": "light"
          }
        }
      ]
    },
    {
      "cell_type": "code",
      "source": [
        "# Title\n",
        "plt.title('Análisis de RD')\n",
        "# X label\n",
        "plt.xlabel('Client_Marital_Status')\n",
        "# Y label\n",
        "plt.ylabel('Default')\n",
        "\n",
        "\n",
        "ax = mar_res['Default'].plot(secondary_y = True)\n",
        "mar_res[['Client_Marital_Status','ID']].plot(kind='bar', ax=ax)\n"
      ],
      "metadata": {
        "id": "uzzF1_-lq3GC",
        "outputId": "7720f9e5-36de-48ab-8b89-523a36279bb1",
        "colab": {
          "base_uri": "https://localhost:8080/",
          "height": 0
        }
      },
      "execution_count": 34,
      "outputs": [
        {
          "output_type": "execute_result",
          "data": {
            "text/plain": [
              "<matplotlib.axes._subplots.AxesSubplot at 0x7ff867cc1b50>"
            ]
          },
          "metadata": {},
          "execution_count": 34
        },
        {
          "output_type": "display_data",
          "data": {
            "text/plain": [
              "<Figure size 432x288 with 2 Axes>"
            ],
            "image/png": "[encoded data removed]"
          },
          "metadata": {
            "needs_background": "light"
          }
        }
      ]
    },
    {
      "cell_type": "markdown",
      "metadata": {
        "id": "BzjJoA4znq1u"
      },
      "source": [
        "#### Encoding de variables categóricas"
      ]
    },
    {
      "cell_type": "markdown",
      "metadata": {
        "id": "NkpAoL6tI7mS"
      },
      "source": [
        "\n",
        "---\n",
        "\n",
        "<h3>Label Encoding</h3> \n",
        "\n",
        "El label encoding consiste en asignar un número (por lo general entero) a cada una de las categorías de la variable categórica.\n",
        "\n",
        "<img src=\"https://miro.medium.com/max/772/1*QQe-4476Oy3_dI1vhb3dDg.png\" alt=\"HTML5 Icon\" style=\"width: 1600px; height: 1250px;\">\n",
        "\n",
        "\n",
        "\n",
        "---\n",
        "\n",
        "<h3>One Hot Encoding</h3> \n",
        "\n",
        "El One hot encoding es un proceso que consiste en dummizar cada catgoría de la variable en una nueva variable, de esta manera las nuevas variables se activarán dependiendo del valor que tome la variable original.\n",
        "\n",
        "<img src=\"https://encrypted-tbn0.gstatic.com/images?q=tbn:ANd9GcTr11qA6j0WCbEYrfNoQ7QO_NpMIZus42BJwQ&usqp=CAU\" alt=\"HTML5 Icon\" style=\"width: 1600px; height: 1250px;\">\n",
        "\n",
        "---\n",
        "\n",
        "<div style=\"text-align: center\">Ejemplo de one hot Encoding </div>\n",
        "\n",
        "<h3>Target Encoding</h3> \n",
        "\n",
        "El target encoding es una técnica que consiste en inputar el promedio del target a cada uno de los valores de la variable categórica.\n",
        "\n",
        "<img src=\"https://lh6.googleusercontent.com/6_KrGj2k9NvcLVfmZ6HIYruAqav4rX86YU7WOhXofDGd6-98JjUPWajo0dDqmFMXv3tN0b_LOmgYLiPMCFyIWw3b7lVrCAiSboWgJ_AJ4TqHpNWUHkgIxl0xuSF9JdSXNbWG48QS\" alt=\"HTML5 Icon\" style=\"width: 600px; height: 450px;\">\n",
        "\n",
        "---\n"
      ]
    },
    {
      "cell_type": "code",
      "source": [
        "# Reemplazar las filas NaN por una categoría específica para missings \n",
        "\n",
        "X_train[categorical_features].fillna('missing', inplace = True)\n",
        "X_train[categorical_features] = X_train[categorical_features].replace(np.nan,'missing')\n",
        "\n",
        "X_train[categorical_features].head()"
      ],
      "metadata": {
        "id": "TmO3FRbUtkfu",
        "outputId": "d1df8c80-c691-44a3-8278-ec1aa2f592b0",
        "colab": {
          "base_uri": "https://localhost:8080/",
          "height": 0
        }
      },
      "execution_count": 35,
      "outputs": [
        {
          "output_type": "stream",
          "name": "stderr",
          "text": [
            "/usr/local/lib/python3.7/dist-packages/pandas/core/frame.py:5182: SettingWithCopyWarning: \n",
            "A value is trying to be set on a copy of a slice from a DataFrame\n",
            "\n",
            "See the caveats in the documentation: https://pandas.pydata.org/pandas-docs/stable/user_guide/indexing.html#returning-a-view-versus-a-copy\n",
            "  downcast=downcast,\n"
          ]
        },
        {
          "output_type": "execute_result",
          "data": {
            "text/plain": [
              "       Accompany_Client Client_Income_Type Client_Education  \\\n",
              "66289             Alone         Commercial        Secondary   \n",
              "109009         Relative         Commercial        Secondary   \n",
              "30526             Alone            Service       Graduation   \n",
              "117872            Alone            Service        Secondary   \n",
              "90866             Alone            Service        Secondary   \n",
              "\n",
              "       Client_Marital_Status Client_Gender Loan_Contract_Type  \\\n",
              "66289                      M          Male                 CL   \n",
              "109009                     M          Male                 CL   \n",
              "30526                      M          Male                 CL   \n",
              "117872                     M          Male                 CL   \n",
              "90866                      M          Male                 CL   \n",
              "\n",
              "       Client_Housing_Type Client_Occupation Client_Permanent_Match_Tag  \\\n",
              "66289                 Home           missing                        Yes   \n",
              "109009                Home          Laborers                        Yes   \n",
              "30526                 Home           missing                        Yes   \n",
              "117872                Home              Core                        Yes   \n",
              "90866              missing             Sales                         No   \n",
              "\n",
              "       Client_Contact_Work_Tag       Type_Organization  \n",
              "66289                       No                 missing  \n",
              "109009                     Yes  Business Entity Type 2  \n",
              "30526                      Yes           Self-employed  \n",
              "117872                     Yes           Self-employed  \n",
              "90866                      Yes           Trade: type 3  "
            ],
            "text/html": [
              "\n",
              "  <div id=\"df-7a159fb9-8f44-4056-8b2c-35ccbd622de3\">\n",
              "    <div class=\"colab-df-container\">\n",
              "      <div>\n",
              "<style scoped>\n",
              "    .dataframe tbody tr th:only-of-type {\n",
              "        vertical-align: middle;\n",
              "    }\n",
              "\n",
              "    .dataframe tbody tr th {\n",
              "        vertical-align: top;\n",
              "    }\n",
              "\n",
              "    .dataframe thead th {\n",
              "        text-align: right;\n",
              "    }\n",
              "</style>\n",
              "<table border=\"1\" class=\"dataframe\">\n",
              "  <thead>\n",
              "    <tr style=\"text-align: right;\">\n",
              "      <th></th>\n",
              "      <th>Accompany_Client</th>\n",
              "      <th>Client_Income_Type</th>\n",
              "      <th>Client_Education</th>\n",
              "      <th>Client_Marital_Status</th>\n",
              "      <th>Client_Gender</th>\n",
              "      <th>Loan_Contract_Type</th>\n",
              "      <th>Client_Housing_Type</th>\n",
              "      <th>Client_Occupation</th>\n",
              "      <th>Client_Permanent_Match_Tag</th>\n",
              "      <th>Client_Contact_Work_Tag</th>\n",
              "      <th>Type_Organization</th>\n",
              "    </tr>\n",
              "  </thead>\n",
              "  <tbody>\n",
              "    <tr>\n",
              "      <th>66289</th>\n",
              "      <td>Alone</td>\n",
              "      <td>Commercial</td>\n",
              "      <td>Secondary</td>\n",
              "      <td>M</td>\n",
              "      <td>Male</td>\n",
              "      <td>CL</td>\n",
              "      <td>Home</td>\n",
              "      <td>missing</td>\n",
              "      <td>Yes</td>\n",
              "      <td>No</td>\n",
              "      <td>missing</td>\n",
              "    </tr>\n",
              "    <tr>\n",
              "      <th>109009</th>\n",
              "      <td>Relative</td>\n",
              "      <td>Commercial</td>\n",
              "      <td>Secondary</td>\n",
              "      <td>M</td>\n",
              "      <td>Male</td>\n",
              "      <td>CL</td>\n",
              "      <td>Home</td>\n",
              "      <td>Laborers</td>\n",
              "      <td>Yes</td>\n",
              "      <td>Yes</td>\n",
              "      <td>Business Entity Type 2</td>\n",
              "    </tr>\n",
              "    <tr>\n",
              "      <th>30526</th>\n",
              "      <td>Alone</td>\n",
              "      <td>Service</td>\n",
              "      <td>Graduation</td>\n",
              "      <td>M</td>\n",
              "      <td>Male</td>\n",
              "      <td>CL</td>\n",
              "      <td>Home</td>\n",
              "      <td>missing</td>\n",
              "      <td>Yes</td>\n",
              "      <td>Yes</td>\n",
              "      <td>Self-employed</td>\n",
              "    </tr>\n",
              "    <tr>\n",
              "      <th>117872</th>\n",
              "      <td>Alone</td>\n",
              "      <td>Service</td>\n",
              "      <td>Secondary</td>\n",
              "      <td>M</td>\n",
              "      <td>Male</td>\n",
              "      <td>CL</td>\n",
              "      <td>Home</td>\n",
              "      <td>Core</td>\n",
              "      <td>Yes</td>\n",
              "      <td>Yes</td>\n",
              "      <td>Self-employed</td>\n",
              "    </tr>\n",
              "    <tr>\n",
              "      <th>90866</th>\n",
              "      <td>Alone</td>\n",
              "      <td>Service</td>\n",
              "      <td>Secondary</td>\n",
              "      <td>M</td>\n",
              "      <td>Male</td>\n",
              "      <td>CL</td>\n",
              "      <td>missing</td>\n",
              "      <td>Sales</td>\n",
              "      <td>No</td>\n",
              "      <td>Yes</td>\n",
              "      <td>Trade: type 3</td>\n",
              "    </tr>\n",
              "  </tbody>\n",
              "</table>\n",
              "</div>\n",
              "      <button class=\"colab-df-convert\" onclick=\"convertToInteractive('df-7a159fb9-8f44-4056-8b2c-35ccbd622de3')\"\n",
              "              title=\"Convert this dataframe to an interactive table.\"\n",
              "              style=\"display:none;\">\n",
              "        \n",
              "  <svg xmlns=\"http://www.w3.org/2000/svg\" height=\"24px\"viewBox=\"0 0 24 24\"\n",
              "       width=\"24px\">\n",
              "    <path d=\"M0 0h24v24H0V0z\" fill=\"none\"/>\n",
              "    <path d=\"M18.56 5.44l.94 2.06.94-2.06 2.06-.94-2.06-.94-.94-2.06-.94 2.06-2.06.94zm-11 1L8.5 8.5l.94-2.06 2.06-.94-2.06-.94L8.5 2.5l-.94 2.06-2.06.94zm10 10l.94 2.06.94-2.06 2.06-.94-2.06-.94-.94-2.06-.94 2.06-2.06.94z\"/><path d=\"M17.41 7.96l-1.37-1.37c-.4-.4-.92-.59-1.43-.59-.52 0-1.04.2-1.43.59L10.3 9.45l-7.72 7.72c-.78.78-.78 2.05 0 2.83L4 21.41c.39.39.9.59 1.41.59.51 0 1.02-.2 1.41-.59l7.78-7.78 2.81-2.81c.8-.78.8-2.07 0-2.86zM5.41 20L4 18.59l7.72-7.72 1.47 1.35L5.41 20z\"/>\n",
              "  </svg>\n",
              "      </button>\n",
              "      \n",
              "  <style>\n",
              "    .colab-df-container {\n",
              "      display:flex;\n",
              "      flex-wrap:wrap;\n",
              "      gap: 12px;\n",
              "    }\n",
              "\n",
              "    .colab-df-convert {\n",
              "      background-color: #E8F0FE;\n",
              "      border: none;\n",
              "      border-radius: 50%;\n",
              "      cursor: pointer;\n",
              "      display: none;\n",
              "      fill: #1967D2;\n",
              "      height: 32px;\n",
              "      padding: 0 0 0 0;\n",
              "      width: 32px;\n",
              "    }\n",
              "\n",
              "    .colab-df-convert:hover {\n",
              "      background-color: #E2EBFA;\n",
              "      box-shadow: 0px 1px 2px rgba(60, 64, 67, 0.3), 0px 1px 3px 1px rgba(60, 64, 67, 0.15);\n",
              "      fill: #174EA6;\n",
              "    }\n",
              "\n",
              "    [theme=dark] .colab-df-convert {\n",
              "      background-color: #3B4455;\n",
              "      fill: #D2E3FC;\n",
              "    }\n",
              "\n",
              "    [theme=dark] .colab-df-convert:hover {\n",
              "      background-color: #434B5C;\n",
              "      box-shadow: 0px 1px 3px 1px rgba(0, 0, 0, 0.15);\n",
              "      filter: drop-shadow(0px 1px 2px rgba(0, 0, 0, 0.3));\n",
              "      fill: #FFFFFF;\n",
              "    }\n",
              "  </style>\n",
              "\n",
              "      <script>\n",
              "        const buttonEl =\n",
              "          document.querySelector('#df-7a159fb9-8f44-4056-8b2c-35ccbd622de3 button.colab-df-convert');\n",
              "        buttonEl.style.display =\n",
              "          google.colab.kernel.accessAllowed ? 'block' : 'none';\n",
              "\n",
              "        async function convertToInteractive(key) {\n",
              "          const element = document.querySelector('#df-7a159fb9-8f44-4056-8b2c-35ccbd622de3');\n",
              "          const dataTable =\n",
              "            await google.colab.kernel.invokeFunction('convertToInteractive',\n",
              "                                                     [key], {});\n",
              "          if (!dataTable) return;\n",
              "\n",
              "          const docLinkHtml = 'Like what you see? Visit the ' +\n",
              "            '<a target=\"_blank\" href=https://colab.research.google.com/notebooks/data_table.ipynb>data table notebook</a>'\n",
              "            + ' to learn more about interactive tables.';\n",
              "          element.innerHTML = '';\n",
              "          dataTable['output_type'] = 'display_data';\n",
              "          await google.colab.output.renderOutput(dataTable, element);\n",
              "          const docLink = document.createElement('div');\n",
              "          docLink.innerHTML = docLinkHtml;\n",
              "          element.appendChild(docLink);\n",
              "        }\n",
              "      </script>\n",
              "    </div>\n",
              "  </div>\n",
              "  "
            ]
          },
          "metadata": {},
          "execution_count": 35
        }
      ]
    },
    {
      "cell_type": "markdown",
      "source": [
        "<h3>One Hot Encoding</h3> "
      ],
      "metadata": {
        "id": "yJPa11C1us-g"
      }
    },
    {
      "cell_type": "code",
      "source": [
        "# One hot Encoding\n",
        "\n",
        "from sklearn.preprocessing import OneHotEncoder\n",
        "OneHotEncoder = OneHotEncoder()\n"
      ],
      "metadata": {
        "id": "Km1H1PkcusSn"
      },
      "execution_count": 36,
      "outputs": []
    },
    {
      "cell_type": "code",
      "source": [
        "# definiendo reglas de encoding\n",
        "\n",
        "OneHotEncoder.fit(X_train[categorical_features])\n"
      ],
      "metadata": {
        "id": "QqvB0eiLu9aU",
        "outputId": "7b984b9b-0154-4442-b732-4cbb78b49358",
        "colab": {
          "base_uri": "https://localhost:8080/"
        }
      },
      "execution_count": 37,
      "outputs": [
        {
          "output_type": "execute_result",
          "data": {
            "text/plain": [
              "OneHotEncoder()"
            ]
          },
          "metadata": {},
          "execution_count": 37
        }
      ]
    },
    {
      "cell_type": "code",
      "source": [
        "list_dummys = []\n",
        "for c in categorical_features:\n",
        "  list_dummys += [c + '_dum' + str(x) for x in range(len(X_train[c].drop_duplicates()))]\n"
      ],
      "metadata": {
        "id": "KU40y8FvxsWs"
      },
      "execution_count": 38,
      "outputs": []
    },
    {
      "cell_type": "code",
      "source": [
        "list_dummys\n"
      ],
      "metadata": {
        "id": "b3P7wyW1vt7h",
        "outputId": "f417e003-fcf9-4490-f186-51f03bac0a6f",
        "colab": {
          "base_uri": "https://localhost:8080/"
        }
      },
      "execution_count": 39,
      "outputs": [
        {
          "output_type": "execute_result",
          "data": {
            "text/plain": [
              "['Accompany_Client_dum0',\n",
              " 'Accompany_Client_dum1',\n",
              " 'Accompany_Client_dum2',\n",
              " 'Accompany_Client_dum3',\n",
              " 'Accompany_Client_dum4',\n",
              " 'Accompany_Client_dum5',\n",
              " 'Accompany_Client_dum6',\n",
              " 'Accompany_Client_dum7',\n",
              " 'Client_Income_Type_dum0',\n",
              " 'Client_Income_Type_dum1',\n",
              " 'Client_Income_Type_dum2',\n",
              " 'Client_Income_Type_dum3',\n",
              " 'Client_Income_Type_dum4',\n",
              " 'Client_Income_Type_dum5',\n",
              " 'Client_Income_Type_dum6',\n",
              " 'Client_Income_Type_dum7',\n",
              " 'Client_Education_dum0',\n",
              " 'Client_Education_dum1',\n",
              " 'Client_Education_dum2',\n",
              " 'Client_Education_dum3',\n",
              " 'Client_Education_dum4',\n",
              " 'Client_Education_dum5',\n",
              " 'Client_Marital_Status_dum0',\n",
              " 'Client_Marital_Status_dum1',\n",
              " 'Client_Marital_Status_dum2',\n",
              " 'Client_Marital_Status_dum3',\n",
              " 'Client_Marital_Status_dum4',\n",
              " 'Client_Gender_dum0',\n",
              " 'Client_Gender_dum1',\n",
              " 'Client_Gender_dum2',\n",
              " 'Loan_Contract_Type_dum0',\n",
              " 'Loan_Contract_Type_dum1',\n",
              " 'Loan_Contract_Type_dum2',\n",
              " 'Client_Housing_Type_dum0',\n",
              " 'Client_Housing_Type_dum1',\n",
              " 'Client_Housing_Type_dum2',\n",
              " 'Client_Housing_Type_dum3',\n",
              " 'Client_Housing_Type_dum4',\n",
              " 'Client_Housing_Type_dum5',\n",
              " 'Client_Housing_Type_dum6',\n",
              " 'Client_Occupation_dum0',\n",
              " 'Client_Occupation_dum1',\n",
              " 'Client_Occupation_dum2',\n",
              " 'Client_Occupation_dum3',\n",
              " 'Client_Occupation_dum4',\n",
              " 'Client_Occupation_dum5',\n",
              " 'Client_Occupation_dum6',\n",
              " 'Client_Occupation_dum7',\n",
              " 'Client_Occupation_dum8',\n",
              " 'Client_Occupation_dum9',\n",
              " 'Client_Occupation_dum10',\n",
              " 'Client_Occupation_dum11',\n",
              " 'Client_Occupation_dum12',\n",
              " 'Client_Occupation_dum13',\n",
              " 'Client_Occupation_dum14',\n",
              " 'Client_Occupation_dum15',\n",
              " 'Client_Occupation_dum16',\n",
              " 'Client_Occupation_dum17',\n",
              " 'Client_Occupation_dum18',\n",
              " 'Client_Permanent_Match_Tag_dum0',\n",
              " 'Client_Permanent_Match_Tag_dum1',\n",
              " 'Client_Contact_Work_Tag_dum0',\n",
              " 'Client_Contact_Work_Tag_dum1',\n",
              " 'Type_Organization_dum0',\n",
              " 'Type_Organization_dum1',\n",
              " 'Type_Organization_dum2',\n",
              " 'Type_Organization_dum3',\n",
              " 'Type_Organization_dum4',\n",
              " 'Type_Organization_dum5',\n",
              " 'Type_Organization_dum6',\n",
              " 'Type_Organization_dum7',\n",
              " 'Type_Organization_dum8',\n",
              " 'Type_Organization_dum9',\n",
              " 'Type_Organization_dum10',\n",
              " 'Type_Organization_dum11',\n",
              " 'Type_Organization_dum12',\n",
              " 'Type_Organization_dum13',\n",
              " 'Type_Organization_dum14',\n",
              " 'Type_Organization_dum15',\n",
              " 'Type_Organization_dum16',\n",
              " 'Type_Organization_dum17',\n",
              " 'Type_Organization_dum18',\n",
              " 'Type_Organization_dum19',\n",
              " 'Type_Organization_dum20',\n",
              " 'Type_Organization_dum21',\n",
              " 'Type_Organization_dum22',\n",
              " 'Type_Organization_dum23',\n",
              " 'Type_Organization_dum24',\n",
              " 'Type_Organization_dum25',\n",
              " 'Type_Organization_dum26',\n",
              " 'Type_Organization_dum27',\n",
              " 'Type_Organization_dum28',\n",
              " 'Type_Organization_dum29',\n",
              " 'Type_Organization_dum30',\n",
              " 'Type_Organization_dum31',\n",
              " 'Type_Organization_dum32',\n",
              " 'Type_Organization_dum33',\n",
              " 'Type_Organization_dum34',\n",
              " 'Type_Organization_dum35',\n",
              " 'Type_Organization_dum36',\n",
              " 'Type_Organization_dum37',\n",
              " 'Type_Organization_dum38',\n",
              " 'Type_Organization_dum39',\n",
              " 'Type_Organization_dum40',\n",
              " 'Type_Organization_dum41',\n",
              " 'Type_Organization_dum42',\n",
              " 'Type_Organization_dum43',\n",
              " 'Type_Organization_dum44',\n",
              " 'Type_Organization_dum45',\n",
              " 'Type_Organization_dum46',\n",
              " 'Type_Organization_dum47',\n",
              " 'Type_Organization_dum48',\n",
              " 'Type_Organization_dum49',\n",
              " 'Type_Organization_dum50',\n",
              " 'Type_Organization_dum51',\n",
              " 'Type_Organization_dum52',\n",
              " 'Type_Organization_dum53',\n",
              " 'Type_Organization_dum54',\n",
              " 'Type_Organization_dum55',\n",
              " 'Type_Organization_dum56',\n",
              " 'Type_Organization_dum57']"
            ]
          },
          "metadata": {},
          "execution_count": 39
        }
      ]
    },
    {
      "cell_type": "code",
      "source": [
        "# Usando reglas de encoding\n",
        "\n",
        "X_train[list_dummys] = OneHotEncoder.transform(X_train[categorical_features]).toarray()\n",
        "X_train[categorical_features + list_dummys].head()"
      ],
      "metadata": {
        "id": "y6p_GV43vlrk",
        "outputId": "41f4657a-c2ac-43fa-b3e5-7072984708fc",
        "colab": {
          "base_uri": "https://localhost:8080/",
          "height": 0
        }
      },
      "execution_count": 40,
      "outputs": [
        {
          "output_type": "stream",
          "name": "stderr",
          "text": [
            "/usr/local/lib/python3.7/dist-packages/pandas/core/frame.py:3678: PerformanceWarning: DataFrame is highly fragmented.  This is usually the result of calling `frame.insert` many times, which has poor performance.  Consider joining all columns at once using pd.concat(axis=1) instead.  To get a de-fragmented frame, use `newframe = frame.copy()`\n",
            "  self[col] = igetitem(value, i)\n"
          ]
        },
        {
          "output_type": "execute_result",
          "data": {
            "text/plain": [
              "       Accompany_Client Client_Income_Type Client_Education  \\\n",
              "66289             Alone         Commercial        Secondary   \n",
              "109009         Relative         Commercial        Secondary   \n",
              "30526             Alone            Service       Graduation   \n",
              "117872            Alone            Service        Secondary   \n",
              "90866             Alone            Service        Secondary   \n",
              "\n",
              "       Client_Marital_Status Client_Gender Loan_Contract_Type  \\\n",
              "66289                      M          Male                 CL   \n",
              "109009                     M          Male                 CL   \n",
              "30526                      M          Male                 CL   \n",
              "117872                     M          Male                 CL   \n",
              "90866                      M          Male                 CL   \n",
              "\n",
              "       Client_Housing_Type Client_Occupation Client_Permanent_Match_Tag  \\\n",
              "66289                 Home           missing                        Yes   \n",
              "109009                Home          Laborers                        Yes   \n",
              "30526                 Home           missing                        Yes   \n",
              "117872                Home              Core                        Yes   \n",
              "90866              missing             Sales                         No   \n",
              "\n",
              "       Client_Contact_Work_Tag  ... Type_Organization_dum48  \\\n",
              "66289                       No  ...                     0.0   \n",
              "109009                     Yes  ...                     0.0   \n",
              "30526                      Yes  ...                     0.0   \n",
              "117872                     Yes  ...                     0.0   \n",
              "90866                      Yes  ...                     0.0   \n",
              "\n",
              "        Type_Organization_dum49  Type_Organization_dum50  \\\n",
              "66289                       0.0                      0.0   \n",
              "109009                      0.0                      0.0   \n",
              "30526                       0.0                      0.0   \n",
              "117872                      0.0                      0.0   \n",
              "90866                       0.0                      0.0   \n",
              "\n",
              "        Type_Organization_dum51  Type_Organization_dum52  \\\n",
              "66289                       0.0                      0.0   \n",
              "109009                      0.0                      0.0   \n",
              "30526                       0.0                      0.0   \n",
              "117872                      0.0                      0.0   \n",
              "90866                       0.0                      0.0   \n",
              "\n",
              "        Type_Organization_dum53  Type_Organization_dum54  \\\n",
              "66289                       0.0                      0.0   \n",
              "109009                      0.0                      0.0   \n",
              "30526                       0.0                      0.0   \n",
              "117872                      0.0                      0.0   \n",
              "90866                       0.0                      0.0   \n",
              "\n",
              "        Type_Organization_dum55  Type_Organization_dum56  \\\n",
              "66289                       0.0                      0.0   \n",
              "109009                      0.0                      0.0   \n",
              "30526                       0.0                      0.0   \n",
              "117872                      0.0                      0.0   \n",
              "90866                       0.0                      0.0   \n",
              "\n",
              "        Type_Organization_dum57  \n",
              "66289                       1.0  \n",
              "109009                      0.0  \n",
              "30526                       0.0  \n",
              "117872                      0.0  \n",
              "90866                       0.0  \n",
              "\n",
              "[5 rows x 132 columns]"
            ],
            "text/html": [
              "\n",
              "  <div id=\"df-598b698c-8bea-4c7f-a227-bf3a8922547d\">\n",
              "    <div class=\"colab-df-container\">\n",
              "      <div>\n",
              "<style scoped>\n",
              "    .dataframe tbody tr th:only-of-type {\n",
              "        vertical-align: middle;\n",
              "    }\n",
              "\n",
              "    .dataframe tbody tr th {\n",
              "        vertical-align: top;\n",
              "    }\n",
              "\n",
              "    .dataframe thead th {\n",
              "        text-align: right;\n",
              "    }\n",
              "</style>\n",
              "<table border=\"1\" class=\"dataframe\">\n",
              "  <thead>\n",
              "    <tr style=\"text-align: right;\">\n",
              "      <th></th>\n",
              "      <th>Accompany_Client</th>\n",
              "      <th>Client_Income_Type</th>\n",
              "      <th>Client_Education</th>\n",
              "      <th>Client_Marital_Status</th>\n",
              "      <th>Client_Gender</th>\n",
              "      <th>Loan_Contract_Type</th>\n",
              "      <th>Client_Housing_Type</th>\n",
              "      <th>Client_Occupation</th>\n",
              "      <th>Client_Permanent_Match_Tag</th>\n",
              "      <th>Client_Contact_Work_Tag</th>\n",
              "      <th>...</th>\n",
              "      <th>Type_Organization_dum48</th>\n",
              "      <th>Type_Organization_dum49</th>\n",
              "      <th>Type_Organization_dum50</th>\n",
              "      <th>Type_Organization_dum51</th>\n",
              "      <th>Type_Organization_dum52</th>\n",
              "      <th>Type_Organization_dum53</th>\n",
              "      <th>Type_Organization_dum54</th>\n",
              "      <th>Type_Organization_dum55</th>\n",
              "      <th>Type_Organization_dum56</th>\n",
              "      <th>Type_Organization_dum57</th>\n",
              "    </tr>\n",
              "  </thead>\n",
              "  <tbody>\n",
              "    <tr>\n",
              "      <th>66289</th>\n",
              "      <td>Alone</td>\n",
              "      <td>Commercial</td>\n",
              "      <td>Secondary</td>\n",
              "      <td>M</td>\n",
              "      <td>Male</td>\n",
              "      <td>CL</td>\n",
              "      <td>Home</td>\n",
              "      <td>missing</td>\n",
              "      <td>Yes</td>\n",
              "      <td>No</td>\n",
              "      <td>...</td>\n",
              "      <td>0.0</td>\n",
              "      <td>0.0</td>\n",
              "      <td>0.0</td>\n",
              "      <td>0.0</td>\n",
              "      <td>0.0</td>\n",
              "      <td>0.0</td>\n",
              "      <td>0.0</td>\n",
              "      <td>0.0</td>\n",
              "      <td>0.0</td>\n",
              "      <td>1.0</td>\n",
              "    </tr>\n",
              "    <tr>\n",
              "      <th>109009</th>\n",
              "      <td>Relative</td>\n",
              "      <td>Commercial</td>\n",
              "      <td>Secondary</td>\n",
              "      <td>M</td>\n",
              "      <td>Male</td>\n",
              "      <td>CL</td>\n",
              "      <td>Home</td>\n",
              "      <td>Laborers</td>\n",
              "      <td>Yes</td>\n",
              "      <td>Yes</td>\n",
              "      <td>...</td>\n",
              "      <td>0.0</td>\n",
              "      <td>0.0</td>\n",
              "      <td>0.0</td>\n",
              "      <td>0.0</td>\n",
              "      <td>0.0</td>\n",
              "      <td>0.0</td>\n",
              "      <td>0.0</td>\n",
              "      <td>0.0</td>\n",
              "      <td>0.0</td>\n",
              "      <td>0.0</td>\n",
              "    </tr>\n",
              "    <tr>\n",
              "      <th>30526</th>\n",
              "      <td>Alone</td>\n",
              "      <td>Service</td>\n",
              "      <td>Graduation</td>\n",
              "      <td>M</td>\n",
              "      <td>Male</td>\n",
              "      <td>CL</td>\n",
              "      <td>Home</td>\n",
              "      <td>missing</td>\n",
              "      <td>Yes</td>\n",
              "      <td>Yes</td>\n",
              "      <td>...</td>\n",
              "      <td>0.0</td>\n",
              "      <td>0.0</td>\n",
              "      <td>0.0</td>\n",
              "      <td>0.0</td>\n",
              "      <td>0.0</td>\n",
              "      <td>0.0</td>\n",
              "      <td>0.0</td>\n",
              "      <td>0.0</td>\n",
              "      <td>0.0</td>\n",
              "      <td>0.0</td>\n",
              "    </tr>\n",
              "    <tr>\n",
              "      <th>117872</th>\n",
              "      <td>Alone</td>\n",
              "      <td>Service</td>\n",
              "      <td>Secondary</td>\n",
              "      <td>M</td>\n",
              "      <td>Male</td>\n",
              "      <td>CL</td>\n",
              "      <td>Home</td>\n",
              "      <td>Core</td>\n",
              "      <td>Yes</td>\n",
              "      <td>Yes</td>\n",
              "      <td>...</td>\n",
              "      <td>0.0</td>\n",
              "      <td>0.0</td>\n",
              "      <td>0.0</td>\n",
              "      <td>0.0</td>\n",
              "      <td>0.0</td>\n",
              "      <td>0.0</td>\n",
              "      <td>0.0</td>\n",
              "      <td>0.0</td>\n",
              "      <td>0.0</td>\n",
              "      <td>0.0</td>\n",
              "    </tr>\n",
              "    <tr>\n",
              "      <th>90866</th>\n",
              "      <td>Alone</td>\n",
              "      <td>Service</td>\n",
              "      <td>Secondary</td>\n",
              "      <td>M</td>\n",
              "      <td>Male</td>\n",
              "      <td>CL</td>\n",
              "      <td>missing</td>\n",
              "      <td>Sales</td>\n",
              "      <td>No</td>\n",
              "      <td>Yes</td>\n",
              "      <td>...</td>\n",
              "      <td>0.0</td>\n",
              "      <td>0.0</td>\n",
              "      <td>0.0</td>\n",
              "      <td>0.0</td>\n",
              "      <td>0.0</td>\n",
              "      <td>0.0</td>\n",
              "      <td>0.0</td>\n",
              "      <td>0.0</td>\n",
              "      <td>0.0</td>\n",
              "      <td>0.0</td>\n",
              "    </tr>\n",
              "  </tbody>\n",
              "</table>\n",
              "<p>5 rows × 132 columns</p>\n",
              "</div>\n",
              "      <button class=\"colab-df-convert\" onclick=\"convertToInteractive('df-598b698c-8bea-4c7f-a227-bf3a8922547d')\"\n",
              "              title=\"Convert this dataframe to an interactive table.\"\n",
              "              style=\"display:none;\">\n",
              "        \n",
              "  <svg xmlns=\"http://www.w3.org/2000/svg\" height=\"24px\"viewBox=\"0 0 24 24\"\n",
              "       width=\"24px\">\n",
              "    <path d=\"M0 0h24v24H0V0z\" fill=\"none\"/>\n",
              "    <path d=\"M18.56 5.44l.94 2.06.94-2.06 2.06-.94-2.06-.94-.94-2.06-.94 2.06-2.06.94zm-11 1L8.5 8.5l.94-2.06 2.06-.94-2.06-.94L8.5 2.5l-.94 2.06-2.06.94zm10 10l.94 2.06.94-2.06 2.06-.94-2.06-.94-.94-2.06-.94 2.06-2.06.94z\"/><path d=\"M17.41 7.96l-1.37-1.37c-.4-.4-.92-.59-1.43-.59-.52 0-1.04.2-1.43.59L10.3 9.45l-7.72 7.72c-.78.78-.78 2.05 0 2.83L4 21.41c.39.39.9.59 1.41.59.51 0 1.02-.2 1.41-.59l7.78-7.78 2.81-2.81c.8-.78.8-2.07 0-2.86zM5.41 20L4 18.59l7.72-7.72 1.47 1.35L5.41 20z\"/>\n",
              "  </svg>\n",
              "      </button>\n",
              "      \n",
              "  <style>\n",
              "    .colab-df-container {\n",
              "      display:flex;\n",
              "      flex-wrap:wrap;\n",
              "      gap: 12px;\n",
              "    }\n",
              "\n",
              "    .colab-df-convert {\n",
              "      background-color: #E8F0FE;\n",
              "      border: none;\n",
              "      border-radius: 50%;\n",
              "      cursor: pointer;\n",
              "      display: none;\n",
              "      fill: #1967D2;\n",
              "      height: 32px;\n",
              "      padding: 0 0 0 0;\n",
              "      width: 32px;\n",
              "    }\n",
              "\n",
              "    .colab-df-convert:hover {\n",
              "      background-color: #E2EBFA;\n",
              "      box-shadow: 0px 1px 2px rgba(60, 64, 67, 0.3), 0px 1px 3px 1px rgba(60, 64, 67, 0.15);\n",
              "      fill: #174EA6;\n",
              "    }\n",
              "\n",
              "    [theme=dark] .colab-df-convert {\n",
              "      background-color: #3B4455;\n",
              "      fill: #D2E3FC;\n",
              "    }\n",
              "\n",
              "    [theme=dark] .colab-df-convert:hover {\n",
              "      background-color: #434B5C;\n",
              "      box-shadow: 0px 1px 3px 1px rgba(0, 0, 0, 0.15);\n",
              "      filter: drop-shadow(0px 1px 2px rgba(0, 0, 0, 0.3));\n",
              "      fill: #FFFFFF;\n",
              "    }\n",
              "  </style>\n",
              "\n",
              "      <script>\n",
              "        const buttonEl =\n",
              "          document.querySelector('#df-598b698c-8bea-4c7f-a227-bf3a8922547d button.colab-df-convert');\n",
              "        buttonEl.style.display =\n",
              "          google.colab.kernel.accessAllowed ? 'block' : 'none';\n",
              "\n",
              "        async function convertToInteractive(key) {\n",
              "          const element = document.querySelector('#df-598b698c-8bea-4c7f-a227-bf3a8922547d');\n",
              "          const dataTable =\n",
              "            await google.colab.kernel.invokeFunction('convertToInteractive',\n",
              "                                                     [key], {});\n",
              "          if (!dataTable) return;\n",
              "\n",
              "          const docLinkHtml = 'Like what you see? Visit the ' +\n",
              "            '<a target=\"_blank\" href=https://colab.research.google.com/notebooks/data_table.ipynb>data table notebook</a>'\n",
              "            + ' to learn more about interactive tables.';\n",
              "          element.innerHTML = '';\n",
              "          dataTable['output_type'] = 'display_data';\n",
              "          await google.colab.output.renderOutput(dataTable, element);\n",
              "          const docLink = document.createElement('div');\n",
              "          docLink.innerHTML = docLinkHtml;\n",
              "          element.appendChild(docLink);\n",
              "        }\n",
              "      </script>\n",
              "    </div>\n",
              "  </div>\n",
              "  "
            ]
          },
          "metadata": {},
          "execution_count": 40
        }
      ]
    },
    {
      "cell_type": "code",
      "source": [
        "X_train[[x for x in X_train.columns.tolist() if 'Marital_Status' in x]].drop_duplicates()"
      ],
      "metadata": {
        "id": "fotHHrfGIAfL",
        "outputId": "f6f896be-a09e-481a-fe9a-2c28310d70a4",
        "colab": {
          "base_uri": "https://localhost:8080/",
          "height": 0
        }
      },
      "execution_count": 41,
      "outputs": [
        {
          "output_type": "execute_result",
          "data": {
            "text/plain": [
              "       Client_Marital_Status  Client_Marital_Status_dum0  \\\n",
              "66289                      M                         0.0   \n",
              "7076                       S                         0.0   \n",
              "81616                      D                         1.0   \n",
              "114150                     W                         0.0   \n",
              "80118                missing                         0.0   \n",
              "\n",
              "        Client_Marital_Status_dum1  Client_Marital_Status_dum2  \\\n",
              "66289                          1.0                         0.0   \n",
              "7076                           0.0                         1.0   \n",
              "81616                          0.0                         0.0   \n",
              "114150                         0.0                         0.0   \n",
              "80118                          0.0                         0.0   \n",
              "\n",
              "        Client_Marital_Status_dum3  Client_Marital_Status_dum4  \n",
              "66289                          0.0                         0.0  \n",
              "7076                           0.0                         0.0  \n",
              "81616                          0.0                         0.0  \n",
              "114150                         1.0                         0.0  \n",
              "80118                          0.0                         1.0  "
            ],
            "text/html": [
              "\n",
              "  <div id=\"df-edae1727-16a6-4060-a93f-75f9a0c79da5\">\n",
              "    <div class=\"colab-df-container\">\n",
              "      <div>\n",
              "<style scoped>\n",
              "    .dataframe tbody tr th:only-of-type {\n",
              "        vertical-align: middle;\n",
              "    }\n",
              "\n",
              "    .dataframe tbody tr th {\n",
              "        vertical-align: top;\n",
              "    }\n",
              "\n",
              "    .dataframe thead th {\n",
              "        text-align: right;\n",
              "    }\n",
              "</style>\n",
              "<table border=\"1\" class=\"dataframe\">\n",
              "  <thead>\n",
              "    <tr style=\"text-align: right;\">\n",
              "      <th></th>\n",
              "      <th>Client_Marital_Status</th>\n",
              "      <th>Client_Marital_Status_dum0</th>\n",
              "      <th>Client_Marital_Status_dum1</th>\n",
              "      <th>Client_Marital_Status_dum2</th>\n",
              "      <th>Client_Marital_Status_dum3</th>\n",
              "      <th>Client_Marital_Status_dum4</th>\n",
              "    </tr>\n",
              "  </thead>\n",
              "  <tbody>\n",
              "    <tr>\n",
              "      <th>66289</th>\n",
              "      <td>M</td>\n",
              "      <td>0.0</td>\n",
              "      <td>1.0</td>\n",
              "      <td>0.0</td>\n",
              "      <td>0.0</td>\n",
              "      <td>0.0</td>\n",
              "    </tr>\n",
              "    <tr>\n",
              "      <th>7076</th>\n",
              "      <td>S</td>\n",
              "      <td>0.0</td>\n",
              "      <td>0.0</td>\n",
              "      <td>1.0</td>\n",
              "      <td>0.0</td>\n",
              "      <td>0.0</td>\n",
              "    </tr>\n",
              "    <tr>\n",
              "      <th>81616</th>\n",
              "      <td>D</td>\n",
              "      <td>1.0</td>\n",
              "      <td>0.0</td>\n",
              "      <td>0.0</td>\n",
              "      <td>0.0</td>\n",
              "      <td>0.0</td>\n",
              "    </tr>\n",
              "    <tr>\n",
              "      <th>114150</th>\n",
              "      <td>W</td>\n",
              "      <td>0.0</td>\n",
              "      <td>0.0</td>\n",
              "      <td>0.0</td>\n",
              "      <td>1.0</td>\n",
              "      <td>0.0</td>\n",
              "    </tr>\n",
              "    <tr>\n",
              "      <th>80118</th>\n",
              "      <td>missing</td>\n",
              "      <td>0.0</td>\n",
              "      <td>0.0</td>\n",
              "      <td>0.0</td>\n",
              "      <td>0.0</td>\n",
              "      <td>1.0</td>\n",
              "    </tr>\n",
              "  </tbody>\n",
              "</table>\n",
              "</div>\n",
              "      <button class=\"colab-df-convert\" onclick=\"convertToInteractive('df-edae1727-16a6-4060-a93f-75f9a0c79da5')\"\n",
              "              title=\"Convert this dataframe to an interactive table.\"\n",
              "              style=\"display:none;\">\n",
              "        \n",
              "  <svg xmlns=\"http://www.w3.org/2000/svg\" height=\"24px\"viewBox=\"0 0 24 24\"\n",
              "       width=\"24px\">\n",
              "    <path d=\"M0 0h24v24H0V0z\" fill=\"none\"/>\n",
              "    <path d=\"M18.56 5.44l.94 2.06.94-2.06 2.06-.94-2.06-.94-.94-2.06-.94 2.06-2.06.94zm-11 1L8.5 8.5l.94-2.06 2.06-.94-2.06-.94L8.5 2.5l-.94 2.06-2.06.94zm10 10l.94 2.06.94-2.06 2.06-.94-2.06-.94-.94-2.06-.94 2.06-2.06.94z\"/><path d=\"M17.41 7.96l-1.37-1.37c-.4-.4-.92-.59-1.43-.59-.52 0-1.04.2-1.43.59L10.3 9.45l-7.72 7.72c-.78.78-.78 2.05 0 2.83L4 21.41c.39.39.9.59 1.41.59.51 0 1.02-.2 1.41-.59l7.78-7.78 2.81-2.81c.8-.78.8-2.07 0-2.86zM5.41 20L4 18.59l7.72-7.72 1.47 1.35L5.41 20z\"/>\n",
              "  </svg>\n",
              "      </button>\n",
              "      \n",
              "  <style>\n",
              "    .colab-df-container {\n",
              "      display:flex;\n",
              "      flex-wrap:wrap;\n",
              "      gap: 12px;\n",
              "    }\n",
              "\n",
              "    .colab-df-convert {\n",
              "      background-color: #E8F0FE;\n",
              "      border: none;\n",
              "      border-radius: 50%;\n",
              "      cursor: pointer;\n",
              "      display: none;\n",
              "      fill: #1967D2;\n",
              "      height: 32px;\n",
              "      padding: 0 0 0 0;\n",
              "      width: 32px;\n",
              "    }\n",
              "\n",
              "    .colab-df-convert:hover {\n",
              "      background-color: #E2EBFA;\n",
              "      box-shadow: 0px 1px 2px rgba(60, 64, 67, 0.3), 0px 1px 3px 1px rgba(60, 64, 67, 0.15);\n",
              "      fill: #174EA6;\n",
              "    }\n",
              "\n",
              "    [theme=dark] .colab-df-convert {\n",
              "      background-color: #3B4455;\n",
              "      fill: #D2E3FC;\n",
              "    }\n",
              "\n",
              "    [theme=dark] .colab-df-convert:hover {\n",
              "      background-color: #434B5C;\n",
              "      box-shadow: 0px 1px 3px 1px rgba(0, 0, 0, 0.15);\n",
              "      filter: drop-shadow(0px 1px 2px rgba(0, 0, 0, 0.3));\n",
              "      fill: #FFFFFF;\n",
              "    }\n",
              "  </style>\n",
              "\n",
              "      <script>\n",
              "        const buttonEl =\n",
              "          document.querySelector('#df-edae1727-16a6-4060-a93f-75f9a0c79da5 button.colab-df-convert');\n",
              "        buttonEl.style.display =\n",
              "          google.colab.kernel.accessAllowed ? 'block' : 'none';\n",
              "\n",
              "        async function convertToInteractive(key) {\n",
              "          const element = document.querySelector('#df-edae1727-16a6-4060-a93f-75f9a0c79da5');\n",
              "          const dataTable =\n",
              "            await google.colab.kernel.invokeFunction('convertToInteractive',\n",
              "                                                     [key], {});\n",
              "          if (!dataTable) return;\n",
              "\n",
              "          const docLinkHtml = 'Like what you see? Visit the ' +\n",
              "            '<a target=\"_blank\" href=https://colab.research.google.com/notebooks/data_table.ipynb>data table notebook</a>'\n",
              "            + ' to learn more about interactive tables.';\n",
              "          element.innerHTML = '';\n",
              "          dataTable['output_type'] = 'display_data';\n",
              "          await google.colab.output.renderOutput(dataTable, element);\n",
              "          const docLink = document.createElement('div');\n",
              "          docLink.innerHTML = docLinkHtml;\n",
              "          element.appendChild(docLink);\n",
              "        }\n",
              "      </script>\n",
              "    </div>\n",
              "  </div>\n",
              "  "
            ]
          },
          "metadata": {},
          "execution_count": 41
        }
      ]
    },
    {
      "cell_type": "code",
      "source": [
        "X_train.shape"
      ],
      "metadata": {
        "id": "RoHoyN1UJYPo",
        "outputId": "d902eb47-c37b-4401-9066-7073a6dfb843",
        "colab": {
          "base_uri": "https://localhost:8080/"
        }
      },
      "execution_count": 42,
      "outputs": [
        {
          "output_type": "execute_result",
          "data": {
            "text/plain": [
              "(85299, 160)"
            ]
          },
          "metadata": {},
          "execution_count": 42
        }
      ]
    },
    {
      "cell_type": "markdown",
      "metadata": {
        "id": "szuWpiMqmwvL"
      },
      "source": [
        "<h3>Target Encoding</h3> "
      ]
    },
    {
      "cell_type": "code",
      "metadata": {
        "id": "0pcSepG4TZa-",
        "outputId": "3561e330-91b9-4677-81d7-8588502b1b2e",
        "colab": {
          "base_uri": "https://localhost:8080/"
        }
      },
      "source": [
        "!pip install category_encoders"
      ],
      "execution_count": null,
      "outputs": [
        {
          "output_type": "stream",
          "name": "stdout",
          "text": [
            "Looking in indexes: https://pypi.org/simple, https://us-python.pkg.dev/colab-wheels/public/simple/\n",
            "Requirement already satisfied: category_encoders in /usr/local/lib/python3.7/dist-packages (2.5.0)\n",
            "Requirement already satisfied: pandas>=1.0.5 in /usr/local/lib/python3.7/dist-packages (from category_encoders) (1.3.5)\n",
            "Requirement already satisfied: scipy>=1.0.0 in /usr/local/lib/python3.7/dist-packages (from category_encoders) (1.7.3)\n",
            "Requirement already satisfied: scikit-learn>=0.20.0 in /usr/local/lib/python3.7/dist-packages (from category_encoders) (1.0.2)\n",
            "Requirement already satisfied: patsy>=0.5.1 in /usr/local/lib/python3.7/dist-packages (from category_encoders) (0.5.2)\n",
            "Requirement already satisfied: numpy>=1.14.0 in /usr/local/lib/python3.7/dist-packages (from category_encoders) (1.21.6)\n",
            "Requirement already satisfied: statsmodels>=0.9.0 in /usr/local/lib/python3.7/dist-packages (from category_encoders) (0.12.2)\n",
            "Requirement already satisfied: python-dateutil>=2.7.3 in /usr/local/lib/python3.7/dist-packages (from pandas>=1.0.5->category_encoders) (2.8.2)\n",
            "Requirement already satisfied: pytz>=2017.3 in /usr/local/lib/python3.7/dist-packages (from pandas>=1.0.5->category_encoders) (2022.2.1)\n",
            "Requirement already satisfied: six in /usr/local/lib/python3.7/dist-packages (from patsy>=0.5.1->category_encoders) (1.15.0)\n",
            "Requirement already satisfied: joblib>=0.11 in /usr/local/lib/python3.7/dist-packages (from scikit-learn>=0.20.0->category_encoders) (1.1.0)\n",
            "Requirement already satisfied: threadpoolctl>=2.0.0 in /usr/local/lib/python3.7/dist-packages (from scikit-learn>=0.20.0->category_encoders) (3.1.0)\n"
          ]
        }
      ]
    },
    {
      "cell_type": "code",
      "metadata": {
        "id": "33Y7NZyJHobo"
      },
      "source": [
        "# Target Encoding\n",
        "\n",
        "from category_encoders import TargetEncoder\n",
        "encoder = TargetEncoder()\n",
        "\n"
      ],
      "execution_count": null,
      "outputs": []
    },
    {
      "cell_type": "code",
      "source": [
        "# definiendo reglas de encoding\n",
        "\n",
        "TargetEncoder = encoder.fit(X_train[categorical_features], X_train['Default'])"
      ],
      "metadata": {
        "id": "jOHMI7d_zS88"
      },
      "execution_count": null,
      "outputs": []
    },
    {
      "cell_type": "code",
      "source": [
        "# Usando reglas de encoding\n",
        "\n",
        "X_train[[x + '_num' for x in categorical_features]] = TargetEncoder.transform(X_train[categorical_features])\n"
      ],
      "metadata": {
        "id": "v25pphTVzj62"
      },
      "execution_count": null,
      "outputs": []
    },
    {
      "cell_type": "code",
      "source": [
        "#Analizamos resultados\n",
        "\n",
        "X_train[[x for x in X_train.columns.tolist() if 'Client_Gender' in x] ].drop_duplicates().head()\n"
      ],
      "metadata": {
        "id": "qtpaMDgpypNe"
      },
      "execution_count": null,
      "outputs": []
    },
    {
      "cell_type": "markdown",
      "source": [
        "<h3>WOE Encoding</h3> "
      ],
      "metadata": {
        "id": "WQGxr-js1u_Y"
      }
    },
    {
      "cell_type": "code",
      "source": [
        "# Target Encoding\n",
        "\n",
        "from category_encoders.woe import WOEEncoder\n",
        "encoder = WOEEncoder()\n"
      ],
      "metadata": {
        "id": "LqaVIcDJ1Pd9"
      },
      "execution_count": null,
      "outputs": []
    },
    {
      "cell_type": "code",
      "source": [
        "# definiendo reglas de encoding\n",
        "\n",
        "WOEEncoder = encoder.fit(X_train[categorical_features], X_train['Default'])"
      ],
      "metadata": {
        "id": "WinkhYIV1b3Y"
      },
      "execution_count": null,
      "outputs": []
    },
    {
      "cell_type": "code",
      "source": [
        "# Usando reglas de encoding\n",
        "\n",
        "X_train[[x + '_woe' for x in categorical_features]] = WOEEncoder.transform(X_train[categorical_features])\n"
      ],
      "metadata": {
        "id": "ROYm8xIW1hQI"
      },
      "execution_count": null,
      "outputs": []
    },
    {
      "cell_type": "code",
      "source": [
        "X_test[categorical_features].fillna('missing', inplace = True)\n",
        "X_test[categorical_features] = X_test[categorical_features].replace(np.nan,'missing')\n",
        "\n",
        "X_test[[x + '_woe' for x in categorical_features]] = WOEEncoder.transform(X_test[categorical_features])\n",
        "                                                                          "
      ],
      "metadata": {
        "id": "Q4U2gBxgM1If"
      },
      "execution_count": null,
      "outputs": []
    },
    {
      "cell_type": "code",
      "source": [
        "X_test[['Client_Gender','Client_Gender_woe']].drop_duplicates().head()"
      ],
      "metadata": {
        "id": "2-PCbNr1M5Pm"
      },
      "execution_count": null,
      "outputs": []
    },
    {
      "cell_type": "code",
      "source": [
        "#Analizamos resultados\n",
        "\n",
        "X_train[[x for x in X_train.columns.tolist() if 'Client_Gender' in x] ].drop_duplicates().head()\n"
      ],
      "metadata": {
        "id": "d8TkdH821laB"
      },
      "execution_count": null,
      "outputs": []
    },
    {
      "cell_type": "code",
      "source": [
        "sklearn.metrics.roc_auc_score(X_train.Default, X_train.Client_Gender_num)*2-1"
      ],
      "metadata": {
        "id": "-FqM_sP5Lxfa"
      },
      "execution_count": null,
      "outputs": []
    },
    {
      "cell_type": "code",
      "source": [
        "sklearn.metrics.roc_auc_score(X_train.Default, X_train.Client_Gender_woe)*2-1"
      ],
      "metadata": {
        "id": "SKfiO3W1MAE2"
      },
      "execution_count": null,
      "outputs": []
    },
    {
      "cell_type": "code",
      "source": [
        "sklearn.metrics.roc_auc_score(X_train.Default, X_train.Client_Gender_dum0)*2-1"
      ],
      "metadata": {
        "id": "zRggrw5QMGBu"
      },
      "execution_count": null,
      "outputs": []
    },
    {
      "cell_type": "code",
      "source": [
        "sklearn.metrics.roc_auc_score(X_train.Default, X_train.Client_Gender_dum1)*2-1"
      ],
      "metadata": {
        "id": "8Lp9_45CMNlw"
      },
      "execution_count": null,
      "outputs": []
    },
    {
      "cell_type": "code",
      "source": [
        "sklearn.metrics.roc_auc_score(X_train.Default, X_train.Client_Gender_dum2)*2-1"
      ],
      "metadata": {
        "id": "Lx0mNkI-MToT"
      },
      "execution_count": null,
      "outputs": []
    },
    {
      "cell_type": "markdown",
      "metadata": {
        "id": "l-USf44pnQqv"
      },
      "source": [
        "## 5. Tratamiento de variables numéricas\n",
        "\n",
        "\n"
      ]
    },
    {
      "cell_type": "code",
      "source": [
        "numeric_features"
      ],
      "metadata": {
        "id": "_myogeAK4CzJ"
      },
      "execution_count": null,
      "outputs": []
    },
    {
      "cell_type": "code",
      "source": [
        "# Cargar seaborn \n",
        "import seaborn as sns\n",
        "sns.set(style=\"whitegrid\", color_codes = True)\n",
        "sns.set(rc={'figure.figsize':(10,6)})"
      ],
      "metadata": {
        "id": "T5cEYYsvR7ES"
      },
      "execution_count": null,
      "outputs": []
    },
    {
      "cell_type": "code",
      "source": [
        "#sns.displot(X_train, x = 'Client_Income', bins=30, kde=True)\n",
        "sns.displot(X_train, x = \"Client_Income\", kind=\"kde\", fill=True)"
      ],
      "metadata": {
        "id": "b2eScYq64rik"
      },
      "execution_count": null,
      "outputs": []
    },
    {
      "cell_type": "code",
      "source": [
        "sns.displot(X_train, x=\"Client_Income\", hue='Default', kind=\"kde\", fill=True)"
      ],
      "metadata": {
        "id": "zyszMw1tRoSu"
      },
      "execution_count": null,
      "outputs": []
    },
    {
      "cell_type": "code",
      "source": [
        "sns.set_theme(style=\"whitegrid\")\n",
        "ax = sns.boxplot(x = \"Client_Income\", data = X_train, palette = 'hls')"
      ],
      "metadata": {
        "id": "KdjYGsVC1-j9"
      },
      "execution_count": null,
      "outputs": []
    },
    {
      "cell_type": "code",
      "source": [
        "ax = sns.boxplot(x=\"Default\", y=\"Client_Income\", data=X_train, palette = 'hls')\n"
      ],
      "metadata": {
        "id": "zDn3tYxcSq_m"
      },
      "execution_count": null,
      "outputs": []
    },
    {
      "cell_type": "markdown",
      "source": [
        "### Tratamiento de outliers"
      ],
      "metadata": {
        "id": "FduQMBhdRLf8"
      }
    },
    {
      "cell_type": "markdown",
      "source": [
        "<h3>Outliers por Rango Intercuantílico</h3> "
      ],
      "metadata": {
        "id": "vzdI2sGIRQhX"
      }
    },
    {
      "cell_type": "markdown",
      "source": [
        "<img src=\"https://miro.medium.com/max/1400/1*2c21SkzJMf3frPXPAR_gZA.png\" width=\"500\" \n",
        "     height=\"300\" > "
      ],
      "metadata": {
        "id": "hreWAj5MTulj"
      }
    },
    {
      "cell_type": "markdown",
      "source": [
        "<img src=\"data:image/png;base64,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\" width=\"450\" \n",
        "     height=\"150\" > "
      ],
      "metadata": {
        "id": "6rUdS5wpU5Yb"
      }
    },
    {
      "cell_type": "code",
      "source": [
        "#Leyendo tabla resumen\n",
        "\n",
        "univariate_II = pd.read_csv('univariate_assesment.csv').sort_values(by = 'abs_ginimax', ascending = False)\n",
        "univariate_II = univariate_II.loc[univariate_II.abs_ginimax > 0.025]\n",
        "\n",
        "univariate_II.head() "
      ],
      "metadata": {
        "id": "SgMQ0ILTWW3D"
      },
      "execution_count": null,
      "outputs": []
    },
    {
      "cell_type": "code",
      "source": [
        "# Calculando los intervalos RIC\n",
        "\n",
        "univariate_II['ric'] = univariate_II['Q3'] - univariate_II['Q1']\n",
        "\n",
        "univariate_II['min_ric'] = univariate_II['Q1'] - 1.5*univariate_II['ric']\n",
        "univariate_II['max_ric'] = univariate_II['Q3'] + 1.5*univariate_II['ric']\n",
        "\n",
        "univariate_II.head() "
      ],
      "metadata": {
        "id": "UYWNWVzMW9Z5"
      },
      "execution_count": null,
      "outputs": []
    },
    {
      "cell_type": "code",
      "source": [
        "# Tratamiento de outliers por RIC\n",
        "\n",
        "for col in univariate_II.feature.tolist():\n",
        "  desc = univariate_II.loc[univariate_II.feature == col]\n",
        "  X_train[col + '_tric'] = X_train[col].apply(lambda x: desc.max_ric.values[0] if x > desc.max_ric.values[0]\n",
        "                                                   else desc.min_ric.values[0] if x < desc.min_ric.values[0]\n",
        "                                                   else x)\n",
        "\n",
        "X_train.head()"
      ],
      "metadata": {
        "id": "qHcqYBNoRVxy"
      },
      "execution_count": null,
      "outputs": []
    },
    {
      "cell_type": "markdown",
      "source": [
        "Revisemos los resultados"
      ],
      "metadata": {
        "id": "a9R44YcWecex"
      }
    },
    {
      "cell_type": "code",
      "source": [
        "sns.displot(X_train, x = \"Score_Source_2\", kind=\"kde\", fill=True)"
      ],
      "metadata": {
        "id": "FOMDrJLNa__P"
      },
      "execution_count": null,
      "outputs": []
    },
    {
      "cell_type": "code",
      "source": [
        "sns.displot(X_train, x = \"Score_Source_2_tric\", kind=\"kde\", fill=True)"
      ],
      "metadata": {
        "id": "D3MLhR6fbAa2"
      },
      "execution_count": null,
      "outputs": []
    },
    {
      "cell_type": "code",
      "source": [
        "sns.displot(X_train, x=\"Score_Source_2_tric\", hue='Default', kind=\"kde\", fill=True)"
      ],
      "metadata": {
        "id": "dALiC6WTcZOg"
      },
      "execution_count": null,
      "outputs": []
    },
    {
      "cell_type": "code",
      "source": [
        "ax = sns.boxplot(x=\"Default\", y=\"Score_Source_2_tric\", data=X_train, palette = 'hls')"
      ],
      "metadata": {
        "id": "hbS3aIw2ceu4"
      },
      "execution_count": null,
      "outputs": []
    },
    {
      "cell_type": "markdown",
      "source": [
        "<h3>Outliers por Z-score</h3> "
      ],
      "metadata": {
        "id": "YYEmnHm-dTPN"
      }
    },
    {
      "cell_type": "markdown",
      "source": [
        "\n",
        "\n",
        "<img src=\"https://editor.analyticsvidhya.com/uploads/440971.png\" width=\"500\" \n",
        "     height=\"300\" > "
      ],
      "metadata": {
        "id": "yO4pD-9edbSY"
      }
    },
    {
      "cell_type": "code",
      "source": [
        "univariate_II.head()"
      ],
      "metadata": {
        "id": "tDUSsX1Cd7ZE"
      },
      "execution_count": null,
      "outputs": []
    },
    {
      "cell_type": "code",
      "metadata": {
        "id": "oxT_G0swngqE"
      },
      "source": [
        "# Calculando los intervalos Z-score\n",
        "\n",
        "univariate_II['min_zscore'] = univariate_II['mean'] - 3*univariate_II['std']\n",
        "univariate_II['max_zscore'] = univariate_II['mean'] + 3*univariate_II['std']\n",
        "\n",
        "univariate_II.head() "
      ],
      "execution_count": null,
      "outputs": []
    },
    {
      "cell_type": "code",
      "source": [
        "# Tratamiento de outliers por Z-score\n",
        "\n",
        "for col in univariate_II.feature.tolist():\n",
        "  desc = univariate_II.loc[univariate_II.feature == col]\n",
        "  X_train[col + '_tzscore'] = X_train[col].apply(lambda x: desc.max_zscore.values[0] if x > desc.max_zscore.values[0]\n",
        "                                                   else desc.min_zscore.values[0] if x < desc.min_zscore.values[0]\n",
        "                                                   else x)\n",
        "\n",
        "X_train.head()"
      ],
      "metadata": {
        "id": "JVYo0Jrceg6S"
      },
      "execution_count": null,
      "outputs": []
    },
    {
      "cell_type": "markdown",
      "source": [
        "Revisemos los resultados"
      ],
      "metadata": {
        "id": "gQcKHTXwgr_E"
      }
    },
    {
      "cell_type": "code",
      "source": [
        "sns.displot(X_train, x = \"Score_Source_2\", kind=\"kde\", fill=True)"
      ],
      "metadata": {
        "id": "b4qgg1WVgr_F"
      },
      "execution_count": null,
      "outputs": []
    },
    {
      "cell_type": "code",
      "source": [
        "sns.displot(X_train, x = \"Score_Source_2_tzscore\", kind=\"kde\", fill=True)"
      ],
      "metadata": {
        "id": "wAlIzA32gr_F"
      },
      "execution_count": null,
      "outputs": []
    },
    {
      "cell_type": "code",
      "source": [
        "sns.displot(X_train, x=\"Score_Source_2_tzscore\", hue='Default', kind=\"kde\", fill=True)"
      ],
      "metadata": {
        "id": "NjWByaGZgr_F"
      },
      "execution_count": null,
      "outputs": []
    },
    {
      "cell_type": "code",
      "source": [
        "ax = sns.boxplot(x=\"Default\", y=\"Score_Source_2_tzscore\", data=X_train, palette = 'hls')"
      ],
      "metadata": {
        "id": "5wt8hPGhgr_F"
      },
      "execution_count": null,
      "outputs": []
    },
    {
      "cell_type": "code",
      "source": [
        "#Calculando el gini univariado de todas las variables\n",
        "\n",
        "features_outtreat_zscore = [x  + '_tzscore' for x in univariate_II.feature.tolist()]\n",
        "features_outtreat_tric = [x  + '_tric' for x in univariate_II.feature.tolist()]\n"
      ],
      "metadata": {
        "id": "6cHBshO2hCku"
      },
      "execution_count": null,
      "outputs": []
    },
    {
      "cell_type": "code",
      "source": [
        "#Calculando el gini univariado de todas las variables\n",
        "\n",
        "ginisZeroZscore = [sklearn.metrics.roc_auc_score(y_train, X_train[col].fillna(0))*2-1 for col in features_outtreat_zscore]\n",
        "ginisZeroTric = [sklearn.metrics.roc_auc_score(y_train, X_train[col].fillna(0))*2-1 for col in features_outtreat_tric]\n"
      ],
      "metadata": {
        "id": "Bo55rgE7l60H"
      },
      "execution_count": null,
      "outputs": []
    },
    {
      "cell_type": "code",
      "source": [
        "temp = X_train.copy()\n",
        "temp['y'] = y_train\n",
        "\n",
        "ginisNanZscore = [sklearn.metrics.roc_auc_score(temp[['y', col]].dropna().y, temp[['y', col]].dropna()[col])*2-1 for col in features_outtreat_zscore]\n",
        "ginisNanTric = [sklearn.metrics.roc_auc_score(temp[['y', col]].dropna().y, temp[['y', col]].dropna()[col])*2-1 for col in features_outtreat_tric]\n"
      ],
      "metadata": {
        "id": "Uyky9L8hl60R"
      },
      "execution_count": null,
      "outputs": []
    },
    {
      "cell_type": "code",
      "source": [
        "res_ginis2 = pd.DataFrame({'feature' : univariate_II.feature.tolist(),\n",
        "                          'giniZeroZscore' : ginisZeroZscore,\n",
        "                          'giniZeroTric' : ginisZeroTric,\n",
        "                          'giniNanZscore' : ginisNanZscore,\n",
        "                          'giniNanTric'  : ginisNanTric})"
      ],
      "metadata": {
        "id": "ZWUiZFiWl60R"
      },
      "execution_count": null,
      "outputs": []
    },
    {
      "cell_type": "code",
      "source": [
        "univariate_III = pd.merge(univariate_II, res_ginis2, on = 'feature', how='left')\n",
        "univariate_III[['feature'] + [x for x in univariate_III.columns.tolist() if 'gini' in x]].head(10)"
      ],
      "metadata": {
        "id": "3hNUDcAfl60R"
      },
      "execution_count": null,
      "outputs": []
    },
    {
      "cell_type": "markdown",
      "source": [
        "### Transformación de variables numéricas"
      ],
      "metadata": {
        "id": "0_8QsXwC5shV"
      }
    },
    {
      "cell_type": "markdown",
      "source": [
        "<h3> Tratamiendo por WOE </h3>"
      ],
      "metadata": {
        "id": "01X2aXMH6fQZ"
      }
    },
    {
      "cell_type": "code",
      "source": [
        "f_numeric_features = [x for x in X_train.columns.tolist() if '_tric' in x]"
      ],
      "metadata": {
        "id": "63sfYcWj6esP"
      },
      "execution_count": null,
      "outputs": []
    },
    {
      "cell_type": "code",
      "source": [
        "# Tratamiento de missings\n",
        "\n",
        "from sklearn.impute import SimpleImputer\n",
        "\n",
        "imp_mean = SimpleImputer(missing_values = np.nan, strategy='median')\n",
        "imp_mean = imp_mean.fit(X_train[f_numeric_features])\n"
      ],
      "metadata": {
        "id": "pSX8iEfF_Xus"
      },
      "execution_count": null,
      "outputs": []
    },
    {
      "cell_type": "code",
      "source": [
        "\n",
        "X_train[[x + '_imp' for x in f_numeric_features]] = imp_mean.transform(X_train[f_numeric_features])\n",
        "X_train[[x + '_imp' for x in f_numeric_features]].head()\n"
      ],
      "metadata": {
        "id": "VeTLWqtj_puo"
      },
      "execution_count": null,
      "outputs": []
    },
    {
      "cell_type": "code",
      "source": [
        "# Discretizar variables\n",
        "\n",
        "from sklearn.preprocessing import KBinsDiscretizer\n",
        "\n",
        "discretizer = KBinsDiscretizer(n_bins = 10, \n",
        "                               encode = 'ordinal',\n",
        "                               strategy = \"uniform\").fit(X_train[[x + '_imp' for x in f_numeric_features]])\n"
      ],
      "metadata": {
        "id": "uk-PZ2907s-6"
      },
      "execution_count": null,
      "outputs": []
    },
    {
      "cell_type": "code",
      "source": [
        "# Creando variables discretizadas\n",
        "\n",
        "X_train[[x + '_discret' for x in f_numeric_features]] = discretizer.transform(X_train[[x + '_imp' for x in f_numeric_features]])\n",
        "\n",
        "for col in [x + '_discret' for x in f_numeric_features]:\n",
        "  X_train[col] = X_train[col].astype('category')\n"
      ],
      "metadata": {
        "id": "EzA1dC6W7zWd"
      },
      "execution_count": null,
      "outputs": []
    },
    {
      "cell_type": "code",
      "source": [
        "X_train[[x + '_discret' for x in f_numeric_features]].head()"
      ],
      "metadata": {
        "id": "xO4GDNy6Aman"
      },
      "execution_count": null,
      "outputs": []
    },
    {
      "cell_type": "code",
      "source": [
        "# WOE Encoding\n",
        "\n",
        "from category_encoders.woe import WOEEncoder\n",
        "encoder2 = WOEEncoder()\n"
      ],
      "metadata": {
        "id": "Tz6kRgUGA3bh"
      },
      "execution_count": null,
      "outputs": []
    },
    {
      "cell_type": "code",
      "source": [
        "# definiendo reglas de encoding\n",
        "\n",
        "WOEEncoder2 = encoder2.fit(X_train[[x + '_discret' for x in f_numeric_features]], X_train['Default'])\n"
      ],
      "metadata": {
        "id": "knmuQaZVA9JY"
      },
      "execution_count": null,
      "outputs": []
    },
    {
      "cell_type": "code",
      "source": [
        "# Usando reglas de encoding\n",
        "\n",
        "X_train[[x + '_disc_woe' for x in f_numeric_features]] = WOEEncoder2.transform(X_train[[x + '_discret' for x in f_numeric_features]])\n"
      ],
      "metadata": {
        "id": "H-iBODs4A9JZ"
      },
      "execution_count": null,
      "outputs": []
    },
    {
      "cell_type": "code",
      "source": [
        "X_train[[x + '_disc_woe' for x in f_numeric_features]].head()"
      ],
      "metadata": {
        "id": "-9ddC3trBbe6"
      },
      "execution_count": null,
      "outputs": []
    },
    {
      "cell_type": "code",
      "source": [
        "# Ratio del evento por tramo de la variable numérica\n",
        "sns.lineplot(data=X_train, x=\"Score_Source_3_tric\", y=\"Score_Source_3_tric_disc_woe\", palette = 'hls')"
      ],
      "metadata": {
        "id": "UxV_aSi2CQnC"
      },
      "execution_count": null,
      "outputs": []
    },
    {
      "cell_type": "code",
      "source": [
        "sns.lineplot(data=X_train, x=\"Age_Days_tric_discret\", y=\"Age_Days_tric_disc_woe\", palette = 'hls')"
      ],
      "metadata": {
        "id": "YVVwina_C-1c"
      },
      "execution_count": null,
      "outputs": []
    },
    {
      "cell_type": "code",
      "source": [
        "sns.lineplot(data=X_train, x=\"Child_Count_tric_discret\", y=\"Child_Count_tric_disc_woe\", palette = 'hls')"
      ],
      "metadata": {
        "id": "8iquirhFDnpD"
      },
      "execution_count": null,
      "outputs": []
    },
    {
      "cell_type": "code",
      "source": [
        "sns.lineplot(data=X_train, x=\"Credit_Amount_tric_discret\", y=\"Credit_Amount_tric_disc_woe\", palette = 'hls')"
      ],
      "metadata": {
        "id": "-gmPGHBJDxMo"
      },
      "execution_count": null,
      "outputs": []
    },
    {
      "cell_type": "markdown",
      "source": [
        "<h3> Tratamiendo por transformaciones </h3>"
      ],
      "metadata": {
        "id": "os-509Ho6KeL"
      }
    },
    {
      "cell_type": "code",
      "source": [
        "f_numeric_features = [x for x in X_train.columns.tolist() if '_tric' in x[-5:]]\n",
        "f_numeric_features"
      ],
      "metadata": {
        "id": "Nes5w1qg6J0A"
      },
      "execution_count": null,
      "outputs": []
    },
    {
      "cell_type": "code",
      "source": [
        "# Tratamiento de missings\n",
        "\n",
        "from sklearn.impute import SimpleImputer\n",
        "\n",
        "imp_mean = SimpleImputer(missing_values = np.nan, strategy='median')\n",
        "imp_mean = imp_mean.fit(X_train[f_numeric_features])\n"
      ],
      "metadata": {
        "id": "HbE4IWOK5ry-"
      },
      "execution_count": null,
      "outputs": []
    },
    {
      "cell_type": "code",
      "source": [
        "\n",
        "X_train[[x + '_imp' for x in f_numeric_features]] = imp_mean.transform(X_train[f_numeric_features])\n",
        "X_train[[x + '_imp' for x in f_numeric_features]].head()\n"
      ],
      "metadata": {
        "id": "zNcOhB6yFPDd"
      },
      "execution_count": null,
      "outputs": []
    },
    {
      "cell_type": "code",
      "source": [
        "# Discretizar variables\n",
        "\n",
        "from sklearn.preprocessing import KBinsDiscretizer\n",
        "\n",
        "discretizer2 = KBinsDiscretizer(n_bins = 100, \n",
        "                                encode = 'ordinal',\n",
        "                                strategy = \"quantile\").fit(X_train[[x + '_imp' for x in f_numeric_features]])\n"
      ],
      "metadata": {
        "id": "U_FkSNeHFf2U"
      },
      "execution_count": null,
      "outputs": []
    },
    {
      "cell_type": "code",
      "source": [
        "# Creando variables discretizadas\n",
        "\n",
        "X_train[[x + '_discret2' for x in f_numeric_features]] = discretizer2.transform(X_train[[x + '_imp' for x in f_numeric_features]])\n",
        "\n",
        "for col in [x + '_discret2' for x in f_numeric_features]:\n",
        "  X_train[col] = X_train[col].astype('category')\n"
      ],
      "metadata": {
        "id": "UB9rGR2sFtzm"
      },
      "execution_count": null,
      "outputs": []
    },
    {
      "cell_type": "code",
      "source": [
        "# WOE Encoding\n",
        "\n",
        "from category_encoders.woe import WOEEncoder\n",
        "encoder3 = WOEEncoder()\n"
      ],
      "metadata": {
        "id": "BqTB_zUfGF4l"
      },
      "execution_count": null,
      "outputs": []
    },
    {
      "cell_type": "code",
      "source": [
        "# definiendo reglas de encoding\n",
        "\n",
        "WOEEncoder3 = encoder3.fit(X_train[[x + '_discret2' for x in f_numeric_features]], X_train['Default'])\n"
      ],
      "metadata": {
        "id": "EtRMEwUrGF4l"
      },
      "execution_count": null,
      "outputs": []
    },
    {
      "cell_type": "code",
      "source": [
        "# Usando reglas de encoding\n",
        "\n",
        "X_train[[x + '_disc_woe2' for x in f_numeric_features]] = WOEEncoder3.transform(X_train[[x + '_discret2' for x in f_numeric_features]])\n"
      ],
      "metadata": {
        "id": "uB0sYhEFGF4l"
      },
      "execution_count": null,
      "outputs": []
    },
    {
      "cell_type": "code",
      "source": [
        "X_train[[x + '_disc_woe2' for x in f_numeric_features]]"
      ],
      "metadata": {
        "id": "DEWxCkZBGPGI"
      },
      "execution_count": null,
      "outputs": []
    },
    {
      "cell_type": "code",
      "source": [
        "# Ratio del evento por tramo de la variable numérica\n",
        "sns.lineplot(data=X_train, x=\"Score_Source_3_tric\", y=\"Score_Source_3_tric_disc_woe2\", palette = 'hls')"
      ],
      "metadata": {
        "id": "F7ZQZRQ0GU3K"
      },
      "execution_count": null,
      "outputs": []
    },
    {
      "cell_type": "code",
      "source": [
        "import statsmodels.api as sm\n",
        "\n",
        "# Fit and summarize OLS model\n",
        "mod = sm.OLS(X_train.Score_Source_3_tric_disc_woe2, sm.add_constant(X_train.Score_Source_3_tric_imp))\n",
        "res = mod.fit(hasconst = False)\n",
        "#print(res.summary())\n"
      ],
      "metadata": {
        "id": "ty3_EuIsGmiA"
      },
      "execution_count": null,
      "outputs": []
    },
    {
      "cell_type": "code",
      "source": [
        "\n",
        "sns.lineplot(data=X_train, x=\"Score_Source_3_tric\", y=\"Score_Source_3_tric_disc_woe2\", palette = 'hls')\n",
        "sns.lineplot(x=X_train.Score_Source_3_tric, y=res.predict(sm.add_constant(X_train.Score_Source_3_tric_imp)), palette = 'hls')\n"
      ],
      "metadata": {
        "id": "NbsESDt3JDkI"
      },
      "execution_count": null,
      "outputs": []
    },
    {
      "cell_type": "code",
      "source": [
        "# Ratio del evento por tramo de la variable numérica\n",
        "sns.lineplot(data=X_train, x=\"Age_Days_tric_discret\", y=\"Age_Days_tric_disc_woe2\", palette = 'hls')"
      ],
      "metadata": {
        "id": "W9o8eoWGJail"
      },
      "execution_count": null,
      "outputs": []
    },
    {
      "cell_type": "code",
      "source": [
        "# Fit and summarize OLS model\n",
        "mod = sm.OLS(X_train.Age_Days_tric_disc_woe2, sm.add_constant(X_train.Age_Days_tric_imp))\n",
        "res = mod.fit(hasconst = False)\n",
        "\n",
        "sns.lineplot(data=X_train, x=\"Age_Days_tric_discret\", y=\"Age_Days_tric_disc_woe2\", palette = 'hls')\n",
        "sns.lineplot(x=X_train.Age_Days_tric_discret, y=res.predict(sm.add_constant(X_train.Age_Days_tric_imp)), palette = 'hls')\n"
      ],
      "metadata": {
        "id": "zJl2JgQVLf9g"
      },
      "execution_count": null,
      "outputs": []
    },
    {
      "cell_type": "code",
      "source": [
        "# Fit and summarize OLS model\n",
        "from math import * \n",
        "\n",
        "def function(x):\n",
        "  return x**3\n",
        "\n",
        "mod = sm.OLS(X_train.Age_Days_tric_disc_woe2, \n",
        "             sm.add_constant(X_train.Age_Days_tric_imp.apply(lambda x: function(x))))\n",
        "res = mod.fit(hasconst = False)\n",
        "\n",
        "sns.lineplot(data=X_train, x=\"Age_Days_tric_discret\", y=\"Age_Days_tric_disc_woe2\", palette = 'hls')\n",
        "sns.lineplot(x=X_train.Age_Days_tric_discret, y=res.predict(sm.add_constant(X_train.Age_Days_tric_imp.apply(lambda x: function(x)))), palette = 'hls')\n"
      ],
      "metadata": {
        "id": "HOY5ZW_bIte9"
      },
      "execution_count": null,
      "outputs": []
    },
    {
      "cell_type": "markdown",
      "source": [
        "<h3> Tratamiendo por transformaciones automáticas</h3>"
      ],
      "metadata": {
        "id": "vimTHS0HNbPe"
      }
    },
    {
      "cell_type": "code",
      "source": [
        "f_numeric_features = [x for x in X_train.columns.tolist() if '_tric_imp' in x]\n",
        "f_numeric_features"
      ],
      "metadata": {
        "id": "zwGGkGw-Ncq2"
      },
      "execution_count": null,
      "outputs": []
    },
    {
      "cell_type": "code",
      "source": [
        "# Calculando transformaciones\n",
        "from math import * \n",
        "\n",
        "X_train[[x + '_cuadratic' for x in f_numeric_features]] = X_train[f_numeric_features].apply(lambda x: x**2)\n",
        "X_train[[x + '_cubic' for x in f_numeric_features]] = X_train[f_numeric_features].apply(lambda x: x**3)\n",
        "\n",
        "for col in f_numeric_features:\n",
        "  X_train[col + '_sqrt'] = X_train[col].apply(lambda x: sqrt(x))\n",
        "  X_train[col + '_log'] = X_train[col].apply(lambda x: log(x) if x > 0 else log(0.0001))\n"
      ],
      "metadata": {
        "id": "d74J2xQ1N0uu"
      },
      "execution_count": null,
      "outputs": []
    },
    {
      "cell_type": "code",
      "source": [
        "# Fitteando las transformaciones\n",
        "for transformation in ['_cuadratic', '_cubic', '_sqrt', '_log']:\n",
        "  for col in f_numeric_features:\n",
        "    mod = sm.OLS(X_train[col.replace('_imp','') + '_disc_woe2'], \n",
        "                sm.add_constant(X_train[col + transformation]))\n",
        "    res = mod.fit(hasconst = False)\n",
        "    X_train[col + transformation + '_fitted'] = res.predict(sm.add_constant(X_train[col + transformation]))\n",
        "\n"
      ],
      "metadata": {
        "id": "-07qqiX5R8EN"
      },
      "execution_count": null,
      "outputs": []
    },
    {
      "cell_type": "code",
      "source": [
        "# Evaluando gini de las transformaciones\n",
        "\n",
        "transformed_features = [x for x in X_train.columns.tolist() if ('_fitted' in x) | ('_disc_woe' in x[-9:])]\n",
        "\n",
        "ginis = [sklearn.metrics.roc_auc_score(X_train['Default'],\n",
        "                                       X_train[col])*2-1 for col in transformed_features]\n",
        "\n",
        "R2 = [X_train[[col, col.replace('_disc_woe','').replace('_imp_sqrt_fitted','').replace('_imp_cuadratic_fitted','').replace('_imp_cubic_fitted','').replace('_imp_log_fitted','') + '_disc_woe2']].corr().iloc[0][1] for col in transformed_features]\n",
        "\n",
        "ginisTransformed = pd.DataFrame({'feature' : transformed_features,\n",
        "                                 'gini' : ginis,\n",
        "                                 'R2' : R2})\n"
      ],
      "metadata": {
        "id": "FdeH1-HXOeqM"
      },
      "execution_count": null,
      "outputs": []
    },
    {
      "cell_type": "code",
      "source": [
        "\n",
        "ginisTransformed[ginisTransformed['feature'].str.contains(\"Score_Source_3\")]\n"
      ],
      "metadata": {
        "id": "xe8rFB2aYfEr"
      },
      "execution_count": null,
      "outputs": []
    },
    {
      "cell_type": "code",
      "source": [
        "original_features = list(set(x.replace('_tric_imp_cuadratic_fitted', '').\n",
        "                       replace('_tric_imp_cubic_fitted', '').\n",
        "                       replace('_tric_imp_sqrt_fitted', '').\n",
        "                       replace('_tric_imp_log_fitted', '').\n",
        "                       replace('_tric_disc_woe', '') for x in ginisTransformed.feature.tolist()))"
      ],
      "metadata": {
        "id": "tuzomLmefPLt"
      },
      "execution_count": null,
      "outputs": []
    },
    {
      "cell_type": "code",
      "source": [
        "\n",
        "argmax_indexes = [ginisTransformed[ginisTransformed['feature'].str.contains(col)].R2.argmax() for col in original_features]\n",
        "argmax_indexes"
      ],
      "metadata": {
        "id": "g_QwCcrtdblz"
      },
      "execution_count": null,
      "outputs": []
    },
    {
      "cell_type": "code",
      "source": [
        "best_features = []\n",
        "\n",
        "for x in original_features:\n",
        "  location = ginisTransformed[ginisTransformed['feature'].str.contains(x)].R2.argmax()  \n",
        "  best_features.append(ginisTransformed[ginisTransformed['feature'].str.contains(x)].iloc[location].feature)\n"
      ],
      "metadata": {
        "id": "h7HSg0wTflEn"
      },
      "execution_count": null,
      "outputs": []
    },
    {
      "cell_type": "code",
      "source": [
        "best_features"
      ],
      "metadata": {
        "id": "z5UxSgc3f6mW"
      },
      "execution_count": null,
      "outputs": []
    },
    {
      "cell_type": "markdown",
      "source": [
        "## 6. Modelo "
      ],
      "metadata": {
        "id": "8PrvYQ3Aibas"
      }
    },
    {
      "cell_type": "code",
      "source": [
        "best_cat_features = [x for x in X_train if 'num' in x]"
      ],
      "metadata": {
        "id": "ur-S_7-CjEJ-"
      },
      "execution_count": 407,
      "outputs": []
    },
    {
      "cell_type": "code",
      "source": [
        "import statsmodels.api as sm\n",
        "\n",
        "# Fit and summarize OLS model\n",
        "mod = sm.Logit(y_train, sm.add_constant(X_train[best_features + best_cat_features]))\n",
        "res = mod.fit()\n"
      ],
      "metadata": {
        "id": "x0als-UTiYOz"
      },
      "execution_count": null,
      "outputs": []
    },
    {
      "cell_type": "code",
      "source": [
        "print(res.summary())"
      ],
      "metadata": {
        "id": "HMyJnnjUi3sU"
      },
      "execution_count": null,
      "outputs": []
    },
    {
      "cell_type": "code",
      "source": [
        "len(best_features + best_cat_features)"
      ],
      "metadata": {
        "id": "H6txF_P8nqns",
        "outputId": "fded1b9c-87cf-4e00-edf0-e346dddfbdc0",
        "colab": {
          "base_uri": "https://localhost:8080/"
        }
      },
      "execution_count": 444,
      "outputs": [
        {
          "output_type": "execute_result",
          "data": {
            "text/plain": [
              "30"
            ]
          },
          "metadata": {},
          "execution_count": 444
        }
      ]
    },
    {
      "cell_type": "code",
      "source": [
        "from itertools import combinations\n",
        "\n",
        "result = combinations(best_features + best_cat_features, 5)\n",
        "print(list(result))\n"
      ],
      "metadata": {
        "id": "PlSi0mijnPo2",
        "outputId": "62445744-dfb8-42f1-a158-274de4fa7e48",
        "colab": {
          "base_uri": "https://localhost:8080/",
          "height": 218
        }
      },
      "execution_count": 2,
      "outputs": [
        {
          "output_type": "error",
          "ename": "NameError",
          "evalue": "ignored",
          "traceback": [
            "\u001b[0;31m---------------------------------------------------------------------------\u001b[0m",
            "\u001b[0;31mNameError\u001b[0m                                 Traceback (most recent call last)",
            "\u001b[0;32m<ipython-input-2-6bb02de9cac9>\u001b[0m in \u001b[0;36m<module>\u001b[0;34m\u001b[0m\n\u001b[1;32m      1\u001b[0m \u001b[0;32mfrom\u001b[0m \u001b[0mitertools\u001b[0m \u001b[0;32mimport\u001b[0m \u001b[0mcombinations\u001b[0m\u001b[0;34m\u001b[0m\u001b[0;34m\u001b[0m\u001b[0m\n\u001b[1;32m      2\u001b[0m \u001b[0;34m\u001b[0m\u001b[0m\n\u001b[0;32m----> 3\u001b[0;31m \u001b[0mresult\u001b[0m \u001b[0;34m=\u001b[0m \u001b[0mcombinations\u001b[0m\u001b[0;34m(\u001b[0m\u001b[0mbest_features\u001b[0m \u001b[0;34m+\u001b[0m \u001b[0mbest_cat_features\u001b[0m\u001b[0;34m,\u001b[0m \u001b[0;36m5\u001b[0m\u001b[0;34m)\u001b[0m\u001b[0;34m\u001b[0m\u001b[0;34m\u001b[0m\u001b[0m\n\u001b[0m\u001b[1;32m      4\u001b[0m \u001b[0mprint\u001b[0m\u001b[0;34m(\u001b[0m\u001b[0mlist\u001b[0m\u001b[0;34m(\u001b[0m\u001b[0mresult\u001b[0m\u001b[0;34m)\u001b[0m\u001b[0;34m)\u001b[0m\u001b[0;34m\u001b[0m\u001b[0;34m\u001b[0m\u001b[0m\n",
            "\u001b[0;31mNameError\u001b[0m: name 'best_features' is not defined"
          ]
        }
      ]
    },
    {
      "cell_type": "code",
      "source": [
        "\n",
        "mod = sm.Logit(y_train, sm.add_constant(X_train[best_features + best_cat_features]))\n",
        "res = mod.fit()\n",
        "print(res.summary())\n"
      ],
      "metadata": {
        "id": "qc4v4csumsIR"
      },
      "execution_count": null,
      "outputs": []
    }
  ]
}