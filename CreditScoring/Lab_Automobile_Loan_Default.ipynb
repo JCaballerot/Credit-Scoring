{
  "nbformat": 4,
  "nbformat_minor": 0,
  "metadata": {
    "colab": {
      "provenance": [],
      "authorship_tag": "ABX9TyPjP094QuOhBHxxaffSwsAZ",
      "include_colab_link": true
    },
    "kernelspec": {
      "name": "python3",
      "display_name": "Python 3"
    },
    "language_info": {
      "name": "python"
    }
  },
  "cells": [
    {
      "cell_type": "markdown",
      "metadata": {
        "id": "view-in-github",
        "colab_type": "text"
      },
      "source": [
        "<a href=\"https://colab.research.google.com/github/JCaballerot/Credit-Scoring/blob/main/CreditScoring/Lab_Automobile_Loan_Default.ipynb\" target=\"_parent\"><img src=\"https://colab.research.google.com/assets/colab-badge.svg\" alt=\"Open In Colab\"/></a>"
      ]
    },
    {
      "cell_type": "markdown",
      "source": [
        "\n",
        "<h1 align=center><font size = 5>Automobile Loan Default Dataset\n",
        "</font></h1>\n",
        "\n",
        "---"
      ],
      "metadata": {
        "id": "s6UHVkgOXcmw"
      }
    },
    {
      "cell_type": "markdown",
      "source": [
        "## Introducción\n",
        "\n",
        "En este laboratorio, aprenderá a usar python para construir un modelo de <b>credit scoring</b>.\n",
        "\n"
      ],
      "metadata": {
        "id": "zINWKfpHZJRl"
      }
    },
    {
      "cell_type": "markdown",
      "source": [
        "## Objetivo de este Notebook\n",
        "\n",
        "1. Como construir e interpretar un modelo de regresión logística.\n",
        "2. Descargar y limpiar un Dataset\n",
        "3. Realizar los pasos necesarios previos a la etapa de modelamiento\n",
        "4. Entrenar y Testear modelo"
      ],
      "metadata": {
        "id": "mLlfVwLIZV7b"
      }
    },
    {
      "cell_type": "markdown",
      "source": [
        "## Tabla de Contenidos\n",
        "\n",
        "<div class=\"alert alert-block alert-info\" style=\"margin-top: 20px\">\n",
        "\n",
        "<font size = 3>\n",
        "    \n",
        "1. <a href=\"#item31\">Contexto</a>  \n",
        "2. <a href=\"#item32\">Descargar y limpiar el Dataset</a>  \n",
        "3. <a href=\"#item33\">Pre-selección de variables</a>  \n",
        "4. <a href=\"#item34\">Tratamiento de variables categóricas</a>  \n",
        "5. <a href=\"#item34\">Tratamiento de variables numéricas</a>  \n",
        " \n",
        "\n",
        "</font>\n",
        "</div>"
      ],
      "metadata": {
        "id": "icLdd0FKXoSA"
      }
    },
    {
      "cell_type": "markdown",
      "source": [
        "## Contexto"
      ],
      "metadata": {
        "id": "wXxiLTiBXyw8"
      }
    },
    {
      "cell_type": "markdown",
      "source": [
        "Una institución financiera no bancaria (NBFI) o una compañía financiera no bancaria (NBFC) es una institución financiera que no tiene una licencia bancaria completa o no está supervisada por una agencia reguladora bancaria nacional o internacional. NBFC facilita los servicios financieros relacionados con los bancos, como inversión, agrupación de riesgos, ahorros contractuales y corretaje de mercado.\n",
        "\n",
        "Una NBFI está luchando por marcar ganancias debido a un aumento en los incumplimientos en la categoría de préstamos para vehículos. La empresa tiene como objetivo determinar la capacidad de pago del préstamo del cliente y comprender la importancia relativa de cada parámetro que contribuye a la capacidad del prestatario para pagar el préstamo.\n"
      ],
      "metadata": {
        "id": "KHm-j2aHZoFB"
      }
    },
    {
      "cell_type": "markdown",
      "source": [
        "\n",
        "<b>Meta:</b>\n",
        "\n",
        "El objetivo del problema es predecir si un cliente no cumplirá con el pago del préstamo del vehículo o no. "
      ],
      "metadata": {
        "id": "fRuCC45BXxwX"
      }
    },
    {
      "cell_type": "markdown",
      "source": [
        "\n",
        "\n",
        "\n",
        "<img src=\"https://storage.googleapis.com/kaggle-datasets-images/1205706/2014650/7a50061003ce0de9839d54ff4673ccf2/dataset-cover.jpg?t=2021-07-04-09-18-01\" alt=\"HTML5 Icon\" style=\"width: 600px; height: 450px;\">\n",
        "<div style=\"text-align: center\">¿Cómo identificaremos a los clientes morosos? </div>"
      ],
      "metadata": {
        "id": "sYbqHyYAYeW1"
      }
    },
    {
      "cell_type": "markdown",
      "source": [
        "\n",
        "<b>Descripción de datos</b>\n",
        "\n",
        "El data frame de Automovile Loan tiene 121,856 filas y 40 columnas.\n",
        "\n",
        "\n",
        "---\n",
        "\n",
        "Se le proporciona un conjunto de datos anónimos que contiene una gran cantidad de variables. La columna <b>\"Default\"</b> es la variable a predecir. Es igual a uno para clientes que cayeron en mora y 0 para clientes que no.\n",
        "\n",
        "La tarea consiste en predecir la probabilidad de que cada cliente del conjunto de prueba sea un cliente moroso.\n",
        "\n",
        "\n",
        "---\n",
        "\n",
        "\n",
        "<strong>Puede consultar este [link](https://www.kaggle.com/datasets/saurabhbagchi/dish-network-hackathon) para leer más sobre la fuente de datos Automobile Loan Default.</strong>\n"
      ],
      "metadata": {
        "id": "fsKmSeWpZtFC"
      }
    },
    {
      "cell_type": "markdown",
      "source": [
        "## Descargar y limpiar Dataset"
      ],
      "metadata": {
        "id": "d5-Lsjy8aZv4"
      }
    },
    {
      "cell_type": "code",
      "source": [
        "# Principales librerías\n",
        "\n",
        "# Scikit-Learn \n",
        "import sklearn\n",
        "\n",
        "# Imports comunes\n",
        "import pandas as pd\n",
        "import numpy as np\n",
        "import os\n",
        "\n",
        "# Cargar seaborn \n",
        "import seaborn as sns\n",
        "sns.set(style=\"whitegrid\", color_codes = True)\n",
        "sns.set(rc={'figure.figsize':(10,6)})\n",
        "\n",
        "# Configuración de gráficos matplotlib\n",
        "%matplotlib inline\n",
        "import matplotlib as mpl\n",
        "import matplotlib.pyplot as plt\n",
        "\n",
        "mpl.rc('axes', labelsize=14)\n",
        "mpl.rc('xtick', labelsize=12)\n",
        "mpl.rc('ytick', labelsize=12)\n",
        "\n",
        "# Ignore las advertencias poco útiles\n",
        "import warnings\n",
        "warnings.filterwarnings(action=\"ignore\", message=\"^internal gelsd\")"
      ],
      "metadata": {
        "id": "JilRYoLvcSYk"
      },
      "execution_count": 1,
      "outputs": []
    },
    {
      "cell_type": "code",
      "source": [
        "# Cargar Data\n",
        "\n",
        "import pandas as pd\n",
        "pddf = pd.read_csv(\"Train_Dataset.csv\")\n",
        "pddf.head()\n"
      ],
      "metadata": {
        "id": "eL4GrOMHXj87"
      },
      "execution_count": null,
      "outputs": []
    },
    {
      "cell_type": "code",
      "execution_count": null,
      "metadata": {
        "id": "-FqBSIbhmGgu"
      },
      "outputs": [],
      "source": [
        "# Analizando el target \n",
        "sns.countplot(x='Default', data = pddf, palette = 'hls')"
      ]
    },
    {
      "cell_type": "code",
      "source": [
        "# Indentificar las variables \n",
        "\n",
        "features = list(set(pddf.columns.tolist()) - set(['ID', 'ID_Days','Default']))\n",
        "features"
      ],
      "metadata": {
        "id": "EUrUFH48c1Mw"
      },
      "execution_count": null,
      "outputs": []
    },
    {
      "cell_type": "code",
      "source": [
        "features_string = list(pddf.select_dtypes(include=['object']).columns)\n",
        "features_string"
      ],
      "metadata": {
        "id": "xTdwWdrnnoo8"
      },
      "execution_count": null,
      "outputs": []
    },
    {
      "cell_type": "code",
      "source": [
        "pddf.convert_dtypes(infer_objects=True).dtypes "
      ],
      "metadata": {
        "id": "AA2LeemQp6kU"
      },
      "execution_count": null,
      "outputs": []
    },
    {
      "cell_type": "code",
      "source": [
        "categorical_features = ['Accompany_Client', 'Client_Income_Type', \n",
        "                        'Client_Education', 'Client_Marital_Status', \n",
        "                        'Client_Gender', 'Loan_Contract_Type', 'Client_Housing_Type',\n",
        "                        'Client_Occupation', 'Client_Permanent_Match_Tag', \n",
        "                        'Client_Contact_Work_Tag', 'Type_Organization']"
      ],
      "metadata": {
        "id": "ykF1pSWVobe0"
      },
      "execution_count": 6,
      "outputs": []
    },
    {
      "cell_type": "code",
      "source": [
        "numeric_features = list(set(features) - set(categorical_features))\n",
        "numeric_features"
      ],
      "metadata": {
        "id": "fDjKdXmNpTGN"
      },
      "execution_count": null,
      "outputs": []
    },
    {
      "cell_type": "code",
      "source": [
        "# convert Series\n",
        "\n",
        "for col in numeric_features:\n",
        "  pddf[col] = pd.to_numeric(pddf[col])\n"
      ],
      "metadata": {
        "id": "_m5dNZnWprHp"
      },
      "execution_count": 21,
      "outputs": []
    },
    {
      "cell_type": "code",
      "source": [
        "pddf.replace({'@': None,\n",
        "              '#': None,\n",
        "              '&': None,\n",
        "              'x': None,\n",
        "              '$': None,\n",
        "              '#VALUE!': None}, inplace = True)"
      ],
      "metadata": {
        "id": "Wr8y3jFMiTYW"
      },
      "execution_count": 20,
      "outputs": []
    },
    {
      "cell_type": "code",
      "source": [
        "pddf.dtypes"
      ],
      "metadata": {
        "id": "06jO_nvgixYG"
      },
      "execution_count": null,
      "outputs": []
    },
    {
      "cell_type": "code",
      "source": [
        "# Determinando matrices de datos\n",
        "\n",
        "X = pddf[features + ['ID', 'Default']]\n",
        "y = pddf.Default\n"
      ],
      "metadata": {
        "id": "Uknriuy8fCwD"
      },
      "execution_count": 88,
      "outputs": []
    },
    {
      "cell_type": "code",
      "source": [
        "# Muestreo de data\n",
        "\n",
        "from sklearn.model_selection import train_test_split\n",
        "\n",
        "X_train, X_test, y_train, y_test = train_test_split(X, y, \n",
        "                                                    stratify = y,\n",
        "                                                    train_size = 0.7,\n",
        "                                                    random_state = 123)\n"
      ],
      "metadata": {
        "id": "r4htXb8fi58W"
      },
      "execution_count": 131,
      "outputs": []
    },
    {
      "cell_type": "markdown",
      "source": [
        "## Pre-selección de variables"
      ],
      "metadata": {
        "id": "7cNhaU-dlISW"
      }
    },
    {
      "cell_type": "code",
      "source": [
        "# Estadísticos básicos\n",
        "\n",
        "df_res = X_train[numeric_features].describe().transpose()\n",
        "df_res.head()"
      ],
      "metadata": {
        "id": "At2-Fd8_jy7s"
      },
      "execution_count": null,
      "outputs": []
    },
    {
      "cell_type": "code",
      "source": [
        "# Dando formato a la data\n",
        "\n",
        "df_res.reset_index(inplace = True)\n",
        "df_res.rename(columns = {'index': 'feature'}, inplace = True)\n",
        "df_res.head()"
      ],
      "metadata": {
        "id": "3FcU8zD6lpFe"
      },
      "execution_count": null,
      "outputs": []
    },
    {
      "cell_type": "code",
      "source": [
        "# Calculando el porcentaje de missings\n",
        "\n",
        "df_res['missing_rate'] = 1 - df_res['count']/pddf.shape[0]\n",
        "df_res.head()\n"
      ],
      "metadata": {
        "id": "d79NS43EmI31"
      },
      "execution_count": null,
      "outputs": []
    },
    {
      "cell_type": "code",
      "source": [
        "#Calculando el gini univariado de todas las variables\n",
        "\n",
        "ginis = [sklearn.metrics.roc_auc_score(y_train, X_train[col].fillna(0))*2-1 for col in numeric_features]\n"
      ],
      "metadata": {
        "id": "wPYZryrBj5eI"
      },
      "execution_count": 63,
      "outputs": []
    },
    {
      "cell_type": "code",
      "source": [
        "res_ginis = pd.DataFrame({'feature' : numeric_features,\n",
        "                          'gini' : ginis})"
      ],
      "metadata": {
        "id": "jOQpvEGVk9gD"
      },
      "execution_count": 64,
      "outputs": []
    },
    {
      "cell_type": "code",
      "source": [
        "df_res = pd.merge(df_res, res_ginis, on = 'feature', how='left')\n",
        "df_res"
      ],
      "metadata": {
        "id": "VrAPIq1ElhKD"
      },
      "execution_count": null,
      "outputs": []
    },
    {
      "cell_type": "code",
      "source": [
        "# Ordenando variables por importancia de explicación\n",
        "\n",
        "df_res['abs_gini'] = df_res.gini.apply(lambda x: abs(x))\n",
        "df_res.sort_values('abs_gini', ascending = False)\n"
      ],
      "metadata": {
        "id": "e0EVfWVhl3Ao"
      },
      "execution_count": null,
      "outputs": []
    },
    {
      "cell_type": "code",
      "source": [
        "df_res.to_csv('univariate_asssesment.csv', index = 0)"
      ],
      "metadata": {
        "id": "igVG_0cbnWHV"
      },
      "execution_count": 68,
      "outputs": []
    },
    {
      "cell_type": "markdown",
      "source": [
        "## Tratamiento de variables categóricas"
      ],
      "metadata": {
        "id": "OeZebzd8oQLJ"
      }
    },
    {
      "cell_type": "code",
      "source": [
        "categorical_features"
      ],
      "metadata": {
        "id": "fCQksGpspMtN"
      },
      "execution_count": null,
      "outputs": []
    },
    {
      "cell_type": "code",
      "source": [
        "# Analizando variable categórica\n",
        "sns.countplot(x='Client_Marital_Status', data = X_train, palette = 'hls')"
      ],
      "metadata": {
        "id": "--MCtChFocvZ"
      },
      "execution_count": null,
      "outputs": []
    },
    {
      "cell_type": "code",
      "source": [
        "mar_res = X_train.groupby(['Client_Marital_Status']).agg({\"ID\":\"count\",\n",
        "                                                \"Default\" :\"mean\"}).reset_index()\n",
        "mar_res                                                "
      ],
      "metadata": {
        "id": "-L7TJc1Qpb4J"
      },
      "execution_count": null,
      "outputs": []
    },
    {
      "cell_type": "code",
      "source": [
        "sns.lineplot(x = 'Client_Marital_Status', y = 'Default', data = mar_res)"
      ],
      "metadata": {
        "id": "CXwRRlqfqQlA"
      },
      "execution_count": null,
      "outputs": []
    },
    {
      "cell_type": "code",
      "source": [
        "# Title\n",
        "plt.title('Análisis de RD')\n",
        "# X label\n",
        "plt.xlabel('Client_Marital_Status')\n",
        "# Y label\n",
        "plt.ylabel('Default')\n",
        "\n",
        "\n",
        "ax = mar_res['Default'].plot(secondary_y = True)\n",
        "mar_res[['Client_Marital_Status','ID']].plot(kind='bar', ax=ax)\n"
      ],
      "metadata": {
        "id": "uzzF1_-lq3GC"
      },
      "execution_count": null,
      "outputs": []
    },
    {
      "cell_type": "markdown",
      "metadata": {
        "id": "BzjJoA4znq1u"
      },
      "source": [
        "#### Encoding de variables categóricas"
      ]
    },
    {
      "cell_type": "markdown",
      "metadata": {
        "id": "NkpAoL6tI7mS"
      },
      "source": [
        "\n",
        "---\n",
        "\n",
        "<h3>Label Encoding</h3> \n",
        "\n",
        "El label encoding consiste en asignar un número (por lo general entero) a cada una de las categorías de la variable categórica.\n",
        "\n",
        "<img src=\"https://miro.medium.com/max/772/1*QQe-4476Oy3_dI1vhb3dDg.png\" alt=\"HTML5 Icon\" style=\"width: 1600px; height: 1250px;\">\n",
        "\n",
        "\n",
        "\n",
        "---\n",
        "\n",
        "<h3>One Hot Encoding</h3> \n",
        "\n",
        "El One hot encoding es un proceso que consiste en dummizar cada catgoría de la variable en una nueva variable, de esta manera las nuevas variables se activarán dependiendo del valor que tome la variable original.\n",
        "\n",
        "<img src=\"https://encrypted-tbn0.gstatic.com/images?q=tbn:ANd9GcTr11qA6j0WCbEYrfNoQ7QO_NpMIZus42BJwQ&usqp=CAU\" alt=\"HTML5 Icon\" style=\"width: 1600px; height: 1250px;\">\n",
        "\n",
        "---\n",
        "\n",
        "<div style=\"text-align: center\">Ejemplo de one hot Encoding </div>\n",
        "\n",
        "<h3>Target Encoding</h3> \n",
        "\n",
        "El target encoding es una técnica que consiste en inputar el promedio del target a cada uno de los valores de la variable categórica.\n",
        "\n",
        "<img src=\"https://lh6.googleusercontent.com/6_KrGj2k9NvcLVfmZ6HIYruAqav4rX86YU7WOhXofDGd6-98JjUPWajo0dDqmFMXv3tN0b_LOmgYLiPMCFyIWw3b7lVrCAiSboWgJ_AJ4TqHpNWUHkgIxl0xuSF9JdSXNbWG48QS\" alt=\"HTML5 Icon\" style=\"width: 600px; height: 450px;\">\n",
        "\n",
        "---\n"
      ]
    },
    {
      "cell_type": "code",
      "source": [
        "# Reemplazar las filas NaN por una categoría específica para missings \n",
        "\n",
        "X_train[categorical_features].fillna('missing', inplace = True)\n",
        "X_train[categorical_features] = X_train[categorical_features].replace(np.nan,'missing')\n",
        "\n",
        "X_train[categorical_features].head()"
      ],
      "metadata": {
        "id": "TmO3FRbUtkfu"
      },
      "execution_count": null,
      "outputs": []
    },
    {
      "cell_type": "markdown",
      "source": [
        "<h3>One Hot Encoding</h3> "
      ],
      "metadata": {
        "id": "yJPa11C1us-g"
      }
    },
    {
      "cell_type": "code",
      "source": [
        "# One hot Encoding\n",
        "\n",
        "from sklearn.preprocessing import OneHotEncoder\n",
        "OneHotEncoder = OneHotEncoder()\n"
      ],
      "metadata": {
        "id": "Km1H1PkcusSn"
      },
      "execution_count": 151,
      "outputs": []
    },
    {
      "cell_type": "code",
      "source": [
        "# definiendo reglas de encoding\n",
        "\n",
        "OneHotEncoder.fit(X_train[categorical_features])\n"
      ],
      "metadata": {
        "colab": {
          "base_uri": "https://localhost:8080/"
        },
        "id": "QqvB0eiLu9aU",
        "outputId": "fa3425c9-91d3-42d0-acb2-90d55b19dcf6"
      },
      "execution_count": 152,
      "outputs": [
        {
          "output_type": "execute_result",
          "data": {
            "text/plain": [
              "OneHotEncoder()"
            ]
          },
          "metadata": {},
          "execution_count": 152
        }
      ]
    },
    {
      "cell_type": "code",
      "source": [
        "list_dummys = []\n",
        "for c in categorical_features:\n",
        "  list_dummys += [c + '_dum' + str(x) for x in range(len(X_train[c].drop_duplicates()))]\n"
      ],
      "metadata": {
        "id": "KU40y8FvxsWs"
      },
      "execution_count": 156,
      "outputs": []
    },
    {
      "cell_type": "code",
      "source": [
        "list_dummys\n"
      ],
      "metadata": {
        "id": "b3P7wyW1vt7h"
      },
      "execution_count": null,
      "outputs": []
    },
    {
      "cell_type": "code",
      "source": [
        "# Usando reglas de encoding\n",
        "\n",
        "X_train[list_dummys] = OneHotEncoder.transform(X_train[categorical_features]).toarray()\n",
        "X_train[categorical_features + list_dummys].head()"
      ],
      "metadata": {
        "id": "y6p_GV43vlrk"
      },
      "execution_count": null,
      "outputs": []
    },
    {
      "cell_type": "markdown",
      "metadata": {
        "id": "szuWpiMqmwvL"
      },
      "source": [
        "<h3>Target Encoding</h3> "
      ]
    },
    {
      "cell_type": "code",
      "metadata": {
        "id": "0pcSepG4TZa-"
      },
      "source": [
        "!pip install category_encoders"
      ],
      "execution_count": null,
      "outputs": []
    },
    {
      "cell_type": "code",
      "metadata": {
        "id": "33Y7NZyJHobo"
      },
      "source": [
        "# Target Encoding\n",
        "\n",
        "from category_encoders import TargetEncoder\n",
        "encoder = TargetEncoder()\n",
        "\n"
      ],
      "execution_count": null,
      "outputs": []
    },
    {
      "cell_type": "code",
      "source": [
        "# definiendo reglas de encoding\n",
        "\n",
        "TargetEncoder = encoder.fit(X_train[categorical_features], X_train['Default'])"
      ],
      "metadata": {
        "id": "jOHMI7d_zS88"
      },
      "execution_count": 168,
      "outputs": []
    },
    {
      "cell_type": "code",
      "source": [
        "# Usando reglas de encoding\n",
        "\n",
        "X_train[[x + '_num' for x in categorical_features]] = TargetEncoder.transform(X_train[categorical_features])\n"
      ],
      "metadata": {
        "id": "v25pphTVzj62"
      },
      "execution_count": 169,
      "outputs": []
    },
    {
      "cell_type": "code",
      "source": [
        "#Analizamos resultados\n",
        "\n",
        "X_train[[x for x in X_train.columns.tolist() if 'Client_Gender' in x] ].drop_duplicates().head()\n"
      ],
      "metadata": {
        "id": "qtpaMDgpypNe"
      },
      "execution_count": null,
      "outputs": []
    },
    {
      "cell_type": "markdown",
      "source": [
        "<h3>WOE Encoding</h3> "
      ],
      "metadata": {
        "id": "WQGxr-js1u_Y"
      }
    },
    {
      "cell_type": "code",
      "source": [
        "# Target Encoding\n",
        "\n",
        "from category_encoders.woe import WOEEncoder\n",
        "encoder = WOEEncoder()\n"
      ],
      "metadata": {
        "id": "LqaVIcDJ1Pd9"
      },
      "execution_count": 172,
      "outputs": []
    },
    {
      "cell_type": "code",
      "source": [
        "# definiendo reglas de encoding\n",
        "\n",
        "WOEEncoder = encoder.fit(X_train[categorical_features], X_train['Default'])"
      ],
      "metadata": {
        "id": "WinkhYIV1b3Y"
      },
      "execution_count": 173,
      "outputs": []
    },
    {
      "cell_type": "code",
      "source": [
        "# Usando reglas de encoding\n",
        "\n",
        "X_train[[x + '_woe' for x in categorical_features]] = WOEEncoder.transform(X_train[categorical_features])\n"
      ],
      "metadata": {
        "id": "ROYm8xIW1hQI"
      },
      "execution_count": 174,
      "outputs": []
    },
    {
      "cell_type": "code",
      "source": [
        "#Analizamos resultados\n",
        "\n",
        "X_train[[x for x in X_train.columns.tolist() if 'Client_Gender' in x] ].drop_duplicates().head()\n"
      ],
      "metadata": {
        "id": "d8TkdH821laB"
      },
      "execution_count": null,
      "outputs": []
    },
    {
      "cell_type": "markdown",
      "metadata": {
        "id": "l-USf44pnQqv"
      },
      "source": [
        "# Tratamiento de variables numéricas\n",
        "\n",
        "\n"
      ]
    },
    {
      "cell_type": "code",
      "source": [
        "X_train"
      ],
      "metadata": {
        "id": "KdjYGsVC1-j9"
      },
      "execution_count": null,
      "outputs": []
    },
    {
      "cell_type": "code",
      "metadata": {
        "id": "oxT_G0swngqE"
      },
      "source": [
        "# Tratamiento de outliers\n",
        "\n",
        "p1 = data.Age.quantile(0.01)\n",
        "p99 = data.Age.quantile(0.99)\n",
        "\n",
        "data['Age'] = np.where(data['Age'] < p1, p1, data['Age'])\n",
        "data['Age'] = np.where(data['Age'] > p99, p99, data['Age'])\n"
      ],
      "execution_count": null,
      "outputs": []
    },
    {
      "cell_type": "code",
      "metadata": {
        "id": "Wc_4uekMDoju"
      },
      "source": [
        "data.describe().transpose()"
      ],
      "execution_count": null,
      "outputs": []
    },
    {
      "cell_type": "code",
      "metadata": {
        "id": "_SmrbJFWrKx1"
      },
      "source": [
        "# Trataiento de missings\n",
        "\n",
        "data[[x + '_t' for x in numFeatures]] = data[numFeatures].fillna(data[numFeatures].median())\n"
      ],
      "execution_count": null,
      "outputs": []
    },
    {
      "cell_type": "code",
      "metadata": {
        "id": "WySovzP5rgok"
      },
      "source": [
        "data[[x + '_t' for x in numFeatures]].head(30)"
      ],
      "execution_count": null,
      "outputs": []
    },
    {
      "cell_type": "code",
      "source": [
        "X_train.groupby(['Client_Gender']).agg({\"ID\":\"count\",\n",
        "                                        \"Default\" :\"mean\"}).reset_index()"
      ],
      "metadata": {
        "id": "X1BpQDVDz6xG"
      },
      "execution_count": null,
      "outputs": []
    }
  ]
}