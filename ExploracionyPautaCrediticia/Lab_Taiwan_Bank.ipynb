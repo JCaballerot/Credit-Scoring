{
  "nbformat": 4,
  "nbformat_minor": 0,
  "metadata": {
    "colab": {
      "name": "Lab: Taiwan Bank.ipynb",
      "provenance": [],
      "authorship_tag": "ABX9TyNx5f6cKT+2u3TP9tHzn5IX",
      "include_colab_link": true
    },
    "kernelspec": {
      "name": "python3",
      "display_name": "Python 3"
    },
    "language_info": {
      "name": "python"
    }
  },
  "cells": [
    {
      "cell_type": "markdown",
      "metadata": {
        "id": "view-in-github",
        "colab_type": "text"
      },
      "source": [
        "<a href=\"https://colab.research.google.com/github/JCaballerot/Credit-Scoring/blob/main/ExploracionyPautaCrediticia/Lab_Taiwan_Bank.ipynb\" target=\"_parent\"><img src=\"https://colab.research.google.com/assets/colab-badge.svg\" alt=\"Open In Colab\"/></a>"
      ]
    },
    {
      "cell_type": "markdown",
      "source": [
        "\n",
        "<h1 align=center><font size = 5>\n",
        "Default en Tarjetas de crédito de clientes en Taiwan</font></h1>\n",
        "\n",
        "---"
      ],
      "metadata": {
        "id": "Vt0nVHpJNbdg"
      }
    },
    {
      "cell_type": "markdown",
      "source": [
        "<img src=\"https://i.ytimg.com/vi/EH06RwKI8W4/maxresdefault.jpg\" alt=\"HTML5 Icon\" width= \"800px\"  height = \"300px\">\n",
        "<div style=\"text-align: center\">¿Quienes son los clientes más morosos? </div>"
      ],
      "metadata": {
        "id": "VEv_4ApBUUMn"
      }
    },
    {
      "cell_type": "markdown",
      "source": [
        "## Tabla de Contenidos\n",
        "\n",
        "<div class=\"alert alert-block alert-info\" style=\"margin-top: 20px\">\n",
        "\n",
        "<font size = 3>\n",
        "    \n",
        "1. <a href=\"#item31\">Lectura y revisión de datos</a>  \n",
        "2. <a href=\"#item32\">Análisis de mora en variables categóricas</a>  \n",
        "3. <a href=\"#item33\">Análisis de mora en variables numéricas</a>  \n",
        "4. <a href=\"#item34\">Definiendo una pauta crediticia</a>  \n",
        "5. <a href=\"#item34\">Pautas con Decision Trees</a>  \n",
        "</font>\n",
        "</div>"
      ],
      "metadata": {
        "id": "0fDbAHxJOipr"
      }
    },
    {
      "cell_type": "markdown",
      "source": [
        "## Introducción\n",
        "\n",
        "En este laboratorio, aprenderá a usar python para comprender el análisis de mora y la creación de pautas crediticias."
      ],
      "metadata": {
        "id": "ihqJOHjAPNL1"
      }
    },
    {
      "cell_type": "markdown",
      "source": [
        "<b>Descripción de datos</b>\n",
        "\n",
        "El data frame tiene 30,000 filas y 23 columnas.\n",
        "\n",
        "\n",
        "---\n",
        "Esta investigación empleó una variable binaria, default (Sí = 1, No = 0), como variable de respuesta. \n",
        "\n",
        "Este estudio revisó la literatura y utilizó las siguientes 23 variables como variables explicativas:\n"
      ],
      "metadata": {
        "id": "s8nkzObGUDBb"
      }
    },
    {
      "cell_type": "markdown",
      "source": [
        "\n",
        "---\n",
        "\n",
        "*   **LIMIT_BAL X1**: Monto del crédito otorgado (dólar NT): incluye tanto el crédito de consumo individual como su crédito familiar (complementario).\n",
        "\n",
        "*   **SEX X2**: Género (1 = masculino; 2 = femenino).\n",
        "\n",
        "*   **EDUCATION X3**: Educación (1 = posgrado; 2 = universidad; 3 = secundaria; 4 = otros).\n",
        "\n",
        "*   **MARRIAGE X4**: Estado civil (1 = casado; 2 = soltero; 3 = otros).\n",
        "\n",
        "*   **AGE X5**: Edad (año).\n",
        "\n",
        "*   **PAY_0-PAY_6 X6 - X11:** Historial de pagos pasados. Hicimos un seguimiento de los registros de pagos mensuales pasados ​​(de abril a septiembre de 2005) de la siguiente manera: \n",
        "La escala de medición del estado de amortización es: \n",
        "\n",
        "  >-1 = pagar debidamente;</a>  \n",
        "  >1 = retraso en el pago de un mes; </a>  \n",
        "  >2 = retraso en el pago de dos meses;</a>  \n",
        "  >8 = retraso en el pago de ocho meses; </a>  \n",
        "  >9 = retraso en el pago de nueve meses o más.</a>  \n",
        "\n",
        "*   **BILL_AMT1-BILL_AMT6 X12-X17**: Importe del estado de cuenta (dólar NT) (de abril a septiembre de 2005).\n",
        "\n",
        "*   **PAY_AMT1-PAY_AMT6 X18-X23**: Monto del pago anterior (dólar NT) desde (de abril a septiembre de 2005).\n",
        "\n",
        "---\n"
      ],
      "metadata": {
        "id": "CqJVsaQjQ6jU"
      }
    },
    {
      "cell_type": "markdown",
      "source": [
        "\n",
        "<strong>Puede consultar este [link](https://archive.ics.uci.edu/ml/datasets/default+of+credit+card+clients#) para leer más sobre la fuente de datos Taiwan Bank.</strong>"
      ],
      "metadata": {
        "id": "J6FR5pR3Vpw7"
      }
    },
    {
      "cell_type": "markdown",
      "source": [
        "## 1. Lectura y revisión de datos"
      ],
      "metadata": {
        "id": "-kuCuwzpO8SJ"
      }
    },
    {
      "cell_type": "code",
      "execution_count": 1,
      "metadata": {
        "id": "JQWdjsO9LNK2"
      },
      "outputs": [],
      "source": [
        "import pandas as pd"
      ]
    },
    {
      "cell_type": "code",
      "source": [
        "pddf = pd.read_csv('credit_card_clients.csv', delimiter = ';')\n",
        "pddf.head()"
      ],
      "metadata": {
        "id": "AJbLCJuJLZWW"
      },
      "execution_count": null,
      "outputs": []
    },
    {
      "cell_type": "code",
      "source": [
        "pddf.shape"
      ],
      "metadata": {
        "id": "29VbQvazV76e"
      },
      "execution_count": null,
      "outputs": []
    },
    {
      "cell_type": "code",
      "source": [
        "pddf.describe().transpose()"
      ],
      "metadata": {
        "id": "uP2BeMbIUHQX"
      },
      "execution_count": null,
      "outputs": []
    },
    {
      "cell_type": "code",
      "source": [
        "# Cargar seaborn \n",
        "import seaborn as sns\n",
        "sns.set(style=\"whitegrid\", color_codes = True)\n",
        "sns.set(rc={'figure.figsize':(10,6)})"
      ],
      "metadata": {
        "id": "KODrEQAjV9z8"
      },
      "execution_count": 18,
      "outputs": []
    },
    {
      "cell_type": "code",
      "source": [
        "# Analizando el target \n",
        "sns.countplot(x = 'default', data = pddf, palette = 'hls')\n"
      ],
      "metadata": {
        "id": "y6xBBRFWV_YP"
      },
      "execution_count": null,
      "outputs": []
    },
    {
      "cell_type": "code",
      "source": [
        "pddf.groupby('default')['ID'].count()"
      ],
      "metadata": {
        "id": "Wx_Oe3XeWEoz"
      },
      "execution_count": null,
      "outputs": []
    },
    {
      "cell_type": "code",
      "source": [
        "# Indentificar las variables \n",
        "features = list(set(pddf.columns.tolist()) - set(['ID','default']))\n",
        "features"
      ],
      "metadata": {
        "id": "_j-gea5cWNJE"
      },
      "execution_count": null,
      "outputs": []
    },
    {
      "cell_type": "markdown",
      "source": [
        "## 2. Análisis de mora en variables categóricas"
      ],
      "metadata": {
        "id": "2-0dLlYgXGfI"
      }
    },
    {
      "cell_type": "code",
      "source": [
        "# Analizando variable categórica\n",
        "sns.countplot(x='SEX', data = pddf, palette = 'hls')"
      ],
      "metadata": {
        "id": "oqPZyT6QWtBm"
      },
      "execution_count": null,
      "outputs": []
    },
    {
      "cell_type": "code",
      "source": [
        "pddf.groupby(['SEX']).agg({\"ID\":\"count\",\n",
        "                           \"default\" :\"mean\"}).reset_index()"
      ],
      "metadata": {
        "id": "6R6Z1lJ9YYil"
      },
      "execution_count": null,
      "outputs": []
    },
    {
      "cell_type": "code",
      "source": [
        "table = pd.crosstab(pddf.SEX, pddf.default)\n",
        "table.div(table.sum(1).astype(float),axis=0).plot(kind='bar',stacked=True)"
      ],
      "metadata": {
        "id": "__0pd3bVYfv1"
      },
      "execution_count": null,
      "outputs": []
    },
    {
      "cell_type": "markdown",
      "source": [
        "## 3. Análisis de mora en variables numéricas"
      ],
      "metadata": {
        "id": "gBt3KB-ZXOd_"
      }
    },
    {
      "cell_type": "code",
      "source": [
        "# Analizando variable numérica\n",
        "sns.displot(pddf, x=\"AGE\",kind=\"kde\", fill=True)"
      ],
      "metadata": {
        "id": "UyvZEPOPXr2-"
      },
      "execution_count": null,
      "outputs": []
    },
    {
      "cell_type": "code",
      "source": [
        "sns.displot(pddf, x=\"AGE\", hue='default', kind=\"kde\", fill=True)"
      ],
      "metadata": {
        "id": "_2Z9CXapYyYH"
      },
      "execution_count": null,
      "outputs": []
    },
    {
      "cell_type": "code",
      "source": [
        "ax = sns.boxplot(x=\"default\", y=\"AGE\", data=pddf, palette = 'hls')"
      ],
      "metadata": {
        "id": "D7kCuX8mY5_L"
      },
      "execution_count": null,
      "outputs": []
    },
    {
      "cell_type": "code",
      "source": [
        "# Discretizar variable "
      ],
      "metadata": {
        "id": "Bs94ciq8ZPH5"
      },
      "execution_count": null,
      "outputs": []
    },
    {
      "cell_type": "code",
      "source": [
        "# Discretizar variable \n",
        "\n",
        "from sklearn.preprocessing import KBinsDiscretizer\n",
        "\n",
        "pddf['AGE_cat'] = KBinsDiscretizer(n_bins = 10, \n",
        "                                   encode = 'ordinal',\n",
        "                                   strategy = \"quantile\").fit_transform(pddf[['AGE']])\n"
      ],
      "metadata": {
        "id": "cD06j8t3ZPmh"
      },
      "execution_count": 46,
      "outputs": []
    },
    {
      "cell_type": "code",
      "source": [
        "sns.displot(pddf['AGE_cat'], palette = 'hls', discrete=True)"
      ],
      "metadata": {
        "id": "L3WNgV1HZaMy"
      },
      "execution_count": null,
      "outputs": []
    },
    {
      "cell_type": "code",
      "source": [
        "pddf[['AGE', 'AGE_cat', 'default']]"
      ],
      "metadata": {
        "id": "zGqOI2BaZaJr"
      },
      "execution_count": null,
      "outputs": []
    },
    {
      "cell_type": "code",
      "source": [
        "aggregations = {'default':'mean', 'AGE':'mean'}\n",
        "res = pddf.groupby('AGE_cat').agg(aggregations).reset_index()\n",
        "res"
      ],
      "metadata": {
        "id": "J-ACHo_WZaD1"
      },
      "execution_count": null,
      "outputs": []
    },
    {
      "cell_type": "code",
      "source": [
        "# Ratio del evento por tramo dela variable numérica\n",
        "sns.lineplot(data = pddf, x=\"AGE_cat\", y=\"default\", palette = 'hls')"
      ],
      "metadata": {
        "id": "w-WdCgdIZ4pn"
      },
      "execution_count": null,
      "outputs": []
    },
    {
      "cell_type": "markdown",
      "source": [
        "## 4. Definiendo una pauta Crediticia"
      ],
      "metadata": {
        "id": "wCIPwm2OXPQp"
      }
    },
    {
      "cell_type": "code",
      "source": [],
      "metadata": {
        "id": "wdSZnlW3XsjC"
      },
      "execution_count": null,
      "outputs": []
    },
    {
      "cell_type": "markdown",
      "source": [
        "## 5. Pautas Crediticias con decision Trees"
      ],
      "metadata": {
        "id": "R4YXEMzQX3zU"
      }
    },
    {
      "cell_type": "code",
      "source": [
        "features"
      ],
      "metadata": {
        "id": "SLucAvMGaM9u"
      },
      "execution_count": null,
      "outputs": []
    },
    {
      "cell_type": "code",
      "source": [
        "#Variables para el modelo\n",
        "\n",
        "numFeatures = ['AGE']\n",
        "catFeatures = ['EDUCATION','MARRIAGE','SEX']\n"
      ],
      "metadata": {
        "id": "8a7Rbl84YFZk"
      },
      "execution_count": 64,
      "outputs": []
    },
    {
      "cell_type": "code",
      "source": [
        "X = pddf[numFeatures]\n",
        "y = pddf.default"
      ],
      "metadata": {
        "id": "CyXQwwPGadbN"
      },
      "execution_count": 65,
      "outputs": []
    },
    {
      "cell_type": "code",
      "source": [
        "# Configuramos el modelo\n",
        "\n",
        "from sklearn.tree import DecisionTreeClassifier\n",
        "\n",
        "dtree = DecisionTreeClassifier(max_depth = 2,\n",
        "                               random_state = 123)\n",
        "dtree = dtree.fit(X, y)\n",
        "    \n",
        "dtree"
      ],
      "metadata": {
        "colab": {
          "base_uri": "https://localhost:8080/"
        },
        "id": "WGFitChBajm1",
        "outputId": "152529a3-bbef-465a-8381-f80b0b09ea19"
      },
      "execution_count": 66,
      "outputs": [
        {
          "output_type": "execute_result",
          "data": {
            "text/plain": [
              "DecisionTreeClassifier(max_depth=2, random_state=123)"
            ]
          },
          "metadata": {},
          "execution_count": 66
        }
      ]
    },
    {
      "cell_type": "code",
      "source": [
        "from sklearn.tree import export_graphviz\n",
        "from pydotplus import graph_from_dot_data\n",
        "\n",
        "dot_data = export_graphviz(dtree,\n",
        "                           feature_names = numFeatures,\n",
        "                           filled = True,\n",
        "                           rounded = True,\n",
        "                           special_characters = True)\n",
        "\n",
        "graph = graph_from_dot_data(dot_data)\n",
        "graph.write_png('tree.png')\n",
        "print(graph)\n"
      ],
      "metadata": {
        "colab": {
          "base_uri": "https://localhost:8080/"
        },
        "id": "IKClythHazrs",
        "outputId": "a9f2f795-d015-4c9d-d08b-536122c80591"
      },
      "execution_count": 67,
      "outputs": [
        {
          "output_type": "stream",
          "name": "stdout",
          "text": [
            "<pydotplus.graphviz.Dot object at 0x7f2132e52ad0>\n"
          ]
        }
      ]
    },
    {
      "cell_type": "markdown",
      "source": [
        "---\n",
        "\n",
        "# Gracias por completar este laboratorio!\n",
        "\n",
        "---\n",
        "\n"
      ],
      "metadata": {
        "id": "Kk-lfnwZWqam"
      }
    }
  ]
}