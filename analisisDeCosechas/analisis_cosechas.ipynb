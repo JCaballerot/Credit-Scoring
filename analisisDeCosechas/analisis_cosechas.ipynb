{
  "nbformat": 4,
  "nbformat_minor": 0,
  "metadata": {
    "colab": {
      "provenance": [],
      "authorship_tag": "ABX9TyM1+y9VATsspcwu3IFaAUaf",
      "include_colab_link": true
    },
    "kernelspec": {
      "name": "python3",
      "display_name": "Python 3"
    },
    "language_info": {
      "name": "python"
    }
  },
  "cells": [
    {
      "cell_type": "markdown",
      "metadata": {
        "id": "view-in-github",
        "colab_type": "text"
      },
      "source": [
        "<a href=\"https://colab.research.google.com/github/JCaballerot/Credit-Scoring/blob/main/analisisDeCosechas/analisis_cosechas.ipynb\" target=\"_parent\"><img src=\"https://colab.research.google.com/assets/colab-badge.svg\" alt=\"Open In Colab\"/></a>"
      ]
    },
    {
      "cell_type": "markdown",
      "source": [
        "\n",
        "<h1 align=center><font size = 5>\n",
        "Análisis de cosechas</font></h1>\n",
        "\n",
        "---"
      ],
      "metadata": {
        "id": "_blHbvHbY4N3"
      }
    },
    {
      "cell_type": "code",
      "execution_count": 33,
      "metadata": {
        "id": "5BIqgsBT-VmF"
      },
      "outputs": [],
      "source": [
        "# Importando liberías\n",
        "\n",
        "import pandas as pd\n",
        "import numpy as np\n",
        "import seaborn as sns"
      ]
    },
    {
      "cell_type": "code",
      "source": [
        "# Leyendo data\n",
        "\n",
        "pddf = pd.read_csv('cos_sample_hist.csv')\n",
        "pddf.head()"
      ],
      "metadata": {
        "id": "ME8yu_tg-ze-"
      },
      "execution_count": null,
      "outputs": []
    },
    {
      "cell_type": "code",
      "source": [
        "# Creando resumen\n",
        "\n",
        "df_res = pddf.groupby('MES_RCC').aggregate({'ID': 'count',\n",
        "                                            'MONTO': 'sum',\n",
        "                                            'default60_12' : np.mean}).reset_index()\n",
        "df_res.head()"
      ],
      "metadata": {
        "id": "krMMQuGv_ftv"
      },
      "execution_count": null,
      "outputs": []
    },
    {
      "cell_type": "code",
      "source": [
        "# Exportando resultados\n",
        "\n",
        "df_res.to_csv('res_ventana_mensual.csv')"
      ],
      "metadata": {
        "id": "otndnfghEsR6"
      },
      "execution_count": null,
      "outputs": []
    },
    {
      "cell_type": "code",
      "source": [
        "# Profundidad histórica para analizar default\n",
        "\n",
        "pddf_analisis = pddf.loc[pddf.MES_RCC <= 202105].copy()"
      ],
      "metadata": {
        "id": "GIIm3xZAFPZO"
      },
      "execution_count": 72,
      "outputs": []
    },
    {
      "cell_type": "code",
      "source": [
        "# Analizando variable numérica\n",
        "sns.displot(pddf_analisis, x=\"MONTO\", kind=\"kde\", fill=True)\n"
      ],
      "metadata": {
        "id": "tVSjwh8SEzSP"
      },
      "execution_count": null,
      "outputs": []
    },
    {
      "cell_type": "markdown",
      "source": [
        "## Tratamiento de outliers"
      ],
      "metadata": {
        "id": "Zvpl5O_xZUz8"
      }
    },
    {
      "cell_type": "markdown",
      "source": [
        "<img src=\"https://editor.analyticsvidhya.com/uploads/12311IQR.png\" alt=\"HTML5 Icon\" width= \"500px\"  height = \"300px\">\n",
        "<div style=\"text-align: center\">Detección de outliers por Z-score </div>"
      ],
      "metadata": {
        "id": "mvOZ_RHRedNa"
      }
    },
    {
      "cell_type": "code",
      "source": [
        "\n",
        "# Tratamiento de outliers\n",
        "# Z-score\n",
        "\n",
        "Q3  = pddf_analisis.MONTO.quantile(0.75)\n",
        "med = pddf_analisis.MONTO.quantile(0.5)\n",
        "Q1  = pddf_analisis.MONTO.quantile(0.25)\n",
        "\n",
        "RIC = Q3 - Q1\n",
        "maxim = med + 1.5*RIC\n",
        "minim = med - 1.5*RIC\n",
        "\n",
        "def truncate(x):\n",
        "    if x > maxim:\n",
        "       return maxim\n",
        "    elif x < minim:\n",
        "       return minim\n",
        "    else:\n",
        "       return x\n",
        "\n",
        "pddf_analisis['MONTO_t'] = pddf_analisis['MONTO'].apply(truncate)\n",
        "sns.displot(pddf_analisis, x=\"MONTO_t\", kind=\"kde\", fill=True)\n",
        "\n"
      ],
      "metadata": {
        "id": "fA6z9db5FiKR"
      },
      "execution_count": null,
      "outputs": []
    },
    {
      "cell_type": "code",
      "source": [
        "\n",
        "# Tratamiento de outliers\n",
        "# Percentiles\n",
        "\n",
        "P99 = pddf_analisis.MONTO.quantile(0.99)\n",
        "P1 = pddf_analisis.MONTO.quantile(0.01)\n",
        "\n",
        "maxim = P99\n",
        "minim = P1\n",
        "\n",
        "def truncate(x):\n",
        "    if x > maxim:\n",
        "       return maxim\n",
        "    elif x < minim:\n",
        "       return minim\n",
        "    else:\n",
        "       return x\n",
        "\n",
        "pddf_analisis['MONTO_t'] = pddf_analisis['MONTO'].apply(truncate)\n",
        "sns.displot(pddf_analisis, x=\"MONTO_t\", kind=\"kde\", fill=True)\n",
        "\n",
        "\n"
      ],
      "metadata": {
        "id": "nAo8lpNaH9uy"
      },
      "execution_count": null,
      "outputs": []
    },
    {
      "cell_type": "code",
      "source": [
        "\n",
        "sns.displot(pddf_analisis, x=\"MONTO_t\", hue='default60_12', kind=\"kde\", fill=True)"
      ],
      "metadata": {
        "id": "ay9UPsb8LGzj"
      },
      "execution_count": null,
      "outputs": []
    },
    {
      "cell_type": "code",
      "source": [
        "\n",
        "# Tratamiento de outliers\n",
        "# Z-score\n",
        "\n",
        "Q3  = pddf_analisis.MAXATRASO_12.quantile(0.75)\n",
        "med = pddf_analisis.MAXATRASO_12.quantile(0.5)\n",
        "Q1  = pddf_analisis.MAXATRASO_12.quantile(0.25)\n",
        "\n",
        "RIC = Q3 - Q1\n",
        "maxim = med + 1.5*RIC\n",
        "minim = med - 1.5*RIC\n",
        "\n",
        "def truncate(x):\n",
        "    if x > maxim:\n",
        "       return maxim\n",
        "    elif x < minim:\n",
        "       return minim\n",
        "    else:\n",
        "       return x\n",
        "\n",
        "pddf_analisis['MAXATRASO_12_t'] = pddf_analisis['MAXATRASO_12'].apply(truncate)\n",
        "sns.displot(pddf_analisis, x=\"MAXATRASO_12_t\", kind=\"kde\", fill=True)"
      ],
      "metadata": {
        "id": "zkQ7rxRkLl5d"
      },
      "execution_count": null,
      "outputs": []
    },
    {
      "cell_type": "code",
      "source": [
        "sns.displot(pddf_analisis, x=\"MAXATRASO_12_t\", hue='default60_12', kind=\"kde\", fill=True)\n"
      ],
      "metadata": {
        "id": "DMIpb7CMMkQl"
      },
      "execution_count": null,
      "outputs": []
    },
    {
      "cell_type": "markdown",
      "source": [
        "## Análisis de valor de la variable"
      ],
      "metadata": {
        "id": "ys0ykvN6ZbLk"
      }
    },
    {
      "cell_type": "code",
      "source": [
        "# Discretizar variable \n",
        "\n",
        "from sklearn.preprocessing import KBinsDiscretizer\n",
        "\n",
        "pddf_analisis['MONTO_cat'] = KBinsDiscretizer(n_bins = 6, \n",
        "                                   encode = 'ordinal',\n",
        "                                   strategy = \"uniform\").fit_transform(pddf_analisis[['MONTO_t']])"
      ],
      "metadata": {
        "id": "jSjWJ_uyNS6q"
      },
      "execution_count": 139,
      "outputs": []
    },
    {
      "cell_type": "code",
      "source": [
        "aggregations = {'ID': 'count','default60_12':'mean'}\n",
        "res = pddf_analisis.groupby('MONTO_cat').agg(aggregations).reset_index()\n",
        "res"
      ],
      "metadata": {
        "id": "SSrk03n2NfmA"
      },
      "execution_count": null,
      "outputs": []
    },
    {
      "cell_type": "code",
      "source": [
        "sns.lineplot(data=res.reset_index(), x=\"MONTO_cat\", y=\"default60_12\", markers=True, dashes=False)\n"
      ],
      "metadata": {
        "id": "HEzzfEuHa6VA"
      },
      "execution_count": null,
      "outputs": []
    },
    {
      "cell_type": "code",
      "source": [
        "# Gini por variable\n",
        "\n",
        "from sklearn.metrics import *\n"
      ],
      "metadata": {
        "id": "Wg5rWe0sZkVy"
      },
      "execution_count": 142,
      "outputs": []
    },
    {
      "cell_type": "code",
      "source": [
        "# AUC\n",
        "roc_auc_score(pddf_analisis.default60_12, pddf_analisis.MONTO)"
      ],
      "metadata": {
        "colab": {
          "base_uri": "https://localhost:8080/"
        },
        "id": "0wEXT9yiZoVR",
        "outputId": "0ea85275-71a4-4c2e-821b-701857b407b9"
      },
      "execution_count": 143,
      "outputs": [
        {
          "output_type": "execute_result",
          "data": {
            "text/plain": [
              "0.368706069300309"
            ]
          },
          "metadata": {},
          "execution_count": 143
        }
      ]
    },
    {
      "cell_type": "code",
      "source": [
        "# GINI\n",
        "roc_auc_score(pddf_analisis.default60_12, pddf_analisis.MONTO)*2-1"
      ],
      "metadata": {
        "colab": {
          "base_uri": "https://localhost:8080/"
        },
        "id": "3qkc1-BXaHPa",
        "outputId": "7ff0d552-28e2-458a-8993-53c0662e2ae0"
      },
      "execution_count": 144,
      "outputs": [
        {
          "output_type": "execute_result",
          "data": {
            "text/plain": [
              "-0.26258786139938195"
            ]
          },
          "metadata": {},
          "execution_count": 144
        }
      ]
    },
    {
      "cell_type": "code",
      "source": [
        "def plot_roc_curve(y_true, y_score, filepath=None, line_width=2, width=12,\n",
        "                   height=10, title=None, colors=(\"#FF0000\", \"#000000\")):\n",
        "    \"\"\"\n",
        "    Saves a ROC curve in a file or shows it on screen.\n",
        "    :param y_true: actual values of the response (list|np.array)\n",
        "    :param y_score: predicted scores (list|np.array)\n",
        "    :param filepath: if given, the ROC curve is saved in the desired filepath. It should point to a png file in an\n",
        "    existing directory. If not specified, the curve is only shown (str)\n",
        "    :param line_width: number indicating line width (float)\n",
        "    :param width: number indicating the width of saved plot (float)\n",
        "    :param height: number indicating the height of saved plot (float)\n",
        "    :param title: if given, title to add to the top side of the plot (str)\n",
        "    :param colors: color specification for ROC curve and diagonal respectively (tuple of str)\n",
        "    :return: None\n",
        "    \"\"\"\n",
        "    fpr, tpr, _ = roc_curve(y_true=y_true, y_score=y_score)\n",
        "    gini = auc(fpr, tpr) * 2 - 1\n",
        "\n",
        "    sns.set_style(\"whitegrid\")\n",
        "    fig = plt.figure(figsize=(width, height))\n",
        "    major_ticks = np.arange(0, 1.1, 0.1)\n",
        "    minor_ticks = np.arange(0.05, 1, 0.1)\n",
        "    ax = fig.add_subplot(1, 1, 1)\n",
        "    ax.set_xticks(major_ticks)\n",
        "    ax.set_yticks(major_ticks)\n",
        "    ax.set_xticks(minor_ticks, minor=True)\n",
        "    ax.set_yticks(minor_ticks, minor=True)\n",
        "    ax.grid(which=\"both\", axis=\"both\")\n",
        "    ax.grid(which=\"minor\", alpha=0.2)\n",
        "    ax.grid(which=\"major\", alpha=0.5)\n",
        "    ax.tick_params(which=\"major\", direction=\"out\", length=5)\n",
        "    plt.plot(fpr, tpr, color=colors[0], lw=line_width,\n",
        "                   label=\"ROC curve (gini = {:.2f})\".format(gini))\n",
        "    plt.plot([0, 1], [0, 1], color=colors[1], lw=line_width, linestyle='--')\n",
        "    plt.xlim([-0.001, 1.001])\n",
        "    plt.ylim([-0.001, 1.001])\n",
        "    plt.xlabel(\"False positive rate\", fontsize=15)\n",
        "    plt.ylabel(\"True positive rate\", fontsize=15)\n",
        "    if title:\n",
        "        plt.title(title, fontsize=30, loc=\"left\")\n",
        "    plt.legend(loc=\"lower right\", frameon=True, fontsize=\"large\",\n",
        "                     fancybox=True)\n",
        "    plt.tight_layout()\n",
        "    if filepath:\n",
        "        plt.savefig(filepath, dpi=200)\n",
        "        plt.close()\n",
        "    else:\n",
        "        plt.show()"
      ],
      "metadata": {
        "id": "p-1e835VaXI_"
      },
      "execution_count": 145,
      "outputs": []
    },
    {
      "cell_type": "code",
      "source": [
        "plot_roc_curve(pddf_analisis.default60_12, pddf_analisis.MONTO, width=6, height=5)"
      ],
      "metadata": {
        "id": "FwgliHVcaaO-"
      },
      "execution_count": null,
      "outputs": []
    },
    {
      "cell_type": "code",
      "source": [
        "plot_roc_curve(pddf_analisis.default60_12, pddf_analisis.MAXATRASO_12, width=6, height=5)"
      ],
      "metadata": {
        "id": "QJLk8OBeaiZb"
      },
      "execution_count": null,
      "outputs": []
    },
    {
      "cell_type": "code",
      "source": [
        "\n",
        "gini_res = pddf_analisis.groupby(\"MES_RCC\").apply(lambda df: (roc_auc_score(df['default60_12'], \n",
        "                                                                            df['MONTO'])-0.5) * 200).reset_index(name='gini')\n",
        "\n",
        "gini_res"
      ],
      "metadata": {
        "id": "zdHdgCiPavXz"
      },
      "execution_count": null,
      "outputs": []
    },
    {
      "cell_type": "code",
      "source": [
        "gini_res = pddf_analisis.groupby(\"MES_RCC\").apply(lambda df: (roc_auc_score(df['default60_12'], \n",
        "                                                                            df['MAXATRASO_12'])-0.5) * 200).reset_index(name='gini')\n",
        "\n",
        "gini_res"
      ],
      "metadata": {
        "id": "B6xVUwTBi24_"
      },
      "execution_count": null,
      "outputs": []
    },
    {
      "cell_type": "markdown",
      "source": [
        "## Muestreo de data"
      ],
      "metadata": {
        "id": "HKGfDvCmcHk4"
      }
    },
    {
      "cell_type": "code",
      "source": [
        "pddf_analisis"
      ],
      "metadata": {
        "id": "VSMe08vmcRAK"
      },
      "execution_count": null,
      "outputs": []
    },
    {
      "cell_type": "code",
      "source": [
        "#Variables para el modelo\n",
        "\n",
        "features = ['MES_RCC','ID', 'MONTO','MAXATRASO_12']\n",
        "\n",
        "X = pddf_analisis[features]\n",
        "y = pddf_analisis.default60_12"
      ],
      "metadata": {
        "id": "bemt1o_dcNAp"
      },
      "execution_count": 157,
      "outputs": []
    },
    {
      "cell_type": "code",
      "source": [
        "# Muestreo de data\n",
        "from sklearn.model_selection import train_test_split\n",
        "\n",
        "X_train, X_test, y_train, y_test = train_test_split(X, y,\n",
        "                                                    test_size = 0.3,\n",
        "                                                    random_state = 123)"
      ],
      "metadata": {
        "id": "17WmT-FEcHSx"
      },
      "execution_count": 158,
      "outputs": []
    },
    {
      "cell_type": "code",
      "source": [
        "train = X_train\n",
        "train['default60_12'] = y_train\n",
        "\n",
        "test = X_test\n",
        "test['default60_12'] = y_test"
      ],
      "metadata": {
        "id": "9laa1U-Fct4y"
      },
      "execution_count": 159,
      "outputs": []
    },
    {
      "cell_type": "code",
      "source": [
        "\n",
        "df_res = train.groupby('MES_RCC').aggregate({'ID': 'count',\n",
        "                                            'MONTO': 'sum',\n",
        "                                            'default60_12' : np.mean}).reset_index()\n",
        "df_res.head()"
      ],
      "metadata": {
        "id": "gl7KiTigceHq"
      },
      "execution_count": null,
      "outputs": []
    },
    {
      "cell_type": "code",
      "source": [
        "\n",
        "df_res = test.groupby('MES_RCC').aggregate({'ID': 'count',\n",
        "                                            'MONTO': 'sum',\n",
        "                                            'default60_12' : np.mean}).reset_index()\n",
        "df_res.head()"
      ],
      "metadata": {
        "id": "1cs_eFVbdOHD"
      },
      "execution_count": null,
      "outputs": []
    },
    {
      "cell_type": "code",
      "source": [
        "# Muestreo Estratificado de data\n",
        "from sklearn.model_selection import train_test_split\n",
        "\n",
        "X_train, X_test, y_train, y_test = train_test_split(X, y,\n",
        "                                                    stratify = pddf_analisis[['MES_RCC', 'default60_12']],\n",
        "                                                    test_size = 0.3,\n",
        "                                                    random_state = 123)"
      ],
      "metadata": {
        "id": "yVZdvD0JdbJs"
      },
      "execution_count": 166,
      "outputs": []
    },
    {
      "cell_type": "code",
      "source": [
        "train = X_train\n",
        "train['default60_12'] = y_train\n",
        "\n",
        "test = X_test\n",
        "test['default60_12'] = y_test"
      ],
      "metadata": {
        "id": "p3LpZa9wdoU9"
      },
      "execution_count": 167,
      "outputs": []
    },
    {
      "cell_type": "code",
      "source": [
        "df_res = train.groupby('MES_RCC').aggregate({'ID': 'count',\n",
        "                                            'MONTO': 'sum',\n",
        "                                            'default60_12' : np.mean}).reset_index()\n",
        "df_res.head()"
      ],
      "metadata": {
        "id": "ml180TQrdry2"
      },
      "execution_count": null,
      "outputs": []
    },
    {
      "cell_type": "code",
      "source": [
        "\n",
        "df_res = test.groupby('MES_RCC').aggregate({'ID': 'count',\n",
        "                                            'MONTO': 'sum',\n",
        "                                            'default60_12' : np.mean}).reset_index()\n",
        "df_res.head()"
      ],
      "metadata": {
        "id": "wSf0MMTxdtJB"
      },
      "execution_count": null,
      "outputs": []
    },
    {
      "cell_type": "markdown",
      "source": [
        "---\n",
        "\n",
        "# Gracias por completar este laboratorio!\n",
        "\n",
        "---\n"
      ],
      "metadata": {
        "id": "8QeCyDJ_foai"
      }
    }
  ]
}