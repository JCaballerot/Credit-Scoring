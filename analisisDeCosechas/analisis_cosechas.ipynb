{
  "nbformat": 4,
  "nbformat_minor": 0,
  "metadata": {
    "colab": {
      "provenance": [],
      "authorship_tag": "ABX9TyNfaTT5W0xNSOPff7cTGoIa",
      "include_colab_link": true
    },
    "kernelspec": {
      "name": "python3",
      "display_name": "Python 3"
    },
    "language_info": {
      "name": "python"
    }
  },
  "cells": [
    {
      "cell_type": "markdown",
      "metadata": {
        "id": "view-in-github",
        "colab_type": "text"
      },
      "source": [
        "<a href=\"https://colab.research.google.com/github/JCaballerot/Credit-Scoring/blob/main/analisisDeCosechas/analisis_cosechas.ipynb\" target=\"_parent\"><img src=\"https://colab.research.google.com/assets/colab-badge.svg\" alt=\"Open In Colab\"/></a>"
      ]
    },
    {
      "cell_type": "markdown",
      "source": [
        "\n",
        "<h1 align=center><font size = 5>\n",
        "Análisis de cosechas</font></h1>\n",
        "\n",
        "---"
      ],
      "metadata": {
        "id": "_blHbvHbY4N3"
      }
    },
    {
      "cell_type": "code",
      "execution_count": 1,
      "metadata": {
        "id": "5BIqgsBT-VmF"
      },
      "outputs": [],
      "source": [
        "# Importando liberías\n",
        "\n",
        "import pandas as pd\n",
        "import numpy as np\n",
        "import seaborn as sns"
      ]
    },
    {
      "cell_type": "code",
      "source": [
        "# Leyendo data\n",
        "\n",
        "pddf = pd.read_csv('cos_sample_hist.csv')\n",
        "pddf.head()"
      ],
      "metadata": {
        "id": "ME8yu_tg-ze-",
        "outputId": "c3f67410-ef85-4a74-d0d9-3e05e133cef5",
        "colab": {
          "base_uri": "https://localhost:8080/",
          "height": 206
        }
      },
      "execution_count": 3,
      "outputs": [
        {
          "output_type": "execute_result",
          "data": {
            "text/plain": [
              "   MES_RCC        ID     MES     MONTO  MAXATRASO_12  default60_12\n",
              "0   202001  18606457  202001   9907.61           0.0           0.0\n",
              "1   202107  17137033  202107   6922.69           0.0           0.0\n",
              "2   202201  13322069  202201   4719.99           0.0           0.0\n",
              "3   202103  13315375  202103  12251.70           0.0           0.0\n",
              "4   202103  13650730  202103   3841.13           0.0           0.0"
            ],
            "text/html": [
              "\n",
              "  <div id=\"df-0a8d3e40-16ca-44d7-9308-c62bc96015bb\">\n",
              "    <div class=\"colab-df-container\">\n",
              "      <div>\n",
              "<style scoped>\n",
              "    .dataframe tbody tr th:only-of-type {\n",
              "        vertical-align: middle;\n",
              "    }\n",
              "\n",
              "    .dataframe tbody tr th {\n",
              "        vertical-align: top;\n",
              "    }\n",
              "\n",
              "    .dataframe thead th {\n",
              "        text-align: right;\n",
              "    }\n",
              "</style>\n",
              "<table border=\"1\" class=\"dataframe\">\n",
              "  <thead>\n",
              "    <tr style=\"text-align: right;\">\n",
              "      <th></th>\n",
              "      <th>MES_RCC</th>\n",
              "      <th>ID</th>\n",
              "      <th>MES</th>\n",
              "      <th>MONTO</th>\n",
              "      <th>MAXATRASO_12</th>\n",
              "      <th>default60_12</th>\n",
              "    </tr>\n",
              "  </thead>\n",
              "  <tbody>\n",
              "    <tr>\n",
              "      <th>0</th>\n",
              "      <td>202001</td>\n",
              "      <td>18606457</td>\n",
              "      <td>202001</td>\n",
              "      <td>9907.61</td>\n",
              "      <td>0.0</td>\n",
              "      <td>0.0</td>\n",
              "    </tr>\n",
              "    <tr>\n",
              "      <th>1</th>\n",
              "      <td>202107</td>\n",
              "      <td>17137033</td>\n",
              "      <td>202107</td>\n",
              "      <td>6922.69</td>\n",
              "      <td>0.0</td>\n",
              "      <td>0.0</td>\n",
              "    </tr>\n",
              "    <tr>\n",
              "      <th>2</th>\n",
              "      <td>202201</td>\n",
              "      <td>13322069</td>\n",
              "      <td>202201</td>\n",
              "      <td>4719.99</td>\n",
              "      <td>0.0</td>\n",
              "      <td>0.0</td>\n",
              "    </tr>\n",
              "    <tr>\n",
              "      <th>3</th>\n",
              "      <td>202103</td>\n",
              "      <td>13315375</td>\n",
              "      <td>202103</td>\n",
              "      <td>12251.70</td>\n",
              "      <td>0.0</td>\n",
              "      <td>0.0</td>\n",
              "    </tr>\n",
              "    <tr>\n",
              "      <th>4</th>\n",
              "      <td>202103</td>\n",
              "      <td>13650730</td>\n",
              "      <td>202103</td>\n",
              "      <td>3841.13</td>\n",
              "      <td>0.0</td>\n",
              "      <td>0.0</td>\n",
              "    </tr>\n",
              "  </tbody>\n",
              "</table>\n",
              "</div>\n",
              "      <button class=\"colab-df-convert\" onclick=\"convertToInteractive('df-0a8d3e40-16ca-44d7-9308-c62bc96015bb')\"\n",
              "              title=\"Convert this dataframe to an interactive table.\"\n",
              "              style=\"display:none;\">\n",
              "        \n",
              "  <svg xmlns=\"http://www.w3.org/2000/svg\" height=\"24px\"viewBox=\"0 0 24 24\"\n",
              "       width=\"24px\">\n",
              "    <path d=\"M0 0h24v24H0V0z\" fill=\"none\"/>\n",
              "    <path d=\"M18.56 5.44l.94 2.06.94-2.06 2.06-.94-2.06-.94-.94-2.06-.94 2.06-2.06.94zm-11 1L8.5 8.5l.94-2.06 2.06-.94-2.06-.94L8.5 2.5l-.94 2.06-2.06.94zm10 10l.94 2.06.94-2.06 2.06-.94-2.06-.94-.94-2.06-.94 2.06-2.06.94z\"/><path d=\"M17.41 7.96l-1.37-1.37c-.4-.4-.92-.59-1.43-.59-.52 0-1.04.2-1.43.59L10.3 9.45l-7.72 7.72c-.78.78-.78 2.05 0 2.83L4 21.41c.39.39.9.59 1.41.59.51 0 1.02-.2 1.41-.59l7.78-7.78 2.81-2.81c.8-.78.8-2.07 0-2.86zM5.41 20L4 18.59l7.72-7.72 1.47 1.35L5.41 20z\"/>\n",
              "  </svg>\n",
              "      </button>\n",
              "      \n",
              "  <style>\n",
              "    .colab-df-container {\n",
              "      display:flex;\n",
              "      flex-wrap:wrap;\n",
              "      gap: 12px;\n",
              "    }\n",
              "\n",
              "    .colab-df-convert {\n",
              "      background-color: #E8F0FE;\n",
              "      border: none;\n",
              "      border-radius: 50%;\n",
              "      cursor: pointer;\n",
              "      display: none;\n",
              "      fill: #1967D2;\n",
              "      height: 32px;\n",
              "      padding: 0 0 0 0;\n",
              "      width: 32px;\n",
              "    }\n",
              "\n",
              "    .colab-df-convert:hover {\n",
              "      background-color: #E2EBFA;\n",
              "      box-shadow: 0px 1px 2px rgba(60, 64, 67, 0.3), 0px 1px 3px 1px rgba(60, 64, 67, 0.15);\n",
              "      fill: #174EA6;\n",
              "    }\n",
              "\n",
              "    [theme=dark] .colab-df-convert {\n",
              "      background-color: #3B4455;\n",
              "      fill: #D2E3FC;\n",
              "    }\n",
              "\n",
              "    [theme=dark] .colab-df-convert:hover {\n",
              "      background-color: #434B5C;\n",
              "      box-shadow: 0px 1px 3px 1px rgba(0, 0, 0, 0.15);\n",
              "      filter: drop-shadow(0px 1px 2px rgba(0, 0, 0, 0.3));\n",
              "      fill: #FFFFFF;\n",
              "    }\n",
              "  </style>\n",
              "\n",
              "      <script>\n",
              "        const buttonEl =\n",
              "          document.querySelector('#df-0a8d3e40-16ca-44d7-9308-c62bc96015bb button.colab-df-convert');\n",
              "        buttonEl.style.display =\n",
              "          google.colab.kernel.accessAllowed ? 'block' : 'none';\n",
              "\n",
              "        async function convertToInteractive(key) {\n",
              "          const element = document.querySelector('#df-0a8d3e40-16ca-44d7-9308-c62bc96015bb');\n",
              "          const dataTable =\n",
              "            await google.colab.kernel.invokeFunction('convertToInteractive',\n",
              "                                                     [key], {});\n",
              "          if (!dataTable) return;\n",
              "\n",
              "          const docLinkHtml = 'Like what you see? Visit the ' +\n",
              "            '<a target=\"_blank\" href=https://colab.research.google.com/notebooks/data_table.ipynb>data table notebook</a>'\n",
              "            + ' to learn more about interactive tables.';\n",
              "          element.innerHTML = '';\n",
              "          dataTable['output_type'] = 'display_data';\n",
              "          await google.colab.output.renderOutput(dataTable, element);\n",
              "          const docLink = document.createElement('div');\n",
              "          docLink.innerHTML = docLinkHtml;\n",
              "          element.appendChild(docLink);\n",
              "        }\n",
              "      </script>\n",
              "    </div>\n",
              "  </div>\n",
              "  "
            ]
          },
          "metadata": {},
          "execution_count": 3
        }
      ]
    },
    {
      "cell_type": "code",
      "source": [
        "# Creando resumen\n",
        "\n",
        "df_res = pddf.groupby('MES_RCC').aggregate({'ID': 'count',\n",
        "                                            'MONTO': 'sum',\n",
        "                                            'default60_12' : np.mean}).reset_index()\n",
        "df_res.head()"
      ],
      "metadata": {
        "id": "krMMQuGv_ftv"
      },
      "execution_count": null,
      "outputs": []
    },
    {
      "cell_type": "code",
      "source": [
        "# Exportando resultados\n",
        "\n",
        "df_res.to_csv('res_ventana_mensual.csv')"
      ],
      "metadata": {
        "id": "otndnfghEsR6"
      },
      "execution_count": null,
      "outputs": []
    },
    {
      "cell_type": "code",
      "source": [
        "# Profundidad histórica para analizar default\n",
        "\n",
        "pddf_analisis = pddf.loc[pddf.MES_RCC <= 202105].copy()"
      ],
      "metadata": {
        "id": "GIIm3xZAFPZO"
      },
      "execution_count": 6,
      "outputs": []
    },
    {
      "cell_type": "code",
      "source": [
        "# Analizando variable numérica\n",
        "sns.displot(pddf_analisis, x=\"MONTO\", kind=\"kde\", fill=True)\n"
      ],
      "metadata": {
        "id": "tVSjwh8SEzSP"
      },
      "execution_count": null,
      "outputs": []
    },
    {
      "cell_type": "markdown",
      "source": [
        "## Tratamiento de outliers"
      ],
      "metadata": {
        "id": "Zvpl5O_xZUz8"
      }
    },
    {
      "cell_type": "markdown",
      "source": [
        "<img src=\"https://editor.analyticsvidhya.com/uploads/12311IQR.png\" alt=\"HTML5 Icon\" width= \"500px\"  height = \"300px\">\n",
        "<div style=\"text-align: center\">Detección de outliers por Z-score </div>"
      ],
      "metadata": {
        "id": "mvOZ_RHRedNa"
      }
    },
    {
      "cell_type": "code",
      "source": [
        "\n",
        "# Tratamiento de outliers\n",
        "# Z-score\n",
        "\n",
        "Q3  = pddf_analisis.MONTO.quantile(0.75)\n",
        "med = pddf_analisis.MONTO.quantile(0.5)\n",
        "Q1  = pddf_analisis.MONTO.quantile(0.25)\n",
        "\n",
        "RIC = Q3 - Q1\n",
        "maxim = med + 1.5*RIC\n",
        "minim = med - 1.5*RIC\n",
        "\n",
        "def truncate(x):\n",
        "    if x > maxim:\n",
        "       return maxim\n",
        "    elif x < minim:\n",
        "       return minim\n",
        "    else:\n",
        "       return x\n",
        "\n",
        "pddf_analisis['MONTO_t'] = pddf_analisis['MONTO'].apply(truncate)\n",
        "sns.displot(pddf_analisis, x=\"MONTO_t\", kind=\"kde\", fill=True)\n",
        "\n"
      ],
      "metadata": {
        "id": "fA6z9db5FiKR"
      },
      "execution_count": null,
      "outputs": []
    },
    {
      "cell_type": "code",
      "source": [
        "\n",
        "# Tratamiento de outliers\n",
        "# Percentiles\n",
        "\n",
        "P99 = pddf_analisis.MONTO.quantile(0.99)\n",
        "P1 = pddf_analisis.MONTO.quantile(0.01)\n",
        "\n",
        "maxim = P99\n",
        "minim = P1\n",
        "\n",
        "def truncate(x):\n",
        "    if x > maxim:\n",
        "       return maxim\n",
        "    elif x < minim:\n",
        "       return minim\n",
        "    else:\n",
        "       return x\n",
        "\n",
        "pddf_analisis['MONTO_t'] = pddf_analisis['MONTO'].apply(truncate)\n",
        "sns.displot(pddf_analisis, x=\"MONTO_t\", kind=\"kde\", fill=True)\n",
        "\n",
        "\n"
      ],
      "metadata": {
        "id": "nAo8lpNaH9uy"
      },
      "execution_count": null,
      "outputs": []
    },
    {
      "cell_type": "code",
      "source": [
        "\n",
        "sns.displot(pddf_analisis, x=\"MONTO_t\", hue='default60_12', kind=\"kde\", fill=True)"
      ],
      "metadata": {
        "id": "ay9UPsb8LGzj"
      },
      "execution_count": null,
      "outputs": []
    },
    {
      "cell_type": "code",
      "source": [
        "\n",
        "# Tratamiento de outliers\n",
        "# Z-score\n",
        "\n",
        "Q3  = pddf_analisis.MAXATRASO_12.quantile(0.75)\n",
        "med = pddf_analisis.MAXATRASO_12.quantile(0.5)\n",
        "Q1  = pddf_analisis.MAXATRASO_12.quantile(0.25)\n",
        "\n",
        "RIC = Q3 - Q1\n",
        "maxim = med + 1.5*RIC\n",
        "minim = med - 1.5*RIC\n",
        "\n",
        "def truncate(x):\n",
        "    if x > maxim:\n",
        "       return maxim\n",
        "    elif x < minim:\n",
        "       return minim\n",
        "    else:\n",
        "       return x\n",
        "\n",
        "pddf_analisis['MAXATRASO_12_t'] = pddf_analisis['MAXATRASO_12'].apply(truncate)\n",
        "sns.displot(pddf_analisis, x=\"MAXATRASO_12_t\", kind=\"kde\", fill=True)"
      ],
      "metadata": {
        "id": "zkQ7rxRkLl5d"
      },
      "execution_count": null,
      "outputs": []
    },
    {
      "cell_type": "code",
      "source": [
        "sns.displot(pddf_analisis, x=\"MAXATRASO_12_t\", hue='default60_12', kind=\"kde\", fill=True)\n"
      ],
      "metadata": {
        "id": "DMIpb7CMMkQl"
      },
      "execution_count": null,
      "outputs": []
    },
    {
      "cell_type": "markdown",
      "source": [
        "## Análisis de valor de la variable"
      ],
      "metadata": {
        "id": "ys0ykvN6ZbLk"
      }
    },
    {
      "cell_type": "code",
      "source": [
        "# Discretizar variable \n",
        "\n",
        "from sklearn.preprocessing import KBinsDiscretizer\n",
        "\n",
        "pddf_analisis['MONTO_cat'] = KBinsDiscretizer(n_bins = 6, \n",
        "                                   encode = 'ordinal',\n",
        "                                   strategy = \"uniform\").fit_transform(pddf_analisis[['MONTO_t']])"
      ],
      "metadata": {
        "id": "jSjWJ_uyNS6q"
      },
      "execution_count": null,
      "outputs": []
    },
    {
      "cell_type": "code",
      "source": [
        "aggregations = {'ID': 'count','default60_12':'mean'}\n",
        "res = pddf_analisis.groupby('MONTO_cat').agg(aggregations).reset_index()\n",
        "res"
      ],
      "metadata": {
        "id": "SSrk03n2NfmA"
      },
      "execution_count": null,
      "outputs": []
    },
    {
      "cell_type": "code",
      "source": [
        "sns.lineplot(data=res.reset_index(), x=\"MONTO_cat\", y=\"default60_12\", markers=True, dashes=False)\n"
      ],
      "metadata": {
        "id": "HEzzfEuHa6VA"
      },
      "execution_count": null,
      "outputs": []
    },
    {
      "cell_type": "code",
      "source": [
        "# Gini por variable\n",
        "\n",
        "from sklearn.metrics import *\n"
      ],
      "metadata": {
        "id": "Wg5rWe0sZkVy"
      },
      "execution_count": 4,
      "outputs": []
    },
    {
      "cell_type": "code",
      "source": [
        "# AUC\n",
        "roc_auc_score(pddf_analisis.default60_12, pddf_analisis.MONTO)\n"
      ],
      "metadata": {
        "colab": {
          "base_uri": "https://localhost:8080/"
        },
        "id": "0wEXT9yiZoVR",
        "outputId": "a42c4bdc-c85d-4c5d-f55b-735aa95db401"
      },
      "execution_count": 7,
      "outputs": [
        {
          "output_type": "execute_result",
          "data": {
            "text/plain": [
              "0.368706069300309"
            ]
          },
          "metadata": {},
          "execution_count": 7
        }
      ]
    },
    {
      "cell_type": "code",
      "source": [
        "# GINI\n",
        "roc_auc_score(pddf_analisis.default60_12, pddf_analisis.MONTO)*2-1\n"
      ],
      "metadata": {
        "colab": {
          "base_uri": "https://localhost:8080/"
        },
        "id": "3qkc1-BXaHPa",
        "outputId": "181f5209-4812-42ee-dc7b-8b80141590ca"
      },
      "execution_count": 10,
      "outputs": [
        {
          "output_type": "execute_result",
          "data": {
            "text/plain": [
              "-0.26258786139938195"
            ]
          },
          "metadata": {},
          "execution_count": 10
        }
      ]
    },
    {
      "cell_type": "code",
      "source": [
        "def plot_roc_curve(y_true, y_score, filepath=None, line_width=2, width=12,\n",
        "                   height=10, title=None, colors=(\"#FF0000\", \"#000000\")):\n",
        "    \"\"\"\n",
        "    Saves a ROC curve in a file or shows it on screen.\n",
        "    :param y_true: actual values of the response (list|np.array)\n",
        "    :param y_score: predicted scores (list|np.array)\n",
        "    :param filepath: if given, the ROC curve is saved in the desired filepath. It should point to a png file in an\n",
        "    existing directory. If not specified, the curve is only shown (str)\n",
        "    :param line_width: number indicating line width (float)\n",
        "    :param width: number indicating the width of saved plot (float)\n",
        "    :param height: number indicating the height of saved plot (float)\n",
        "    :param title: if given, title to add to the top side of the plot (str)\n",
        "    :param colors: color specification for ROC curve and diagonal respectively (tuple of str)\n",
        "    :return: None\n",
        "    \"\"\"\n",
        "    fpr, tpr, _ = roc_curve(y_true=y_true, y_score=y_score)\n",
        "    gini = auc(fpr, tpr) * 2 - 1\n",
        "\n",
        "    sns.set_style(\"whitegrid\")\n",
        "    fig = plt.figure(figsize=(width, height))\n",
        "    major_ticks = np.arange(0, 1.1, 0.1)\n",
        "    minor_ticks = np.arange(0.05, 1, 0.1)\n",
        "    ax = fig.add_subplot(1, 1, 1)\n",
        "    ax.set_xticks(major_ticks)\n",
        "    ax.set_yticks(major_ticks)\n",
        "    ax.set_xticks(minor_ticks, minor=True)\n",
        "    ax.set_yticks(minor_ticks, minor=True)\n",
        "    ax.grid(which=\"both\", axis=\"both\")\n",
        "    ax.grid(which=\"minor\", alpha=0.2)\n",
        "    ax.grid(which=\"major\", alpha=0.5)\n",
        "    ax.tick_params(which=\"major\", direction=\"out\", length=5)\n",
        "    plt.plot(fpr, tpr, color=colors[0], lw=line_width,\n",
        "                   label=\"ROC curve (gini = {:.2f})\".format(gini))\n",
        "    plt.plot([0, 1], [0, 1], color=colors[1], lw=line_width, linestyle='--')\n",
        "    plt.xlim([-0.001, 1.001])\n",
        "    plt.ylim([-0.001, 1.001])\n",
        "    plt.xlabel(\"False positive rate\", fontsize=15)\n",
        "    plt.ylabel(\"True positive rate\", fontsize=15)\n",
        "    if title:\n",
        "        plt.title(title, fontsize=30, loc=\"left\")\n",
        "    plt.legend(loc=\"lower right\", frameon=True, fontsize=\"large\",\n",
        "                     fancybox=True)\n",
        "    plt.tight_layout()\n",
        "    if filepath:\n",
        "        plt.savefig(filepath, dpi=200)\n",
        "        plt.close()\n",
        "    else:\n",
        "        plt.show()"
      ],
      "metadata": {
        "id": "p-1e835VaXI_"
      },
      "execution_count": 11,
      "outputs": []
    },
    {
      "cell_type": "code",
      "source": [
        "import matplotlib.pyplot as plt\n",
        "plot_roc_curve(pddf_analisis.default60_12, pddf_analisis.MONTO, width=6, height=5)"
      ],
      "metadata": {
        "id": "FwgliHVcaaO-",
        "outputId": "891dbac2-7121-45b8-8166-5a7035163893",
        "colab": {
          "base_uri": "https://localhost:8080/",
          "height": 369
        }
      },
      "execution_count": 13,
      "outputs": [
        {
          "output_type": "display_data",
          "data": {
            "text/plain": [
              "<Figure size 432x360 with 1 Axes>"
            ],
            "image/png": "[encoded data removed]"
          },
          "metadata": {}
        }
      ]
    },
    {
      "cell_type": "code",
      "source": [
        "plot_roc_curve(pddf_analisis.default60_12, pddf_analisis.MAXATRASO_12, width=6, height=5)"
      ],
      "metadata": {
        "id": "QJLk8OBeaiZb",
        "outputId": "1716ee22-8c32-464e-9dd7-4d34e1d271d4",
        "colab": {
          "base_uri": "https://localhost:8080/",
          "height": 369
        }
      },
      "execution_count": 14,
      "outputs": [
        {
          "output_type": "display_data",
          "data": {
            "text/plain": [
              "<Figure size 432x360 with 1 Axes>"
            ],
            "image/png": "[encoded data removed]"
          },
          "metadata": {}
        }
      ]
    },
    {
      "cell_type": "code",
      "source": [
        "\n",
        "gini_res = pddf_analisis.groupby(\"MES_RCC\").apply(lambda df: (roc_auc_score(df['default60_12'], \n",
        "                                                                            df['MONTO'])-0.5) * 200).reset_index(name='gini')\n",
        "\n",
        "gini_res"
      ],
      "metadata": {
        "id": "zdHdgCiPavXz"
      },
      "execution_count": null,
      "outputs": []
    },
    {
      "cell_type": "code",
      "source": [
        "\n",
        "sns.regplot(x = gini_res.index, y = 'gini', data = gini_res)\n"
      ],
      "metadata": {
        "id": "l03zInWQIYaI",
        "outputId": "ed7e6a0c-0789-42ce-ca27-fab7c2f3b499",
        "colab": {
          "base_uri": "https://localhost:8080/",
          "height": 282
        }
      },
      "execution_count": 24,
      "outputs": [
        {
          "output_type": "execute_result",
          "data": {
            "text/plain": [
              "<matplotlib.axes._subplots.AxesSubplot at 0x7f85a4affa90>"
            ]
          },
          "metadata": {},
          "execution_count": 24
        },
        {
          "output_type": "display_data",
          "data": {
            "text/plain": [
              "<Figure size 432x288 with 1 Axes>"
            ],
            "image/png": "[encoded data removed]"
          },
          "metadata": {}
        }
      ]
    },
    {
      "cell_type": "code",
      "source": [
        "gini_res = pddf_analisis.groupby(\"MES_RCC\").apply(lambda df: (roc_auc_score(df['default60_12'], \n",
        "                                                                            df['MAXATRASO_12'])-0.5) * 200).reset_index(name='gini')\n",
        "\n",
        "sns.regplot(x = gini_res.index, y = 'gini', data = gini_res)\n"
      ],
      "metadata": {
        "id": "B6xVUwTBi24_",
        "outputId": "e5973412-dceb-44be-b25f-49fbf96fc029",
        "colab": {
          "base_uri": "https://localhost:8080/",
          "height": 282
        }
      },
      "execution_count": 26,
      "outputs": [
        {
          "output_type": "execute_result",
          "data": {
            "text/plain": [
              "<matplotlib.axes._subplots.AxesSubplot at 0x7f85a4aeb1d0>"
            ]
          },
          "metadata": {},
          "execution_count": 26
        },
        {
          "output_type": "display_data",
          "data": {
            "text/plain": [
              "<Figure size 432x288 with 1 Axes>"
            ],
            "image/png": "[encoded data removed]"
          },
          "metadata": {}
        }
      ]
    },
    {
      "cell_type": "markdown",
      "source": [
        "## Muestreo de data"
      ],
      "metadata": {
        "id": "HKGfDvCmcHk4"
      }
    },
    {
      "cell_type": "code",
      "source": [
        "pddf_analisis"
      ],
      "metadata": {
        "id": "VSMe08vmcRAK"
      },
      "execution_count": null,
      "outputs": []
    },
    {
      "cell_type": "code",
      "source": [
        "#Variables para el modelo\n",
        "\n",
        "features = ['MES_RCC','ID', 'MONTO','MAXATRASO_12']\n",
        "\n",
        "X = pddf_analisis[features]\n",
        "y = pddf_analisis.default60_12"
      ],
      "metadata": {
        "id": "bemt1o_dcNAp"
      },
      "execution_count": 28,
      "outputs": []
    },
    {
      "cell_type": "code",
      "source": [
        "# Muestreo de data\n",
        "from sklearn.model_selection import train_test_split\n",
        "\n",
        "X_train, X_test, y_train, y_test = train_test_split(X, y,\n",
        "                                                    train_size = 0.8,\n",
        "                                                    random_state = 123)"
      ],
      "metadata": {
        "id": "17WmT-FEcHSx"
      },
      "execution_count": 29,
      "outputs": []
    },
    {
      "cell_type": "code",
      "source": [
        "train = X_train\n",
        "train['default60_12'] = y_train\n",
        "\n",
        "test = X_test\n",
        "test['default60_12'] = y_test"
      ],
      "metadata": {
        "id": "9laa1U-Fct4y"
      },
      "execution_count": 30,
      "outputs": []
    },
    {
      "cell_type": "code",
      "source": [
        "\n",
        "df_res = train.groupby('MES_RCC').aggregate({'ID': 'count',\n",
        "                                            'MONTO': 'sum',\n",
        "                                            'default60_12' : np.mean}).reset_index()\n",
        "df_res.head()"
      ],
      "metadata": {
        "id": "gl7KiTigceHq",
        "outputId": "c062468a-7317-417c-f12b-05c2dc7a1abb",
        "colab": {
          "base_uri": "https://localhost:8080/",
          "height": 206
        }
      },
      "execution_count": 31,
      "outputs": [
        {
          "output_type": "execute_result",
          "data": {
            "text/plain": [
              "   MES_RCC     ID         MONTO  default60_12\n",
              "0   201801  11951  1.346567e+08      0.162832\n",
              "1   201802  12096  1.444158e+08      0.160632\n",
              "2   201803  13057  1.442577e+08      0.165735\n",
              "3   201804  12738  1.454518e+08      0.166274\n",
              "4   201805  12987  1.547521e+08      0.166936"
            ],
            "text/html": [
              "\n",
              "  <div id=\"df-a58deaee-fc52-4a30-ba9a-219e08b28ed0\">\n",
              "    <div class=\"colab-df-container\">\n",
              "      <div>\n",
              "<style scoped>\n",
              "    .dataframe tbody tr th:only-of-type {\n",
              "        vertical-align: middle;\n",
              "    }\n",
              "\n",
              "    .dataframe tbody tr th {\n",
              "        vertical-align: top;\n",
              "    }\n",
              "\n",
              "    .dataframe thead th {\n",
              "        text-align: right;\n",
              "    }\n",
              "</style>\n",
              "<table border=\"1\" class=\"dataframe\">\n",
              "  <thead>\n",
              "    <tr style=\"text-align: right;\">\n",
              "      <th></th>\n",
              "      <th>MES_RCC</th>\n",
              "      <th>ID</th>\n",
              "      <th>MONTO</th>\n",
              "      <th>default60_12</th>\n",
              "    </tr>\n",
              "  </thead>\n",
              "  <tbody>\n",
              "    <tr>\n",
              "      <th>0</th>\n",
              "      <td>201801</td>\n",
              "      <td>11951</td>\n",
              "      <td>1.346567e+08</td>\n",
              "      <td>0.162832</td>\n",
              "    </tr>\n",
              "    <tr>\n",
              "      <th>1</th>\n",
              "      <td>201802</td>\n",
              "      <td>12096</td>\n",
              "      <td>1.444158e+08</td>\n",
              "      <td>0.160632</td>\n",
              "    </tr>\n",
              "    <tr>\n",
              "      <th>2</th>\n",
              "      <td>201803</td>\n",
              "      <td>13057</td>\n",
              "      <td>1.442577e+08</td>\n",
              "      <td>0.165735</td>\n",
              "    </tr>\n",
              "    <tr>\n",
              "      <th>3</th>\n",
              "      <td>201804</td>\n",
              "      <td>12738</td>\n",
              "      <td>1.454518e+08</td>\n",
              "      <td>0.166274</td>\n",
              "    </tr>\n",
              "    <tr>\n",
              "      <th>4</th>\n",
              "      <td>201805</td>\n",
              "      <td>12987</td>\n",
              "      <td>1.547521e+08</td>\n",
              "      <td>0.166936</td>\n",
              "    </tr>\n",
              "  </tbody>\n",
              "</table>\n",
              "</div>\n",
              "      <button class=\"colab-df-convert\" onclick=\"convertToInteractive('df-a58deaee-fc52-4a30-ba9a-219e08b28ed0')\"\n",
              "              title=\"Convert this dataframe to an interactive table.\"\n",
              "              style=\"display:none;\">\n",
              "        \n",
              "  <svg xmlns=\"http://www.w3.org/2000/svg\" height=\"24px\"viewBox=\"0 0 24 24\"\n",
              "       width=\"24px\">\n",
              "    <path d=\"M0 0h24v24H0V0z\" fill=\"none\"/>\n",
              "    <path d=\"M18.56 5.44l.94 2.06.94-2.06 2.06-.94-2.06-.94-.94-2.06-.94 2.06-2.06.94zm-11 1L8.5 8.5l.94-2.06 2.06-.94-2.06-.94L8.5 2.5l-.94 2.06-2.06.94zm10 10l.94 2.06.94-2.06 2.06-.94-2.06-.94-.94-2.06-.94 2.06-2.06.94z\"/><path d=\"M17.41 7.96l-1.37-1.37c-.4-.4-.92-.59-1.43-.59-.52 0-1.04.2-1.43.59L10.3 9.45l-7.72 7.72c-.78.78-.78 2.05 0 2.83L4 21.41c.39.39.9.59 1.41.59.51 0 1.02-.2 1.41-.59l7.78-7.78 2.81-2.81c.8-.78.8-2.07 0-2.86zM5.41 20L4 18.59l7.72-7.72 1.47 1.35L5.41 20z\"/>\n",
              "  </svg>\n",
              "      </button>\n",
              "      \n",
              "  <style>\n",
              "    .colab-df-container {\n",
              "      display:flex;\n",
              "      flex-wrap:wrap;\n",
              "      gap: 12px;\n",
              "    }\n",
              "\n",
              "    .colab-df-convert {\n",
              "      background-color: #E8F0FE;\n",
              "      border: none;\n",
              "      border-radius: 50%;\n",
              "      cursor: pointer;\n",
              "      display: none;\n",
              "      fill: #1967D2;\n",
              "      height: 32px;\n",
              "      padding: 0 0 0 0;\n",
              "      width: 32px;\n",
              "    }\n",
              "\n",
              "    .colab-df-convert:hover {\n",
              "      background-color: #E2EBFA;\n",
              "      box-shadow: 0px 1px 2px rgba(60, 64, 67, 0.3), 0px 1px 3px 1px rgba(60, 64, 67, 0.15);\n",
              "      fill: #174EA6;\n",
              "    }\n",
              "\n",
              "    [theme=dark] .colab-df-convert {\n",
              "      background-color: #3B4455;\n",
              "      fill: #D2E3FC;\n",
              "    }\n",
              "\n",
              "    [theme=dark] .colab-df-convert:hover {\n",
              "      background-color: #434B5C;\n",
              "      box-shadow: 0px 1px 3px 1px rgba(0, 0, 0, 0.15);\n",
              "      filter: drop-shadow(0px 1px 2px rgba(0, 0, 0, 0.3));\n",
              "      fill: #FFFFFF;\n",
              "    }\n",
              "  </style>\n",
              "\n",
              "      <script>\n",
              "        const buttonEl =\n",
              "          document.querySelector('#df-a58deaee-fc52-4a30-ba9a-219e08b28ed0 button.colab-df-convert');\n",
              "        buttonEl.style.display =\n",
              "          google.colab.kernel.accessAllowed ? 'block' : 'none';\n",
              "\n",
              "        async function convertToInteractive(key) {\n",
              "          const element = document.querySelector('#df-a58deaee-fc52-4a30-ba9a-219e08b28ed0');\n",
              "          const dataTable =\n",
              "            await google.colab.kernel.invokeFunction('convertToInteractive',\n",
              "                                                     [key], {});\n",
              "          if (!dataTable) return;\n",
              "\n",
              "          const docLinkHtml = 'Like what you see? Visit the ' +\n",
              "            '<a target=\"_blank\" href=https://colab.research.google.com/notebooks/data_table.ipynb>data table notebook</a>'\n",
              "            + ' to learn more about interactive tables.';\n",
              "          element.innerHTML = '';\n",
              "          dataTable['output_type'] = 'display_data';\n",
              "          await google.colab.output.renderOutput(dataTable, element);\n",
              "          const docLink = document.createElement('div');\n",
              "          docLink.innerHTML = docLinkHtml;\n",
              "          element.appendChild(docLink);\n",
              "        }\n",
              "      </script>\n",
              "    </div>\n",
              "  </div>\n",
              "  "
            ]
          },
          "metadata": {},
          "execution_count": 31
        }
      ]
    },
    {
      "cell_type": "code",
      "source": [
        "\n",
        "df_res = test.groupby('MES_RCC').aggregate({'ID': 'count',\n",
        "                                            'MONTO': 'sum',\n",
        "                                            'default60_12' : np.mean}).reset_index()\n",
        "df_res.head()"
      ],
      "metadata": {
        "id": "1cs_eFVbdOHD",
        "outputId": "cc516043-8486-47c3-db73-b13079a49c7f",
        "colab": {
          "base_uri": "https://localhost:8080/",
          "height": 206
        }
      },
      "execution_count": 32,
      "outputs": [
        {
          "output_type": "execute_result",
          "data": {
            "text/plain": [
              "   MES_RCC    ID        MONTO  default60_12\n",
              "0   201801  3033  36304809.26      0.159578\n",
              "1   201802  2885  29468903.19      0.169151\n",
              "2   201803  3189  33359388.92      0.178112\n",
              "3   201804  3074  35143371.55      0.162004\n",
              "4   201805  3245  38178917.84      0.180277"
            ],
            "text/html": [
              "\n",
              "  <div id=\"df-7a1ce302-ab51-417b-a9df-097533d00a27\">\n",
              "    <div class=\"colab-df-container\">\n",
              "      <div>\n",
              "<style scoped>\n",
              "    .dataframe tbody tr th:only-of-type {\n",
              "        vertical-align: middle;\n",
              "    }\n",
              "\n",
              "    .dataframe tbody tr th {\n",
              "        vertical-align: top;\n",
              "    }\n",
              "\n",
              "    .dataframe thead th {\n",
              "        text-align: right;\n",
              "    }\n",
              "</style>\n",
              "<table border=\"1\" class=\"dataframe\">\n",
              "  <thead>\n",
              "    <tr style=\"text-align: right;\">\n",
              "      <th></th>\n",
              "      <th>MES_RCC</th>\n",
              "      <th>ID</th>\n",
              "      <th>MONTO</th>\n",
              "      <th>default60_12</th>\n",
              "    </tr>\n",
              "  </thead>\n",
              "  <tbody>\n",
              "    <tr>\n",
              "      <th>0</th>\n",
              "      <td>201801</td>\n",
              "      <td>3033</td>\n",
              "      <td>36304809.26</td>\n",
              "      <td>0.159578</td>\n",
              "    </tr>\n",
              "    <tr>\n",
              "      <th>1</th>\n",
              "      <td>201802</td>\n",
              "      <td>2885</td>\n",
              "      <td>29468903.19</td>\n",
              "      <td>0.169151</td>\n",
              "    </tr>\n",
              "    <tr>\n",
              "      <th>2</th>\n",
              "      <td>201803</td>\n",
              "      <td>3189</td>\n",
              "      <td>33359388.92</td>\n",
              "      <td>0.178112</td>\n",
              "    </tr>\n",
              "    <tr>\n",
              "      <th>3</th>\n",
              "      <td>201804</td>\n",
              "      <td>3074</td>\n",
              "      <td>35143371.55</td>\n",
              "      <td>0.162004</td>\n",
              "    </tr>\n",
              "    <tr>\n",
              "      <th>4</th>\n",
              "      <td>201805</td>\n",
              "      <td>3245</td>\n",
              "      <td>38178917.84</td>\n",
              "      <td>0.180277</td>\n",
              "    </tr>\n",
              "  </tbody>\n",
              "</table>\n",
              "</div>\n",
              "      <button class=\"colab-df-convert\" onclick=\"convertToInteractive('df-7a1ce302-ab51-417b-a9df-097533d00a27')\"\n",
              "              title=\"Convert this dataframe to an interactive table.\"\n",
              "              style=\"display:none;\">\n",
              "        \n",
              "  <svg xmlns=\"http://www.w3.org/2000/svg\" height=\"24px\"viewBox=\"0 0 24 24\"\n",
              "       width=\"24px\">\n",
              "    <path d=\"M0 0h24v24H0V0z\" fill=\"none\"/>\n",
              "    <path d=\"M18.56 5.44l.94 2.06.94-2.06 2.06-.94-2.06-.94-.94-2.06-.94 2.06-2.06.94zm-11 1L8.5 8.5l.94-2.06 2.06-.94-2.06-.94L8.5 2.5l-.94 2.06-2.06.94zm10 10l.94 2.06.94-2.06 2.06-.94-2.06-.94-.94-2.06-.94 2.06-2.06.94z\"/><path d=\"M17.41 7.96l-1.37-1.37c-.4-.4-.92-.59-1.43-.59-.52 0-1.04.2-1.43.59L10.3 9.45l-7.72 7.72c-.78.78-.78 2.05 0 2.83L4 21.41c.39.39.9.59 1.41.59.51 0 1.02-.2 1.41-.59l7.78-7.78 2.81-2.81c.8-.78.8-2.07 0-2.86zM5.41 20L4 18.59l7.72-7.72 1.47 1.35L5.41 20z\"/>\n",
              "  </svg>\n",
              "      </button>\n",
              "      \n",
              "  <style>\n",
              "    .colab-df-container {\n",
              "      display:flex;\n",
              "      flex-wrap:wrap;\n",
              "      gap: 12px;\n",
              "    }\n",
              "\n",
              "    .colab-df-convert {\n",
              "      background-color: #E8F0FE;\n",
              "      border: none;\n",
              "      border-radius: 50%;\n",
              "      cursor: pointer;\n",
              "      display: none;\n",
              "      fill: #1967D2;\n",
              "      height: 32px;\n",
              "      padding: 0 0 0 0;\n",
              "      width: 32px;\n",
              "    }\n",
              "\n",
              "    .colab-df-convert:hover {\n",
              "      background-color: #E2EBFA;\n",
              "      box-shadow: 0px 1px 2px rgba(60, 64, 67, 0.3), 0px 1px 3px 1px rgba(60, 64, 67, 0.15);\n",
              "      fill: #174EA6;\n",
              "    }\n",
              "\n",
              "    [theme=dark] .colab-df-convert {\n",
              "      background-color: #3B4455;\n",
              "      fill: #D2E3FC;\n",
              "    }\n",
              "\n",
              "    [theme=dark] .colab-df-convert:hover {\n",
              "      background-color: #434B5C;\n",
              "      box-shadow: 0px 1px 3px 1px rgba(0, 0, 0, 0.15);\n",
              "      filter: drop-shadow(0px 1px 2px rgba(0, 0, 0, 0.3));\n",
              "      fill: #FFFFFF;\n",
              "    }\n",
              "  </style>\n",
              "\n",
              "      <script>\n",
              "        const buttonEl =\n",
              "          document.querySelector('#df-7a1ce302-ab51-417b-a9df-097533d00a27 button.colab-df-convert');\n",
              "        buttonEl.style.display =\n",
              "          google.colab.kernel.accessAllowed ? 'block' : 'none';\n",
              "\n",
              "        async function convertToInteractive(key) {\n",
              "          const element = document.querySelector('#df-7a1ce302-ab51-417b-a9df-097533d00a27');\n",
              "          const dataTable =\n",
              "            await google.colab.kernel.invokeFunction('convertToInteractive',\n",
              "                                                     [key], {});\n",
              "          if (!dataTable) return;\n",
              "\n",
              "          const docLinkHtml = 'Like what you see? Visit the ' +\n",
              "            '<a target=\"_blank\" href=https://colab.research.google.com/notebooks/data_table.ipynb>data table notebook</a>'\n",
              "            + ' to learn more about interactive tables.';\n",
              "          element.innerHTML = '';\n",
              "          dataTable['output_type'] = 'display_data';\n",
              "          await google.colab.output.renderOutput(dataTable, element);\n",
              "          const docLink = document.createElement('div');\n",
              "          docLink.innerHTML = docLinkHtml;\n",
              "          element.appendChild(docLink);\n",
              "        }\n",
              "      </script>\n",
              "    </div>\n",
              "  </div>\n",
              "  "
            ]
          },
          "metadata": {},
          "execution_count": 32
        }
      ]
    },
    {
      "cell_type": "code",
      "source": [
        "# Muestreo Estratificado de data\n",
        "from sklearn.model_selection import train_test_split\n",
        "\n",
        "X_train, X_test, y_train, y_test = train_test_split(X, y,\n",
        "                                                    stratify = pddf_analisis[['MES_RCC', 'default60_12']],\n",
        "                                                    test_size = 0.3,\n",
        "                                                    random_state = 123)"
      ],
      "metadata": {
        "id": "yVZdvD0JdbJs"
      },
      "execution_count": 33,
      "outputs": []
    },
    {
      "cell_type": "code",
      "source": [
        "train = X_train\n",
        "train['default60_12'] = y_train\n",
        "\n",
        "test = X_test\n",
        "test['default60_12'] = y_test"
      ],
      "metadata": {
        "id": "p3LpZa9wdoU9"
      },
      "execution_count": 34,
      "outputs": []
    },
    {
      "cell_type": "code",
      "source": [
        "df_res = train.groupby('MES_RCC').aggregate({'ID': 'count',\n",
        "                                            'MONTO': 'sum',\n",
        "                                            'default60_12' : np.mean}).reset_index()\n",
        "df_res.head()"
      ],
      "metadata": {
        "id": "ml180TQrdry2",
        "outputId": "101d3877-402b-4224-a086-8af588f96f58",
        "colab": {
          "base_uri": "https://localhost:8080/",
          "height": 206
        }
      },
      "execution_count": 35,
      "outputs": [
        {
          "output_type": "execute_result",
          "data": {
            "text/plain": [
              "   MES_RCC     ID         MONTO  default60_12\n",
              "0   201801  10489  1.183426e+08      0.162170\n",
              "1   201802  10487  1.188419e+08      0.162296\n",
              "2   201803  11372  1.247500e+08      0.168132\n",
              "3   201804  11068  1.258887e+08      0.165432\n",
              "4   201805  11362  1.332298e+08      0.169600"
            ],
            "text/html": [
              "\n",
              "  <div id=\"df-49c19127-4103-4e5f-b7b4-720693877f66\">\n",
              "    <div class=\"colab-df-container\">\n",
              "      <div>\n",
              "<style scoped>\n",
              "    .dataframe tbody tr th:only-of-type {\n",
              "        vertical-align: middle;\n",
              "    }\n",
              "\n",
              "    .dataframe tbody tr th {\n",
              "        vertical-align: top;\n",
              "    }\n",
              "\n",
              "    .dataframe thead th {\n",
              "        text-align: right;\n",
              "    }\n",
              "</style>\n",
              "<table border=\"1\" class=\"dataframe\">\n",
              "  <thead>\n",
              "    <tr style=\"text-align: right;\">\n",
              "      <th></th>\n",
              "      <th>MES_RCC</th>\n",
              "      <th>ID</th>\n",
              "      <th>MONTO</th>\n",
              "      <th>default60_12</th>\n",
              "    </tr>\n",
              "  </thead>\n",
              "  <tbody>\n",
              "    <tr>\n",
              "      <th>0</th>\n",
              "      <td>201801</td>\n",
              "      <td>10489</td>\n",
              "      <td>1.183426e+08</td>\n",
              "      <td>0.162170</td>\n",
              "    </tr>\n",
              "    <tr>\n",
              "      <th>1</th>\n",
              "      <td>201802</td>\n",
              "      <td>10487</td>\n",
              "      <td>1.188419e+08</td>\n",
              "      <td>0.162296</td>\n",
              "    </tr>\n",
              "    <tr>\n",
              "      <th>2</th>\n",
              "      <td>201803</td>\n",
              "      <td>11372</td>\n",
              "      <td>1.247500e+08</td>\n",
              "      <td>0.168132</td>\n",
              "    </tr>\n",
              "    <tr>\n",
              "      <th>3</th>\n",
              "      <td>201804</td>\n",
              "      <td>11068</td>\n",
              "      <td>1.258887e+08</td>\n",
              "      <td>0.165432</td>\n",
              "    </tr>\n",
              "    <tr>\n",
              "      <th>4</th>\n",
              "      <td>201805</td>\n",
              "      <td>11362</td>\n",
              "      <td>1.332298e+08</td>\n",
              "      <td>0.169600</td>\n",
              "    </tr>\n",
              "  </tbody>\n",
              "</table>\n",
              "</div>\n",
              "      <button class=\"colab-df-convert\" onclick=\"convertToInteractive('df-49c19127-4103-4e5f-b7b4-720693877f66')\"\n",
              "              title=\"Convert this dataframe to an interactive table.\"\n",
              "              style=\"display:none;\">\n",
              "        \n",
              "  <svg xmlns=\"http://www.w3.org/2000/svg\" height=\"24px\"viewBox=\"0 0 24 24\"\n",
              "       width=\"24px\">\n",
              "    <path d=\"M0 0h24v24H0V0z\" fill=\"none\"/>\n",
              "    <path d=\"M18.56 5.44l.94 2.06.94-2.06 2.06-.94-2.06-.94-.94-2.06-.94 2.06-2.06.94zm-11 1L8.5 8.5l.94-2.06 2.06-.94-2.06-.94L8.5 2.5l-.94 2.06-2.06.94zm10 10l.94 2.06.94-2.06 2.06-.94-2.06-.94-.94-2.06-.94 2.06-2.06.94z\"/><path d=\"M17.41 7.96l-1.37-1.37c-.4-.4-.92-.59-1.43-.59-.52 0-1.04.2-1.43.59L10.3 9.45l-7.72 7.72c-.78.78-.78 2.05 0 2.83L4 21.41c.39.39.9.59 1.41.59.51 0 1.02-.2 1.41-.59l7.78-7.78 2.81-2.81c.8-.78.8-2.07 0-2.86zM5.41 20L4 18.59l7.72-7.72 1.47 1.35L5.41 20z\"/>\n",
              "  </svg>\n",
              "      </button>\n",
              "      \n",
              "  <style>\n",
              "    .colab-df-container {\n",
              "      display:flex;\n",
              "      flex-wrap:wrap;\n",
              "      gap: 12px;\n",
              "    }\n",
              "\n",
              "    .colab-df-convert {\n",
              "      background-color: #E8F0FE;\n",
              "      border: none;\n",
              "      border-radius: 50%;\n",
              "      cursor: pointer;\n",
              "      display: none;\n",
              "      fill: #1967D2;\n",
              "      height: 32px;\n",
              "      padding: 0 0 0 0;\n",
              "      width: 32px;\n",
              "    }\n",
              "\n",
              "    .colab-df-convert:hover {\n",
              "      background-color: #E2EBFA;\n",
              "      box-shadow: 0px 1px 2px rgba(60, 64, 67, 0.3), 0px 1px 3px 1px rgba(60, 64, 67, 0.15);\n",
              "      fill: #174EA6;\n",
              "    }\n",
              "\n",
              "    [theme=dark] .colab-df-convert {\n",
              "      background-color: #3B4455;\n",
              "      fill: #D2E3FC;\n",
              "    }\n",
              "\n",
              "    [theme=dark] .colab-df-convert:hover {\n",
              "      background-color: #434B5C;\n",
              "      box-shadow: 0px 1px 3px 1px rgba(0, 0, 0, 0.15);\n",
              "      filter: drop-shadow(0px 1px 2px rgba(0, 0, 0, 0.3));\n",
              "      fill: #FFFFFF;\n",
              "    }\n",
              "  </style>\n",
              "\n",
              "      <script>\n",
              "        const buttonEl =\n",
              "          document.querySelector('#df-49c19127-4103-4e5f-b7b4-720693877f66 button.colab-df-convert');\n",
              "        buttonEl.style.display =\n",
              "          google.colab.kernel.accessAllowed ? 'block' : 'none';\n",
              "\n",
              "        async function convertToInteractive(key) {\n",
              "          const element = document.querySelector('#df-49c19127-4103-4e5f-b7b4-720693877f66');\n",
              "          const dataTable =\n",
              "            await google.colab.kernel.invokeFunction('convertToInteractive',\n",
              "                                                     [key], {});\n",
              "          if (!dataTable) return;\n",
              "\n",
              "          const docLinkHtml = 'Like what you see? Visit the ' +\n",
              "            '<a target=\"_blank\" href=https://colab.research.google.com/notebooks/data_table.ipynb>data table notebook</a>'\n",
              "            + ' to learn more about interactive tables.';\n",
              "          element.innerHTML = '';\n",
              "          dataTable['output_type'] = 'display_data';\n",
              "          await google.colab.output.renderOutput(dataTable, element);\n",
              "          const docLink = document.createElement('div');\n",
              "          docLink.innerHTML = docLinkHtml;\n",
              "          element.appendChild(docLink);\n",
              "        }\n",
              "      </script>\n",
              "    </div>\n",
              "  </div>\n",
              "  "
            ]
          },
          "metadata": {},
          "execution_count": 35
        }
      ]
    },
    {
      "cell_type": "code",
      "source": [
        "\n",
        "df_res = test.groupby('MES_RCC').aggregate({'ID': 'count',\n",
        "                                            'MONTO': 'sum',\n",
        "                                            'default60_12' : np.mean}).reset_index()\n",
        "df_res.head()"
      ],
      "metadata": {
        "id": "wSf0MMTxdtJB",
        "outputId": "e204f791-019e-4937-89f1-e0aeb1190ef6",
        "colab": {
          "base_uri": "https://localhost:8080/",
          "height": 206
        }
      },
      "execution_count": 36,
      "outputs": [
        {
          "output_type": "execute_result",
          "data": {
            "text/plain": [
              "   MES_RCC    ID        MONTO  default60_12\n",
              "0   201801  4495  52618897.25      0.162180\n",
              "1   201802  4494  55042782.47      0.162216\n",
              "2   201803  4874  52867118.80      0.168240\n",
              "3   201804  4744  54706457.51      0.165472\n",
              "4   201805  4870  59701159.31      0.169610"
            ],
            "text/html": [
              "\n",
              "  <div id=\"df-8542a864-173c-4635-9a49-d8bfde4a98ab\">\n",
              "    <div class=\"colab-df-container\">\n",
              "      <div>\n",
              "<style scoped>\n",
              "    .dataframe tbody tr th:only-of-type {\n",
              "        vertical-align: middle;\n",
              "    }\n",
              "\n",
              "    .dataframe tbody tr th {\n",
              "        vertical-align: top;\n",
              "    }\n",
              "\n",
              "    .dataframe thead th {\n",
              "        text-align: right;\n",
              "    }\n",
              "</style>\n",
              "<table border=\"1\" class=\"dataframe\">\n",
              "  <thead>\n",
              "    <tr style=\"text-align: right;\">\n",
              "      <th></th>\n",
              "      <th>MES_RCC</th>\n",
              "      <th>ID</th>\n",
              "      <th>MONTO</th>\n",
              "      <th>default60_12</th>\n",
              "    </tr>\n",
              "  </thead>\n",
              "  <tbody>\n",
              "    <tr>\n",
              "      <th>0</th>\n",
              "      <td>201801</td>\n",
              "      <td>4495</td>\n",
              "      <td>52618897.25</td>\n",
              "      <td>0.162180</td>\n",
              "    </tr>\n",
              "    <tr>\n",
              "      <th>1</th>\n",
              "      <td>201802</td>\n",
              "      <td>4494</td>\n",
              "      <td>55042782.47</td>\n",
              "      <td>0.162216</td>\n",
              "    </tr>\n",
              "    <tr>\n",
              "      <th>2</th>\n",
              "      <td>201803</td>\n",
              "      <td>4874</td>\n",
              "      <td>52867118.80</td>\n",
              "      <td>0.168240</td>\n",
              "    </tr>\n",
              "    <tr>\n",
              "      <th>3</th>\n",
              "      <td>201804</td>\n",
              "      <td>4744</td>\n",
              "      <td>54706457.51</td>\n",
              "      <td>0.165472</td>\n",
              "    </tr>\n",
              "    <tr>\n",
              "      <th>4</th>\n",
              "      <td>201805</td>\n",
              "      <td>4870</td>\n",
              "      <td>59701159.31</td>\n",
              "      <td>0.169610</td>\n",
              "    </tr>\n",
              "  </tbody>\n",
              "</table>\n",
              "</div>\n",
              "      <button class=\"colab-df-convert\" onclick=\"convertToInteractive('df-8542a864-173c-4635-9a49-d8bfde4a98ab')\"\n",
              "              title=\"Convert this dataframe to an interactive table.\"\n",
              "              style=\"display:none;\">\n",
              "        \n",
              "  <svg xmlns=\"http://www.w3.org/2000/svg\" height=\"24px\"viewBox=\"0 0 24 24\"\n",
              "       width=\"24px\">\n",
              "    <path d=\"M0 0h24v24H0V0z\" fill=\"none\"/>\n",
              "    <path d=\"M18.56 5.44l.94 2.06.94-2.06 2.06-.94-2.06-.94-.94-2.06-.94 2.06-2.06.94zm-11 1L8.5 8.5l.94-2.06 2.06-.94-2.06-.94L8.5 2.5l-.94 2.06-2.06.94zm10 10l.94 2.06.94-2.06 2.06-.94-2.06-.94-.94-2.06-.94 2.06-2.06.94z\"/><path d=\"M17.41 7.96l-1.37-1.37c-.4-.4-.92-.59-1.43-.59-.52 0-1.04.2-1.43.59L10.3 9.45l-7.72 7.72c-.78.78-.78 2.05 0 2.83L4 21.41c.39.39.9.59 1.41.59.51 0 1.02-.2 1.41-.59l7.78-7.78 2.81-2.81c.8-.78.8-2.07 0-2.86zM5.41 20L4 18.59l7.72-7.72 1.47 1.35L5.41 20z\"/>\n",
              "  </svg>\n",
              "      </button>\n",
              "      \n",
              "  <style>\n",
              "    .colab-df-container {\n",
              "      display:flex;\n",
              "      flex-wrap:wrap;\n",
              "      gap: 12px;\n",
              "    }\n",
              "\n",
              "    .colab-df-convert {\n",
              "      background-color: #E8F0FE;\n",
              "      border: none;\n",
              "      border-radius: 50%;\n",
              "      cursor: pointer;\n",
              "      display: none;\n",
              "      fill: #1967D2;\n",
              "      height: 32px;\n",
              "      padding: 0 0 0 0;\n",
              "      width: 32px;\n",
              "    }\n",
              "\n",
              "    .colab-df-convert:hover {\n",
              "      background-color: #E2EBFA;\n",
              "      box-shadow: 0px 1px 2px rgba(60, 64, 67, 0.3), 0px 1px 3px 1px rgba(60, 64, 67, 0.15);\n",
              "      fill: #174EA6;\n",
              "    }\n",
              "\n",
              "    [theme=dark] .colab-df-convert {\n",
              "      background-color: #3B4455;\n",
              "      fill: #D2E3FC;\n",
              "    }\n",
              "\n",
              "    [theme=dark] .colab-df-convert:hover {\n",
              "      background-color: #434B5C;\n",
              "      box-shadow: 0px 1px 3px 1px rgba(0, 0, 0, 0.15);\n",
              "      filter: drop-shadow(0px 1px 2px rgba(0, 0, 0, 0.3));\n",
              "      fill: #FFFFFF;\n",
              "    }\n",
              "  </style>\n",
              "\n",
              "      <script>\n",
              "        const buttonEl =\n",
              "          document.querySelector('#df-8542a864-173c-4635-9a49-d8bfde4a98ab button.colab-df-convert');\n",
              "        buttonEl.style.display =\n",
              "          google.colab.kernel.accessAllowed ? 'block' : 'none';\n",
              "\n",
              "        async function convertToInteractive(key) {\n",
              "          const element = document.querySelector('#df-8542a864-173c-4635-9a49-d8bfde4a98ab');\n",
              "          const dataTable =\n",
              "            await google.colab.kernel.invokeFunction('convertToInteractive',\n",
              "                                                     [key], {});\n",
              "          if (!dataTable) return;\n",
              "\n",
              "          const docLinkHtml = 'Like what you see? Visit the ' +\n",
              "            '<a target=\"_blank\" href=https://colab.research.google.com/notebooks/data_table.ipynb>data table notebook</a>'\n",
              "            + ' to learn more about interactive tables.';\n",
              "          element.innerHTML = '';\n",
              "          dataTable['output_type'] = 'display_data';\n",
              "          await google.colab.output.renderOutput(dataTable, element);\n",
              "          const docLink = document.createElement('div');\n",
              "          docLink.innerHTML = docLinkHtml;\n",
              "          element.appendChild(docLink);\n",
              "        }\n",
              "      </script>\n",
              "    </div>\n",
              "  </div>\n",
              "  "
            ]
          },
          "metadata": {},
          "execution_count": 36
        }
      ]
    },
    {
      "cell_type": "markdown",
      "source": [
        "---\n",
        "\n",
        "# Gracias por completar este laboratorio!\n",
        "\n",
        "---\n"
      ],
      "metadata": {
        "id": "8QeCyDJ_foai"
      }
    }
  ]
}